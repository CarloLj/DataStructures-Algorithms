<<<<<<< HEAD
{
 "cells": [
  {
   "cell_type": "markdown",
   "metadata": {},
   "source": [
    "# Visualizing Data in Python\n",
    "\n",
    "When working with a new dataset, one of the most useful things to do is to begin to visualize the data. By using **tables**, **histograms**, **boxplots**, **scatter plots** and other visual tools, we can get a better idea of what the data may be trying to tell us, and we can gain insights into the data that we may have not discovered otherwise.\n",
    "\n",
    "In this notebook will use the [Seaborn](https://seaborn.pydata.org/) data processing library, which is a higher-level interface to **Matplotlib** that can be used to simplify many visualization tasks \n",
    "\n",
    "The **Seaborn** provides visualisations tools that will allow to explore data from a graphical perspective. \n",
    "\n",
    "\n",
    "## Acknowledgments\n",
    "\n",
    "- Data from https://www.coursera.org/ from the course \"Understanding and Visualizing Data with Python\" by University of Michigan"
   ]
  },
  {
   "cell_type": "markdown",
   "metadata": {},
   "source": [
    "# Importing libraries"
   ]
  },
  {
   "cell_type": "code",
   "execution_count": 17,
   "metadata": {},
   "outputs": [],
   "source": [
    "# Import the packages that we will be using\n",
    "import pandas as pd\n",
    "import seaborn as sns\n",
    "import matplotlib.pyplot as plt\n"
   ]
  },
  {
   "cell_type": "markdown",
   "metadata": {},
   "source": [
    "# Importing data"
   ]
  },
  {
   "cell_type": "code",
   "execution_count": 19,
   "metadata": {},
   "outputs": [],
   "source": [
    "# url string that hosts our .csv file\n",
    "ruta = \"datasets/cartwheel/cartwheel.csv\"\n",
    "\n",
    "# Read the .csv file and store it as a pandas Data Frame\n",
    "df = pd.read_csv(ruta)\n"
   ]
  },
  {
   "cell_type": "markdown",
   "metadata": {},
   "source": [
    "# Exploring the content of the data set\n",
    "\n",
    "Get a general 'feel' of the data\n"
   ]
  },
  {
   "cell_type": "code",
   "execution_count": 20,
   "metadata": {},
   "outputs": [
    {
     "data": {
      "text/html": [
       "<div>\n",
       "<style scoped>\n",
       "    .dataframe tbody tr th:only-of-type {\n",
       "        vertical-align: middle;\n",
       "    }\n",
       "\n",
       "    .dataframe tbody tr th {\n",
       "        vertical-align: top;\n",
       "    }\n",
       "\n",
       "    .dataframe thead th {\n",
       "        text-align: right;\n",
       "    }\n",
       "</style>\n",
       "<table border=\"1\" class=\"dataframe\">\n",
       "  <thead>\n",
       "    <tr style=\"text-align: right;\">\n",
       "      <th></th>\n",
       "      <th>ID</th>\n",
       "      <th>Age</th>\n",
       "      <th>Gender</th>\n",
       "      <th>GenderGroup</th>\n",
       "      <th>Glasses</th>\n",
       "      <th>GlassesGroup</th>\n",
       "      <th>Height</th>\n",
       "      <th>Wingspan</th>\n",
       "      <th>CWDistance</th>\n",
       "      <th>Complete</th>\n",
       "      <th>CompleteGroup</th>\n",
       "      <th>Score</th>\n",
       "    </tr>\n",
       "  </thead>\n",
       "  <tbody>\n",
       "    <tr>\n",
       "      <th>0</th>\n",
       "      <td>1</td>\n",
       "      <td>56.0</td>\n",
       "      <td>F</td>\n",
       "      <td>1</td>\n",
       "      <td>Y</td>\n",
       "      <td>1</td>\n",
       "      <td>62.0</td>\n",
       "      <td>61.0</td>\n",
       "      <td>79</td>\n",
       "      <td>Y</td>\n",
       "      <td>1.0</td>\n",
       "      <td>7</td>\n",
       "    </tr>\n",
       "    <tr>\n",
       "      <th>1</th>\n",
       "      <td>2</td>\n",
       "      <td>26.0</td>\n",
       "      <td>F</td>\n",
       "      <td>1</td>\n",
       "      <td>Y</td>\n",
       "      <td>1</td>\n",
       "      <td>62.0</td>\n",
       "      <td>60.0</td>\n",
       "      <td>70</td>\n",
       "      <td>Y</td>\n",
       "      <td>1.0</td>\n",
       "      <td>8</td>\n",
       "    </tr>\n",
       "    <tr>\n",
       "      <th>2</th>\n",
       "      <td>3</td>\n",
       "      <td>33.0</td>\n",
       "      <td>F</td>\n",
       "      <td>1</td>\n",
       "      <td>Y</td>\n",
       "      <td>1</td>\n",
       "      <td>66.0</td>\n",
       "      <td>64.0</td>\n",
       "      <td>85</td>\n",
       "      <td>Y</td>\n",
       "      <td>1.0</td>\n",
       "      <td>7</td>\n",
       "    </tr>\n",
       "    <tr>\n",
       "      <th>3</th>\n",
       "      <td>4</td>\n",
       "      <td>39.0</td>\n",
       "      <td>F</td>\n",
       "      <td>1</td>\n",
       "      <td>N</td>\n",
       "      <td>0</td>\n",
       "      <td>64.0</td>\n",
       "      <td>63.0</td>\n",
       "      <td>87</td>\n",
       "      <td>Y</td>\n",
       "      <td>1.0</td>\n",
       "      <td>10</td>\n",
       "    </tr>\n",
       "    <tr>\n",
       "      <th>4</th>\n",
       "      <td>5</td>\n",
       "      <td>27.0</td>\n",
       "      <td>M</td>\n",
       "      <td>2</td>\n",
       "      <td>N</td>\n",
       "      <td>0</td>\n",
       "      <td>73.0</td>\n",
       "      <td>75.0</td>\n",
       "      <td>72</td>\n",
       "      <td>N</td>\n",
       "      <td>0.0</td>\n",
       "      <td>4</td>\n",
       "    </tr>\n",
       "  </tbody>\n",
       "</table>\n",
       "</div>"
      ],
      "text/plain": [
       "   ID   Age Gender  GenderGroup Glasses  GlassesGroup  Height  Wingspan  \\\n",
       "0   1  56.0      F            1       Y             1    62.0      61.0   \n",
       "1   2  26.0      F            1       Y             1    62.0      60.0   \n",
       "2   3  33.0      F            1       Y             1    66.0      64.0   \n",
       "3   4  39.0      F            1       N             0    64.0      63.0   \n",
       "4   5  27.0      M            2       N             0    73.0      75.0   \n",
       "\n",
       "   CWDistance Complete  CompleteGroup  Score  \n",
       "0          79        Y            1.0      7  \n",
       "1          70        Y            1.0      8  \n",
       "2          85        Y            1.0      7  \n",
       "3          87        Y            1.0     10  \n",
       "4          72        N            0.0      4  "
      ]
     },
     "execution_count": 20,
     "metadata": {},
     "output_type": "execute_result"
    }
   ],
   "source": [
    "df.head(5)\n",
    "\n"
   ]
  },
  {
   "cell_type": "markdown",
   "metadata": {},
   "source": [
    "# Frequency tables\n",
    "\n",
    "The `value_counts()` method can be used to determine the number of times that each distinct value of a variable occurs in a data set.  In statistical terms, this is the \"frequency distribution\" of the variable. The `value_counts()` method produces a table with two columns.  The first column contains all distinct observed values for the variable.  The second column contains the number of times each of these values occurs.  Note that the table returned by `value_counts()` is actually a **Pandas** data frame, so can be further processed using any Pandas methods for working with data frames.\n"
   ]
  },
  {
   "cell_type": "code",
   "execution_count": 21,
   "metadata": {},
   "outputs": [
    {
     "data": {
      "text/plain": [
       "M    15\n",
       "F    13\n",
       "Name: Gender, dtype: int64"
      ]
     },
     "execution_count": 21,
     "metadata": {},
     "output_type": "execute_result"
    }
   ],
   "source": [
    "# Number of times that each distinct value of a variable occurs in a data set\n",
    "df.Gender.value_counts()\n"
   ]
  },
  {
   "cell_type": "code",
   "execution_count": 22,
   "metadata": {},
   "outputs": [
    {
     "data": {
      "text/plain": [
       "Y    78.571429\n",
       "N    21.428571\n",
       "Name: Complete, dtype: float64"
      ]
     },
     "execution_count": 22,
     "metadata": {},
     "output_type": "execute_result"
    }
   ],
   "source": [
    "# Proportion of each distinct value of a variable occurs in a data set\n",
    "x = df.Complete.value_counts()\n",
    "proporcion = 100 * x / x.sum()\n",
    "\n",
    "proporcion\n"
   ]
  },
  {
   "cell_type": "markdown",
   "metadata": {},
   "source": [
    "Note that the `value_counts()` method excludes missing values. We confirm this below by adding up observations to your data frame with some missing values and then computing `value_counts()` and comparing this to the total number of rows in the data set, which is 28. This tells us that there are 28 - (21+6) = 1 missing values for this variable (other variables may have different numbers of missing values)."
   ]
  },
  {
   "cell_type": "code",
   "execution_count": 23,
   "metadata": {},
   "outputs": [
    {
     "name": "stdout",
     "output_type": "stream",
     "text": [
      "28\n",
      "1\n",
      "28\n"
     ]
    }
   ],
   "source": [
    "# Total number of observations\n",
    "Nobs, Nvar = df.shape\n",
    "print(Nobs)\n",
    "\n",
    "\n",
    "# Total number of null observations\n",
    "NobsNull = df.Age.isnull().sum()\n",
    "print(NobsNull)\n",
    "\n",
    "# Total number of counts (excluding missing values)\n",
    "NobsNull = df.Complete.notnull().sum()\n",
    "print(NobsNull)\n",
    "\n",
    "\n"
   ]
  },
  {
   "cell_type": "markdown",
   "metadata": {},
   "source": [
    "# Histogram\n",
    "\n",
    "It is often good to get a feel for the shape of the distribution of the data."
   ]
  },
  {
   "cell_type": "code",
   "execution_count": 28,
   "metadata": {},
   "outputs": [
    {
     "data": {
      "image/png": "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\n",
      "text/plain": [
       "<Figure size 432x288 with 1 Axes>"
      ]
     },
     "metadata": {
      "needs_background": "light"
     },
     "output_type": "display_data"
    }
   ],
   "source": [
    "# Plot histogram of the total Height only\n",
    "X = sns.distplot(df[\"Height\"], kde = False)\n",
    "\n",
    "X.set_ylabel(\"Frecuency\")\n",
    "X.set_title(\"Histograma de Height\")\n",
    "\n",
    "plt.show()\n"
   ]
  },
  {
   "cell_type": "code",
   "execution_count": 46,
   "metadata": {},
   "outputs": [
    {
     "name": "stderr",
     "output_type": "stream",
     "text": [
      "C:\\Users\\siddh\\anaconda3\\lib\\site-packages\\seaborn\\distributions.py:2557: FutureWarning: `distplot` is a deprecated function and will be removed in a future version. Please adapt your code to use either `displot` (a figure-level function with similar flexibility) or `histplot` (an axes-level function for histograms).\n",
      "  warnings.warn(msg, FutureWarning)\n"
     ]
    },
    {
     "data": {
      "image/png": "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\n",
      "text/plain": [
       "<Figure size 432x288 with 1 Axes>"
      ]
     },
     "metadata": {
      "needs_background": "light"
     },
     "output_type": "display_data"
    }
   ],
   "source": [
    "# Plot distribution of the tips only\n",
    "X = sns.distplot(df[\"Age\"], kde = False)\n",
    "\n",
    "X.set_ylabel(\"Frecuency\")\n",
    "X.set_title(\"Histograma de Age\")\n",
    "\n",
    "plt.show()\n"
   ]
  },
  {
   "cell_type": "code",
   "execution_count": 29,
   "metadata": {},
   "outputs": [
    {
     "data": {
      "image/png": "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\n",
      "text/plain": [
       "<Figure size 432x288 with 1 Axes>"
      ]
     },
     "metadata": {
      "needs_background": "light"
     },
     "output_type": "display_data"
    }
   ],
   "source": [
    "# Plot histogram of both the Age and the Wingspan\n",
    "sns.distplot(df[\"Wingspan\"], kde = False)\n",
    "X = sns.distplot(df[\"Age\"], kde = False)\n",
    "\n",
    "X.set_ylabel(\"Frecuency\")\n",
    "X.set_title(\"Histograma de Wingspan and Age\")\n",
    "\n",
    "plt.show()\n"
   ]
  },
  {
   "cell_type": "markdown",
   "metadata": {},
   "source": [
    "# Histograms plotted by groups\n",
    "\n",
    "While looking at a single variable is interesting, it is often useful to see how a variable changes in response to another. Thus, we can create a histograms of one quantitative variable grouped by another categorical variables."
   ]
  },
  {
   "cell_type": "code",
   "execution_count": 33,
   "metadata": {},
   "outputs": [
    {
     "data": {
      "image/png": "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\n",
      "text/plain": [
       "<Figure size 216x432 with 2 Axes>"
      ]
     },
     "metadata": {
      "needs_background": "light"
     },
     "output_type": "display_data"
    }
   ],
   "source": [
    "# Create histograms of the \"Wingspan\" grouped by \"Gender\"\n",
    "g = sns.FacetGrid(df, row = \"Gender\")\n",
    "g = g.map(plt.hist, 'Wingspan')\n",
    "\n",
    "plt.show()\n"
   ]
  },
  {
   "cell_type": "raw",
   "metadata": {},
   "source": [
    "# Boxplots\n",
    "\n",
    "Boxplots do not show the shape of the distribution, but they can give us a better idea about the center and spread of the distribution as well as any potential outliers that may exist. Boxplots and Histograms often complement each other and help an analyst get more information about the data"
   ]
  },
  {
   "cell_type": "code",
   "execution_count": 37,
   "metadata": {},
   "outputs": [
    {
     "name": "stderr",
     "output_type": "stream",
     "text": [
      "C:\\Users\\siddh\\anaconda3\\lib\\site-packages\\seaborn\\_decorators.py:36: FutureWarning: Pass the following variable as a keyword arg: x. From version 0.12, the only valid positional argument will be `data`, and passing other arguments without an explicit keyword will result in an error or misinterpretation.\n",
      "  warnings.warn(\n"
     ]
    },
    {
     "data": {
      "image/png": "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\n",
      "text/plain": [
       "<Figure size 432x288 with 1 Axes>"
      ]
     },
     "metadata": {
      "needs_background": "light"
     },
     "output_type": "display_data"
    }
   ],
   "source": [
    "# Create the boxplot of the \"total bill\" amounts\n",
    "Y = sns.boxplot(df[\"Wingspan\"])\n",
    "Y.set_title(\"Diagrama de bigote de Wingspan\")\n",
    "plt.show()\n"
   ]
  },
  {
   "cell_type": "code",
   "execution_count": 38,
   "metadata": {},
   "outputs": [
    {
     "name": "stderr",
     "output_type": "stream",
     "text": [
      "C:\\Users\\siddh\\anaconda3\\lib\\site-packages\\seaborn\\_decorators.py:36: FutureWarning: Pass the following variable as a keyword arg: x. From version 0.12, the only valid positional argument will be `data`, and passing other arguments without an explicit keyword will result in an error or misinterpretation.\n",
      "  warnings.warn(\n"
     ]
    },
    {
     "name": "stdout",
     "output_type": "stream",
     "text": [
      "The history saving thread hit an unexpected error (OperationalError('database or disk is full')).History will not be written to the database.\n"
     ]
    },
    {
     "data": {
      "image/png": "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\n",
      "text/plain": [
       "<Figure size 432x288 with 1 Axes>"
      ]
     },
     "metadata": {
      "needs_background": "light"
     },
     "output_type": "display_data"
    }
   ],
   "source": [
    "# Create the boxplot of the \"tips\" amounts\n",
    "Y = sns.boxplot(df[\"CWDistance\"])\n",
    "Y.set_title(\"Diagrama de bigote de CWDistance\")\n",
    "plt.show()\n"
   ]
  },
  {
   "cell_type": "code",
   "execution_count": 12,
   "metadata": {},
   "outputs": [],
   "source": [
    "# Create the boxplots of the \"Wingspan\" and of the \"Height\" amounts\n",
    "\n"
   ]
  },
  {
   "cell_type": "code",
   "execution_count": 39,
   "metadata": {},
   "outputs": [
    {
     "name": "stderr",
     "output_type": "stream",
     "text": [
      "C:\\Users\\siddh\\anaconda3\\lib\\site-packages\\seaborn\\_decorators.py:36: FutureWarning: Pass the following variable as a keyword arg: x. From version 0.12, the only valid positional argument will be `data`, and passing other arguments without an explicit keyword will result in an error or misinterpretation.\n",
      "  warnings.warn(\n",
      "C:\\Users\\siddh\\anaconda3\\lib\\site-packages\\seaborn\\_decorators.py:36: FutureWarning: Pass the following variable as a keyword arg: x. From version 0.12, the only valid positional argument will be `data`, and passing other arguments without an explicit keyword will result in an error or misinterpretation.\n",
      "  warnings.warn(\n"
     ]
    },
    {
     "data": {
      "image/png": "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\n",
      "text/plain": [
       "<Figure size 432x288 with 1 Axes>"
      ]
     },
     "metadata": {
      "needs_background": "light"
     },
     "output_type": "display_data"
    }
   ],
   "source": [
    "# Create the boxplots of the \"Wingspan\" and of the \"tips\" amounts\n",
    "sns.boxplot(df[\"Wingspan\"])\n",
    "sns.boxplot(df[\"CWDistance\"])\n",
    "\n",
    "plt.show()\n",
    "\n",
    "#AVOID THIS KIND FO PLOT!!"
   ]
  },
  {
   "cell_type": "markdown",
   "metadata": {},
   "source": [
    "# Boxplots plotted by groups\n",
    "\n",
    "While looking at a single variable is interesting, it is often useful to see how a variable changes in response to another. Thus, we can create a side-by-side boxplots of one quantitative variable grouped by another categorical variables."
   ]
  },
  {
   "cell_type": "code",
   "execution_count": 45,
   "metadata": {},
   "outputs": [
    {
     "data": {
      "image/png": "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\n",
      "text/plain": [
       "<Figure size 432x288 with 1 Axes>"
      ]
     },
     "metadata": {
      "needs_background": "light"
     },
     "output_type": "display_data"
    }
   ],
   "source": [
    "# Create side-by-side boxplots of the \"Height\" grouped by \"Gender\"\n",
    "\n",
    "Xdata = df.loc[:,[\"Wingspan\", \"CWDistance\", \"Height\", \"Age\"]]\n",
    "\n",
    "sns.boxplot(data = Xdata, orient = \"v\")\n",
    "\n",
    "plt.show()\n"
   ]
  },
  {
   "cell_type": "markdown",
   "metadata": {},
   "source": [
    "# Histograms and boxplots plotted by groups\n",
    "\n",
    "We cal also create both boxplots and histograms of one quantitative variable grouped by another categorical variables\n"
   ]
  },
  {
   "cell_type": "code",
   "execution_count": 15,
   "metadata": {},
   "outputs": [],
   "source": [
    "# Create a boxplot and histogram of the \"Wingspan\" grouped by \"Gender\"\n",
    "\n",
    "sns.bosplot(x = df[\"Wingspan\", y =df[\"Gender\"]])\n"
   ]
  },
  {
   "cell_type": "markdown",
   "metadata": {},
   "source": [
    "# Scatter plot\n",
    "\n",
    "Plot values of one variable versus another variable to see how they are correlated"
   ]
  },
  {
   "cell_type": "code",
   "execution_count": 16,
   "metadata": {},
   "outputs": [],
   "source": [
    "# scatter plot between two variables\n",
    "\n"
   ]
  },
  {
   "cell_type": "code",
   "execution_count": 17,
   "metadata": {},
   "outputs": [],
   "source": [
    "# scatter plot between two variables (one categorical)\n",
    "\n"
   ]
  },
  {
   "cell_type": "code",
   "execution_count": 18,
   "metadata": {},
   "outputs": [],
   "source": [
    "# scatter plot between two variables (one categorical)\n",
    "\n"
   ]
  },
  {
   "cell_type": "code",
   "execution_count": 19,
   "metadata": {},
   "outputs": [],
   "source": [
    "# scatter plot between two variables grouped according to a categorical variable\n",
    "\n"
   ]
  },
  {
   "cell_type": "code",
   "execution_count": 20,
   "metadata": {},
   "outputs": [],
   "source": [
    "# scatter plot between two variables grouped according to a categorical variable and with size of markers\n",
    "\n"
   ]
  },
  {
   "cell_type": "markdown",
   "metadata": {},
   "source": [
    "# Final remarks\n",
    "\n",
    "\n",
    "- Visualizing your data using **tables**, **histograms**, **boxplots**, **scatter plots** and other tools is essential to carry put analysis and extract conclusions\n",
    "\n",
    "- There are several ways to do the same thing\n",
    "\n",
    "- The **Seaborn** package provides visualisations tools that allow to explore data from a graphical perspective\n"
   ]
  },
  {
   "cell_type": "markdown",
   "metadata": {},
   "source": [
    "# Activity: work with the iris dataset\n",
    "\n",
    "Repeat this tutorial with the iris data set and respond to the following inquiries\n",
    "\n",
    "1. Plot the histograms for each of the four quantitative variables\n",
    "\n",
    "\n",
    "2. Plot the histograms for each of the quantitative variables\n",
    "\n",
    "\n",
    "3. Plot the boxplots for each of the quantitative variables\n",
    "\n",
    "\n",
    "4. Plot the boxplots of the petal width grouped by type of flower\n",
    "\n",
    "\n",
    "5. Plot the boxplots of the setal length grouped by type of flower\n",
    "\n",
    "\n",
    "6. Provide a description (explaination from your observations) of each of the quantitative variables\n"
   ]
  },
  {
   "cell_type": "code",
   "execution_count": null,
   "metadata": {},
   "outputs": [],
   "source": []
  }
 ],
 "metadata": {
  "kernelspec": {
   "display_name": "Python 3",
   "language": "python",
   "name": "python3"
  },
  "language_info": {
   "codemirror_mode": {
    "name": "ipython",
    "version": 3
   },
   "file_extension": ".py",
   "mimetype": "text/x-python",
   "name": "python",
   "nbconvert_exporter": "python",
   "pygments_lexer": "ipython3",
   "version": "3.8.8"
  }
 },
 "nbformat": 4,
 "nbformat_minor": 4
}
=======
{
 "cells": [
  {
   "cell_type": "markdown",
   "metadata": {},
   "source": [
    "# Visualizing Data in Python\n",
    "\n",
    "When working with a new dataset, one of the most useful things to do is to begin to visualize the data. By using **tables**, **histograms**, **boxplots**, **scatter plots** and other visual tools, we can get a better idea of what the data may be trying to tell us, and we can gain insights into the data that we may have not discovered otherwise.\n",
    "\n",
    "In this notebook will use the [Seaborn](https://seaborn.pydata.org/) data processing library, which is a higher-level interface to **Matplotlib** that can be used to simplify many visualization tasks \n",
    "\n",
    "The **Seaborn** provides visualisations tools that will allow to explore data from a graphical perspective. \n",
    "\n",
    "\n",
    "## Acknowledgments\n",
    "\n",
    "- Data from https://www.coursera.org/ from the course \"Understanding and Visualizing Data with Python\" by University of Michigan"
   ]
  },
  {
   "cell_type": "markdown",
   "metadata": {},
   "source": [
    "# Importing libraries"
   ]
  },
  {
   "cell_type": "code",
   "execution_count": 17,
   "metadata": {},
   "outputs": [],
   "source": [
    "# Import the packages that we will be using\n",
    "import pandas as pd\n",
    "import seaborn as sns\n",
    "import matplotlib.pyplot as plt\n"
   ]
  },
  {
   "cell_type": "markdown",
   "metadata": {},
   "source": [
    "# Importing data"
   ]
  },
  {
   "cell_type": "code",
   "execution_count": 19,
   "metadata": {},
   "outputs": [],
   "source": [
    "# url string that hosts our .csv file\n",
    "ruta = \"datasets/cartwheel/cartwheel.csv\"\n",
    "\n",
    "# Read the .csv file and store it as a pandas Data Frame\n",
    "df = pd.read_csv(ruta)\n"
   ]
  },
  {
   "cell_type": "markdown",
   "metadata": {},
   "source": [
    "# Exploring the content of the data set\n",
    "\n",
    "Get a general 'feel' of the data\n"
   ]
  },
  {
   "cell_type": "code",
   "execution_count": 20,
   "metadata": {},
   "outputs": [
    {
     "data": {
      "text/html": [
       "<div>\n",
       "<style scoped>\n",
       "    .dataframe tbody tr th:only-of-type {\n",
       "        vertical-align: middle;\n",
       "    }\n",
       "\n",
       "    .dataframe tbody tr th {\n",
       "        vertical-align: top;\n",
       "    }\n",
       "\n",
       "    .dataframe thead th {\n",
       "        text-align: right;\n",
       "    }\n",
       "</style>\n",
       "<table border=\"1\" class=\"dataframe\">\n",
       "  <thead>\n",
       "    <tr style=\"text-align: right;\">\n",
       "      <th></th>\n",
       "      <th>ID</th>\n",
       "      <th>Age</th>\n",
       "      <th>Gender</th>\n",
       "      <th>GenderGroup</th>\n",
       "      <th>Glasses</th>\n",
       "      <th>GlassesGroup</th>\n",
       "      <th>Height</th>\n",
       "      <th>Wingspan</th>\n",
       "      <th>CWDistance</th>\n",
       "      <th>Complete</th>\n",
       "      <th>CompleteGroup</th>\n",
       "      <th>Score</th>\n",
       "    </tr>\n",
       "  </thead>\n",
       "  <tbody>\n",
       "    <tr>\n",
       "      <th>0</th>\n",
       "      <td>1</td>\n",
       "      <td>56.0</td>\n",
       "      <td>F</td>\n",
       "      <td>1</td>\n",
       "      <td>Y</td>\n",
       "      <td>1</td>\n",
       "      <td>62.0</td>\n",
       "      <td>61.0</td>\n",
       "      <td>79</td>\n",
       "      <td>Y</td>\n",
       "      <td>1.0</td>\n",
       "      <td>7</td>\n",
       "    </tr>\n",
       "    <tr>\n",
       "      <th>1</th>\n",
       "      <td>2</td>\n",
       "      <td>26.0</td>\n",
       "      <td>F</td>\n",
       "      <td>1</td>\n",
       "      <td>Y</td>\n",
       "      <td>1</td>\n",
       "      <td>62.0</td>\n",
       "      <td>60.0</td>\n",
       "      <td>70</td>\n",
       "      <td>Y</td>\n",
       "      <td>1.0</td>\n",
       "      <td>8</td>\n",
       "    </tr>\n",
       "    <tr>\n",
       "      <th>2</th>\n",
       "      <td>3</td>\n",
       "      <td>33.0</td>\n",
       "      <td>F</td>\n",
       "      <td>1</td>\n",
       "      <td>Y</td>\n",
       "      <td>1</td>\n",
       "      <td>66.0</td>\n",
       "      <td>64.0</td>\n",
       "      <td>85</td>\n",
       "      <td>Y</td>\n",
       "      <td>1.0</td>\n",
       "      <td>7</td>\n",
       "    </tr>\n",
       "    <tr>\n",
       "      <th>3</th>\n",
       "      <td>4</td>\n",
       "      <td>39.0</td>\n",
       "      <td>F</td>\n",
       "      <td>1</td>\n",
       "      <td>N</td>\n",
       "      <td>0</td>\n",
       "      <td>64.0</td>\n",
       "      <td>63.0</td>\n",
       "      <td>87</td>\n",
       "      <td>Y</td>\n",
       "      <td>1.0</td>\n",
       "      <td>10</td>\n",
       "    </tr>\n",
       "    <tr>\n",
       "      <th>4</th>\n",
       "      <td>5</td>\n",
       "      <td>27.0</td>\n",
       "      <td>M</td>\n",
       "      <td>2</td>\n",
       "      <td>N</td>\n",
       "      <td>0</td>\n",
       "      <td>73.0</td>\n",
       "      <td>75.0</td>\n",
       "      <td>72</td>\n",
       "      <td>N</td>\n",
       "      <td>0.0</td>\n",
       "      <td>4</td>\n",
       "    </tr>\n",
       "  </tbody>\n",
       "</table>\n",
       "</div>"
      ],
      "text/plain": [
       "   ID   Age Gender  GenderGroup Glasses  GlassesGroup  Height  Wingspan  \\\n",
       "0   1  56.0      F            1       Y             1    62.0      61.0   \n",
       "1   2  26.0      F            1       Y             1    62.0      60.0   \n",
       "2   3  33.0      F            1       Y             1    66.0      64.0   \n",
       "3   4  39.0      F            1       N             0    64.0      63.0   \n",
       "4   5  27.0      M            2       N             0    73.0      75.0   \n",
       "\n",
       "   CWDistance Complete  CompleteGroup  Score  \n",
       "0          79        Y            1.0      7  \n",
       "1          70        Y            1.0      8  \n",
       "2          85        Y            1.0      7  \n",
       "3          87        Y            1.0     10  \n",
       "4          72        N            0.0      4  "
      ]
     },
     "execution_count": 20,
     "metadata": {},
     "output_type": "execute_result"
    }
   ],
   "source": [
    "df.head(5)\n",
    "\n"
   ]
  },
  {
   "cell_type": "markdown",
   "metadata": {},
   "source": [
    "# Frequency tables\n",
    "\n",
    "The `value_counts()` method can be used to determine the number of times that each distinct value of a variable occurs in a data set.  In statistical terms, this is the \"frequency distribution\" of the variable. The `value_counts()` method produces a table with two columns.  The first column contains all distinct observed values for the variable.  The second column contains the number of times each of these values occurs.  Note that the table returned by `value_counts()` is actually a **Pandas** data frame, so can be further processed using any Pandas methods for working with data frames.\n"
   ]
  },
  {
   "cell_type": "code",
   "execution_count": 21,
   "metadata": {},
   "outputs": [
    {
     "data": {
      "text/plain": [
       "M    15\n",
       "F    13\n",
       "Name: Gender, dtype: int64"
      ]
     },
     "execution_count": 21,
     "metadata": {},
     "output_type": "execute_result"
    }
   ],
   "source": [
    "# Number of times that each distinct value of a variable occurs in a data set\n",
    "df.Gender.value_counts()\n"
   ]
  },
  {
   "cell_type": "code",
   "execution_count": 22,
   "metadata": {},
   "outputs": [
    {
     "data": {
      "text/plain": [
       "Y    78.571429\n",
       "N    21.428571\n",
       "Name: Complete, dtype: float64"
      ]
     },
     "execution_count": 22,
     "metadata": {},
     "output_type": "execute_result"
    }
   ],
   "source": [
    "# Proportion of each distinct value of a variable occurs in a data set\n",
    "x = df.Complete.value_counts()\n",
    "proporcion = 100 * x / x.sum()\n",
    "\n",
    "proporcion\n"
   ]
  },
  {
   "cell_type": "markdown",
   "metadata": {},
   "source": [
    "Note that the `value_counts()` method excludes missing values. We confirm this below by adding up observations to your data frame with some missing values and then computing `value_counts()` and comparing this to the total number of rows in the data set, which is 28. This tells us that there are 28 - (21+6) = 1 missing values for this variable (other variables may have different numbers of missing values)."
   ]
  },
  {
   "cell_type": "code",
   "execution_count": 23,
   "metadata": {},
   "outputs": [
    {
     "name": "stdout",
     "output_type": "stream",
     "text": [
      "28\n",
      "1\n",
      "28\n"
     ]
    }
   ],
   "source": [
    "# Total number of observations\n",
    "Nobs, Nvar = df.shape\n",
    "print(Nobs)\n",
    "\n",
    "\n",
    "# Total number of null observations\n",
    "NobsNull = df.Age.isnull().sum()\n",
    "print(NobsNull)\n",
    "\n",
    "# Total number of counts (excluding missing values)\n",
    "NobsNull = df.Complete.notnull().sum()\n",
    "print(NobsNull)\n",
    "\n",
    "\n"
   ]
  },
  {
   "cell_type": "markdown",
   "metadata": {},
   "source": [
    "# Histogram\n",
    "\n",
    "It is often good to get a feel for the shape of the distribution of the data."
   ]
  },
  {
   "cell_type": "code",
   "execution_count": 28,
   "metadata": {},
   "outputs": [
    {
     "data": {
      "image/png": "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\n",
      "text/plain": [
       "<Figure size 432x288 with 1 Axes>"
      ]
     },
     "metadata": {
      "needs_background": "light"
     },
     "output_type": "display_data"
    }
   ],
   "source": [
    "# Plot histogram of the total Height only\n",
    "X = sns.distplot(df[\"Height\"], kde = False)\n",
    "\n",
    "X.set_ylabel(\"Frecuency\")\n",
    "X.set_title(\"Histograma de Height\")\n",
    "\n",
    "plt.show()\n"
   ]
  },
  {
   "cell_type": "code",
   "execution_count": 46,
   "metadata": {},
   "outputs": [
    {
     "name": "stderr",
     "output_type": "stream",
     "text": [
      "C:\\Users\\siddh\\anaconda3\\lib\\site-packages\\seaborn\\distributions.py:2557: FutureWarning: `distplot` is a deprecated function and will be removed in a future version. Please adapt your code to use either `displot` (a figure-level function with similar flexibility) or `histplot` (an axes-level function for histograms).\n",
      "  warnings.warn(msg, FutureWarning)\n"
     ]
    },
    {
     "data": {
      "image/png": "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\n",
      "text/plain": [
       "<Figure size 432x288 with 1 Axes>"
      ]
     },
     "metadata": {
      "needs_background": "light"
     },
     "output_type": "display_data"
    }
   ],
   "source": [
    "# Plot distribution of the tips only\n",
    "X = sns.distplot(df[\"Age\"], kde = False)\n",
    "\n",
    "X.set_ylabel(\"Frecuency\")\n",
    "X.set_title(\"Histograma de Age\")\n",
    "\n",
    "plt.show()\n"
   ]
  },
  {
   "cell_type": "code",
   "execution_count": 29,
   "metadata": {},
   "outputs": [
    {
     "data": {
      "image/png": "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\n",
      "text/plain": [
       "<Figure size 432x288 with 1 Axes>"
      ]
     },
     "metadata": {
      "needs_background": "light"
     },
     "output_type": "display_data"
    }
   ],
   "source": [
    "# Plot histogram of both the Age and the Wingspan\n",
    "sns.distplot(df[\"Wingspan\"], kde = False)\n",
    "X = sns.distplot(df[\"Age\"], kde = False)\n",
    "\n",
    "X.set_ylabel(\"Frecuency\")\n",
    "X.set_title(\"Histograma de Wingspan and Age\")\n",
    "\n",
    "plt.show()\n"
   ]
  },
  {
   "cell_type": "markdown",
   "metadata": {},
   "source": [
    "# Histograms plotted by groups\n",
    "\n",
    "While looking at a single variable is interesting, it is often useful to see how a variable changes in response to another. Thus, we can create a histograms of one quantitative variable grouped by another categorical variables."
   ]
  },
  {
   "cell_type": "code",
   "execution_count": 33,
   "metadata": {},
   "outputs": [
    {
     "data": {
      "image/png": "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\n",
      "text/plain": [
       "<Figure size 216x432 with 2 Axes>"
      ]
     },
     "metadata": {
      "needs_background": "light"
     },
     "output_type": "display_data"
    }
   ],
   "source": [
    "# Create histograms of the \"Wingspan\" grouped by \"Gender\"\n",
    "g = sns.FacetGrid(df, row = \"Gender\")\n",
    "g = g.map(plt.hist, 'Wingspan')\n",
    "\n",
    "plt.show()\n"
   ]
  },
  {
   "cell_type": "raw",
   "metadata": {},
   "source": [
    "# Boxplots\n",
    "\n",
    "Boxplots do not show the shape of the distribution, but they can give us a better idea about the center and spread of the distribution as well as any potential outliers that may exist. Boxplots and Histograms often complement each other and help an analyst get more information about the data"
   ]
  },
  {
   "cell_type": "code",
   "execution_count": 37,
   "metadata": {},
   "outputs": [
    {
     "name": "stderr",
     "output_type": "stream",
     "text": [
      "C:\\Users\\siddh\\anaconda3\\lib\\site-packages\\seaborn\\_decorators.py:36: FutureWarning: Pass the following variable as a keyword arg: x. From version 0.12, the only valid positional argument will be `data`, and passing other arguments without an explicit keyword will result in an error or misinterpretation.\n",
      "  warnings.warn(\n"
     ]
    },
    {
     "data": {
      "image/png": "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\n",
      "text/plain": [
       "<Figure size 432x288 with 1 Axes>"
      ]
     },
     "metadata": {
      "needs_background": "light"
     },
     "output_type": "display_data"
    }
   ],
   "source": [
    "# Create the boxplot of the \"total bill\" amounts\n",
    "Y = sns.boxplot(df[\"Wingspan\"])\n",
    "Y.set_title(\"Diagrama de bigote de Wingspan\")\n",
    "plt.show()\n"
   ]
  },
  {
   "cell_type": "code",
   "execution_count": 38,
   "metadata": {},
   "outputs": [
    {
     "name": "stderr",
     "output_type": "stream",
     "text": [
      "C:\\Users\\siddh\\anaconda3\\lib\\site-packages\\seaborn\\_decorators.py:36: FutureWarning: Pass the following variable as a keyword arg: x. From version 0.12, the only valid positional argument will be `data`, and passing other arguments without an explicit keyword will result in an error or misinterpretation.\n",
      "  warnings.warn(\n"
     ]
    },
    {
     "name": "stdout",
     "output_type": "stream",
     "text": [
      "The history saving thread hit an unexpected error (OperationalError('database or disk is full')).History will not be written to the database.\n"
     ]
    },
    {
     "data": {
      "image/png": "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\n",
      "text/plain": [
       "<Figure size 432x288 with 1 Axes>"
      ]
     },
     "metadata": {
      "needs_background": "light"
     },
     "output_type": "display_data"
    }
   ],
   "source": [
    "# Create the boxplot of the \"tips\" amounts\n",
    "Y = sns.boxplot(df[\"CWDistance\"])\n",
    "Y.set_title(\"Diagrama de bigote de CWDistance\")\n",
    "plt.show()\n"
   ]
  },
  {
   "cell_type": "code",
   "execution_count": 12,
   "metadata": {},
   "outputs": [],
   "source": [
    "# Create the boxplots of the \"Wingspan\" and of the \"Height\" amounts\n",
    "\n"
   ]
  },
  {
   "cell_type": "code",
   "execution_count": 39,
   "metadata": {},
   "outputs": [
    {
     "name": "stderr",
     "output_type": "stream",
     "text": [
      "C:\\Users\\siddh\\anaconda3\\lib\\site-packages\\seaborn\\_decorators.py:36: FutureWarning: Pass the following variable as a keyword arg: x. From version 0.12, the only valid positional argument will be `data`, and passing other arguments without an explicit keyword will result in an error or misinterpretation.\n",
      "  warnings.warn(\n",
      "C:\\Users\\siddh\\anaconda3\\lib\\site-packages\\seaborn\\_decorators.py:36: FutureWarning: Pass the following variable as a keyword arg: x. From version 0.12, the only valid positional argument will be `data`, and passing other arguments without an explicit keyword will result in an error or misinterpretation.\n",
      "  warnings.warn(\n"
     ]
    },
    {
     "data": {
      "image/png": "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\n",
      "text/plain": [
       "<Figure size 432x288 with 1 Axes>"
      ]
     },
     "metadata": {
      "needs_background": "light"
     },
     "output_type": "display_data"
    }
   ],
   "source": [
    "# Create the boxplots of the \"Wingspan\" and of the \"tips\" amounts\n",
    "sns.boxplot(df[\"Wingspan\"])\n",
    "sns.boxplot(df[\"CWDistance\"])\n",
    "\n",
    "plt.show()\n",
    "\n",
    "#AVOID THIS KIND FO PLOT!!"
   ]
  },
  {
   "cell_type": "markdown",
   "metadata": {},
   "source": [
    "# Boxplots plotted by groups\n",
    "\n",
    "While looking at a single variable is interesting, it is often useful to see how a variable changes in response to another. Thus, we can create a side-by-side boxplots of one quantitative variable grouped by another categorical variables."
   ]
  },
  {
   "cell_type": "code",
   "execution_count": 45,
   "metadata": {},
   "outputs": [
    {
     "data": {
      "image/png": "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\n",
      "text/plain": [
       "<Figure size 432x288 with 1 Axes>"
      ]
     },
     "metadata": {
      "needs_background": "light"
     },
     "output_type": "display_data"
    }
   ],
   "source": [
    "# Create side-by-side boxplots of the \"Height\" grouped by \"Gender\"\n",
    "\n",
    "Xdata = df.loc[:,[\"Wingspan\", \"CWDistance\", \"Height\", \"Age\"]]\n",
    "\n",
    "sns.boxplot(data = Xdata, orient = \"v\")\n",
    "\n",
    "plt.show()\n"
   ]
  },
  {
   "cell_type": "markdown",
   "metadata": {},
   "source": [
    "# Histograms and boxplots plotted by groups\n",
    "\n",
    "We cal also create both boxplots and histograms of one quantitative variable grouped by another categorical variables\n"
   ]
  },
  {
   "cell_type": "code",
   "execution_count": 15,
   "metadata": {},
   "outputs": [],
   "source": [
    "# Create a boxplot and histogram of the \"Wingspan\" grouped by \"Gender\"\n",
    "\n",
    "sns.bosplot(x = df[\"Wingspan\", y =df[\"Gender\"]])\n"
   ]
  },
  {
   "cell_type": "markdown",
   "metadata": {},
   "source": [
    "# Scatter plot\n",
    "\n",
    "Plot values of one variable versus another variable to see how they are correlated"
   ]
  },
  {
   "cell_type": "code",
   "execution_count": 16,
   "metadata": {},
   "outputs": [],
   "source": [
    "# scatter plot between two variables\n",
    "\n"
   ]
  },
  {
   "cell_type": "code",
   "execution_count": 17,
   "metadata": {},
   "outputs": [],
   "source": [
    "# scatter plot between two variables (one categorical)\n",
    "\n"
   ]
  },
  {
   "cell_type": "code",
   "execution_count": 18,
   "metadata": {},
   "outputs": [],
   "source": [
    "# scatter plot between two variables (one categorical)\n",
    "\n"
   ]
  },
  {
   "cell_type": "code",
   "execution_count": 19,
   "metadata": {},
   "outputs": [],
   "source": [
    "# scatter plot between two variables grouped according to a categorical variable\n",
    "\n"
   ]
  },
  {
   "cell_type": "code",
   "execution_count": 20,
   "metadata": {},
   "outputs": [],
   "source": [
    "# scatter plot between two variables grouped according to a categorical variable and with size of markers\n",
    "\n"
   ]
  },
  {
   "cell_type": "markdown",
   "metadata": {},
   "source": [
    "# Final remarks\n",
    "\n",
    "\n",
    "- Visualizing your data using **tables**, **histograms**, **boxplots**, **scatter plots** and other tools is essential to carry put analysis and extract conclusions\n",
    "\n",
    "- There are several ways to do the same thing\n",
    "\n",
    "- The **Seaborn** package provides visualisations tools that allow to explore data from a graphical perspective\n"
   ]
  },
  {
   "cell_type": "markdown",
   "metadata": {},
   "source": [
    "# Activity: work with the iris dataset\n",
    "\n",
    "Repeat this tutorial with the iris data set and respond to the following inquiries\n",
    "\n",
    "1. Plot the histograms for each of the four quantitative variables\n",
    "\n",
    "\n",
    "2. Plot the histograms for each of the quantitative variables\n",
    "\n",
    "\n",
    "3. Plot the boxplots for each of the quantitative variables\n",
    "\n",
    "\n",
    "4. Plot the boxplots of the petal width grouped by type of flower\n",
    "\n",
    "\n",
    "5. Plot the boxplots of the setal length grouped by type of flower\n",
    "\n",
    "\n",
    "6. Provide a description (explaination from your observations) of each of the quantitative variables\n"
   ]
  },
  {
   "cell_type": "code",
   "execution_count": null,
   "metadata": {},
   "outputs": [],
   "source": []
  }
 ],
 "metadata": {
  "kernelspec": {
   "display_name": "Python 3",
   "language": "python",
   "name": "python3"
  },
  "language_info": {
   "codemirror_mode": {
    "name": "ipython",
    "version": 3
   },
   "file_extension": ".py",
   "mimetype": "text/x-python",
   "name": "python",
   "nbconvert_exporter": "python",
   "pygments_lexer": "ipython3",
   "version": "3.8.8"
  }
 },
 "nbformat": 4,
 "nbformat_minor": 4
}
>>>>>>> dc70b6a179a24ed97dd59e3480807a55535cfeb1
