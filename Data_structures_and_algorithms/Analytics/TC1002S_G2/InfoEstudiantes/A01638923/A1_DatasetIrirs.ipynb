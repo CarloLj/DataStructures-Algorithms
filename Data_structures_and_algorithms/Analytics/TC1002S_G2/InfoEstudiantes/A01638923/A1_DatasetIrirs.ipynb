{
 "cells": [
  {
   "cell_type": "markdown",
   "metadata": {},
   "source": [
    "# Undertanding the iris data set\n",
    "\n",
    "The notebook aims to undertand the content of the iris data set.\n",
    "\n",
    "\n",
    "## Acknowledgments\n",
    "\n",
    "- Data from https://www.coursera.org/ from the course \"Understanding and Visualizing Data with Python\" by University of Michigan\n"
   ]
  },
  {
   "cell_type": "markdown",
   "metadata": {},
   "source": [
    "# Activity: work with the iris dataset\n",
    "\n",
    "1. Load the iris.csv file in your computer and compare with the data printed above.\n",
    "\n",
    "\n",
    "2. How many observations (rows) are in total?\n",
    "\n",
    "\n",
    "3. How many variables (columns) are in total? What do they represent?\n",
    "\n",
    "\n",
    "4. How many observatoins are for each type of flower? \n",
    "\n",
    "\n",
    "5. What is the type of data for each variable?\n",
    "\n",
    "\n",
    "6. What are the units of each variable?\n"
   ]
  },
  {
   "cell_type": "code",
   "execution_count": 69,
   "metadata": {},
   "outputs": [
    {
     "name": "stdout",
     "output_type": "stream",
     "text": [
      "     SepLen  SepWd  PtlLen  PtlWd           Class\n",
      "0       5.1    3.5     1.4    0.2     Iris-setosa\n",
      "1       4.9    3.0     1.4    0.2     Iris-setosa\n",
      "2       4.7    3.2     1.3    0.2     Iris-setosa\n",
      "3       4.6    3.1     1.5    0.2     Iris-setosa\n",
      "4       5.0    3.6     1.4    0.2     Iris-setosa\n",
      "..      ...    ...     ...    ...             ...\n",
      "145     6.7    3.0     5.2    2.3  Iris-virginica\n",
      "146     6.3    2.5     5.0    1.9  Iris-virginica\n",
      "147     6.5    3.0     5.2    2.0  Iris-virginica\n",
      "148     6.2    3.4     5.4    2.3  Iris-virginica\n",
      "149     5.9    3.0     5.1    1.8  Iris-virginica\n",
      "\n",
      "[150 rows x 5 columns]\n",
      "\n",
      "Observations: 150\n",
      "Variables: 5\n",
      "\n",
      "---Data-Types---\n",
      "SepLen    float64\n",
      "SepWd     float64\n",
      "PtlLen    float64\n",
      "PtlWd     float64\n",
      "Class      object\n",
      "dtype: object\n",
      "\n",
      "-----Units-----\n",
      "SepLen: cm\n",
      "SepWd: cm\n",
      "PtlLen: cm\n",
      "PtlWd: cm\n",
      "Class: {Setosa, Vericolour, Virginica}.\n"
     ]
    }
   ],
   "source": [
    "# Import the packages that we will be using\n",
    "import pandas as pnd\n",
    "\n",
    "# Dataset url\n",
    "path = \"datasets/iris/iris.csv\"\n",
    "\n",
    "# Load the dataset\n",
    "df = pnd.read_csv(path)\n",
    "\n",
    "print(df.iloc[:,:])\n",
    "rows, cols = df.shape\n",
    "print(f\"\\nObservations: {rows}\\nVariables: {cols}\\n\\n---Data-Types---\")\n",
    "df.Class.value_counts()\n",
    "print(df.dtypes)\n",
    "print(\"\\n-----Units-----\\nSepLen: cm\\nSepWd: cm\\nPtlLen: cm\\nPtlWd: cm\\nClass: {Setosa, Vericolour, Virginica}.\")"
   ]
  },
  {
   "cell_type": "code",
   "execution_count": null,
   "metadata": {},
   "outputs": [],
   "source": []
  }
 ],
 "metadata": {
  "kernelspec": {
   "display_name": "Python 3",
   "language": "python",
   "name": "python3"
  },
  "language_info": {
   "codemirror_mode": {
    "name": "ipython",
    "version": 3
   },
   "file_extension": ".py",
   "mimetype": "text/x-python",
   "name": "python",
   "nbconvert_exporter": "python",
   "pygments_lexer": "ipython3",
   "version": "3.8.8"
  }
 },
 "nbformat": 4,
 "nbformat_minor": 2
}
