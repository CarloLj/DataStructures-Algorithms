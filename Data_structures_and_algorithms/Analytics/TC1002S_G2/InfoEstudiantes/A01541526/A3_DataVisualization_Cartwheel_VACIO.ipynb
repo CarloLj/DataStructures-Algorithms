<<<<<<< HEAD
{
 "cells": [
  {
   "cell_type": "markdown",
   "metadata": {},
   "source": [
    "# Visualizing Data in Python\n",
    "\n",
    "When working with a new dataset, one of the most useful things to do is to begin to visualize the data. By using **tables**, **histograms**, **boxplots**, **scatter plots** and other visual tools, we can get a better idea of what the data may be trying to tell us, and we can gain insights into the data that we may have not discovered otherwise.\n",
    "\n",
    "In this notebook will use the [Seaborn](https://seaborn.pydata.org/) data processing library, which is a higher-level interface to **Matplotlib** that can be used to simplify many visualization tasks \n",
    "\n",
    "The **Seaborn** provides visualisations tools that will allow to explore data from a graphical perspective. \n",
    "\n",
    "\n",
    "## Acknowledgments\n",
    "\n",
    "- Data from https://www.coursera.org/ from the course \"Understanding and Visualizing Data with Python\" by University of Michigan"
   ]
  },
  {
   "cell_type": "markdown",
   "metadata": {},
   "source": [
    "# Importing libraries"
   ]
  },
  {
   "cell_type": "code",
   "execution_count": 58,
   "metadata": {},
   "outputs": [
    {
     "ename": "ModuleNotFoundError",
     "evalue": "No module named 'natplotlib'",
     "output_type": "error",
     "traceback": [
      "\u001b[1;31m---------------------------------------------------------------------------\u001b[0m",
      "\u001b[1;31mModuleNotFoundError\u001b[0m                       Traceback (most recent call last)",
      "\u001b[1;32m<ipython-input-58-e8d1afe5950e>\u001b[0m in \u001b[0;36m<module>\u001b[1;34m\u001b[0m\n\u001b[0;32m      2\u001b[0m \u001b[1;32mimport\u001b[0m \u001b[0mpandas\u001b[0m \u001b[1;32mas\u001b[0m \u001b[0mpd\u001b[0m\u001b[1;33m\u001b[0m\u001b[1;33m\u001b[0m\u001b[0m\n\u001b[0;32m      3\u001b[0m \u001b[1;32mimport\u001b[0m \u001b[0mseaborn\u001b[0m \u001b[1;32mas\u001b[0m \u001b[0msns\u001b[0m\u001b[1;33m\u001b[0m\u001b[1;33m\u001b[0m\u001b[0m\n\u001b[1;32m----> 4\u001b[1;33m \u001b[1;32mimport\u001b[0m \u001b[0mnatplotlib\u001b[0m\u001b[1;33m.\u001b[0m\u001b[0mpyplot\u001b[0m \u001b[1;32mas\u001b[0m \u001b[0mplt\u001b[0m\u001b[1;33m\u001b[0m\u001b[1;33m\u001b[0m\u001b[0m\n\u001b[0m",
      "\u001b[1;31mModuleNotFoundError\u001b[0m: No module named 'natplotlib'"
     ]
    }
   ],
   "source": [
    "# Import the packages that we will be using\n",
    "import pandas as pd\n",
    "import seaborn as sns\n",
    "import natplotlib.pyplot as plt"
   ]
  },
  {
   "cell_type": "markdown",
   "metadata": {},
   "source": [
    "# Importing data"
   ]
  },
  {
   "cell_type": "code",
   "execution_count": null,
   "metadata": {},
   "outputs": [],
   "source": [
    "# url string that hosts our .csv file\n",
    "ruta = \"datasets/cartwheel/cartwheel.csv\"\n",
    "\n",
    "# Read the .csv file and store it as a pandas Data Frame\n",
    "df = pd.read_csv(ruta)"
   ]
  },
  {
   "cell_type": "markdown",
   "metadata": {},
   "source": [
    "# Exploring the content of the data set\n",
    "\n",
    "Get a general 'feel' of the data\n"
   ]
  },
  {
   "cell_type": "code",
   "execution_count": null,
   "metadata": {},
   "outputs": [],
   "source": [
    "df.head(5)"
   ]
  },
  {
   "cell_type": "markdown",
   "metadata": {},
   "source": [
    "# Frequency tables\n",
    "\n",
    "The `value_counts()` method can be used to determine the number of times that each distinct value of a variable occurs in a data set.  In statistical terms, this is the \"frequency distribution\" of the variable. The `value_counts()` method produces a table with two columns.  The first column contains all distinct observed values for the variable.  The second column contains the number of times each of these values occurs.  Note that the table returned by `value_counts()` is actually a **Pandas** data frame, so can be further processed using any Pandas methods for working with data frames.\n"
   ]
  },
  {
   "cell_type": "code",
   "execution_count": null,
   "metadata": {},
   "outputs": [],
   "source": [
    "# Number of times that each distinct value of a variable occurs in a data set\n",
    "\n",
    "df.Complete.value_counts()"
   ]
  },
  {
   "cell_type": "code",
   "execution_count": null,
   "metadata": {},
   "outputs": [],
   "source": [
    "# Proportion of each distinct value of a variable occurs in a data set\n",
    "x = df.Complete.value_counts()\n",
    "proporcion = 100* x / x.sum()\n",
    "proporcion"
   ]
  },
  {
   "cell_type": "markdown",
   "metadata": {},
   "source": [
    "Note that the `value_counts()` method excludes missing values. We confirm this below by adding up observations to your data frame with some missing values and then computing `value_counts()` and comparing this to the total number of rows in the data set, which is 28. This tells us that there are 28 - (21+6) = 1 missing values for this variable (other variables may have different numbers of missing values)."
   ]
  },
  {
   "cell_type": "code",
   "execution_count": null,
   "metadata": {},
   "outputs": [],
   "source": [
    "# Total number of observations\n",
    "Nobs, Nvar = df.shape\n",
    "print(Nobs)\n",
    "\n",
    "# Total number of null observations\n",
    "NobsNull = df.Age.isnull().sum()\n",
    "print(NobsNull)\n",
    "\n",
    "# Total number of counts (excluding missing values)\n",
    "NobsNull = df.Age.notnull().sum()\n",
    "print(NobsNull)\n"
   ]
  },
  {
   "cell_type": "markdown",
   "metadata": {},
   "source": [
    "# Histogram\n",
    "\n",
    "It is often good to get a feel for the shape of the distribution of the data."
   ]
  },
  {
   "cell_type": "code",
   "execution_count": 80,
   "metadata": {},
   "outputs": [
    {
     "ename": "AttributeError",
     "evalue": "'FacetGrid' object has no attribute 'set_ylabel'",
     "output_type": "error",
     "traceback": [
      "\u001b[1;31m---------------------------------------------------------------------------\u001b[0m",
      "\u001b[1;31mAttributeError\u001b[0m                            Traceback (most recent call last)",
      "\u001b[1;32m<ipython-input-80-13ee823f88fb>\u001b[0m in \u001b[0;36m<module>\u001b[1;34m\u001b[0m\n\u001b[0;32m      1\u001b[0m \u001b[1;31m# Plot histogram of the total bill only\u001b[0m\u001b[1;33m\u001b[0m\u001b[1;33m\u001b[0m\u001b[1;33m\u001b[0m\u001b[0m\n\u001b[0;32m      2\u001b[0m \u001b[0mx\u001b[0m \u001b[1;33m=\u001b[0m \u001b[0msns\u001b[0m\u001b[1;33m.\u001b[0m\u001b[0mdisplot\u001b[0m\u001b[1;33m(\u001b[0m \u001b[0mdf\u001b[0m\u001b[1;33m[\u001b[0m\u001b[1;34m\"Height\"\u001b[0m\u001b[1;33m]\u001b[0m \u001b[1;33m,\u001b[0m \u001b[0mkde\u001b[0m\u001b[1;33m=\u001b[0m\u001b[1;32mFalse\u001b[0m\u001b[1;33m)\u001b[0m\u001b[1;33m\u001b[0m\u001b[1;33m\u001b[0m\u001b[0m\n\u001b[1;32m----> 3\u001b[1;33m \u001b[0mx\u001b[0m\u001b[1;33m.\u001b[0m\u001b[0mset_ylabel\u001b[0m\u001b[1;33m(\u001b[0m\u001b[1;34m\"Frequency\"\u001b[0m\u001b[1;33m)\u001b[0m\u001b[1;33m\u001b[0m\u001b[1;33m\u001b[0m\u001b[0m\n\u001b[0m\u001b[0;32m      4\u001b[0m \u001b[0mx\u001b[0m\u001b[1;33m.\u001b[0m\u001b[0mset_title\u001b[0m\u001b[1;33m(\u001b[0m\u001b[1;34m\"Histograma de la altura\"\u001b[0m\u001b[1;33m)\u001b[0m\u001b[1;33m\u001b[0m\u001b[1;33m\u001b[0m\u001b[0m\n\u001b[0;32m      5\u001b[0m \u001b[1;33m\u001b[0m\u001b[0m\n",
      "\u001b[1;31mAttributeError\u001b[0m: 'FacetGrid' object has no attribute 'set_ylabel'"
     ]
    },
    {
     "data": {
      "image/png": "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\n",
      "text/plain": [
       "<Figure size 360x360 with 1 Axes>"
      ]
     },
     "metadata": {
      "needs_background": "light"
     },
     "output_type": "display_data"
    }
   ],
   "source": [
    "# Plot histogram of the total bill only\n",
    "x = sns.displot( df[\"Height\"] , kde=False)\n",
    "x.set_ylabel(\"Frequency\")\n",
    "x.set_title(\"Histograma de la altura\")\n",
    "\n",
    "plt.show\n"
   ]
  },
  {
   "cell_type": "code",
   "execution_count": null,
   "metadata": {},
   "outputs": [],
   "source": [
    "# Plot distribution of the tips only\n",
    "\n"
   ]
  },
  {
   "cell_type": "code",
   "execution_count": null,
   "metadata": {},
   "outputs": [],
   "source": [
    "# Plot histogram of both the Age and the Wingspan\n",
    "\n"
   ]
  },
  {
   "cell_type": "markdown",
   "metadata": {},
   "source": [
    "# Histograms plotted by groups\n",
    "\n",
    "While looking at a single variable is interesting, it is often useful to see how a variable changes in response to another. Thus, we can create a histograms of one quantitative variable grouped by another categorical variables."
   ]
  },
  {
   "cell_type": "code",
   "execution_count": null,
   "metadata": {},
   "outputs": [],
   "source": [
    "# Create histograms of the \"Wingspan\" grouped by \"Gender\"\n",
    "\n",
    "\n"
   ]
  },
  {
   "cell_type": "markdown",
   "metadata": {},
   "source": [
    "# Boxplots\n",
    "\n",
    "Boxplots do not show the shape of the distribution, but they can give us a better idea about the center and spread of the distribution as well as any potential outliers that may exist. Boxplots and Histograms often complement each other and help an analyst get more information about the data"
   ]
  },
  {
   "cell_type": "code",
   "execution_count": 59,
   "metadata": {},
   "outputs": [],
   "source": [
    "# Create the boxplot of the \"total bill\" amounts\n",
    "\n"
   ]
  },
  {
   "cell_type": "code",
   "execution_count": 60,
   "metadata": {},
   "outputs": [],
   "source": [
    "# Create the boxplot of the \"tips\" amounts\n",
    "\n"
   ]
  },
  {
   "cell_type": "code",
   "execution_count": 61,
   "metadata": {},
   "outputs": [],
   "source": [
    "# Create the boxplots of the \"Wingspan\" and of the \"Height\" amounts\n",
    "\n"
   ]
  },
  {
   "cell_type": "code",
   "execution_count": 62,
   "metadata": {},
   "outputs": [],
   "source": [
    "# Create the boxplots of the \"Wingspan\" and of the \"tips\" amounts\n",
    "\n"
   ]
  },
  {
   "cell_type": "markdown",
   "metadata": {},
   "source": [
    "# Boxplots plotted by groups\n",
    "\n",
    "While looking at a single variable is interesting, it is often useful to see how a variable changes in response to another. Thus, we can create a side-by-side boxplots of one quantitative variable grouped by another categorical variables."
   ]
  },
  {
   "cell_type": "code",
   "execution_count": 63,
   "metadata": {},
   "outputs": [],
   "source": [
    "# Create side-by-side boxplots of the \"Height\" grouped by \"Gender\"\n",
    "\n"
   ]
  },
  {
   "cell_type": "markdown",
   "metadata": {},
   "source": [
    "# Histograms and boxplots plotted by groups\n",
    "\n",
    "We cal also create both boxplots and histograms of one quantitative variable grouped by another categorical variables\n"
   ]
  },
  {
   "cell_type": "code",
   "execution_count": 64,
   "metadata": {},
   "outputs": [],
   "source": [
    "# Create a boxplot and histogram of the \"tips\" grouped by \"Gender\"\n",
    "\n"
   ]
  },
  {
   "cell_type": "markdown",
   "metadata": {},
   "source": [
    "# Scatter plot\n",
    "\n",
    "Plot values of one variable versus another variable to see how they are correlated"
   ]
  },
  {
   "cell_type": "code",
   "execution_count": 65,
   "metadata": {},
   "outputs": [],
   "source": [
    "# scatter plot between two variables\n",
    "\n"
   ]
  },
  {
   "cell_type": "code",
   "execution_count": 66,
   "metadata": {},
   "outputs": [],
   "source": [
    "# scatter plot between two variables (one categorical)\n",
    "\n"
   ]
  },
  {
   "cell_type": "code",
   "execution_count": 67,
   "metadata": {},
   "outputs": [],
   "source": [
    "# scatter plot between two variables (one categorical)\n",
    "\n"
   ]
  },
  {
   "cell_type": "code",
   "execution_count": 68,
   "metadata": {},
   "outputs": [],
   "source": [
    "# scatter plot between two variables grouped according to a categorical variable\n",
    "\n"
   ]
  },
  {
   "cell_type": "code",
   "execution_count": 69,
   "metadata": {},
   "outputs": [],
   "source": [
    "# scatter plot between two variables grouped according to a categorical variable and with size of markers\n",
    "\n"
   ]
  },
  {
   "cell_type": "markdown",
   "metadata": {},
   "source": [
    "# Final remarks\n",
    "\n",
    "\n",
    "- Visualizing your data using **tables**, **histograms**, **boxplots**, **scatter plots** and other tools is essential to carry put analysis and extract conclusions\n",
    "\n",
    "- There are several ways to do the same thing\n",
    "\n",
    "- The **Seaborn** package provides visualisations tools that allow to explore data from a graphical perspective\n"
   ]
  },
  {
   "cell_type": "markdown",
   "metadata": {},
   "source": [
    "# Activity: work with the iris dataset\n",
    "\n",
    "Repeat this tutorial with the iris data set and respond to the following inquiries\n",
    "\n",
    "1. Plot the histograms for each of the four quantitative variables\n",
    "\n",
    "\n",
    "2. Plot the histograms for each of the quantitative variables\n",
    "\n",
    "\n",
    "3. Plot the boxplots for each of the quantitative variables\n",
    "\n",
    "\n",
    "4. Plot the boxplots of the petal width grouped by type of flower\n",
    "\n",
    "\n",
    "5. Plot the boxplots of the setal length grouped by type of flower\n",
    "\n",
    "\n",
    "6. Provide a description (explaination from your observations) of each of the quantitative variables\n"
   ]
  },
  {
   "cell_type": "code",
   "execution_count": null,
   "metadata": {},
   "outputs": [],
   "source": []
  }
 ],
 "metadata": {
  "kernelspec": {
   "display_name": "Python 3",
   "language": "python",
   "name": "python3"
  },
  "language_info": {
   "codemirror_mode": {
    "name": "ipython",
    "version": 3
   },
   "file_extension": ".py",
   "mimetype": "text/x-python",
   "name": "python",
   "nbconvert_exporter": "python",
   "pygments_lexer": "ipython3",
   "version": "3.8.8"
  }
 },
 "nbformat": 4,
 "nbformat_minor": 2
}
=======
{
 "cells": [
  {
   "cell_type": "markdown",
   "metadata": {},
   "source": [
    "# Visualizing Data in Python\n",
    "\n",
    "When working with a new dataset, one of the most useful things to do is to begin to visualize the data. By using **tables**, **histograms**, **boxplots**, **scatter plots** and other visual tools, we can get a better idea of what the data may be trying to tell us, and we can gain insights into the data that we may have not discovered otherwise.\n",
    "\n",
    "In this notebook will use the [Seaborn](https://seaborn.pydata.org/) data processing library, which is a higher-level interface to **Matplotlib** that can be used to simplify many visualization tasks \n",
    "\n",
    "The **Seaborn** provides visualisations tools that will allow to explore data from a graphical perspective. \n",
    "\n",
    "\n",
    "## Acknowledgments\n",
    "\n",
    "- Data from https://www.coursera.org/ from the course \"Understanding and Visualizing Data with Python\" by University of Michigan"
   ]
  },
  {
   "cell_type": "markdown",
   "metadata": {},
   "source": [
    "# Importing libraries"
   ]
  },
  {
   "cell_type": "code",
   "execution_count": 58,
   "metadata": {},
   "outputs": [
    {
     "ename": "ModuleNotFoundError",
     "evalue": "No module named 'natplotlib'",
     "output_type": "error",
     "traceback": [
      "\u001b[1;31m---------------------------------------------------------------------------\u001b[0m",
      "\u001b[1;31mModuleNotFoundError\u001b[0m                       Traceback (most recent call last)",
      "\u001b[1;32m<ipython-input-58-e8d1afe5950e>\u001b[0m in \u001b[0;36m<module>\u001b[1;34m\u001b[0m\n\u001b[0;32m      2\u001b[0m \u001b[1;32mimport\u001b[0m \u001b[0mpandas\u001b[0m \u001b[1;32mas\u001b[0m \u001b[0mpd\u001b[0m\u001b[1;33m\u001b[0m\u001b[1;33m\u001b[0m\u001b[0m\n\u001b[0;32m      3\u001b[0m \u001b[1;32mimport\u001b[0m \u001b[0mseaborn\u001b[0m \u001b[1;32mas\u001b[0m \u001b[0msns\u001b[0m\u001b[1;33m\u001b[0m\u001b[1;33m\u001b[0m\u001b[0m\n\u001b[1;32m----> 4\u001b[1;33m \u001b[1;32mimport\u001b[0m \u001b[0mnatplotlib\u001b[0m\u001b[1;33m.\u001b[0m\u001b[0mpyplot\u001b[0m \u001b[1;32mas\u001b[0m \u001b[0mplt\u001b[0m\u001b[1;33m\u001b[0m\u001b[1;33m\u001b[0m\u001b[0m\n\u001b[0m",
      "\u001b[1;31mModuleNotFoundError\u001b[0m: No module named 'natplotlib'"
     ]
    }
   ],
   "source": [
    "# Import the packages that we will be using\n",
    "import pandas as pd\n",
    "import seaborn as sns\n",
    "import natplotlib.pyplot as plt"
   ]
  },
  {
   "cell_type": "markdown",
   "metadata": {},
   "source": [
    "# Importing data"
   ]
  },
  {
   "cell_type": "code",
   "execution_count": null,
   "metadata": {},
   "outputs": [],
   "source": [
    "# url string that hosts our .csv file\n",
    "ruta = \"datasets/cartwheel/cartwheel.csv\"\n",
    "\n",
    "# Read the .csv file and store it as a pandas Data Frame\n",
    "df = pd.read_csv(ruta)"
   ]
  },
  {
   "cell_type": "markdown",
   "metadata": {},
   "source": [
    "# Exploring the content of the data set\n",
    "\n",
    "Get a general 'feel' of the data\n"
   ]
  },
  {
   "cell_type": "code",
   "execution_count": null,
   "metadata": {},
   "outputs": [],
   "source": [
    "df.head(5)"
   ]
  },
  {
   "cell_type": "markdown",
   "metadata": {},
   "source": [
    "# Frequency tables\n",
    "\n",
    "The `value_counts()` method can be used to determine the number of times that each distinct value of a variable occurs in a data set.  In statistical terms, this is the \"frequency distribution\" of the variable. The `value_counts()` method produces a table with two columns.  The first column contains all distinct observed values for the variable.  The second column contains the number of times each of these values occurs.  Note that the table returned by `value_counts()` is actually a **Pandas** data frame, so can be further processed using any Pandas methods for working with data frames.\n"
   ]
  },
  {
   "cell_type": "code",
   "execution_count": null,
   "metadata": {},
   "outputs": [],
   "source": [
    "# Number of times that each distinct value of a variable occurs in a data set\n",
    "\n",
    "df.Complete.value_counts()"
   ]
  },
  {
   "cell_type": "code",
   "execution_count": null,
   "metadata": {},
   "outputs": [],
   "source": [
    "# Proportion of each distinct value of a variable occurs in a data set\n",
    "x = df.Complete.value_counts()\n",
    "proporcion = 100* x / x.sum()\n",
    "proporcion"
   ]
  },
  {
   "cell_type": "markdown",
   "metadata": {},
   "source": [
    "Note that the `value_counts()` method excludes missing values. We confirm this below by adding up observations to your data frame with some missing values and then computing `value_counts()` and comparing this to the total number of rows in the data set, which is 28. This tells us that there are 28 - (21+6) = 1 missing values for this variable (other variables may have different numbers of missing values)."
   ]
  },
  {
   "cell_type": "code",
   "execution_count": null,
   "metadata": {},
   "outputs": [],
   "source": [
    "# Total number of observations\n",
    "Nobs, Nvar = df.shape\n",
    "print(Nobs)\n",
    "\n",
    "# Total number of null observations\n",
    "NobsNull = df.Age.isnull().sum()\n",
    "print(NobsNull)\n",
    "\n",
    "# Total number of counts (excluding missing values)\n",
    "NobsNull = df.Age.notnull().sum()\n",
    "print(NobsNull)\n"
   ]
  },
  {
   "cell_type": "markdown",
   "metadata": {},
   "source": [
    "# Histogram\n",
    "\n",
    "It is often good to get a feel for the shape of the distribution of the data."
   ]
  },
  {
   "cell_type": "code",
   "execution_count": 80,
   "metadata": {},
   "outputs": [
    {
     "ename": "AttributeError",
     "evalue": "'FacetGrid' object has no attribute 'set_ylabel'",
     "output_type": "error",
     "traceback": [
      "\u001b[1;31m---------------------------------------------------------------------------\u001b[0m",
      "\u001b[1;31mAttributeError\u001b[0m                            Traceback (most recent call last)",
      "\u001b[1;32m<ipython-input-80-13ee823f88fb>\u001b[0m in \u001b[0;36m<module>\u001b[1;34m\u001b[0m\n\u001b[0;32m      1\u001b[0m \u001b[1;31m# Plot histogram of the total bill only\u001b[0m\u001b[1;33m\u001b[0m\u001b[1;33m\u001b[0m\u001b[1;33m\u001b[0m\u001b[0m\n\u001b[0;32m      2\u001b[0m \u001b[0mx\u001b[0m \u001b[1;33m=\u001b[0m \u001b[0msns\u001b[0m\u001b[1;33m.\u001b[0m\u001b[0mdisplot\u001b[0m\u001b[1;33m(\u001b[0m \u001b[0mdf\u001b[0m\u001b[1;33m[\u001b[0m\u001b[1;34m\"Height\"\u001b[0m\u001b[1;33m]\u001b[0m \u001b[1;33m,\u001b[0m \u001b[0mkde\u001b[0m\u001b[1;33m=\u001b[0m\u001b[1;32mFalse\u001b[0m\u001b[1;33m)\u001b[0m\u001b[1;33m\u001b[0m\u001b[1;33m\u001b[0m\u001b[0m\n\u001b[1;32m----> 3\u001b[1;33m \u001b[0mx\u001b[0m\u001b[1;33m.\u001b[0m\u001b[0mset_ylabel\u001b[0m\u001b[1;33m(\u001b[0m\u001b[1;34m\"Frequency\"\u001b[0m\u001b[1;33m)\u001b[0m\u001b[1;33m\u001b[0m\u001b[1;33m\u001b[0m\u001b[0m\n\u001b[0m\u001b[0;32m      4\u001b[0m \u001b[0mx\u001b[0m\u001b[1;33m.\u001b[0m\u001b[0mset_title\u001b[0m\u001b[1;33m(\u001b[0m\u001b[1;34m\"Histograma de la altura\"\u001b[0m\u001b[1;33m)\u001b[0m\u001b[1;33m\u001b[0m\u001b[1;33m\u001b[0m\u001b[0m\n\u001b[0;32m      5\u001b[0m \u001b[1;33m\u001b[0m\u001b[0m\n",
      "\u001b[1;31mAttributeError\u001b[0m: 'FacetGrid' object has no attribute 'set_ylabel'"
     ]
    },
    {
     "data": {
      "image/png": "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\n",
      "text/plain": [
       "<Figure size 360x360 with 1 Axes>"
      ]
     },
     "metadata": {
      "needs_background": "light"
     },
     "output_type": "display_data"
    }
   ],
   "source": [
    "# Plot histogram of the total bill only\n",
    "x = sns.displot( df[\"Height\"] , kde=False)\n",
    "x.set_ylabel(\"Frequency\")\n",
    "x.set_title(\"Histograma de la altura\")\n",
    "\n",
    "plt.show\n"
   ]
  },
  {
   "cell_type": "code",
   "execution_count": null,
   "metadata": {},
   "outputs": [],
   "source": [
    "# Plot distribution of the tips only\n",
    "\n"
   ]
  },
  {
   "cell_type": "code",
   "execution_count": null,
   "metadata": {},
   "outputs": [],
   "source": [
    "# Plot histogram of both the Age and the Wingspan\n",
    "\n"
   ]
  },
  {
   "cell_type": "markdown",
   "metadata": {},
   "source": [
    "# Histograms plotted by groups\n",
    "\n",
    "While looking at a single variable is interesting, it is often useful to see how a variable changes in response to another. Thus, we can create a histograms of one quantitative variable grouped by another categorical variables."
   ]
  },
  {
   "cell_type": "code",
   "execution_count": null,
   "metadata": {},
   "outputs": [],
   "source": [
    "# Create histograms of the \"Wingspan\" grouped by \"Gender\"\n",
    "\n",
    "\n"
   ]
  },
  {
   "cell_type": "markdown",
   "metadata": {},
   "source": [
    "# Boxplots\n",
    "\n",
    "Boxplots do not show the shape of the distribution, but they can give us a better idea about the center and spread of the distribution as well as any potential outliers that may exist. Boxplots and Histograms often complement each other and help an analyst get more information about the data"
   ]
  },
  {
   "cell_type": "code",
   "execution_count": 59,
   "metadata": {},
   "outputs": [],
   "source": [
    "# Create the boxplot of the \"total bill\" amounts\n",
    "\n"
   ]
  },
  {
   "cell_type": "code",
   "execution_count": 60,
   "metadata": {},
   "outputs": [],
   "source": [
    "# Create the boxplot of the \"tips\" amounts\n",
    "\n"
   ]
  },
  {
   "cell_type": "code",
   "execution_count": 61,
   "metadata": {},
   "outputs": [],
   "source": [
    "# Create the boxplots of the \"Wingspan\" and of the \"Height\" amounts\n",
    "\n"
   ]
  },
  {
   "cell_type": "code",
   "execution_count": 62,
   "metadata": {},
   "outputs": [],
   "source": [
    "# Create the boxplots of the \"Wingspan\" and of the \"tips\" amounts\n",
    "\n"
   ]
  },
  {
   "cell_type": "markdown",
   "metadata": {},
   "source": [
    "# Boxplots plotted by groups\n",
    "\n",
    "While looking at a single variable is interesting, it is often useful to see how a variable changes in response to another. Thus, we can create a side-by-side boxplots of one quantitative variable grouped by another categorical variables."
   ]
  },
  {
   "cell_type": "code",
   "execution_count": 63,
   "metadata": {},
   "outputs": [],
   "source": [
    "# Create side-by-side boxplots of the \"Height\" grouped by \"Gender\"\n",
    "\n"
   ]
  },
  {
   "cell_type": "markdown",
   "metadata": {},
   "source": [
    "# Histograms and boxplots plotted by groups\n",
    "\n",
    "We cal also create both boxplots and histograms of one quantitative variable grouped by another categorical variables\n"
   ]
  },
  {
   "cell_type": "code",
   "execution_count": 64,
   "metadata": {},
   "outputs": [],
   "source": [
    "# Create a boxplot and histogram of the \"tips\" grouped by \"Gender\"\n",
    "\n"
   ]
  },
  {
   "cell_type": "markdown",
   "metadata": {},
   "source": [
    "# Scatter plot\n",
    "\n",
    "Plot values of one variable versus another variable to see how they are correlated"
   ]
  },
  {
   "cell_type": "code",
   "execution_count": 65,
   "metadata": {},
   "outputs": [],
   "source": [
    "# scatter plot between two variables\n",
    "\n"
   ]
  },
  {
   "cell_type": "code",
   "execution_count": 66,
   "metadata": {},
   "outputs": [],
   "source": [
    "# scatter plot between two variables (one categorical)\n",
    "\n"
   ]
  },
  {
   "cell_type": "code",
   "execution_count": 67,
   "metadata": {},
   "outputs": [],
   "source": [
    "# scatter plot between two variables (one categorical)\n",
    "\n"
   ]
  },
  {
   "cell_type": "code",
   "execution_count": 68,
   "metadata": {},
   "outputs": [],
   "source": [
    "# scatter plot between two variables grouped according to a categorical variable\n",
    "\n"
   ]
  },
  {
   "cell_type": "code",
   "execution_count": 69,
   "metadata": {},
   "outputs": [],
   "source": [
    "# scatter plot between two variables grouped according to a categorical variable and with size of markers\n",
    "\n"
   ]
  },
  {
   "cell_type": "markdown",
   "metadata": {},
   "source": [
    "# Final remarks\n",
    "\n",
    "\n",
    "- Visualizing your data using **tables**, **histograms**, **boxplots**, **scatter plots** and other tools is essential to carry put analysis and extract conclusions\n",
    "\n",
    "- There are several ways to do the same thing\n",
    "\n",
    "- The **Seaborn** package provides visualisations tools that allow to explore data from a graphical perspective\n"
   ]
  },
  {
   "cell_type": "markdown",
   "metadata": {},
   "source": [
    "# Activity: work with the iris dataset\n",
    "\n",
    "Repeat this tutorial with the iris data set and respond to the following inquiries\n",
    "\n",
    "1. Plot the histograms for each of the four quantitative variables\n",
    "\n",
    "\n",
    "2. Plot the histograms for each of the quantitative variables\n",
    "\n",
    "\n",
    "3. Plot the boxplots for each of the quantitative variables\n",
    "\n",
    "\n",
    "4. Plot the boxplots of the petal width grouped by type of flower\n",
    "\n",
    "\n",
    "5. Plot the boxplots of the setal length grouped by type of flower\n",
    "\n",
    "\n",
    "6. Provide a description (explaination from your observations) of each of the quantitative variables\n"
   ]
  },
  {
   "cell_type": "code",
   "execution_count": null,
   "metadata": {},
   "outputs": [],
   "source": []
  }
 ],
 "metadata": {
  "kernelspec": {
   "display_name": "Python 3",
   "language": "python",
   "name": "python3"
  },
  "language_info": {
   "codemirror_mode": {
    "name": "ipython",
    "version": 3
   },
   "file_extension": ".py",
   "mimetype": "text/x-python",
   "name": "python",
   "nbconvert_exporter": "python",
   "pygments_lexer": "ipython3",
   "version": "3.8.8"
  }
 },
 "nbformat": 4,
 "nbformat_minor": 2
}
>>>>>>> 8d04a86a515daa0c6b0589aa969f67f48a4f62d1
