{
 "cells": [
  {
   "cell_type": "markdown",
   "id": "307c854a",
   "metadata": {
    "tags": []
   },
   "source": [
    "# Activity 1: Work with the IRIS Dataset\n",
    "Alexa Serrano Negrete\n",
    "\n",
    "1. Load the iris.csv file in your computer and compare with the data printed above.\n",
    "2. How many observations (rows) are in total?\n",
    "3. How many variables (columns) are in total? What do they represent?\n",
    "4. How many observations are for each type of flower? \n",
    "5. What is the type of data for each variable?\n",
    "6. What are the units of each variable?"
   ]
  },
  {
   "cell_type": "code",
   "execution_count": 30,
   "id": "fd2eb88c",
   "metadata": {},
   "outputs": [
    {
     "data": {
      "text/html": [
       "<div>\n",
       "<style scoped>\n",
       "    .dataframe tbody tr th:only-of-type {\n",
       "        vertical-align: middle;\n",
       "    }\n",
       "\n",
       "    .dataframe tbody tr th {\n",
       "        vertical-align: top;\n",
       "    }\n",
       "\n",
       "    .dataframe thead th {\n",
       "        text-align: right;\n",
       "    }\n",
       "</style>\n",
       "<table border=\"1\" class=\"dataframe\">\n",
       "  <thead>\n",
       "    <tr style=\"text-align: right;\">\n",
       "      <th></th>\n",
       "      <th>Sepal Length</th>\n",
       "      <th>Sepal Width</th>\n",
       "      <th>Petal Length</th>\n",
       "      <th>Petal Width</th>\n",
       "      <th>Class</th>\n",
       "    </tr>\n",
       "  </thead>\n",
       "  <tbody>\n",
       "    <tr>\n",
       "      <th>0</th>\n",
       "      <td>5.1</td>\n",
       "      <td>3.5</td>\n",
       "      <td>1.4</td>\n",
       "      <td>0.2</td>\n",
       "      <td>Iris-setosa</td>\n",
       "    </tr>\n",
       "    <tr>\n",
       "      <th>1</th>\n",
       "      <td>4.9</td>\n",
       "      <td>3.0</td>\n",
       "      <td>1.4</td>\n",
       "      <td>0.2</td>\n",
       "      <td>Iris-setosa</td>\n",
       "    </tr>\n",
       "    <tr>\n",
       "      <th>2</th>\n",
       "      <td>4.7</td>\n",
       "      <td>3.2</td>\n",
       "      <td>1.3</td>\n",
       "      <td>0.2</td>\n",
       "      <td>Iris-setosa</td>\n",
       "    </tr>\n",
       "    <tr>\n",
       "      <th>3</th>\n",
       "      <td>4.6</td>\n",
       "      <td>3.1</td>\n",
       "      <td>1.5</td>\n",
       "      <td>0.2</td>\n",
       "      <td>Iris-setosa</td>\n",
       "    </tr>\n",
       "    <tr>\n",
       "      <th>4</th>\n",
       "      <td>5.0</td>\n",
       "      <td>3.6</td>\n",
       "      <td>1.4</td>\n",
       "      <td>0.2</td>\n",
       "      <td>Iris-setosa</td>\n",
       "    </tr>\n",
       "    <tr>\n",
       "      <th>...</th>\n",
       "      <td>...</td>\n",
       "      <td>...</td>\n",
       "      <td>...</td>\n",
       "      <td>...</td>\n",
       "      <td>...</td>\n",
       "    </tr>\n",
       "    <tr>\n",
       "      <th>145</th>\n",
       "      <td>6.7</td>\n",
       "      <td>3.0</td>\n",
       "      <td>5.2</td>\n",
       "      <td>2.3</td>\n",
       "      <td>Iris-virginica</td>\n",
       "    </tr>\n",
       "    <tr>\n",
       "      <th>146</th>\n",
       "      <td>6.3</td>\n",
       "      <td>2.5</td>\n",
       "      <td>5.0</td>\n",
       "      <td>1.9</td>\n",
       "      <td>Iris-virginica</td>\n",
       "    </tr>\n",
       "    <tr>\n",
       "      <th>147</th>\n",
       "      <td>6.5</td>\n",
       "      <td>3.0</td>\n",
       "      <td>5.2</td>\n",
       "      <td>2.0</td>\n",
       "      <td>Iris-virginica</td>\n",
       "    </tr>\n",
       "    <tr>\n",
       "      <th>148</th>\n",
       "      <td>6.2</td>\n",
       "      <td>3.4</td>\n",
       "      <td>5.4</td>\n",
       "      <td>2.3</td>\n",
       "      <td>Iris-virginica</td>\n",
       "    </tr>\n",
       "    <tr>\n",
       "      <th>149</th>\n",
       "      <td>5.9</td>\n",
       "      <td>3.0</td>\n",
       "      <td>5.1</td>\n",
       "      <td>1.8</td>\n",
       "      <td>Iris-virginica</td>\n",
       "    </tr>\n",
       "  </tbody>\n",
       "</table>\n",
       "<p>150 rows × 5 columns</p>\n",
       "</div>"
      ],
      "text/plain": [
       "     Sepal Length  Sepal Width  Petal Length  Petal Width           Class\n",
       "0             5.1          3.5           1.4          0.2     Iris-setosa\n",
       "1             4.9          3.0           1.4          0.2     Iris-setosa\n",
       "2             4.7          3.2           1.3          0.2     Iris-setosa\n",
       "3             4.6          3.1           1.5          0.2     Iris-setosa\n",
       "4             5.0          3.6           1.4          0.2     Iris-setosa\n",
       "..            ...          ...           ...          ...             ...\n",
       "145           6.7          3.0           5.2          2.3  Iris-virginica\n",
       "146           6.3          2.5           5.0          1.9  Iris-virginica\n",
       "147           6.5          3.0           5.2          2.0  Iris-virginica\n",
       "148           6.2          3.4           5.4          2.3  Iris-virginica\n",
       "149           5.9          3.0           5.1          1.8  Iris-virginica\n",
       "\n",
       "[150 rows x 5 columns]"
      ]
     },
     "execution_count": 30,
     "metadata": {},
     "output_type": "execute_result"
    }
   ],
   "source": [
    "#1. Load .csv file and compare to cartwheel\n",
    "import pandas as pd\n",
    "route = \"datasets/iris/iris.csv\"\n",
    "dataset = pd.read_csv(route, header = None)\n",
    "dataset = dataset.rename(columns = {0 : \"Sepal Length\", 1 : \"Sepal Width\", 2 : \"Petal Length\", 3 : \"Petal Width\", 4 : \"Class\"})\n",
    "dataset"
   ]
  },
  {
   "cell_type": "code",
   "execution_count": 31,
   "id": "cb948c89",
   "metadata": {},
   "outputs": [
    {
     "name": "stdout",
     "output_type": "stream",
     "text": [
      "rows:  150\n"
     ]
    }
   ],
   "source": [
    "#2. How many rows are there in total?\n",
    "numRows, numCol = dataset.shape\n",
    "print(\"rows: \", numRows)"
   ]
  },
  {
   "cell_type": "code",
   "execution_count": 32,
   "id": "9f94e261",
   "metadata": {},
   "outputs": [
    {
     "name": "stdout",
     "output_type": "stream",
     "text": [
      "columns:  5\n"
     ]
    }
   ],
   "source": [
    "#3. How many columns are there in total? What do they represent?\n",
    "print(\"columns: \", numCol)"
   ]
  },
  {
   "cell_type": "code",
   "execution_count": 33,
   "id": "e3101f9c",
   "metadata": {},
   "outputs": [
    {
     "name": "stdout",
     "output_type": "stream",
     "text": [
      "Sepal Length  Sepal Width  Petal Length  Petal Width  Class          \n",
      "5.8           2.7          5.1           1.9          Iris-virginica     2\n",
      "7.9           3.8          6.4           2.0          Iris-virginica     1\n",
      "5.4           3.0          4.5           1.5          Iris-versicolor    1\n",
      "5.5           2.4          3.7           1.0          Iris-versicolor    1\n",
      "              2.3          4.0           1.3          Iris-versicolor    1\n",
      "                                                                        ..\n",
      "6.3           2.5          4.9           1.5          Iris-versicolor    1\n",
      "              2.3          4.4           1.3          Iris-versicolor    1\n",
      "6.2           3.4          5.4           2.3          Iris-virginica     1\n",
      "              2.9          4.3           1.3          Iris-versicolor    1\n",
      "4.3           3.0          1.1           0.1          Iris-setosa        1\n",
      "Length: 149, dtype: int64\n"
     ]
    }
   ],
   "source": [
    "#4. How many observations are for each type of flower? \n",
    "print(dataset.value_counts())"
   ]
  },
  {
   "cell_type": "markdown",
   "id": "aaa9216d",
   "metadata": {},
   "source": [
    "#5. What is the type of data for each variable?\n",
    "ANS: 4 floats, 1 string"
   ]
  },
  {
   "cell_type": "markdown",
   "id": "fc2fe8b6",
   "metadata": {},
   "source": [
    "#6. What are the units of each variable?\n",
    "#R: The floats are in cm, and the string has no units"
   ]
  },
  {
   "cell_type": "code",
   "execution_count": null,
   "id": "97c74399",
   "metadata": {},
   "outputs": [],
   "source": []
  },
  {
   "cell_type": "code",
   "execution_count": null,
   "id": "dd0792a1",
   "metadata": {},
   "outputs": [],
   "source": []
  },
  {
   "cell_type": "code",
   "execution_count": null,
   "id": "a994c161",
   "metadata": {},
   "outputs": [],
   "source": []
  }
 ],
 "metadata": {
  "kernelspec": {
   "display_name": "Python 3 (ipykernel)",
   "language": "python",
   "name": "python3"
  },
  "language_info": {
   "codemirror_mode": {
    "name": "ipython",
    "version": 3
   },
   "file_extension": ".py",
   "mimetype": "text/x-python",
   "name": "python",
   "nbconvert_exporter": "python",
   "pygments_lexer": "ipython3",
   "version": "3.9.7"
  }
 },
 "nbformat": 4,
 "nbformat_minor": 5
}
