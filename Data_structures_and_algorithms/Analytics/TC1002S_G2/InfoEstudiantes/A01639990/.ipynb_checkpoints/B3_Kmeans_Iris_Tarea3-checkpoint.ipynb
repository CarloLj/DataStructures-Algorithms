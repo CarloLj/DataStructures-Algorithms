{
 "cells": [
  {
   "cell_type": "markdown",
   "id": "99d53ce5",
   "metadata": {},
   "source": [
    "# K-means clustering"
   ]
  },
  {
   "cell_type": "code",
   "execution_count": null,
   "id": "bd3ca20a",
   "metadata": {},
   "outputs": [],
   "source": [
    "Natalia Rodríguez González A01639990"
   ]
  },
  {
   "cell_type": "markdown",
   "id": "e066072e",
   "metadata": {},
   "source": [
    "# Importing libraries"
   ]
  },
  {
   "cell_type": "code",
   "execution_count": 8,
   "id": "9664408b",
   "metadata": {},
   "outputs": [],
   "source": [
    "# Import the packages that we will be using\n",
    "import pandas as pd                 # For data handling\n",
    "import seaborn as sns               # For advanced plotting\n",
    "import matplotlib.pyplot as plt     # For showing plots\n",
    "\n",
    "# Note: specific functions of the \"sklearn\" package will be imported when needed to show concepts easily"
   ]
  },
  {
   "cell_type": "markdown",
   "id": "459615d8",
   "metadata": {},
   "source": [
    "# Importing data"
   ]
  },
  {
   "cell_type": "code",
   "execution_count": 9,
   "id": "c920a248",
   "metadata": {},
   "outputs": [],
   "source": [
    "# url string that hosts our .csv file\n",
    "url = \"datasets/iris/iris.csv\"\n",
    "\n",
    "# Read the .csv file and store it as a pandas Data Frame\n",
    "dataset1 = pd.read_csv(url)\n",
    "dataset2 = pd.read_csv(url)\n",
    "dataset3 = pd.read_csv(url)\n",
    "dataset1.columns=[\"Sepal_length_in_cm\",\"Sepal_width_in_cm\", \"Petal_length_in_cm\", \"Petal_width_in_cm\", \"Class\"]\n",
    "dataset2.columns=[\"Sepal_length_in_cm\",\"Sepal_width_in_cm\", \"Petal_length_in_cm\", \"Petal_width_in_cm\", \"Class\"]\n",
    "dataset3.columns=[\"Sepal_length_in_cm\",\"Sepal_width_in_cm\", \"Petal_length_in_cm\", \"Petal_width_in_cm\", \"Class\"]"
   ]
  },
  {
   "cell_type": "markdown",
   "id": "b66bb148",
   "metadata": {},
   "source": [
    "# Undertanding and preprocessing the data"
   ]
  },
  {
   "cell_type": "code",
   "execution_count": 10,
   "id": "92f2cb4c",
   "metadata": {},
   "outputs": [
    {
     "name": "stdout",
     "output_type": "stream",
     "text": [
      "(149, 5)\n"
     ]
    },
    {
     "data": {
      "text/html": [
       "<div>\n",
       "<style scoped>\n",
       "    .dataframe tbody tr th:only-of-type {\n",
       "        vertical-align: middle;\n",
       "    }\n",
       "\n",
       "    .dataframe tbody tr th {\n",
       "        vertical-align: top;\n",
       "    }\n",
       "\n",
       "    .dataframe thead th {\n",
       "        text-align: right;\n",
       "    }\n",
       "</style>\n",
       "<table border=\"1\" class=\"dataframe\">\n",
       "  <thead>\n",
       "    <tr style=\"text-align: right;\">\n",
       "      <th></th>\n",
       "      <th>Sepal_length_in_cm</th>\n",
       "      <th>Sepal_width_in_cm</th>\n",
       "      <th>Petal_length_in_cm</th>\n",
       "      <th>Petal_width_in_cm</th>\n",
       "      <th>Class</th>\n",
       "    </tr>\n",
       "  </thead>\n",
       "  <tbody>\n",
       "    <tr>\n",
       "      <th>0</th>\n",
       "      <td>4.9</td>\n",
       "      <td>3.0</td>\n",
       "      <td>1.4</td>\n",
       "      <td>0.2</td>\n",
       "      <td>Iris-setosa</td>\n",
       "    </tr>\n",
       "    <tr>\n",
       "      <th>1</th>\n",
       "      <td>4.7</td>\n",
       "      <td>3.2</td>\n",
       "      <td>1.3</td>\n",
       "      <td>0.2</td>\n",
       "      <td>Iris-setosa</td>\n",
       "    </tr>\n",
       "    <tr>\n",
       "      <th>2</th>\n",
       "      <td>4.6</td>\n",
       "      <td>3.1</td>\n",
       "      <td>1.5</td>\n",
       "      <td>0.2</td>\n",
       "      <td>Iris-setosa</td>\n",
       "    </tr>\n",
       "    <tr>\n",
       "      <th>3</th>\n",
       "      <td>5.0</td>\n",
       "      <td>3.6</td>\n",
       "      <td>1.4</td>\n",
       "      <td>0.2</td>\n",
       "      <td>Iris-setosa</td>\n",
       "    </tr>\n",
       "    <tr>\n",
       "      <th>4</th>\n",
       "      <td>5.4</td>\n",
       "      <td>3.9</td>\n",
       "      <td>1.7</td>\n",
       "      <td>0.4</td>\n",
       "      <td>Iris-setosa</td>\n",
       "    </tr>\n",
       "  </tbody>\n",
       "</table>\n",
       "</div>"
      ],
      "text/plain": [
       "   Sepal_length_in_cm  Sepal_width_in_cm  Petal_length_in_cm  \\\n",
       "0                 4.9                3.0                 1.4   \n",
       "1                 4.7                3.2                 1.3   \n",
       "2                 4.6                3.1                 1.5   \n",
       "3                 5.0                3.6                 1.4   \n",
       "4                 5.4                3.9                 1.7   \n",
       "\n",
       "   Petal_width_in_cm        Class  \n",
       "0                0.2  Iris-setosa  \n",
       "1                0.2  Iris-setosa  \n",
       "2                0.2  Iris-setosa  \n",
       "3                0.2  Iris-setosa  \n",
       "4                0.4  Iris-setosa  "
      ]
     },
     "execution_count": 10,
     "metadata": {},
     "output_type": "execute_result"
    }
   ],
   "source": [
    "print(dataset1.shape)\n",
    "\n",
    "dataset1.head()"
   ]
  },
  {
   "cell_type": "code",
   "execution_count": 11,
   "id": "7a99c12d",
   "metadata": {},
   "outputs": [
    {
     "name": "stdout",
     "output_type": "stream",
     "text": [
      "(149, 5)\n"
     ]
    }
   ],
   "source": [
    "#Drop rows with any missing values\n",
    "dataset1 = dataset1.dropna()\n",
    "\n",
    "print(dataset1.shape)"
   ]
  },
  {
   "cell_type": "code",
   "execution_count": 12,
   "id": "3fae74ee",
   "metadata": {},
   "outputs": [
    {
     "data": {
      "text/html": [
       "<div>\n",
       "<style scoped>\n",
       "    .dataframe tbody tr th:only-of-type {\n",
       "        vertical-align: middle;\n",
       "    }\n",
       "\n",
       "    .dataframe tbody tr th {\n",
       "        vertical-align: top;\n",
       "    }\n",
       "\n",
       "    .dataframe thead th {\n",
       "        text-align: right;\n",
       "    }\n",
       "</style>\n",
       "<table border=\"1\" class=\"dataframe\">\n",
       "  <thead>\n",
       "    <tr style=\"text-align: right;\">\n",
       "      <th></th>\n",
       "      <th>Sepal_length_in_cm</th>\n",
       "      <th>Sepal_width_in_cm</th>\n",
       "      <th>Petal_length_in_cm</th>\n",
       "      <th>Petal_width_in_cm</th>\n",
       "      <th>Class</th>\n",
       "    </tr>\n",
       "  </thead>\n",
       "  <tbody>\n",
       "    <tr>\n",
       "      <th>0</th>\n",
       "      <td>4.9</td>\n",
       "      <td>3.0</td>\n",
       "      <td>1.4</td>\n",
       "      <td>0.2</td>\n",
       "      <td>0</td>\n",
       "    </tr>\n",
       "    <tr>\n",
       "      <th>1</th>\n",
       "      <td>4.7</td>\n",
       "      <td>3.2</td>\n",
       "      <td>1.3</td>\n",
       "      <td>0.2</td>\n",
       "      <td>0</td>\n",
       "    </tr>\n",
       "    <tr>\n",
       "      <th>2</th>\n",
       "      <td>4.6</td>\n",
       "      <td>3.1</td>\n",
       "      <td>1.5</td>\n",
       "      <td>0.2</td>\n",
       "      <td>0</td>\n",
       "    </tr>\n",
       "    <tr>\n",
       "      <th>3</th>\n",
       "      <td>5.0</td>\n",
       "      <td>3.6</td>\n",
       "      <td>1.4</td>\n",
       "      <td>0.2</td>\n",
       "      <td>0</td>\n",
       "    </tr>\n",
       "    <tr>\n",
       "      <th>4</th>\n",
       "      <td>5.4</td>\n",
       "      <td>3.9</td>\n",
       "      <td>1.7</td>\n",
       "      <td>0.4</td>\n",
       "      <td>0</td>\n",
       "    </tr>\n",
       "    <tr>\n",
       "      <th>...</th>\n",
       "      <td>...</td>\n",
       "      <td>...</td>\n",
       "      <td>...</td>\n",
       "      <td>...</td>\n",
       "      <td>...</td>\n",
       "    </tr>\n",
       "    <tr>\n",
       "      <th>144</th>\n",
       "      <td>6.7</td>\n",
       "      <td>3.0</td>\n",
       "      <td>5.2</td>\n",
       "      <td>2.3</td>\n",
       "      <td>2</td>\n",
       "    </tr>\n",
       "    <tr>\n",
       "      <th>145</th>\n",
       "      <td>6.3</td>\n",
       "      <td>2.5</td>\n",
       "      <td>5.0</td>\n",
       "      <td>1.9</td>\n",
       "      <td>2</td>\n",
       "    </tr>\n",
       "    <tr>\n",
       "      <th>146</th>\n",
       "      <td>6.5</td>\n",
       "      <td>3.0</td>\n",
       "      <td>5.2</td>\n",
       "      <td>2.0</td>\n",
       "      <td>2</td>\n",
       "    </tr>\n",
       "    <tr>\n",
       "      <th>147</th>\n",
       "      <td>6.2</td>\n",
       "      <td>3.4</td>\n",
       "      <td>5.4</td>\n",
       "      <td>2.3</td>\n",
       "      <td>2</td>\n",
       "    </tr>\n",
       "    <tr>\n",
       "      <th>148</th>\n",
       "      <td>5.9</td>\n",
       "      <td>3.0</td>\n",
       "      <td>5.1</td>\n",
       "      <td>1.8</td>\n",
       "      <td>2</td>\n",
       "    </tr>\n",
       "  </tbody>\n",
       "</table>\n",
       "<p>149 rows × 5 columns</p>\n",
       "</div>"
      ],
      "text/plain": [
       "     Sepal_length_in_cm  Sepal_width_in_cm  Petal_length_in_cm  \\\n",
       "0                   4.9                3.0                 1.4   \n",
       "1                   4.7                3.2                 1.3   \n",
       "2                   4.6                3.1                 1.5   \n",
       "3                   5.0                3.6                 1.4   \n",
       "4                   5.4                3.9                 1.7   \n",
       "..                  ...                ...                 ...   \n",
       "144                 6.7                3.0                 5.2   \n",
       "145                 6.3                2.5                 5.0   \n",
       "146                 6.5                3.0                 5.2   \n",
       "147                 6.2                3.4                 5.4   \n",
       "148                 5.9                3.0                 5.1   \n",
       "\n",
       "     Petal_width_in_cm  Class  \n",
       "0                  0.2      0  \n",
       "1                  0.2      0  \n",
       "2                  0.2      0  \n",
       "3                  0.2      0  \n",
       "4                  0.4      0  \n",
       "..                 ...    ...  \n",
       "144                2.3      2  \n",
       "145                1.9      2  \n",
       "146                2.0      2  \n",
       "147                2.3      2  \n",
       "148                1.8      2  \n",
       "\n",
       "[149 rows x 5 columns]"
      ]
     },
     "execution_count": 12,
     "metadata": {},
     "output_type": "execute_result"
    }
   ],
   "source": [
    "#Encoding the class label categorical column: from string to num\n",
    "# Encoding the categorical column\n",
    "dataset1 = dataset1.replace({\"Class\":  {\"Iris-setosa\":0, \"Iris-versicolor\":1, \"Iris-virginica\":2} })\n",
    "dataset2 = dataset2.replace({\"Class\":  {\"Iris-setosa\":0, \"Iris-versicolor\":1, \"Iris-virginica\":2} })\n",
    "dataset3 = dataset3.replace({\"Class\":  {\"Iris-setosa\":0, \"Iris-versicolor\":1, \"Iris-virginica\":2} })\n",
    "\n",
    "#Visualize the dataset\n",
    "dataset1\n",
    "\n",
    "# Note: this is not neesary for the cartwheel dataset, but it going to be very usefull for the Iris dataset"
   ]
  },
  {
   "cell_type": "code",
   "execution_count": 13,
   "id": "f7e8ea54",
   "metadata": {},
   "outputs": [
    {
     "data": {
      "text/html": [
       "<div>\n",
       "<style scoped>\n",
       "    .dataframe tbody tr th:only-of-type {\n",
       "        vertical-align: middle;\n",
       "    }\n",
       "\n",
       "    .dataframe tbody tr th {\n",
       "        vertical-align: top;\n",
       "    }\n",
       "\n",
       "    .dataframe thead th {\n",
       "        text-align: right;\n",
       "    }\n",
       "</style>\n",
       "<table border=\"1\" class=\"dataframe\">\n",
       "  <thead>\n",
       "    <tr style=\"text-align: right;\">\n",
       "      <th></th>\n",
       "      <th>Petal_length_in_cm</th>\n",
       "      <th>Petal_width_in_cm</th>\n",
       "      <th>Class</th>\n",
       "    </tr>\n",
       "  </thead>\n",
       "  <tbody>\n",
       "    <tr>\n",
       "      <th>0</th>\n",
       "      <td>1.4</td>\n",
       "      <td>0.2</td>\n",
       "      <td>0</td>\n",
       "    </tr>\n",
       "    <tr>\n",
       "      <th>1</th>\n",
       "      <td>1.3</td>\n",
       "      <td>0.2</td>\n",
       "      <td>0</td>\n",
       "    </tr>\n",
       "    <tr>\n",
       "      <th>2</th>\n",
       "      <td>1.5</td>\n",
       "      <td>0.2</td>\n",
       "      <td>0</td>\n",
       "    </tr>\n",
       "    <tr>\n",
       "      <th>3</th>\n",
       "      <td>1.4</td>\n",
       "      <td>0.2</td>\n",
       "      <td>0</td>\n",
       "    </tr>\n",
       "    <tr>\n",
       "      <th>4</th>\n",
       "      <td>1.7</td>\n",
       "      <td>0.4</td>\n",
       "      <td>0</td>\n",
       "    </tr>\n",
       "    <tr>\n",
       "      <th>...</th>\n",
       "      <td>...</td>\n",
       "      <td>...</td>\n",
       "      <td>...</td>\n",
       "    </tr>\n",
       "    <tr>\n",
       "      <th>144</th>\n",
       "      <td>5.2</td>\n",
       "      <td>2.3</td>\n",
       "      <td>2</td>\n",
       "    </tr>\n",
       "    <tr>\n",
       "      <th>145</th>\n",
       "      <td>5.0</td>\n",
       "      <td>1.9</td>\n",
       "      <td>2</td>\n",
       "    </tr>\n",
       "    <tr>\n",
       "      <th>146</th>\n",
       "      <td>5.2</td>\n",
       "      <td>2.0</td>\n",
       "      <td>2</td>\n",
       "    </tr>\n",
       "    <tr>\n",
       "      <th>147</th>\n",
       "      <td>5.4</td>\n",
       "      <td>2.3</td>\n",
       "      <td>2</td>\n",
       "    </tr>\n",
       "    <tr>\n",
       "      <th>148</th>\n",
       "      <td>5.1</td>\n",
       "      <td>1.8</td>\n",
       "      <td>2</td>\n",
       "    </tr>\n",
       "  </tbody>\n",
       "</table>\n",
       "<p>149 rows × 3 columns</p>\n",
       "</div>"
      ],
      "text/plain": [
       "     Petal_length_in_cm  Petal_width_in_cm  Class\n",
       "0                   1.4                0.2      0\n",
       "1                   1.3                0.2      0\n",
       "2                   1.5                0.2      0\n",
       "3                   1.4                0.2      0\n",
       "4                   1.7                0.4      0\n",
       "..                  ...                ...    ...\n",
       "144                 5.2                2.3      2\n",
       "145                 5.0                1.9      2\n",
       "146                 5.2                2.0      2\n",
       "147                 5.4                2.3      2\n",
       "148                 5.1                1.8      2\n",
       "\n",
       "[149 rows x 3 columns]"
      ]
     },
     "execution_count": 13,
     "metadata": {},
     "output_type": "execute_result"
    }
   ],
   "source": [
    "#Discard columns that won't be used\n",
    "# Drop out non necesary columns\n",
    "dataset1.drop(['Sepal_length_in_cm', 'Sepal_width_in_cm'],axis='columns',inplace=True)\n",
    "dataset2.drop(['Petal_length_in_cm', 'Petal_width_in_cm'],axis='columns',inplace=True)\n",
    "\n",
    "#Visualize the dataset\n",
    "dataset1"
   ]
  },
  {
   "cell_type": "code",
   "execution_count": 14,
   "id": "386603f8",
   "metadata": {},
   "outputs": [
    {
     "data": {
      "image/png": "[encoded data removed]",
      "text/plain": [
       "<Figure size 432x288 with 1 Axes>"
      ]
     },
     "metadata": {
      "needs_background": "light"
     },
     "output_type": "display_data"
    }
   ],
   "source": [
    "#Scatter plot of the data\n",
    "plt.scatter(dataset1.Petal_length_in_cm,dataset1.Petal_width_in_cm)\n",
    "plt.title('Petal length in cm vs Petal width in cm')\n",
    "plt.xlabel('Petal length in cm')\n",
    "plt.ylabel('Petal width in cm')\n",
    "plt.show()"
   ]
  },
  {
   "cell_type": "code",
   "execution_count": 15,
   "id": "9a12dfa6",
   "metadata": {},
   "outputs": [
    {
     "data": {
      "image/png": "[encoded data removed]",
      "text/plain": [
       "<Figure size 432x288 with 1 Axes>"
      ]
     },
     "metadata": {
      "needs_background": "light"
     },
     "output_type": "display_data"
    }
   ],
   "source": [
    "#Scatter plot of the data\n",
    "plt.scatter(dataset2.Sepal_length_in_cm,dataset2.Sepal_width_in_cm)\n",
    "plt.title('Sepal length in cm vs Sepal width in cm')\n",
    "plt.xlabel('Sepal length in cm')\n",
    "plt.ylabel('Sepal width in cm')\n",
    "plt.show()"
   ]
  },
  {
   "cell_type": "code",
   "execution_count": 17,
   "id": "4aa0db39",
   "metadata": {},
   "outputs": [
    {
     "data": {
      "image/png": "[encoded data removed]",
      "text/plain": [
       "<Figure size 432x288 with 1 Axes>"
      ]
     },
     "metadata": {
      "needs_background": "light"
     },
     "output_type": "display_data"
    }
   ],
   "source": [
    "plt.scatter(dataset3.Sepal_length_in_cm,dataset3.Sepal_width_in_cm, dataset3.Petal_length_in_cm,dataset3.Petal_width_in_cm)\n",
    "plt.title('Sepal length in cm vs Sepal width in cm vs Petal length in cm vs Petal width in cm ')\n",
    "plt.show()"
   ]
  },
  {
   "cell_type": "code",
   "execution_count": 18,
   "id": "ac169141",
   "metadata": {},
   "outputs": [
    {
     "name": "stderr",
     "output_type": "stream",
     "text": [
      "<ipython-input-18-9a17c1310be8>:6: MatplotlibDeprecationWarning: Case-insensitive properties were deprecated in 3.3 and support will be removed two minor releases later\n",
      "  plt.scatter(df1.Petal_length_in_cm, df1.Petal_width_in_cm, Label='Class 0')\n",
      "<ipython-input-18-9a17c1310be8>:7: MatplotlibDeprecationWarning: Case-insensitive properties were deprecated in 3.3 and support will be removed two minor releases later\n",
      "  plt.scatter(df2.Petal_length_in_cm, df2.Petal_width_in_cm, Label='Class 1')\n",
      "<ipython-input-18-9a17c1310be8>:8: MatplotlibDeprecationWarning: Case-insensitive properties were deprecated in 3.3 and support will be removed two minor releases later\n",
      "  plt.scatter(df3.Petal_length_in_cm, df3.Petal_width_in_cm, Label='Class 2')\n"
     ]
    },
    {
     "data": {
      "image/png": "[encoded data removed]",
      "text/plain": [
       "<Figure size 432x288 with 1 Axes>"
      ]
     },
     "metadata": {
      "needs_background": "light"
     },
     "output_type": "display_data"
    }
   ],
   "source": [
    "#Scatter plot of the data asigning each point to the cluster it belongs to ¡¡\n",
    "df1 = dataset1[dataset1.Class==0]\n",
    "df2 = dataset1[dataset1.Class==1]\n",
    "df3 = dataset1[dataset1.Class==2]\n",
    "\n",
    "plt.scatter(df1.Petal_length_in_cm, df1.Petal_width_in_cm, Label='Class 0')\n",
    "plt.scatter(df2.Petal_length_in_cm, df2.Petal_width_in_cm, Label='Class 1')\n",
    "plt.scatter(df3.Petal_length_in_cm, df3.Petal_width_in_cm, Label='Class 2')\n",
    "\n",
    "plt.title('Petal length in cm vs Petal width in cm')\n",
    "plt.xlabel('Petal length in cm')\n",
    "plt.ylabel('Petal width in cm')\n",
    "plt.legend()\n",
    "plt.show()"
   ]
  },
  {
   "cell_type": "code",
   "execution_count": 20,
   "id": "83eb28d9",
   "metadata": {},
   "outputs": [
    {
     "name": "stderr",
     "output_type": "stream",
     "text": [
      "<ipython-input-20-4cbc6db694e6>:6: MatplotlibDeprecationWarning: Case-insensitive properties were deprecated in 3.3 and support will be removed two minor releases later\n",
      "  plt.scatter(df21.Sepal_length_in_cm, df21.Sepal_width_in_cm, Label='Class 0')\n",
      "<ipython-input-20-4cbc6db694e6>:7: MatplotlibDeprecationWarning: Case-insensitive properties were deprecated in 3.3 and support will be removed two minor releases later\n",
      "  plt.scatter(df22.Sepal_length_in_cm, df22.Sepal_width_in_cm, Label='Class 1')\n",
      "<ipython-input-20-4cbc6db694e6>:8: MatplotlibDeprecationWarning: Case-insensitive properties were deprecated in 3.3 and support will be removed two minor releases later\n",
      "  plt.scatter(df23.Sepal_length_in_cm, df23.Sepal_width_in_cm, Label='Class 2')\n"
     ]
    },
    {
     "data": {
      "image/png": "[encoded data removed]",
      "text/plain": [
       "<Figure size 432x288 with 1 Axes>"
      ]
     },
     "metadata": {
      "needs_background": "light"
     },
     "output_type": "display_data"
    }
   ],
   "source": [
    "#Scatter plot of the data asigning each point to the cluster it belongs to ¡¡\n",
    "df21 = dataset2[dataset2.Class==0]\n",
    "df22 = dataset2[dataset2.Class==1]\n",
    "df23 = dataset2[dataset2.Class==2]\n",
    "\n",
    "plt.scatter(df21.Sepal_length_in_cm, df21.Sepal_width_in_cm, Label='Class 0')\n",
    "plt.scatter(df22.Sepal_length_in_cm, df22.Sepal_width_in_cm, Label='Class 1')\n",
    "plt.scatter(df23.Sepal_length_in_cm, df23.Sepal_width_in_cm, Label='Class 2')\n",
    "\n",
    "plt.title('Sepal length in cm vs Sepal width in cm')\n",
    "plt.xlabel('Sepal length in cm')\n",
    "plt.ylabel('Sepal width in cm')\n",
    "plt.legend()\n",
    "plt.show()"
   ]
  },
  {
   "cell_type": "code",
   "execution_count": 26,
   "id": "70bcdf01",
   "metadata": {},
   "outputs": [
    {
     "name": "stderr",
     "output_type": "stream",
     "text": [
      "<ipython-input-26-8113774d3729>:5: MatplotlibDeprecationWarning: Case-insensitive properties were deprecated in 3.3 and support will be removed two minor releases later\n",
      "  plt.scatter(df31.Sepal_length_in_cm, df31.Sepal_width_in_cm, df31.Petal_length_in_cm, df31.Petal_width_in_cm, Label='Class 0')\n",
      "<ipython-input-26-8113774d3729>:6: MatplotlibDeprecationWarning: Case-insensitive properties were deprecated in 3.3 and support will be removed two minor releases later\n",
      "  plt.scatter(df32.Sepal_length_in_cm, df32.Sepal_width_in_cm, df32.Petal_length_in_cm, df32.Petal_width_in_cm, Label='Class 1')\n",
      "<ipython-input-26-8113774d3729>:7: MatplotlibDeprecationWarning: Case-insensitive properties were deprecated in 3.3 and support will be removed two minor releases later\n",
      "  plt.scatter(df33.Sepal_length_in_cm, df33.Sepal_width_in_cm, df33.Petal_length_in_cm, df33.Petal_width_in_cm,Label='Class 2')\n"
     ]
    },
    {
     "data": {
      "image/png": "[encoded data removed]",
      "text/plain": [
       "<Figure size 432x288 with 1 Axes>"
      ]
     },
     "metadata": {
      "needs_background": "light"
     },
     "output_type": "display_data"
    }
   ],
   "source": [
    "df31 = dataset3[dataset3.Class==0]\n",
    "df32 = dataset3[dataset3.Class==1]\n",
    "df33 = dataset3[dataset3.Class==2]\n",
    "\n",
    "plt.scatter(df31.Sepal_length_in_cm, df31.Sepal_width_in_cm, df31.Petal_length_in_cm, df31.Petal_width_in_cm, Label='Class 0')\n",
    "plt.scatter(df32.Sepal_length_in_cm, df32.Sepal_width_in_cm, df32.Petal_length_in_cm, df32.Petal_width_in_cm, Label='Class 1')\n",
    "plt.scatter(df33.Sepal_length_in_cm, df33.Sepal_width_in_cm, df33.Petal_length_in_cm, df33.Petal_width_in_cm,Label='Class 2')\n",
    "\n",
    "plt.title('Sepal length in cm vs Sepal width in cm vs Petal length in cm vs Petal width in cm')\n",
    "plt.legend()\n",
    "plt.show()"
   ]
  },
  {
   "cell_type": "markdown",
   "id": "dcac29f0",
   "metadata": {},
   "source": [
    "# Kmeans clustering"
   ]
  },
  {
   "cell_type": "code",
   "execution_count": 34,
   "id": "d640d6f5",
   "metadata": {},
   "outputs": [
    {
     "data": {
      "text/plain": [
       "array([0, 0, 0, 0, 0, 0, 0, 0, 0, 0, 0, 0, 0, 0, 0, 0, 0, 0, 0, 0, 0, 0,\n",
       "       0, 0, 0, 0, 0, 0, 0, 0, 0, 0, 0, 0, 0, 0, 0, 0, 0, 0, 0, 0, 0, 0,\n",
       "       0, 0, 0, 0, 0, 2, 2, 2, 2, 2, 2, 2, 2, 2, 2, 2, 2, 2, 2, 2, 2, 2,\n",
       "       2, 2, 2, 2, 2, 2, 2, 2, 2, 2, 1, 2, 2, 2, 2, 2, 1, 2, 2, 2, 2, 2,\n",
       "       2, 2, 2, 2, 2, 2, 2, 2, 2, 2, 2, 1, 1, 1, 1, 1, 1, 2, 1, 1, 1, 1,\n",
       "       1, 1, 1, 1, 1, 1, 1, 1, 2, 1, 1, 1, 1, 1, 1, 2, 1, 1, 1, 1, 1, 1,\n",
       "       1, 1, 1, 1, 1, 2, 1, 1, 1, 1, 1, 1, 1, 1, 1, 1, 1])"
      ]
     },
     "execution_count": 34,
     "metadata": {},
     "output_type": "execute_result"
    }
   ],
   "source": [
    "# Import sklearn KMeans\n",
    "from sklearn.cluster import KMeans\n",
    "\n",
    "# Define number of clusters\n",
    "km1 = KMeans(n_clusters=3)\n",
    "\n",
    "# Do K-means clustering (assing each point in the dataset to a cluster)\n",
    "yp1 = km1.fit_predict(dataset1[['Petal_length_in_cm','Petal_width_in_cm']])\n",
    "\n",
    "# Print estimated cluster of each point in the dataser\n",
    "yp1"
   ]
  },
  {
   "cell_type": "code",
   "execution_count": 35,
   "id": "5b363720",
   "metadata": {},
   "outputs": [
    {
     "data": {
      "text/plain": [
       "array([2, 2, 2, 2, 2, 2, 2, 2, 2, 2, 2, 2, 2, 2, 2, 2, 2, 2, 2, 2, 2, 2,\n",
       "       2, 2, 2, 2, 2, 2, 2, 2, 2, 2, 2, 2, 2, 2, 2, 2, 2, 2, 2, 2, 2, 2,\n",
       "       2, 2, 2, 2, 2, 0, 0, 0, 1, 0, 1, 0, 1, 0, 1, 1, 1, 1, 1, 1, 0, 1,\n",
       "       1, 1, 1, 1, 1, 1, 1, 0, 0, 0, 0, 1, 1, 1, 1, 1, 1, 1, 1, 0, 1, 1,\n",
       "       1, 1, 1, 1, 1, 1, 1, 1, 1, 1, 1, 0, 1, 0, 0, 0, 0, 1, 0, 0, 0, 0,\n",
       "       0, 0, 1, 1, 0, 0, 0, 0, 1, 0, 1, 0, 1, 0, 0, 1, 1, 0, 0, 0, 0, 0,\n",
       "       1, 1, 0, 0, 0, 1, 0, 0, 0, 1, 0, 0, 0, 1, 0, 0, 1])"
      ]
     },
     "execution_count": 35,
     "metadata": {},
     "output_type": "execute_result"
    }
   ],
   "source": [
    "# Import sklearn KMeans\n",
    "from sklearn.cluster import KMeans\n",
    "\n",
    "# Define number of clusters\n",
    "km2 = KMeans(n_clusters=3)\n",
    "\n",
    "# Do K-means clustering (assing each point in the dataset to a cluster)\n",
    "yp2 = km2.fit_predict(dataset2[['Sepal_length_in_cm','Sepal_width_in_cm']])\n",
    "\n",
    "# Print estimated cluster of each point in the dataser\n",
    "yp2"
   ]
  },
  {
   "cell_type": "code",
   "execution_count": 36,
   "id": "9615f289",
   "metadata": {},
   "outputs": [
    {
     "data": {
      "text/plain": [
       "array([1, 1, 1, 1, 1, 1, 1, 1, 1, 1, 1, 1, 1, 1, 1, 1, 1, 1, 1, 1, 1, 1,\n",
       "       1, 1, 1, 1, 1, 1, 1, 1, 1, 1, 1, 1, 1, 1, 1, 1, 1, 1, 1, 1, 1, 1,\n",
       "       1, 1, 1, 1, 1, 2, 2, 0, 2, 2, 2, 2, 2, 2, 2, 2, 2, 2, 2, 2, 2, 2,\n",
       "       2, 2, 2, 2, 2, 2, 2, 2, 2, 2, 0, 2, 2, 2, 2, 2, 2, 2, 2, 2, 2, 2,\n",
       "       2, 2, 2, 2, 2, 2, 2, 2, 2, 2, 2, 0, 2, 0, 0, 0, 0, 2, 0, 0, 0, 0,\n",
       "       0, 0, 2, 2, 0, 0, 0, 0, 2, 0, 2, 0, 2, 0, 0, 2, 2, 0, 0, 0, 0, 0,\n",
       "       2, 0, 0, 0, 0, 2, 0, 0, 0, 2, 0, 0, 0, 2, 0, 0, 2])"
      ]
     },
     "execution_count": 36,
     "metadata": {},
     "output_type": "execute_result"
    }
   ],
   "source": [
    "# Import sklearn KMeans\n",
    "from sklearn.cluster import KMeans\n",
    "\n",
    "# Define number of clusters\n",
    "km3 = KMeans(n_clusters=3)\n",
    "\n",
    "# Do K-means clustering (assing each point in the dataset to a cluster)\n",
    "yp3 = km3.fit_predict(dataset3[['Sepal_length_in_cm','Sepal_width_in_cm','Petal_length_in_cm','Petal_width_in_cm' ]])\n",
    "\n",
    "# Print estimated cluster of each point in the dataser\n",
    "yp3"
   ]
  },
  {
   "cell_type": "code",
   "execution_count": 37,
   "id": "a592a612",
   "metadata": {},
   "outputs": [
    {
     "data": {
      "text/html": [
       "<div>\n",
       "<style scoped>\n",
       "    .dataframe tbody tr th:only-of-type {\n",
       "        vertical-align: middle;\n",
       "    }\n",
       "\n",
       "    .dataframe tbody tr th {\n",
       "        vertical-align: top;\n",
       "    }\n",
       "\n",
       "    .dataframe thead th {\n",
       "        text-align: right;\n",
       "    }\n",
       "</style>\n",
       "<table border=\"1\" class=\"dataframe\">\n",
       "  <thead>\n",
       "    <tr style=\"text-align: right;\">\n",
       "      <th></th>\n",
       "      <th>Petal_length_in_cm</th>\n",
       "      <th>Petal_width_in_cm</th>\n",
       "      <th>Class</th>\n",
       "      <th>Cluster1</th>\n",
       "    </tr>\n",
       "  </thead>\n",
       "  <tbody>\n",
       "    <tr>\n",
       "      <th>0</th>\n",
       "      <td>1.4</td>\n",
       "      <td>0.2</td>\n",
       "      <td>0</td>\n",
       "      <td>0</td>\n",
       "    </tr>\n",
       "    <tr>\n",
       "      <th>1</th>\n",
       "      <td>1.3</td>\n",
       "      <td>0.2</td>\n",
       "      <td>0</td>\n",
       "      <td>0</td>\n",
       "    </tr>\n",
       "    <tr>\n",
       "      <th>2</th>\n",
       "      <td>1.5</td>\n",
       "      <td>0.2</td>\n",
       "      <td>0</td>\n",
       "      <td>0</td>\n",
       "    </tr>\n",
       "    <tr>\n",
       "      <th>3</th>\n",
       "      <td>1.4</td>\n",
       "      <td>0.2</td>\n",
       "      <td>0</td>\n",
       "      <td>0</td>\n",
       "    </tr>\n",
       "    <tr>\n",
       "      <th>4</th>\n",
       "      <td>1.7</td>\n",
       "      <td>0.4</td>\n",
       "      <td>0</td>\n",
       "      <td>0</td>\n",
       "    </tr>\n",
       "    <tr>\n",
       "      <th>...</th>\n",
       "      <td>...</td>\n",
       "      <td>...</td>\n",
       "      <td>...</td>\n",
       "      <td>...</td>\n",
       "    </tr>\n",
       "    <tr>\n",
       "      <th>144</th>\n",
       "      <td>5.2</td>\n",
       "      <td>2.3</td>\n",
       "      <td>2</td>\n",
       "      <td>1</td>\n",
       "    </tr>\n",
       "    <tr>\n",
       "      <th>145</th>\n",
       "      <td>5.0</td>\n",
       "      <td>1.9</td>\n",
       "      <td>2</td>\n",
       "      <td>1</td>\n",
       "    </tr>\n",
       "    <tr>\n",
       "      <th>146</th>\n",
       "      <td>5.2</td>\n",
       "      <td>2.0</td>\n",
       "      <td>2</td>\n",
       "      <td>1</td>\n",
       "    </tr>\n",
       "    <tr>\n",
       "      <th>147</th>\n",
       "      <td>5.4</td>\n",
       "      <td>2.3</td>\n",
       "      <td>2</td>\n",
       "      <td>1</td>\n",
       "    </tr>\n",
       "    <tr>\n",
       "      <th>148</th>\n",
       "      <td>5.1</td>\n",
       "      <td>1.8</td>\n",
       "      <td>2</td>\n",
       "      <td>1</td>\n",
       "    </tr>\n",
       "  </tbody>\n",
       "</table>\n",
       "<p>149 rows × 4 columns</p>\n",
       "</div>"
      ],
      "text/plain": [
       "     Petal_length_in_cm  Petal_width_in_cm  Class  Cluster1\n",
       "0                   1.4                0.2      0         0\n",
       "1                   1.3                0.2      0         0\n",
       "2                   1.5                0.2      0         0\n",
       "3                   1.4                0.2      0         0\n",
       "4                   1.7                0.4      0         0\n",
       "..                  ...                ...    ...       ...\n",
       "144                 5.2                2.3      2         1\n",
       "145                 5.0                1.9      2         1\n",
       "146                 5.2                2.0      2         1\n",
       "147                 5.4                2.3      2         1\n",
       "148                 5.1                1.8      2         1\n",
       "\n",
       "[149 rows x 4 columns]"
      ]
     },
     "execution_count": 37,
     "metadata": {},
     "output_type": "execute_result"
    }
   ],
   "source": [
    "# Add a new column to the dataset with the cluster information\n",
    "dataset1['Cluster1'] = yp1\n",
    "\n",
    "# Visualize the dataset\n",
    "dataset1"
   ]
  },
  {
   "cell_type": "code",
   "execution_count": 38,
   "id": "3e789d35",
   "metadata": {},
   "outputs": [
    {
     "data": {
      "text/html": [
       "<div>\n",
       "<style scoped>\n",
       "    .dataframe tbody tr th:only-of-type {\n",
       "        vertical-align: middle;\n",
       "    }\n",
       "\n",
       "    .dataframe tbody tr th {\n",
       "        vertical-align: top;\n",
       "    }\n",
       "\n",
       "    .dataframe thead th {\n",
       "        text-align: right;\n",
       "    }\n",
       "</style>\n",
       "<table border=\"1\" class=\"dataframe\">\n",
       "  <thead>\n",
       "    <tr style=\"text-align: right;\">\n",
       "      <th></th>\n",
       "      <th>Sepal_length_in_cm</th>\n",
       "      <th>Sepal_width_in_cm</th>\n",
       "      <th>Class</th>\n",
       "      <th>Cluster2</th>\n",
       "    </tr>\n",
       "  </thead>\n",
       "  <tbody>\n",
       "    <tr>\n",
       "      <th>0</th>\n",
       "      <td>4.9</td>\n",
       "      <td>3.0</td>\n",
       "      <td>0</td>\n",
       "      <td>2</td>\n",
       "    </tr>\n",
       "    <tr>\n",
       "      <th>1</th>\n",
       "      <td>4.7</td>\n",
       "      <td>3.2</td>\n",
       "      <td>0</td>\n",
       "      <td>2</td>\n",
       "    </tr>\n",
       "    <tr>\n",
       "      <th>2</th>\n",
       "      <td>4.6</td>\n",
       "      <td>3.1</td>\n",
       "      <td>0</td>\n",
       "      <td>2</td>\n",
       "    </tr>\n",
       "    <tr>\n",
       "      <th>3</th>\n",
       "      <td>5.0</td>\n",
       "      <td>3.6</td>\n",
       "      <td>0</td>\n",
       "      <td>2</td>\n",
       "    </tr>\n",
       "    <tr>\n",
       "      <th>4</th>\n",
       "      <td>5.4</td>\n",
       "      <td>3.9</td>\n",
       "      <td>0</td>\n",
       "      <td>2</td>\n",
       "    </tr>\n",
       "    <tr>\n",
       "      <th>...</th>\n",
       "      <td>...</td>\n",
       "      <td>...</td>\n",
       "      <td>...</td>\n",
       "      <td>...</td>\n",
       "    </tr>\n",
       "    <tr>\n",
       "      <th>144</th>\n",
       "      <td>6.7</td>\n",
       "      <td>3.0</td>\n",
       "      <td>2</td>\n",
       "      <td>0</td>\n",
       "    </tr>\n",
       "    <tr>\n",
       "      <th>145</th>\n",
       "      <td>6.3</td>\n",
       "      <td>2.5</td>\n",
       "      <td>2</td>\n",
       "      <td>1</td>\n",
       "    </tr>\n",
       "    <tr>\n",
       "      <th>146</th>\n",
       "      <td>6.5</td>\n",
       "      <td>3.0</td>\n",
       "      <td>2</td>\n",
       "      <td>0</td>\n",
       "    </tr>\n",
       "    <tr>\n",
       "      <th>147</th>\n",
       "      <td>6.2</td>\n",
       "      <td>3.4</td>\n",
       "      <td>2</td>\n",
       "      <td>0</td>\n",
       "    </tr>\n",
       "    <tr>\n",
       "      <th>148</th>\n",
       "      <td>5.9</td>\n",
       "      <td>3.0</td>\n",
       "      <td>2</td>\n",
       "      <td>1</td>\n",
       "    </tr>\n",
       "  </tbody>\n",
       "</table>\n",
       "<p>149 rows × 4 columns</p>\n",
       "</div>"
      ],
      "text/plain": [
       "     Sepal_length_in_cm  Sepal_width_in_cm  Class  Cluster2\n",
       "0                   4.9                3.0      0         2\n",
       "1                   4.7                3.2      0         2\n",
       "2                   4.6                3.1      0         2\n",
       "3                   5.0                3.6      0         2\n",
       "4                   5.4                3.9      0         2\n",
       "..                  ...                ...    ...       ...\n",
       "144                 6.7                3.0      2         0\n",
       "145                 6.3                2.5      2         1\n",
       "146                 6.5                3.0      2         0\n",
       "147                 6.2                3.4      2         0\n",
       "148                 5.9                3.0      2         1\n",
       "\n",
       "[149 rows x 4 columns]"
      ]
     },
     "execution_count": 38,
     "metadata": {},
     "output_type": "execute_result"
    }
   ],
   "source": [
    "# Add a new column to the dataset with the cluster information\n",
    "dataset2['Cluster2'] = yp2\n",
    "\n",
    "# Visualize the dataset\n",
    "dataset2"
   ]
  },
  {
   "cell_type": "code",
   "execution_count": 39,
   "id": "a19b2dc6",
   "metadata": {},
   "outputs": [
    {
     "data": {
      "text/html": [
       "<div>\n",
       "<style scoped>\n",
       "    .dataframe tbody tr th:only-of-type {\n",
       "        vertical-align: middle;\n",
       "    }\n",
       "\n",
       "    .dataframe tbody tr th {\n",
       "        vertical-align: top;\n",
       "    }\n",
       "\n",
       "    .dataframe thead th {\n",
       "        text-align: right;\n",
       "    }\n",
       "</style>\n",
       "<table border=\"1\" class=\"dataframe\">\n",
       "  <thead>\n",
       "    <tr style=\"text-align: right;\">\n",
       "      <th></th>\n",
       "      <th>Sepal_length_in_cm</th>\n",
       "      <th>Sepal_width_in_cm</th>\n",
       "      <th>Petal_length_in_cm</th>\n",
       "      <th>Petal_width_in_cm</th>\n",
       "      <th>Class</th>\n",
       "      <th>Cluster3</th>\n",
       "    </tr>\n",
       "  </thead>\n",
       "  <tbody>\n",
       "    <tr>\n",
       "      <th>0</th>\n",
       "      <td>4.9</td>\n",
       "      <td>3.0</td>\n",
       "      <td>1.4</td>\n",
       "      <td>0.2</td>\n",
       "      <td>0</td>\n",
       "      <td>1</td>\n",
       "    </tr>\n",
       "    <tr>\n",
       "      <th>1</th>\n",
       "      <td>4.7</td>\n",
       "      <td>3.2</td>\n",
       "      <td>1.3</td>\n",
       "      <td>0.2</td>\n",
       "      <td>0</td>\n",
       "      <td>1</td>\n",
       "    </tr>\n",
       "    <tr>\n",
       "      <th>2</th>\n",
       "      <td>4.6</td>\n",
       "      <td>3.1</td>\n",
       "      <td>1.5</td>\n",
       "      <td>0.2</td>\n",
       "      <td>0</td>\n",
       "      <td>1</td>\n",
       "    </tr>\n",
       "    <tr>\n",
       "      <th>3</th>\n",
       "      <td>5.0</td>\n",
       "      <td>3.6</td>\n",
       "      <td>1.4</td>\n",
       "      <td>0.2</td>\n",
       "      <td>0</td>\n",
       "      <td>1</td>\n",
       "    </tr>\n",
       "    <tr>\n",
       "      <th>4</th>\n",
       "      <td>5.4</td>\n",
       "      <td>3.9</td>\n",
       "      <td>1.7</td>\n",
       "      <td>0.4</td>\n",
       "      <td>0</td>\n",
       "      <td>1</td>\n",
       "    </tr>\n",
       "    <tr>\n",
       "      <th>...</th>\n",
       "      <td>...</td>\n",
       "      <td>...</td>\n",
       "      <td>...</td>\n",
       "      <td>...</td>\n",
       "      <td>...</td>\n",
       "      <td>...</td>\n",
       "    </tr>\n",
       "    <tr>\n",
       "      <th>144</th>\n",
       "      <td>6.7</td>\n",
       "      <td>3.0</td>\n",
       "      <td>5.2</td>\n",
       "      <td>2.3</td>\n",
       "      <td>2</td>\n",
       "      <td>0</td>\n",
       "    </tr>\n",
       "    <tr>\n",
       "      <th>145</th>\n",
       "      <td>6.3</td>\n",
       "      <td>2.5</td>\n",
       "      <td>5.0</td>\n",
       "      <td>1.9</td>\n",
       "      <td>2</td>\n",
       "      <td>2</td>\n",
       "    </tr>\n",
       "    <tr>\n",
       "      <th>146</th>\n",
       "      <td>6.5</td>\n",
       "      <td>3.0</td>\n",
       "      <td>5.2</td>\n",
       "      <td>2.0</td>\n",
       "      <td>2</td>\n",
       "      <td>0</td>\n",
       "    </tr>\n",
       "    <tr>\n",
       "      <th>147</th>\n",
       "      <td>6.2</td>\n",
       "      <td>3.4</td>\n",
       "      <td>5.4</td>\n",
       "      <td>2.3</td>\n",
       "      <td>2</td>\n",
       "      <td>0</td>\n",
       "    </tr>\n",
       "    <tr>\n",
       "      <th>148</th>\n",
       "      <td>5.9</td>\n",
       "      <td>3.0</td>\n",
       "      <td>5.1</td>\n",
       "      <td>1.8</td>\n",
       "      <td>2</td>\n",
       "      <td>2</td>\n",
       "    </tr>\n",
       "  </tbody>\n",
       "</table>\n",
       "<p>149 rows × 6 columns</p>\n",
       "</div>"
      ],
      "text/plain": [
       "     Sepal_length_in_cm  Sepal_width_in_cm  Petal_length_in_cm  \\\n",
       "0                   4.9                3.0                 1.4   \n",
       "1                   4.7                3.2                 1.3   \n",
       "2                   4.6                3.1                 1.5   \n",
       "3                   5.0                3.6                 1.4   \n",
       "4                   5.4                3.9                 1.7   \n",
       "..                  ...                ...                 ...   \n",
       "144                 6.7                3.0                 5.2   \n",
       "145                 6.3                2.5                 5.0   \n",
       "146                 6.5                3.0                 5.2   \n",
       "147                 6.2                3.4                 5.4   \n",
       "148                 5.9                3.0                 5.1   \n",
       "\n",
       "     Petal_width_in_cm  Class  Cluster3  \n",
       "0                  0.2      0         1  \n",
       "1                  0.2      0         1  \n",
       "2                  0.2      0         1  \n",
       "3                  0.2      0         1  \n",
       "4                  0.4      0         1  \n",
       "..                 ...    ...       ...  \n",
       "144                2.3      2         0  \n",
       "145                1.9      2         2  \n",
       "146                2.0      2         0  \n",
       "147                2.3      2         0  \n",
       "148                1.8      2         2  \n",
       "\n",
       "[149 rows x 6 columns]"
      ]
     },
     "execution_count": 39,
     "metadata": {},
     "output_type": "execute_result"
    }
   ],
   "source": [
    "# Add a new column to the dataset with the cluster information\n",
    "dataset3['Cluster3'] = yp3\n",
    "\n",
    "# Visualize the dataset\n",
    "dataset3"
   ]
  },
  {
   "cell_type": "code",
   "execution_count": 40,
   "id": "dcde48d5",
   "metadata": {},
   "outputs": [
    {
     "data": {
      "text/plain": [
       "array([0, 2, 1])"
      ]
     },
     "execution_count": 40,
     "metadata": {},
     "output_type": "execute_result"
    }
   ],
   "source": [
    "# Visualize the ID of the clusters\n",
    "dataset1.Cluster1.unique()"
   ]
  },
  {
   "cell_type": "code",
   "execution_count": 41,
   "id": "81c8b98f",
   "metadata": {},
   "outputs": [
    {
     "data": {
      "text/plain": [
       "array([2, 0, 1])"
      ]
     },
     "execution_count": 41,
     "metadata": {},
     "output_type": "execute_result"
    }
   ],
   "source": [
    "# Visualize the ID of the clusters\n",
    "dataset2.Cluster2.unique()"
   ]
  },
  {
   "cell_type": "code",
   "execution_count": 42,
   "id": "3f30bccb",
   "metadata": {},
   "outputs": [
    {
     "data": {
      "text/plain": [
       "array([1, 2, 0])"
      ]
     },
     "execution_count": 42,
     "metadata": {},
     "output_type": "execute_result"
    }
   ],
   "source": [
    "# Visualize the ID of the clusters\n",
    "dataset3.Cluster3.unique()"
   ]
  },
  {
   "cell_type": "code",
   "execution_count": 24,
   "id": "ad48355f",
   "metadata": {},
   "outputs": [
    {
     "data": {
      "text/plain": [
       "array([[5.59583333, 2.0375    ],\n",
       "       [1.46326531, 0.24693878],\n",
       "       [4.26923077, 1.34230769]])"
      ]
     },
     "execution_count": 24,
     "metadata": {},
     "output_type": "execute_result"
    }
   ],
   "source": [
    "# Center of each cluster\n",
    "km1.cluster_centers_"
   ]
  },
  {
   "cell_type": "code",
   "execution_count": 43,
   "id": "bd33cbc4",
   "metadata": {},
   "outputs": [
    {
     "data": {
      "text/plain": [
       "array([[6.81276596, 3.07446809],\n",
       "       [5.77358491, 2.69245283],\n",
       "       [5.00408163, 3.42653061]])"
      ]
     },
     "execution_count": 43,
     "metadata": {},
     "output_type": "execute_result"
    }
   ],
   "source": [
    "km2.cluster_centers_"
   ]
  },
  {
   "cell_type": "code",
   "execution_count": 44,
   "id": "5e4a902c",
   "metadata": {},
   "outputs": [
    {
     "data": {
      "text/plain": [
       "array([[6.85      , 3.07368421, 5.74210526, 2.07105263],\n",
       "       [5.00408163, 3.42653061, 1.46326531, 0.24693878],\n",
       "       [5.9016129 , 2.7483871 , 4.39354839, 1.43387097]])"
      ]
     },
     "execution_count": 44,
     "metadata": {},
     "output_type": "execute_result"
    }
   ],
   "source": [
    "km3.cluster_centers_"
   ]
  },
  {
   "cell_type": "code",
   "execution_count": 45,
   "id": "d6514da4",
   "metadata": {},
   "outputs": [
    {
     "data": {
      "text/plain": [
       "31.3652773417059"
      ]
     },
     "execution_count": 45,
     "metadata": {},
     "output_type": "execute_result"
    }
   ],
   "source": [
    "# Sum of squared error\n",
    "km1.inertia_"
   ]
  },
  {
   "cell_type": "code",
   "execution_count": 46,
   "id": "25c5af2e",
   "metadata": {},
   "outputs": [
    {
     "data": {
      "text/plain": [
       "37.03639600521062"
      ]
     },
     "execution_count": 46,
     "metadata": {},
     "output_type": "execute_result"
    }
   ],
   "source": [
    "km2.inertia_"
   ]
  },
  {
   "cell_type": "code",
   "execution_count": 47,
   "id": "73ff6846",
   "metadata": {},
   "outputs": [
    {
     "data": {
      "text/plain": [
       "78.83105367104396"
      ]
     },
     "execution_count": 47,
     "metadata": {},
     "output_type": "execute_result"
    }
   ],
   "source": [
    "km3.inertia_"
   ]
  },
  {
   "cell_type": "markdown",
   "id": "e0d67f7a",
   "metadata": {},
   "source": [
    "# Plot estimated clusters"
   ]
  },
  {
   "cell_type": "code",
   "execution_count": 49,
   "id": "aac7ef6e",
   "metadata": {},
   "outputs": [
    {
     "name": "stderr",
     "output_type": "stream",
     "text": [
      "<ipython-input-49-b6454e7acf94>:5: MatplotlibDeprecationWarning: Case-insensitive properties were deprecated in 3.3 and support will be removed two minor releases later\n",
      "  plt.scatter(df1.Petal_length_in_cm, df1.Petal_width_in_cm, Label='Estimated Class 1')\n",
      "<ipython-input-49-b6454e7acf94>:6: MatplotlibDeprecationWarning: Case-insensitive properties were deprecated in 3.3 and support will be removed two minor releases later\n",
      "  plt.scatter(df2.Petal_length_in_cm, df2.Petal_width_in_cm, Label='Estimated Class 2')\n",
      "<ipython-input-49-b6454e7acf94>:7: MatplotlibDeprecationWarning: Case-insensitive properties were deprecated in 3.3 and support will be removed two minor releases later\n",
      "  plt.scatter(df3.Petal_length_in_cm, df3.Petal_width_in_cm, Label='Estimated Class 3')\n"
     ]
    },
    {
     "data": {
      "image/png": "[encoded data removed]",
      "text/plain": [
       "<Figure size 432x288 with 1 Axes>"
      ]
     },
     "metadata": {
      "needs_background": "light"
     },
     "output_type": "display_data"
    }
   ],
   "source": [
    "df1 = dataset1[dataset1.Cluster1==0]\n",
    "df2 = dataset1[dataset1.Cluster1==1]\n",
    "df3 = dataset1[dataset1.Cluster1==2]\n",
    "\n",
    "plt.scatter(df1.Petal_length_in_cm, df1.Petal_width_in_cm, Label='Estimated Class 1')\n",
    "plt.scatter(df2.Petal_length_in_cm, df2.Petal_width_in_cm, Label='Estimated Class 2')\n",
    "plt.scatter(df3.Petal_length_in_cm, df3.Petal_width_in_cm, Label='Estimated Class 3')\n",
    "\n",
    "plt.scatter(km1.cluster_centers_[:,0], km1.cluster_centers_[:,1], color='magenta', marker='*', label='Centroides', s=256)\n",
    "\n",
    "plt.title('Petal length in cm vs Petal width in cm')\n",
    "plt.xlabel('Petal length in cm')\n",
    "plt.ylabel('Petal width in cm')\n",
    "plt.legend()\n",
    "plt.show()"
   ]
  },
  {
   "cell_type": "code",
   "execution_count": 50,
   "id": "f3673290",
   "metadata": {},
   "outputs": [
    {
     "name": "stderr",
     "output_type": "stream",
     "text": [
      "<ipython-input-50-9a17c1310be8>:6: MatplotlibDeprecationWarning: Case-insensitive properties were deprecated in 3.3 and support will be removed two minor releases later\n",
      "  plt.scatter(df1.Petal_length_in_cm, df1.Petal_width_in_cm, Label='Class 0')\n",
      "<ipython-input-50-9a17c1310be8>:7: MatplotlibDeprecationWarning: Case-insensitive properties were deprecated in 3.3 and support will be removed two minor releases later\n",
      "  plt.scatter(df2.Petal_length_in_cm, df2.Petal_width_in_cm, Label='Class 1')\n",
      "<ipython-input-50-9a17c1310be8>:8: MatplotlibDeprecationWarning: Case-insensitive properties were deprecated in 3.3 and support will be removed two minor releases later\n",
      "  plt.scatter(df3.Petal_length_in_cm, df3.Petal_width_in_cm, Label='Class 2')\n"
     ]
    },
    {
     "data": {
      "image/png": "[encoded data removed]",
      "text/plain": [
       "<Figure size 432x288 with 1 Axes>"
      ]
     },
     "metadata": {
      "needs_background": "light"
     },
     "output_type": "display_data"
    }
   ],
   "source": [
    "#Scatter plot of the data asigning each point to the cluster it belongs to ¡¡\n",
    "df1 = dataset1[dataset1.Class==0]\n",
    "df2 = dataset1[dataset1.Class==1]\n",
    "df3 = dataset1[dataset1.Class==2]\n",
    "\n",
    "plt.scatter(df1.Petal_length_in_cm, df1.Petal_width_in_cm, Label='Class 0')\n",
    "plt.scatter(df2.Petal_length_in_cm, df2.Petal_width_in_cm, Label='Class 1')\n",
    "plt.scatter(df3.Petal_length_in_cm, df3.Petal_width_in_cm, Label='Class 2')\n",
    "\n",
    "plt.title('Petal length in cm vs Petal width in cm')\n",
    "plt.xlabel('Petal length in cm')\n",
    "plt.ylabel('Petal width in cm')\n",
    "plt.legend()\n",
    "plt.show()"
   ]
  },
  {
   "cell_type": "code",
   "execution_count": 52,
   "id": "d648a896",
   "metadata": {},
   "outputs": [
    {
     "name": "stderr",
     "output_type": "stream",
     "text": [
      "<ipython-input-52-0da686862e37>:5: MatplotlibDeprecationWarning: Case-insensitive properties were deprecated in 3.3 and support will be removed two minor releases later\n",
      "  plt.scatter(df21.Sepal_length_in_cm, df21.Sepal_width_in_cm, Label='Estimated Class 1')\n",
      "<ipython-input-52-0da686862e37>:6: MatplotlibDeprecationWarning: Case-insensitive properties were deprecated in 3.3 and support will be removed two minor releases later\n",
      "  plt.scatter(df22.Sepal_length_in_cm, df22.Sepal_width_in_cm, Label='Estimated Class 2')\n",
      "<ipython-input-52-0da686862e37>:7: MatplotlibDeprecationWarning: Case-insensitive properties were deprecated in 3.3 and support will be removed two minor releases later\n",
      "  plt.scatter(df23.Sepal_length_in_cm, df23.Sepal_width_in_cm, Label='Estimated Class 3')\n"
     ]
    },
    {
     "data": {
      "image/png": "[encoded data removed]",
      "text/plain": [
       "<Figure size 432x288 with 1 Axes>"
      ]
     },
     "metadata": {
      "needs_background": "light"
     },
     "output_type": "display_data"
    }
   ],
   "source": [
    "df21 = dataset2[dataset2.Cluster2==0]\n",
    "df22 = dataset2[dataset2.Cluster2==1]\n",
    "df23 = dataset2[dataset2.Cluster2==2]\n",
    "\n",
    "plt.scatter(df21.Sepal_length_in_cm, df21.Sepal_width_in_cm, Label='Estimated Class 1')\n",
    "plt.scatter(df22.Sepal_length_in_cm, df22.Sepal_width_in_cm, Label='Estimated Class 2')\n",
    "plt.scatter(df23.Sepal_length_in_cm, df23.Sepal_width_in_cm, Label='Estimated Class 3')\n",
    "\n",
    "plt.scatter(km2.cluster_centers_[:,0], km2.cluster_centers_[:,1], color='magenta', marker='*', label='Centroides', s=256)\n",
    "\n",
    "plt.title('Sepal length in cm vs Sepal width in cm')\n",
    "plt.xlabel('Sepal length in cm')\n",
    "plt.ylabel('Sepal width in cm')\n",
    "plt.legend()\n",
    "plt.show()"
   ]
  },
  {
   "cell_type": "code",
   "execution_count": 53,
   "id": "ffc886b7",
   "metadata": {},
   "outputs": [
    {
     "name": "stderr",
     "output_type": "stream",
     "text": [
      "<ipython-input-53-fa02f7573215>:6: MatplotlibDeprecationWarning: Case-insensitive properties were deprecated in 3.3 and support will be removed two minor releases later\n",
      "  plt.scatter(df21.Sepal_length_in_cm, df21.Sepal_width_in_cm, Label='Class 0')\n",
      "<ipython-input-53-fa02f7573215>:7: MatplotlibDeprecationWarning: Case-insensitive properties were deprecated in 3.3 and support will be removed two minor releases later\n",
      "  plt.scatter(df22.Sepal_length_in_cm, df22.Sepal_width_in_cm, Label='Class 1')\n",
      "<ipython-input-53-fa02f7573215>:8: MatplotlibDeprecationWarning: Case-insensitive properties were deprecated in 3.3 and support will be removed two minor releases later\n",
      "  plt.scatter(df23.Sepal_length_in_cm, df23.Sepal_width_in_cm, Label='Class 2')\n"
     ]
    },
    {
     "data": {
      "image/png": "[encoded data removed]",
      "text/plain": [
       "<Figure size 432x288 with 1 Axes>"
      ]
     },
     "metadata": {
      "needs_background": "light"
     },
     "output_type": "display_data"
    }
   ],
   "source": [
    "#Scatter plot of the data asigning each point to the cluster it belongs to ¡¡\n",
    "df21 = dataset2[dataset2.Class==0]\n",
    "df22 = dataset2[dataset2.Class==1]\n",
    "df23 = dataset2[dataset2.Class==2]\n",
    "\n",
    "plt.scatter(df21.Sepal_length_in_cm, df21.Sepal_width_in_cm, Label='Class 0')\n",
    "plt.scatter(df22.Sepal_length_in_cm, df22.Sepal_width_in_cm, Label='Class 1')\n",
    "plt.scatter(df23.Sepal_length_in_cm, df23.Sepal_width_in_cm, Label='Class 2')\n",
    "\n",
    "plt.title('Sepal length in cm vs Sepal width in cm')\n",
    "plt.xlabel('Sepal length in cm')\n",
    "plt.ylabel('Sepal width in cm')\n",
    "plt.legend()\n",
    "plt.show()"
   ]
  },
  {
   "cell_type": "code",
   "execution_count": 54,
   "id": "6b5c7906",
   "metadata": {},
   "outputs": [
    {
     "name": "stderr",
     "output_type": "stream",
     "text": [
      "<ipython-input-54-ba25b3b9ad6a>:5: MatplotlibDeprecationWarning: Case-insensitive properties were deprecated in 3.3 and support will be removed two minor releases later\n",
      "  plt.scatter(df31.Sepal_length_in_cm, df31.Sepal_width_in_cm, df31.Petal_length_in_cm, df31.Petal_width_in_cm, Label='Class 0')\n",
      "<ipython-input-54-ba25b3b9ad6a>:6: MatplotlibDeprecationWarning: Case-insensitive properties were deprecated in 3.3 and support will be removed two minor releases later\n",
      "  plt.scatter(df32.Sepal_length_in_cm, df32.Sepal_width_in_cm, df32.Petal_length_in_cm, df32.Petal_width_in_cm, Label='Class 1')\n",
      "<ipython-input-54-ba25b3b9ad6a>:7: MatplotlibDeprecationWarning: Case-insensitive properties were deprecated in 3.3 and support will be removed two minor releases later\n",
      "  plt.scatter(df33.Sepal_length_in_cm, df33.Sepal_width_in_cm, df33.Petal_length_in_cm, df33.Petal_width_in_cm,Label='Class 2')\n"
     ]
    },
    {
     "data": {
      "image/png": "[encoded data removed]",
      "text/plain": [
       "<Figure size 432x288 with 1 Axes>"
      ]
     },
     "metadata": {
      "needs_background": "light"
     },
     "output_type": "display_data"
    }
   ],
   "source": [
    "df31 = dataset3[dataset3.Class==0]\n",
    "df32 = dataset3[dataset3.Class==1]\n",
    "df33 = dataset3[dataset3.Class==2]\n",
    "\n",
    "plt.scatter(df31.Sepal_length_in_cm, df31.Sepal_width_in_cm, df31.Petal_length_in_cm, df31.Petal_width_in_cm, Label='Class 0')\n",
    "plt.scatter(df32.Sepal_length_in_cm, df32.Sepal_width_in_cm, df32.Petal_length_in_cm, df32.Petal_width_in_cm, Label='Class 1')\n",
    "plt.scatter(df33.Sepal_length_in_cm, df33.Sepal_width_in_cm, df33.Petal_length_in_cm, df33.Petal_width_in_cm,Label='Class 2')\n",
    "\n",
    "\n",
    "plt.scatter(km3.cluster_centers_[:,0], km3.cluster_centers_[:,1], color='magenta', marker='*', label='Centroides', s=256)\n",
    "\n",
    "plt.title('Sepal length in cm vs Sepal width in cm vs Petal length in cm vs Petal width in cm')\n",
    "plt.legend()\n",
    "plt.show()"
   ]
  },
  {
   "cell_type": "markdown",
   "id": "028aadfa",
   "metadata": {},
   "source": [
    "# Selecting K: elbow plot"
   ]
  },
  {
   "cell_type": "code",
   "execution_count": 60,
   "id": "86e0ef65",
   "metadata": {},
   "outputs": [
    {
     "name": "stderr",
     "output_type": "stream",
     "text": [
      "C:\\Users\\natis\\anaconda3\\lib\\site-packages\\sklearn\\cluster\\_kmeans.py:881: UserWarning: KMeans is known to have a memory leak on Windows with MKL, when there are less chunks than available threads. You can avoid it by setting the environment variable OMP_NUM_THREADS=1.\n",
      "  warnings.warn(\n"
     ]
    }
   ],
   "source": [
    "sse1 = []\n",
    "k_rng1 = range(1,10)\n",
    "for k in k_rng1:\n",
    "    km1 = KMeans(n_clusters=k)\n",
    "    km1.fit_predict(dataset1[['Petal_length_in_cm','Petal_width_in_cm']])\n",
    "    sse1.append(km1.inertia_)"
   ]
  },
  {
   "cell_type": "code",
   "execution_count": 61,
   "id": "96817781",
   "metadata": {},
   "outputs": [
    {
     "name": "stderr",
     "output_type": "stream",
     "text": [
      "C:\\Users\\natis\\anaconda3\\lib\\site-packages\\sklearn\\cluster\\_kmeans.py:881: UserWarning: KMeans is known to have a memory leak on Windows with MKL, when there are less chunks than available threads. You can avoid it by setting the environment variable OMP_NUM_THREADS=1.\n",
      "  warnings.warn(\n"
     ]
    }
   ],
   "source": [
    "sse2 = []\n",
    "k_rng2 = range(1,10)\n",
    "for k in k_rng2:\n",
    "    km2 = KMeans(n_clusters=k)\n",
    "    km2.fit_predict(dataset2[['Sepal_length_in_cm','Sepal_width_in_cm']])\n",
    "    sse2.append(km2.inertia_)"
   ]
  },
  {
   "cell_type": "code",
   "execution_count": 62,
   "id": "865ac902",
   "metadata": {},
   "outputs": [
    {
     "name": "stderr",
     "output_type": "stream",
     "text": [
      "C:\\Users\\natis\\anaconda3\\lib\\site-packages\\sklearn\\cluster\\_kmeans.py:881: UserWarning: KMeans is known to have a memory leak on Windows with MKL, when there are less chunks than available threads. You can avoid it by setting the environment variable OMP_NUM_THREADS=1.\n",
      "  warnings.warn(\n"
     ]
    }
   ],
   "source": [
    "sse3 = []\n",
    "k_rng3 = range(1,10)\n",
    "for k in k_rng3:\n",
    "    km3 = KMeans(n_clusters=k)\n",
    "    km3.fit_predict(dataset3[['Petal_length_in_cm','Petal_width_in_cm', 'Sepal_length_in_cm','Sepal_width_in_cm']])\n",
    "    sse3.append(km3.inertia_)"
   ]
  },
  {
   "cell_type": "code",
   "execution_count": 63,
   "id": "19cb6dc1",
   "metadata": {},
   "outputs": [
    {
     "data": {
      "image/png": "[encoded data removed]",
      "text/plain": [
       "<Figure size 432x288 with 1 Axes>"
      ]
     },
     "metadata": {
      "needs_background": "light"
     },
     "output_type": "display_data"
    }
   ],
   "source": [
    "plt.plot(k_rng1,sse1)\n",
    "\n",
    "plt.title('Elbow plot')\n",
    "plt.xlabel('K')\n",
    "plt.ylabel('Sum of squared error')\n",
    "plt.show()"
   ]
  },
  {
   "cell_type": "code",
   "execution_count": 64,
   "id": "513b57f5",
   "metadata": {},
   "outputs": [
    {
     "data": {
      "image/png": "[encoded data removed]",
      "text/plain": [
       "<Figure size 432x288 with 1 Axes>"
      ]
     },
     "metadata": {
      "needs_background": "light"
     },
     "output_type": "display_data"
    }
   ],
   "source": [
    "plt.plot(k_rng2,sse2)\n",
    "\n",
    "plt.title('Elbow plot')\n",
    "plt.xlabel('K')\n",
    "plt.ylabel('Sum of squared error')\n",
    "plt.show()"
   ]
  },
  {
   "cell_type": "code",
   "execution_count": 65,
   "id": "639877e4",
   "metadata": {},
   "outputs": [
    {
     "data": {
      "image/png": "[encoded data removed]",
      "text/plain": [
       "<Figure size 432x288 with 1 Axes>"
      ]
     },
     "metadata": {
      "needs_background": "light"
     },
     "output_type": "display_data"
    }
   ],
   "source": [
    "plt.plot(k_rng3,sse3)\n",
    "\n",
    "plt.title('Elbow plot')\n",
    "plt.xlabel('K')\n",
    "plt.ylabel('Sum of squared error')\n",
    "plt.show()"
   ]
  },
  {
   "cell_type": "code",
   "execution_count": null,
   "id": "41156b29",
   "metadata": {},
   "outputs": [],
   "source": []
  }
 ],
 "metadata": {
  "kernelspec": {
   "display_name": "Python 3",
   "language": "python",
   "name": "python3"
  },
  "language_info": {
   "codemirror_mode": {
    "name": "ipython",
    "version": 3
   },
   "file_extension": ".py",
   "mimetype": "text/x-python",
   "name": "python",
   "nbconvert_exporter": "python",
   "pygments_lexer": "ipython3",
   "version": "3.8.8"
  }
 },
 "nbformat": 4,
 "nbformat_minor": 5
}
