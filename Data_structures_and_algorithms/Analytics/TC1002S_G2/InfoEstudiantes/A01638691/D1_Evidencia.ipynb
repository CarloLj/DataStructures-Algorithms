{
 "cells": [
  {
   "cell_type": "markdown",
   "metadata": {},
   "source": [
    "# TC1002S Herramientas computacionales: el arte de la analítica\n",
    "\n",
    "This is a notebook with all your work for the final evidence of this course\n",
    "\n",
    "\n",
    "# Niveles de dominio a demostrar con la evidencia\n",
    "\n",
    "### SING0202A\n",
    "\n",
    "Interpreta interacciones entre variables relevantes en un problema, como base para la construcción de modelos bivariados basados en datos de un fenómeno investigado que le permita reproducir la respuesta del mismo. Es capaz de construir modelos bivariados que expliquen el comportamiento de un fenómeno.\n",
    "\n",
    "\n",
    "# Student information\n",
    "\n",
    "- Name: Gerardo Novelo\n",
    "\n",
    "- ID: A01638691\n",
    "\n",
    "- My carreer: Ingenieria en Tecnologias Computacionales (ITC)\n"
   ]
  },
  {
   "cell_type": "markdown",
   "metadata": {},
   "source": [
    "# Importing libraries"
   ]
  },
  {
   "cell_type": "code",
   "execution_count": 3,
   "metadata": {},
   "outputs": [],
   "source": [
    "import pandas as pd\n",
    "import seaborn as sns\n",
    "import matplotlib.pyplot as plt\n"
   ]
  },
  {
   "cell_type": "markdown",
   "metadata": {},
   "source": [
    "# A1 Load data"
   ]
  },
  {
   "cell_type": "code",
   "execution_count": 4,
   "metadata": {},
   "outputs": [],
   "source": [
    "url = \"A01638691.csv\"\n",
    "\n",
    "df = pd.read_csv(url)"
   ]
  },
  {
   "cell_type": "markdown",
   "metadata": {},
   "source": [
    "# A2 Data managment\n"
   ]
  },
  {
   "cell_type": "markdown",
   "metadata": {},
   "source": [
    "Print the first 7 rows"
   ]
  },
  {
   "cell_type": "code",
   "execution_count": 5,
   "metadata": {},
   "outputs": [
    {
     "data": {
      "text/html": [
       "<div>\n",
       "<style scoped>\n",
       "    .dataframe tbody tr th:only-of-type {\n",
       "        vertical-align: middle;\n",
       "    }\n",
       "\n",
       "    .dataframe tbody tr th {\n",
       "        vertical-align: top;\n",
       "    }\n",
       "\n",
       "    .dataframe thead th {\n",
       "        text-align: right;\n",
       "    }\n",
       "</style>\n",
       "<table border=\"1\" class=\"dataframe\">\n",
       "  <thead>\n",
       "    <tr style=\"text-align: right;\">\n",
       "      <th></th>\n",
       "      <th>Unnamed: 0</th>\n",
       "      <th>x1</th>\n",
       "      <th>x2</th>\n",
       "      <th>x3</th>\n",
       "      <th>x4</th>\n",
       "    </tr>\n",
       "  </thead>\n",
       "  <tbody>\n",
       "    <tr>\n",
       "      <th>0</th>\n",
       "      <td>0</td>\n",
       "      <td>3.176724</td>\n",
       "      <td>4.778823</td>\n",
       "      <td>5.962702</td>\n",
       "      <td>9.976536</td>\n",
       "    </tr>\n",
       "    <tr>\n",
       "      <th>1</th>\n",
       "      <td>1</td>\n",
       "      <td>-2.956332</td>\n",
       "      <td>7.631484</td>\n",
       "      <td>5.624010</td>\n",
       "      <td>3.488498</td>\n",
       "    </tr>\n",
       "    <tr>\n",
       "      <th>2</th>\n",
       "      <td>2</td>\n",
       "      <td>-0.524444</td>\n",
       "      <td>3.176238</td>\n",
       "      <td>7.086700</td>\n",
       "      <td>1.436260</td>\n",
       "    </tr>\n",
       "    <tr>\n",
       "      <th>3</th>\n",
       "      <td>3</td>\n",
       "      <td>5.739686</td>\n",
       "      <td>5.335354</td>\n",
       "      <td>3.947252</td>\n",
       "      <td>9.313401</td>\n",
       "    </tr>\n",
       "    <tr>\n",
       "      <th>4</th>\n",
       "      <td>4</td>\n",
       "      <td>-3.192926</td>\n",
       "      <td>5.236729</td>\n",
       "      <td>7.358886</td>\n",
       "      <td>-0.485064</td>\n",
       "    </tr>\n",
       "    <tr>\n",
       "      <th>5</th>\n",
       "      <td>5</td>\n",
       "      <td>5.336097</td>\n",
       "      <td>7.749610</td>\n",
       "      <td>6.824057</td>\n",
       "      <td>10.731632</td>\n",
       "    </tr>\n",
       "    <tr>\n",
       "      <th>6</th>\n",
       "      <td>6</td>\n",
       "      <td>-2.276389</td>\n",
       "      <td>1.365664</td>\n",
       "      <td>4.191903</td>\n",
       "      <td>-7.700792</td>\n",
       "    </tr>\n",
       "  </tbody>\n",
       "</table>\n",
       "</div>"
      ],
      "text/plain": [
       "   Unnamed: 0        x1        x2        x3         x4\n",
       "0           0  3.176724  4.778823  5.962702   9.976536\n",
       "1           1 -2.956332  7.631484  5.624010   3.488498\n",
       "2           2 -0.524444  3.176238  7.086700   1.436260\n",
       "3           3  5.739686  5.335354  3.947252   9.313401\n",
       "4           4 -3.192926  5.236729  7.358886  -0.485064\n",
       "5           5  5.336097  7.749610  6.824057  10.731632\n",
       "6           6 -2.276389  1.365664  4.191903  -7.700792"
      ]
     },
     "execution_count": 5,
     "metadata": {},
     "output_type": "execute_result"
    }
   ],
   "source": [
    "df.head(7)"
   ]
  },
  {
   "cell_type": "markdown",
   "metadata": {},
   "source": [
    "Print the first 4 last rows"
   ]
  },
  {
   "cell_type": "code",
   "execution_count": 6,
   "metadata": {},
   "outputs": [
    {
     "data": {
      "text/html": [
       "<div>\n",
       "<style scoped>\n",
       "    .dataframe tbody tr th:only-of-type {\n",
       "        vertical-align: middle;\n",
       "    }\n",
       "\n",
       "    .dataframe tbody tr th {\n",
       "        vertical-align: top;\n",
       "    }\n",
       "\n",
       "    .dataframe thead th {\n",
       "        text-align: right;\n",
       "    }\n",
       "</style>\n",
       "<table border=\"1\" class=\"dataframe\">\n",
       "  <thead>\n",
       "    <tr style=\"text-align: right;\">\n",
       "      <th></th>\n",
       "      <th>Unnamed: 0</th>\n",
       "      <th>x1</th>\n",
       "      <th>x2</th>\n",
       "      <th>x3</th>\n",
       "      <th>x4</th>\n",
       "    </tr>\n",
       "  </thead>\n",
       "  <tbody>\n",
       "    <tr>\n",
       "      <th>687</th>\n",
       "      <td>687</td>\n",
       "      <td>-2.232342</td>\n",
       "      <td>4.712279</td>\n",
       "      <td>4.741161</td>\n",
       "      <td>1.798194</td>\n",
       "    </tr>\n",
       "    <tr>\n",
       "      <th>688</th>\n",
       "      <td>688</td>\n",
       "      <td>-4.092138</td>\n",
       "      <td>-1.249167</td>\n",
       "      <td>4.073537</td>\n",
       "      <td>-7.756102</td>\n",
       "    </tr>\n",
       "    <tr>\n",
       "      <th>689</th>\n",
       "      <td>689</td>\n",
       "      <td>-1.978938</td>\n",
       "      <td>5.119876</td>\n",
       "      <td>8.077843</td>\n",
       "      <td>2.435772</td>\n",
       "    </tr>\n",
       "    <tr>\n",
       "      <th>690</th>\n",
       "      <td>690</td>\n",
       "      <td>-3.299477</td>\n",
       "      <td>-1.209389</td>\n",
       "      <td>3.256815</td>\n",
       "      <td>-6.708462</td>\n",
       "    </tr>\n",
       "  </tbody>\n",
       "</table>\n",
       "</div>"
      ],
      "text/plain": [
       "     Unnamed: 0        x1        x2        x3        x4\n",
       "687         687 -2.232342  4.712279  4.741161  1.798194\n",
       "688         688 -4.092138 -1.249167  4.073537 -7.756102\n",
       "689         689 -1.978938  5.119876  8.077843  2.435772\n",
       "690         690 -3.299477 -1.209389  3.256815 -6.708462"
      ]
     },
     "execution_count": 6,
     "metadata": {},
     "output_type": "execute_result"
    }
   ],
   "source": [
    "df.tail(4)"
   ]
  },
  {
   "cell_type": "markdown",
   "metadata": {},
   "source": [
    "How many rows and columns are in your data?\n",
    "\n",
    "Use the `shape` method\n"
   ]
  },
  {
   "cell_type": "code",
   "execution_count": 9,
   "metadata": {},
   "outputs": [
    {
     "name": "stdout",
     "output_type": "stream",
     "text": [
      "rows =  691\n",
      "columns 5\n"
     ]
    }
   ],
   "source": [
    "rows, cols = df.shape\n",
    "print(\"rows = \", rows)\n",
    "print(\"columns = \", cols)"
   ]
  },
  {
   "cell_type": "markdown",
   "metadata": {},
   "source": [
    "Print the name of all columns \n",
    "\n",
    "Use the `columns` method"
   ]
  },
  {
   "cell_type": "code",
   "execution_count": 10,
   "metadata": {},
   "outputs": [
    {
     "data": {
      "text/plain": [
       "Index(['Unnamed: 0', 'x1', 'x2', 'x3', 'x4'], dtype='object')"
      ]
     },
     "execution_count": 10,
     "metadata": {},
     "output_type": "execute_result"
    }
   ],
   "source": [
    "df.columns"
   ]
  },
  {
   "cell_type": "markdown",
   "metadata": {},
   "source": [
    "What is the data type in each column\n",
    "\n",
    "Use the `dtypes` method "
   ]
  },
  {
   "cell_type": "code",
   "execution_count": 11,
   "metadata": {},
   "outputs": [
    {
     "data": {
      "text/plain": [
       "Unnamed: 0      int64\n",
       "x1            float64\n",
       "x2            float64\n",
       "x3            float64\n",
       "x4            float64\n",
       "dtype: object"
      ]
     },
     "execution_count": 11,
     "metadata": {},
     "output_type": "execute_result"
    }
   ],
   "source": [
    "df.dtypes"
   ]
  },
  {
   "cell_type": "markdown",
   "metadata": {},
   "source": [
    "What is the meaning of rows and columns?"
   ]
  },
  {
   "cell_type": "code",
   "execution_count": 1,
   "metadata": {},
   "outputs": [],
   "source": [
    "# Your responses here\n",
    "\n",
    "# 1) Hay 5 columnas (Unnamed: 0, x1, x2, x3, x4)\n",
    "\n",
    "# 2) Hay 691 filas \n",
    "\n",
    "# 3) No parecen tener un significado en especifico\n",
    "\n",
    "#..."
   ]
  },
  {
   "cell_type": "markdown",
   "metadata": {},
   "source": [
    "Print a statistical summary of your columns\n"
   ]
  },
  {
   "cell_type": "code",
   "execution_count": 12,
   "metadata": {},
   "outputs": [
    {
     "data": {
      "text/html": [
       "<div>\n",
       "<style scoped>\n",
       "    .dataframe tbody tr th:only-of-type {\n",
       "        vertical-align: middle;\n",
       "    }\n",
       "\n",
       "    .dataframe tbody tr th {\n",
       "        vertical-align: top;\n",
       "    }\n",
       "\n",
       "    .dataframe thead th {\n",
       "        text-align: right;\n",
       "    }\n",
       "</style>\n",
       "<table border=\"1\" class=\"dataframe\">\n",
       "  <thead>\n",
       "    <tr style=\"text-align: right;\">\n",
       "      <th></th>\n",
       "      <th>Unnamed: 0</th>\n",
       "      <th>x1</th>\n",
       "      <th>x2</th>\n",
       "      <th>x3</th>\n",
       "      <th>x4</th>\n",
       "    </tr>\n",
       "  </thead>\n",
       "  <tbody>\n",
       "    <tr>\n",
       "      <th>count</th>\n",
       "      <td>691.000000</td>\n",
       "      <td>691.000000</td>\n",
       "      <td>691.000000</td>\n",
       "      <td>691.000000</td>\n",
       "      <td>691.000000</td>\n",
       "    </tr>\n",
       "    <tr>\n",
       "      <th>mean</th>\n",
       "      <td>345.000000</td>\n",
       "      <td>-0.159669</td>\n",
       "      <td>3.261228</td>\n",
       "      <td>6.082052</td>\n",
       "      <td>1.441688</td>\n",
       "    </tr>\n",
       "    <tr>\n",
       "      <th>std</th>\n",
       "      <td>199.618803</td>\n",
       "      <td>3.792258</td>\n",
       "      <td>3.136391</td>\n",
       "      <td>2.037378</td>\n",
       "      <td>6.768910</td>\n",
       "    </tr>\n",
       "    <tr>\n",
       "      <th>min</th>\n",
       "      <td>0.000000</td>\n",
       "      <td>-7.782220</td>\n",
       "      <td>-4.662384</td>\n",
       "      <td>0.168779</td>\n",
       "      <td>-11.431858</td>\n",
       "    </tr>\n",
       "    <tr>\n",
       "      <th>25%</th>\n",
       "      <td>172.500000</td>\n",
       "      <td>-3.117306</td>\n",
       "      <td>0.335620</td>\n",
       "      <td>4.580531</td>\n",
       "      <td>-5.638310</td>\n",
       "    </tr>\n",
       "    <tr>\n",
       "      <th>50%</th>\n",
       "      <td>345.000000</td>\n",
       "      <td>-1.651091</td>\n",
       "      <td>4.048216</td>\n",
       "      <td>6.080205</td>\n",
       "      <td>1.867367</td>\n",
       "    </tr>\n",
       "    <tr>\n",
       "      <th>75%</th>\n",
       "      <td>517.500000</td>\n",
       "      <td>3.689711</td>\n",
       "      <td>5.571820</td>\n",
       "      <td>7.450773</td>\n",
       "      <td>8.274986</td>\n",
       "    </tr>\n",
       "    <tr>\n",
       "      <th>max</th>\n",
       "      <td>690.000000</td>\n",
       "      <td>9.564690</td>\n",
       "      <td>9.943378</td>\n",
       "      <td>11.731140</td>\n",
       "      <td>13.874859</td>\n",
       "    </tr>\n",
       "  </tbody>\n",
       "</table>\n",
       "</div>"
      ],
      "text/plain": [
       "       Unnamed: 0          x1          x2          x3          x4\n",
       "count  691.000000  691.000000  691.000000  691.000000  691.000000\n",
       "mean   345.000000   -0.159669    3.261228    6.082052    1.441688\n",
       "std    199.618803    3.792258    3.136391    2.037378    6.768910\n",
       "min      0.000000   -7.782220   -4.662384    0.168779  -11.431858\n",
       "25%    172.500000   -3.117306    0.335620    4.580531   -5.638310\n",
       "50%    345.000000   -1.651091    4.048216    6.080205    1.867367\n",
       "75%    517.500000    3.689711    5.571820    7.450773    8.274986\n",
       "max    690.000000    9.564690    9.943378   11.731140   13.874859"
      ]
     },
     "execution_count": 12,
     "metadata": {},
     "output_type": "execute_result"
    }
   ],
   "source": [
    "df.describe()"
   ]
  },
  {
   "cell_type": "code",
   "execution_count": 2,
   "metadata": {},
   "outputs": [],
   "source": [
    "# 1) What is the minumum and maximum values of each variable\n",
    "#min (Unnamed: 0 = 0, x1 = -7.7822, x2 = -4.662384, x3 = 0.168779, x4 = -11.431858) \n",
    "#max (Unnamed: 0 = 690, x1 = 9.56469, x2 = 9.943378, x3 = 11.73114, x4 = 13.874859)\n",
    "\n",
    "# 2) What is the mean and standar deviation of each variable\n",
    "#mean (Unnamed: 0 = 345, x1 = -0.159669, x2 = 3.26122, x3 = 6.082052, x4 = 1.441688) \n",
    "#std (Unnamed: 0 = 199.618803, x1 = 3.792258, x2 = 3.136391, x3 = 2.037378, x4 = 6.768910)\n",
    "\n",
    "# 3) What the 25%, 50% and 75% represent?\n",
    "#Son los porcentajes de los datos %50 es el medio, 25% es la cuarta inferior y 75% es la cuarta superior\n"
   ]
  },
  {
   "cell_type": "markdown",
   "metadata": {},
   "source": [
    "Rename the columns using the same name with capital letters"
   ]
  },
  {
   "cell_type": "code",
   "execution_count": 13,
   "metadata": {},
   "outputs": [
    {
     "data": {
      "text/html": [
       "<div>\n",
       "<style scoped>\n",
       "    .dataframe tbody tr th:only-of-type {\n",
       "        vertical-align: middle;\n",
       "    }\n",
       "\n",
       "    .dataframe tbody tr th {\n",
       "        vertical-align: top;\n",
       "    }\n",
       "\n",
       "    .dataframe thead th {\n",
       "        text-align: right;\n",
       "    }\n",
       "</style>\n",
       "<table border=\"1\" class=\"dataframe\">\n",
       "  <thead>\n",
       "    <tr style=\"text-align: right;\">\n",
       "      <th></th>\n",
       "      <th>Unnamed: 0</th>\n",
       "      <th>X1</th>\n",
       "      <th>X2</th>\n",
       "      <th>X3</th>\n",
       "      <th>X4</th>\n",
       "    </tr>\n",
       "  </thead>\n",
       "  <tbody>\n",
       "    <tr>\n",
       "      <th>0</th>\n",
       "      <td>0</td>\n",
       "      <td>3.176724</td>\n",
       "      <td>4.778823</td>\n",
       "      <td>5.962702</td>\n",
       "      <td>9.976536</td>\n",
       "    </tr>\n",
       "    <tr>\n",
       "      <th>1</th>\n",
       "      <td>1</td>\n",
       "      <td>-2.956332</td>\n",
       "      <td>7.631484</td>\n",
       "      <td>5.624010</td>\n",
       "      <td>3.488498</td>\n",
       "    </tr>\n",
       "    <tr>\n",
       "      <th>2</th>\n",
       "      <td>2</td>\n",
       "      <td>-0.524444</td>\n",
       "      <td>3.176238</td>\n",
       "      <td>7.086700</td>\n",
       "      <td>1.436260</td>\n",
       "    </tr>\n",
       "    <tr>\n",
       "      <th>3</th>\n",
       "      <td>3</td>\n",
       "      <td>5.739686</td>\n",
       "      <td>5.335354</td>\n",
       "      <td>3.947252</td>\n",
       "      <td>9.313401</td>\n",
       "    </tr>\n",
       "    <tr>\n",
       "      <th>4</th>\n",
       "      <td>4</td>\n",
       "      <td>-3.192926</td>\n",
       "      <td>5.236729</td>\n",
       "      <td>7.358886</td>\n",
       "      <td>-0.485064</td>\n",
       "    </tr>\n",
       "    <tr>\n",
       "      <th>...</th>\n",
       "      <td>...</td>\n",
       "      <td>...</td>\n",
       "      <td>...</td>\n",
       "      <td>...</td>\n",
       "      <td>...</td>\n",
       "    </tr>\n",
       "    <tr>\n",
       "      <th>686</th>\n",
       "      <td>686</td>\n",
       "      <td>3.017215</td>\n",
       "      <td>5.256225</td>\n",
       "      <td>4.690471</td>\n",
       "      <td>8.637224</td>\n",
       "    </tr>\n",
       "    <tr>\n",
       "      <th>687</th>\n",
       "      <td>687</td>\n",
       "      <td>-2.232342</td>\n",
       "      <td>4.712279</td>\n",
       "      <td>4.741161</td>\n",
       "      <td>1.798194</td>\n",
       "    </tr>\n",
       "    <tr>\n",
       "      <th>688</th>\n",
       "      <td>688</td>\n",
       "      <td>-4.092138</td>\n",
       "      <td>-1.249167</td>\n",
       "      <td>4.073537</td>\n",
       "      <td>-7.756102</td>\n",
       "    </tr>\n",
       "    <tr>\n",
       "      <th>689</th>\n",
       "      <td>689</td>\n",
       "      <td>-1.978938</td>\n",
       "      <td>5.119876</td>\n",
       "      <td>8.077843</td>\n",
       "      <td>2.435772</td>\n",
       "    </tr>\n",
       "    <tr>\n",
       "      <th>690</th>\n",
       "      <td>690</td>\n",
       "      <td>-3.299477</td>\n",
       "      <td>-1.209389</td>\n",
       "      <td>3.256815</td>\n",
       "      <td>-6.708462</td>\n",
       "    </tr>\n",
       "  </tbody>\n",
       "</table>\n",
       "<p>691 rows × 5 columns</p>\n",
       "</div>"
      ],
      "text/plain": [
       "     Unnamed: 0        X1        X2        X3        X4\n",
       "0             0  3.176724  4.778823  5.962702  9.976536\n",
       "1             1 -2.956332  7.631484  5.624010  3.488498\n",
       "2             2 -0.524444  3.176238  7.086700  1.436260\n",
       "3             3  5.739686  5.335354  3.947252  9.313401\n",
       "4             4 -3.192926  5.236729  7.358886 -0.485064\n",
       "..          ...       ...       ...       ...       ...\n",
       "686         686  3.017215  5.256225  4.690471  8.637224\n",
       "687         687 -2.232342  4.712279  4.741161  1.798194\n",
       "688         688 -4.092138 -1.249167  4.073537 -7.756102\n",
       "689         689 -1.978938  5.119876  8.077843  2.435772\n",
       "690         690 -3.299477 -1.209389  3.256815 -6.708462\n",
       "\n",
       "[691 rows x 5 columns]"
      ]
     },
     "execution_count": 13,
     "metadata": {},
     "output_type": "execute_result"
    }
   ],
   "source": [
    "columns2 = df.rename(columns = {'x1': 'X1', 'x2': 'X2','x3':'X3','x4':'X4'}, inplace = False)\n",
    "\n",
    "columns2"
   ]
  },
  {
   "cell_type": "markdown",
   "metadata": {},
   "source": [
    "Rename the columns to their original names"
   ]
  },
  {
   "cell_type": "code",
   "execution_count": 14,
   "metadata": {},
   "outputs": [
    {
     "data": {
      "text/html": [
       "<div>\n",
       "<style scoped>\n",
       "    .dataframe tbody tr th:only-of-type {\n",
       "        vertical-align: middle;\n",
       "    }\n",
       "\n",
       "    .dataframe tbody tr th {\n",
       "        vertical-align: top;\n",
       "    }\n",
       "\n",
       "    .dataframe thead th {\n",
       "        text-align: right;\n",
       "    }\n",
       "</style>\n",
       "<table border=\"1\" class=\"dataframe\">\n",
       "  <thead>\n",
       "    <tr style=\"text-align: right;\">\n",
       "      <th></th>\n",
       "      <th>Unnamed: 0</th>\n",
       "      <th>x1</th>\n",
       "      <th>x2</th>\n",
       "      <th>x3</th>\n",
       "      <th>x4</th>\n",
       "    </tr>\n",
       "  </thead>\n",
       "  <tbody>\n",
       "    <tr>\n",
       "      <th>0</th>\n",
       "      <td>0</td>\n",
       "      <td>3.176724</td>\n",
       "      <td>4.778823</td>\n",
       "      <td>5.962702</td>\n",
       "      <td>9.976536</td>\n",
       "    </tr>\n",
       "    <tr>\n",
       "      <th>1</th>\n",
       "      <td>1</td>\n",
       "      <td>-2.956332</td>\n",
       "      <td>7.631484</td>\n",
       "      <td>5.624010</td>\n",
       "      <td>3.488498</td>\n",
       "    </tr>\n",
       "    <tr>\n",
       "      <th>2</th>\n",
       "      <td>2</td>\n",
       "      <td>-0.524444</td>\n",
       "      <td>3.176238</td>\n",
       "      <td>7.086700</td>\n",
       "      <td>1.436260</td>\n",
       "    </tr>\n",
       "    <tr>\n",
       "      <th>3</th>\n",
       "      <td>3</td>\n",
       "      <td>5.739686</td>\n",
       "      <td>5.335354</td>\n",
       "      <td>3.947252</td>\n",
       "      <td>9.313401</td>\n",
       "    </tr>\n",
       "    <tr>\n",
       "      <th>4</th>\n",
       "      <td>4</td>\n",
       "      <td>-3.192926</td>\n",
       "      <td>5.236729</td>\n",
       "      <td>7.358886</td>\n",
       "      <td>-0.485064</td>\n",
       "    </tr>\n",
       "    <tr>\n",
       "      <th>...</th>\n",
       "      <td>...</td>\n",
       "      <td>...</td>\n",
       "      <td>...</td>\n",
       "      <td>...</td>\n",
       "      <td>...</td>\n",
       "    </tr>\n",
       "    <tr>\n",
       "      <th>686</th>\n",
       "      <td>686</td>\n",
       "      <td>3.017215</td>\n",
       "      <td>5.256225</td>\n",
       "      <td>4.690471</td>\n",
       "      <td>8.637224</td>\n",
       "    </tr>\n",
       "    <tr>\n",
       "      <th>687</th>\n",
       "      <td>687</td>\n",
       "      <td>-2.232342</td>\n",
       "      <td>4.712279</td>\n",
       "      <td>4.741161</td>\n",
       "      <td>1.798194</td>\n",
       "    </tr>\n",
       "    <tr>\n",
       "      <th>688</th>\n",
       "      <td>688</td>\n",
       "      <td>-4.092138</td>\n",
       "      <td>-1.249167</td>\n",
       "      <td>4.073537</td>\n",
       "      <td>-7.756102</td>\n",
       "    </tr>\n",
       "    <tr>\n",
       "      <th>689</th>\n",
       "      <td>689</td>\n",
       "      <td>-1.978938</td>\n",
       "      <td>5.119876</td>\n",
       "      <td>8.077843</td>\n",
       "      <td>2.435772</td>\n",
       "    </tr>\n",
       "    <tr>\n",
       "      <th>690</th>\n",
       "      <td>690</td>\n",
       "      <td>-3.299477</td>\n",
       "      <td>-1.209389</td>\n",
       "      <td>3.256815</td>\n",
       "      <td>-6.708462</td>\n",
       "    </tr>\n",
       "  </tbody>\n",
       "</table>\n",
       "<p>691 rows × 5 columns</p>\n",
       "</div>"
      ],
      "text/plain": [
       "     Unnamed: 0        x1        x2        x3        x4\n",
       "0             0  3.176724  4.778823  5.962702  9.976536\n",
       "1             1 -2.956332  7.631484  5.624010  3.488498\n",
       "2             2 -0.524444  3.176238  7.086700  1.436260\n",
       "3             3  5.739686  5.335354  3.947252  9.313401\n",
       "4             4 -3.192926  5.236729  7.358886 -0.485064\n",
       "..          ...       ...       ...       ...       ...\n",
       "686         686  3.017215  5.256225  4.690471  8.637224\n",
       "687         687 -2.232342  4.712279  4.741161  1.798194\n",
       "688         688 -4.092138 -1.249167  4.073537 -7.756102\n",
       "689         689 -1.978938  5.119876  8.077843  2.435772\n",
       "690         690 -3.299477 -1.209389  3.256815 -6.708462\n",
       "\n",
       "[691 rows x 5 columns]"
      ]
     },
     "execution_count": 14,
     "metadata": {},
     "output_type": "execute_result"
    }
   ],
   "source": [
    "df.reindex()"
   ]
  },
  {
   "cell_type": "markdown",
   "metadata": {},
   "source": [
    "Use two different alternatives to get one of the columns"
   ]
  },
  {
   "cell_type": "code",
   "execution_count": 16,
   "metadata": {},
   "outputs": [
    {
     "name": "stdout",
     "output_type": "stream",
     "text": [
      "0      3.176724\n",
      "1     -2.956332\n",
      "2     -0.524444\n",
      "3      5.739686\n",
      "4     -3.192926\n",
      "         ...   \n",
      "686    3.017215\n",
      "687   -2.232342\n",
      "688   -4.092138\n",
      "689   -1.978938\n",
      "690   -3.299477\n",
      "Name: x1, Length: 691, dtype: float64\n"
     ]
    },
    {
     "data": {
      "text/html": [
       "<div>\n",
       "<style scoped>\n",
       "    .dataframe tbody tr th:only-of-type {\n",
       "        vertical-align: middle;\n",
       "    }\n",
       "\n",
       "    .dataframe tbody tr th {\n",
       "        vertical-align: top;\n",
       "    }\n",
       "\n",
       "    .dataframe thead th {\n",
       "        text-align: right;\n",
       "    }\n",
       "</style>\n",
       "<table border=\"1\" class=\"dataframe\">\n",
       "  <thead>\n",
       "    <tr style=\"text-align: right;\">\n",
       "      <th></th>\n",
       "      <th>x3</th>\n",
       "      <th>x4</th>\n",
       "    </tr>\n",
       "  </thead>\n",
       "  <tbody>\n",
       "    <tr>\n",
       "      <th>0</th>\n",
       "      <td>5.962702</td>\n",
       "      <td>9.976536</td>\n",
       "    </tr>\n",
       "    <tr>\n",
       "      <th>1</th>\n",
       "      <td>5.624010</td>\n",
       "      <td>3.488498</td>\n",
       "    </tr>\n",
       "    <tr>\n",
       "      <th>2</th>\n",
       "      <td>7.086700</td>\n",
       "      <td>1.436260</td>\n",
       "    </tr>\n",
       "    <tr>\n",
       "      <th>3</th>\n",
       "      <td>3.947252</td>\n",
       "      <td>9.313401</td>\n",
       "    </tr>\n",
       "    <tr>\n",
       "      <th>4</th>\n",
       "      <td>7.358886</td>\n",
       "      <td>-0.485064</td>\n",
       "    </tr>\n",
       "    <tr>\n",
       "      <th>...</th>\n",
       "      <td>...</td>\n",
       "      <td>...</td>\n",
       "    </tr>\n",
       "    <tr>\n",
       "      <th>686</th>\n",
       "      <td>4.690471</td>\n",
       "      <td>8.637224</td>\n",
       "    </tr>\n",
       "    <tr>\n",
       "      <th>687</th>\n",
       "      <td>4.741161</td>\n",
       "      <td>1.798194</td>\n",
       "    </tr>\n",
       "    <tr>\n",
       "      <th>688</th>\n",
       "      <td>4.073537</td>\n",
       "      <td>-7.756102</td>\n",
       "    </tr>\n",
       "    <tr>\n",
       "      <th>689</th>\n",
       "      <td>8.077843</td>\n",
       "      <td>2.435772</td>\n",
       "    </tr>\n",
       "    <tr>\n",
       "      <th>690</th>\n",
       "      <td>3.256815</td>\n",
       "      <td>-6.708462</td>\n",
       "    </tr>\n",
       "  </tbody>\n",
       "</table>\n",
       "<p>691 rows × 2 columns</p>\n",
       "</div>"
      ],
      "text/plain": [
       "           x3        x4\n",
       "0    5.962702  9.976536\n",
       "1    5.624010  3.488498\n",
       "2    7.086700  1.436260\n",
       "3    3.947252  9.313401\n",
       "4    7.358886 -0.485064\n",
       "..        ...       ...\n",
       "686  4.690471  8.637224\n",
       "687  4.741161  1.798194\n",
       "688  4.073537 -7.756102\n",
       "689  8.077843  2.435772\n",
       "690  3.256815 -6.708462\n",
       "\n",
       "[691 rows x 2 columns]"
      ]
     },
     "execution_count": 16,
     "metadata": {},
     "output_type": "execute_result"
    }
   ],
   "source": [
    "print(df.loc[:, \"x1\"])\n",
    "\n",
    "df[[\"x3\",\"x4\"]]"
   ]
  },
  {
   "cell_type": "markdown",
   "metadata": {},
   "source": [
    "Get a slice of your data set: second and thrid columns and rows from 62 to 72"
   ]
  },
  {
   "cell_type": "code",
   "execution_count": 24,
   "metadata": {},
   "outputs": [
    {
     "data": {
      "text/html": [
       "<div>\n",
       "<style scoped>\n",
       "    .dataframe tbody tr th:only-of-type {\n",
       "        vertical-align: middle;\n",
       "    }\n",
       "\n",
       "    .dataframe tbody tr th {\n",
       "        vertical-align: top;\n",
       "    }\n",
       "\n",
       "    .dataframe thead th {\n",
       "        text-align: right;\n",
       "    }\n",
       "</style>\n",
       "<table border=\"1\" class=\"dataframe\">\n",
       "  <thead>\n",
       "    <tr style=\"text-align: right;\">\n",
       "      <th></th>\n",
       "      <th>x2</th>\n",
       "      <th>x3</th>\n",
       "    </tr>\n",
       "  </thead>\n",
       "  <tbody>\n",
       "    <tr>\n",
       "      <th>62</th>\n",
       "      <td>-2.986406</td>\n",
       "      <td>3.281840</td>\n",
       "    </tr>\n",
       "    <tr>\n",
       "      <th>63</th>\n",
       "      <td>3.567764</td>\n",
       "      <td>5.782242</td>\n",
       "    </tr>\n",
       "    <tr>\n",
       "      <th>64</th>\n",
       "      <td>0.140697</td>\n",
       "      <td>5.674618</td>\n",
       "    </tr>\n",
       "    <tr>\n",
       "      <th>65</th>\n",
       "      <td>7.901218</td>\n",
       "      <td>6.121628</td>\n",
       "    </tr>\n",
       "    <tr>\n",
       "      <th>66</th>\n",
       "      <td>5.640466</td>\n",
       "      <td>9.429337</td>\n",
       "    </tr>\n",
       "    <tr>\n",
       "      <th>67</th>\n",
       "      <td>2.344168</td>\n",
       "      <td>8.084297</td>\n",
       "    </tr>\n",
       "    <tr>\n",
       "      <th>68</th>\n",
       "      <td>1.627815</td>\n",
       "      <td>2.050941</td>\n",
       "    </tr>\n",
       "    <tr>\n",
       "      <th>69</th>\n",
       "      <td>3.966636</td>\n",
       "      <td>4.736526</td>\n",
       "    </tr>\n",
       "    <tr>\n",
       "      <th>70</th>\n",
       "      <td>4.662414</td>\n",
       "      <td>5.890326</td>\n",
       "    </tr>\n",
       "    <tr>\n",
       "      <th>71</th>\n",
       "      <td>1.047902</td>\n",
       "      <td>4.621120</td>\n",
       "    </tr>\n",
       "    <tr>\n",
       "      <th>72</th>\n",
       "      <td>3.447434</td>\n",
       "      <td>5.648407</td>\n",
       "    </tr>\n",
       "  </tbody>\n",
       "</table>\n",
       "</div>"
      ],
      "text/plain": [
       "          x2        x3\n",
       "62 -2.986406  3.281840\n",
       "63  3.567764  5.782242\n",
       "64  0.140697  5.674618\n",
       "65  7.901218  6.121628\n",
       "66  5.640466  9.429337\n",
       "67  2.344168  8.084297\n",
       "68  1.627815  2.050941\n",
       "69  3.966636  4.736526\n",
       "70  4.662414  5.890326\n",
       "71  1.047902  4.621120\n",
       "72  3.447434  5.648407"
      ]
     },
     "execution_count": 24,
     "metadata": {},
     "output_type": "execute_result"
    }
   ],
   "source": [
    "df.loc[62:72,[\"x2\",\"x3\"]]"
   ]
  },
  {
   "cell_type": "markdown",
   "metadata": {},
   "source": [
    "For the second and thrid columns, calculate the number of null and not null values and verify that their sum equals the total number of rows"
   ]
  },
  {
   "cell_type": "code",
   "execution_count": 19,
   "metadata": {},
   "outputs": [
    {
     "name": "stdout",
     "output_type": "stream",
     "text": [
      "691\n",
      "691\n"
     ]
    }
   ],
   "source": [
    "print( df.x2.notnull().sum() )\n",
    "print( df.x3.notnull().sum() )"
   ]
  },
  {
   "cell_type": "code",
   "execution_count": 18,
   "metadata": {},
   "outputs": [
    {
     "name": "stdout",
     "output_type": "stream",
     "text": [
      "0\n",
      "0\n"
     ]
    }
   ],
   "source": [
    "print( df.x2.isnull().sum() )\n",
    "print( df.x3.isnull().sum() )"
   ]
  },
  {
   "cell_type": "markdown",
   "metadata": {},
   "source": [
    "Discard the last column\n"
   ]
  },
  {
   "cell_type": "code",
   "execution_count": 21,
   "metadata": {},
   "outputs": [
    {
     "data": {
      "text/html": [
       "<div>\n",
       "<style scoped>\n",
       "    .dataframe tbody tr th:only-of-type {\n",
       "        vertical-align: middle;\n",
       "    }\n",
       "\n",
       "    .dataframe tbody tr th {\n",
       "        vertical-align: top;\n",
       "    }\n",
       "\n",
       "    .dataframe thead th {\n",
       "        text-align: right;\n",
       "    }\n",
       "</style>\n",
       "<table border=\"1\" class=\"dataframe\">\n",
       "  <thead>\n",
       "    <tr style=\"text-align: right;\">\n",
       "      <th></th>\n",
       "      <th>x1</th>\n",
       "      <th>x2</th>\n",
       "      <th>x3</th>\n",
       "    </tr>\n",
       "  </thead>\n",
       "  <tbody>\n",
       "    <tr>\n",
       "      <th>0</th>\n",
       "      <td>3.176724</td>\n",
       "      <td>4.778823</td>\n",
       "      <td>5.962702</td>\n",
       "    </tr>\n",
       "    <tr>\n",
       "      <th>1</th>\n",
       "      <td>-2.956332</td>\n",
       "      <td>7.631484</td>\n",
       "      <td>5.624010</td>\n",
       "    </tr>\n",
       "    <tr>\n",
       "      <th>2</th>\n",
       "      <td>-0.524444</td>\n",
       "      <td>3.176238</td>\n",
       "      <td>7.086700</td>\n",
       "    </tr>\n",
       "    <tr>\n",
       "      <th>3</th>\n",
       "      <td>5.739686</td>\n",
       "      <td>5.335354</td>\n",
       "      <td>3.947252</td>\n",
       "    </tr>\n",
       "    <tr>\n",
       "      <th>4</th>\n",
       "      <td>-3.192926</td>\n",
       "      <td>5.236729</td>\n",
       "      <td>7.358886</td>\n",
       "    </tr>\n",
       "    <tr>\n",
       "      <th>...</th>\n",
       "      <td>...</td>\n",
       "      <td>...</td>\n",
       "      <td>...</td>\n",
       "    </tr>\n",
       "    <tr>\n",
       "      <th>686</th>\n",
       "      <td>3.017215</td>\n",
       "      <td>5.256225</td>\n",
       "      <td>4.690471</td>\n",
       "    </tr>\n",
       "    <tr>\n",
       "      <th>687</th>\n",
       "      <td>-2.232342</td>\n",
       "      <td>4.712279</td>\n",
       "      <td>4.741161</td>\n",
       "    </tr>\n",
       "    <tr>\n",
       "      <th>688</th>\n",
       "      <td>-4.092138</td>\n",
       "      <td>-1.249167</td>\n",
       "      <td>4.073537</td>\n",
       "    </tr>\n",
       "    <tr>\n",
       "      <th>689</th>\n",
       "      <td>-1.978938</td>\n",
       "      <td>5.119876</td>\n",
       "      <td>8.077843</td>\n",
       "    </tr>\n",
       "    <tr>\n",
       "      <th>690</th>\n",
       "      <td>-3.299477</td>\n",
       "      <td>-1.209389</td>\n",
       "      <td>3.256815</td>\n",
       "    </tr>\n",
       "  </tbody>\n",
       "</table>\n",
       "<p>691 rows × 3 columns</p>\n",
       "</div>"
      ],
      "text/plain": [
       "           x1        x2        x3\n",
       "0    3.176724  4.778823  5.962702\n",
       "1   -2.956332  7.631484  5.624010\n",
       "2   -0.524444  3.176238  7.086700\n",
       "3    5.739686  5.335354  3.947252\n",
       "4   -3.192926  5.236729  7.358886\n",
       "..        ...       ...       ...\n",
       "686  3.017215  5.256225  4.690471\n",
       "687 -2.232342  4.712279  4.741161\n",
       "688 -4.092138 -1.249167  4.073537\n",
       "689 -1.978938  5.119876  8.077843\n",
       "690 -3.299477 -1.209389  3.256815\n",
       "\n",
       "[691 rows x 3 columns]"
      ]
     },
     "execution_count": 21,
     "metadata": {},
     "output_type": "execute_result"
    }
   ],
   "source": [
    "df.drop(['x4'],axis='columns',inplace=True)\n",
    "df"
   ]
  },
  {
   "cell_type": "markdown",
   "metadata": {},
   "source": [
    "### Questions \n",
    "\n",
    "Based on the previos results, provide a description of yout dataset\n",
    "\n",
    "Your response: Por lo visto y la falta de descripcion en la columnas lo unico que podemos decir de esta dataset es que tiene 691 filas y 5 columnas, los datos podrian ser de un experimento que se repitio 691 veces con cinco situaciones distintas pero solo se puede suponer\n",
    "\n",
    "\n"
   ]
  },
  {
   "cell_type": "markdown",
   "metadata": {},
   "source": [
    "# A3 Data visualization"
   ]
  },
  {
   "cell_type": "markdown",
   "metadata": {},
   "source": [
    "Plot in the same figure the histogram of the two variables"
   ]
  },
  {
   "cell_type": "code",
   "execution_count": 51,
   "metadata": {},
   "outputs": [
    {
     "data": {
      "image/png": "[encoded data removed]",
      "text/plain": [
       "<Figure size 432x288 with 1 Axes>"
      ]
     },
     "metadata": {
      "needs_background": "light"
     },
     "output_type": "display_data"
    }
   ],
   "source": [
    "sns.distplot(df[\"x2\"], kde = False)\n",
    "dfhs = sns.distplot(df[\"x3\"], kde = False)\n",
    "plt.show()\n"
   ]
  },
  {
   "cell_type": "markdown",
   "metadata": {},
   "source": [
    "Based on this plots, provide a description of your data:\n",
    "\n",
    "Your response here: Se puede ver que la tabla x3 llega a tener valores mas altos que x2 pero en la tabla x2 se repiten mas veces ciertos valores en especifico 5"
   ]
  },
  {
   "cell_type": "markdown",
   "metadata": {},
   "source": [
    "Plot in the same figure the boxplot of the two variables "
   ]
  },
  {
   "cell_type": "code",
   "execution_count": 32,
   "metadata": {},
   "outputs": [
    {
     "data": {
      "image/png": "[encoded data removed]",
      "text/plain": [
       "<Figure size 432x288 with 1 Axes>"
      ]
     },
     "metadata": {
      "needs_background": "light"
     },
     "output_type": "display_data"
    }
   ],
   "source": [
    "xdf = df.loc[:, [\"x2\", \"x3\"]]\n",
    "\n",
    "dfbp = sns.boxplot(data= xdf, orient = \"h\")\n",
    "plt.show()"
   ]
  },
  {
   "cell_type": "markdown",
   "metadata": {},
   "source": [
    "Scatter plot of the two variables"
   ]
  },
  {
   "cell_type": "code",
   "execution_count": 33,
   "metadata": {},
   "outputs": [
    {
     "data": {
      "image/png": "[encoded data removed]",
      "text/plain": [
       "<Figure size 432x288 with 1 Axes>"
      ]
     },
     "metadata": {
      "needs_background": "light"
     },
     "output_type": "display_data"
    }
   ],
   "source": [
    "plt.scatter(df.x2,df.x3)\n",
    "plt.show()"
   ]
  },
  {
   "cell_type": "markdown",
   "metadata": {},
   "source": [
    "### Questions \n",
    "\n",
    "Based on the previos plots, provide a description of yout dataset\n",
    "\n",
    "Your response: Aunque puede parecer que los puntos estan muy juntos para poder dividirse en distintos grupos se puede ver una clara agrupacion en tres puntos, esto significa que hay tres grupos en esta base de datos\n",
    "\n",
    "\n"
   ]
  },
  {
   "cell_type": "markdown",
   "metadata": {},
   "source": [
    "# A4 Kmeans"
   ]
  },
  {
   "cell_type": "markdown",
   "metadata": {},
   "source": [
    "Do Kmeans clustering assuming a number of clusters accorging to your scatter plot"
   ]
  },
  {
   "cell_type": "code",
   "execution_count": 58,
   "metadata": {},
   "outputs": [
    {
     "data": {
      "text/plain": [
       "array([2, 0, 2, 2, 0, 0, 1, 1, 1, 2, 2, 1, 2, 2, 2, 0, 2, 1, 1, 2, 1, 0,\n",
       "       1, 0, 1, 1, 2, 0, 1, 2, 2, 2, 2, 1, 1, 0, 1, 0, 1, 2, 0, 0, 2, 0,\n",
       "       0, 0, 0, 0, 1, 2, 0, 0, 0, 1, 1, 0, 0, 2, 0, 1, 0, 1, 1, 2, 1, 0,\n",
       "       0, 2, 1, 2, 2, 1, 2, 2, 1, 0, 2, 1, 1, 0, 1, 0, 2, 2, 1, 0, 2, 1,\n",
       "       1, 1, 1, 0, 0, 1, 1, 0, 0, 2, 0, 1, 0, 1, 1, 0, 1, 1, 2, 0, 2, 1,\n",
       "       2, 2, 1, 2, 2, 0, 2, 2, 0, 1, 1, 1, 0, 0, 1, 1, 2, 2, 1, 2, 2, 2,\n",
       "       0, 0, 2, 0, 1, 0, 2, 0, 1, 1, 0, 2, 1, 0, 2, 0, 0, 2, 1, 0, 2, 2,\n",
       "       1, 2, 1, 0, 1, 0, 2, 2, 0, 0, 0, 1, 1, 0, 0, 2, 2, 1, 2, 0, 0, 2,\n",
       "       2, 1, 1, 1, 0, 2, 2, 0, 0, 1, 2, 0, 1, 2, 1, 0, 2, 2, 2, 1, 2, 1,\n",
       "       0, 0, 2, 1, 2, 0, 2, 0, 1, 0, 2, 2, 0, 2, 2, 1, 1, 2, 1, 2, 0, 0,\n",
       "       1, 0, 1, 1, 2, 1, 2, 0, 0, 2, 0, 2, 1, 2, 1, 1, 1, 1, 2, 2, 2, 2,\n",
       "       0, 1, 0, 2, 2, 0, 0, 0, 2, 1, 1, 1, 0, 1, 2, 2, 0, 1, 0, 2, 1, 2,\n",
       "       1, 0, 1, 2, 0, 0, 0, 0, 0, 0, 2, 0, 0, 2, 2, 1, 0, 0, 2, 2, 1, 2,\n",
       "       1, 2, 1, 2, 1, 0, 2, 2, 2, 1, 1, 2, 1, 2, 1, 2, 1, 1, 1, 1, 0, 1,\n",
       "       0, 1, 0, 1, 1, 1, 2, 0, 2, 1, 2, 0, 1, 0, 2, 2, 2, 1, 0, 1, 0, 0,\n",
       "       0, 2, 2, 0, 1, 1, 2, 0, 0, 1, 1, 1, 2, 1, 2, 1, 1, 0, 2, 1, 2, 0,\n",
       "       0, 2, 0, 0, 2, 1, 0, 2, 2, 2, 0, 2, 1, 1, 1, 0, 0, 0, 0, 0, 1, 0,\n",
       "       2, 1, 1, 2, 1, 2, 2, 0, 0, 0, 0, 1, 0, 0, 2, 1, 0, 0, 2, 0, 1, 2,\n",
       "       2, 1, 2, 0, 2, 0, 0, 0, 2, 2, 1, 0, 2, 2, 1, 1, 2, 2, 2, 0, 0, 1,\n",
       "       1, 1, 0, 2, 2, 0, 1, 1, 0, 0, 0, 2, 1, 2, 0, 0, 1, 1, 2, 2, 0, 0,\n",
       "       1, 2, 0, 2, 2, 2, 2, 2, 1, 0, 1, 2, 2, 0, 0, 1, 2, 2, 0, 2, 2, 2,\n",
       "       1, 0, 1, 0, 2, 1, 1, 1, 2, 2, 1, 0, 0, 2, 1, 1, 2, 2, 2, 1, 0, 0,\n",
       "       2, 1, 2, 1, 0, 1, 1, 2, 2, 2, 0, 0, 1, 2, 1, 2, 2, 2, 2, 1, 0, 1,\n",
       "       0, 2, 0, 0, 1, 0, 2, 0, 2, 1, 1, 0, 2, 0, 1, 2, 1, 2, 0, 2, 0, 0,\n",
       "       0, 2, 0, 1, 0, 0, 2, 2, 0, 1, 2, 1, 2, 1, 1, 2, 2, 0, 0, 2, 2, 1,\n",
       "       1, 2, 2, 2, 2, 2, 0, 2, 1, 2, 0, 2, 1, 2, 2, 0, 0, 1, 1, 2, 2, 1,\n",
       "       2, 0, 1, 0, 2, 2, 2, 0, 2, 0, 1, 1, 2, 0, 1, 0, 1, 2, 2, 1, 2, 2,\n",
       "       2, 2, 0, 1, 1, 2, 0, 1, 2, 1, 1, 1, 2, 2, 2, 2, 2, 1, 0, 0, 1, 2,\n",
       "       0, 2, 1, 2, 2, 0, 0, 2, 1, 1, 0, 2, 2, 2, 0, 2, 0, 2, 1, 0, 2, 1,\n",
       "       2, 2, 2, 2, 2, 2, 2, 2, 2, 1, 1, 2, 0, 2, 0, 2, 1, 2, 0, 1, 1, 0,\n",
       "       1, 2, 0, 1, 1, 2, 1, 2, 2, 2, 2, 1, 1, 1, 1, 1, 2, 0, 2, 0, 1, 0,\n",
       "       1, 1, 1, 2, 2, 2, 1, 0, 1])"
      ]
     },
     "execution_count": 58,
     "metadata": {},
     "output_type": "execute_result"
    }
   ],
   "source": [
    "from sklearn.cluster import KMeans\n",
    "\n",
    "km = KMeans(n_clusters=3)\n",
    "yp = km.fit_predict(df[['x2','x3']])\n",
    "yp"
   ]
  },
  {
   "cell_type": "markdown",
   "metadata": {},
   "source": [
    "Add to your dataset a column with the assihned cluster to each data point"
   ]
  },
  {
   "cell_type": "code",
   "execution_count": 59,
   "metadata": {},
   "outputs": [
    {
     "data": {
      "text/html": [
       "<div>\n",
       "<style scoped>\n",
       "    .dataframe tbody tr th:only-of-type {\n",
       "        vertical-align: middle;\n",
       "    }\n",
       "\n",
       "    .dataframe tbody tr th {\n",
       "        vertical-align: top;\n",
       "    }\n",
       "\n",
       "    .dataframe thead th {\n",
       "        text-align: right;\n",
       "    }\n",
       "</style>\n",
       "<table border=\"1\" class=\"dataframe\">\n",
       "  <thead>\n",
       "    <tr style=\"text-align: right;\">\n",
       "      <th></th>\n",
       "      <th>x1</th>\n",
       "      <th>x2</th>\n",
       "      <th>x3</th>\n",
       "      <th>Clusters</th>\n",
       "    </tr>\n",
       "  </thead>\n",
       "  <tbody>\n",
       "    <tr>\n",
       "      <th>0</th>\n",
       "      <td>3.176724</td>\n",
       "      <td>4.778823</td>\n",
       "      <td>5.962702</td>\n",
       "      <td>2</td>\n",
       "    </tr>\n",
       "    <tr>\n",
       "      <th>1</th>\n",
       "      <td>-2.956332</td>\n",
       "      <td>7.631484</td>\n",
       "      <td>5.624010</td>\n",
       "      <td>0</td>\n",
       "    </tr>\n",
       "    <tr>\n",
       "      <th>2</th>\n",
       "      <td>-0.524444</td>\n",
       "      <td>3.176238</td>\n",
       "      <td>7.086700</td>\n",
       "      <td>2</td>\n",
       "    </tr>\n",
       "    <tr>\n",
       "      <th>3</th>\n",
       "      <td>5.739686</td>\n",
       "      <td>5.335354</td>\n",
       "      <td>3.947252</td>\n",
       "      <td>2</td>\n",
       "    </tr>\n",
       "    <tr>\n",
       "      <th>4</th>\n",
       "      <td>-3.192926</td>\n",
       "      <td>5.236729</td>\n",
       "      <td>7.358886</td>\n",
       "      <td>0</td>\n",
       "    </tr>\n",
       "    <tr>\n",
       "      <th>...</th>\n",
       "      <td>...</td>\n",
       "      <td>...</td>\n",
       "      <td>...</td>\n",
       "      <td>...</td>\n",
       "    </tr>\n",
       "    <tr>\n",
       "      <th>686</th>\n",
       "      <td>3.017215</td>\n",
       "      <td>5.256225</td>\n",
       "      <td>4.690471</td>\n",
       "      <td>2</td>\n",
       "    </tr>\n",
       "    <tr>\n",
       "      <th>687</th>\n",
       "      <td>-2.232342</td>\n",
       "      <td>4.712279</td>\n",
       "      <td>4.741161</td>\n",
       "      <td>2</td>\n",
       "    </tr>\n",
       "    <tr>\n",
       "      <th>688</th>\n",
       "      <td>-4.092138</td>\n",
       "      <td>-1.249167</td>\n",
       "      <td>4.073537</td>\n",
       "      <td>1</td>\n",
       "    </tr>\n",
       "    <tr>\n",
       "      <th>689</th>\n",
       "      <td>-1.978938</td>\n",
       "      <td>5.119876</td>\n",
       "      <td>8.077843</td>\n",
       "      <td>0</td>\n",
       "    </tr>\n",
       "    <tr>\n",
       "      <th>690</th>\n",
       "      <td>-3.299477</td>\n",
       "      <td>-1.209389</td>\n",
       "      <td>3.256815</td>\n",
       "      <td>1</td>\n",
       "    </tr>\n",
       "  </tbody>\n",
       "</table>\n",
       "<p>691 rows × 4 columns</p>\n",
       "</div>"
      ],
      "text/plain": [
       "           x1        x2        x3  Clusters\n",
       "0    3.176724  4.778823  5.962702         2\n",
       "1   -2.956332  7.631484  5.624010         0\n",
       "2   -0.524444  3.176238  7.086700         2\n",
       "3    5.739686  5.335354  3.947252         2\n",
       "4   -3.192926  5.236729  7.358886         0\n",
       "..        ...       ...       ...       ...\n",
       "686  3.017215  5.256225  4.690471         2\n",
       "687 -2.232342  4.712279  4.741161         2\n",
       "688 -4.092138 -1.249167  4.073537         1\n",
       "689 -1.978938  5.119876  8.077843         0\n",
       "690 -3.299477 -1.209389  3.256815         1\n",
       "\n",
       "[691 rows x 4 columns]"
      ]
     },
     "execution_count": 59,
     "metadata": {},
     "output_type": "execute_result"
    }
   ],
   "source": [
    "df['Clusters'] = yp\n",
    "df"
   ]
  },
  {
   "cell_type": "markdown",
   "metadata": {},
   "source": [
    "Print the number associated to each cluster"
   ]
  },
  {
   "cell_type": "code",
   "execution_count": 60,
   "metadata": {},
   "outputs": [
    {
     "data": {
      "text/plain": [
       "array([2, 0, 1])"
      ]
     },
     "execution_count": 60,
     "metadata": {},
     "output_type": "execute_result"
    }
   ],
   "source": [
    "df.Clusters.unique()"
   ]
  },
  {
   "cell_type": "markdown",
   "metadata": {},
   "source": [
    "Print the centroids"
   ]
  },
  {
   "cell_type": "code",
   "execution_count": 61,
   "metadata": {},
   "outputs": [
    {
     "data": {
      "text/plain": [
       "array([[ 6.20104722,  8.11669126],\n",
       "       [-0.71104982,  4.39950626],\n",
       "       [ 4.26319396,  5.86885323]])"
      ]
     },
     "execution_count": 61,
     "metadata": {},
     "output_type": "execute_result"
    }
   ],
   "source": [
    "km.cluster_centers_"
   ]
  },
  {
   "cell_type": "markdown",
   "metadata": {},
   "source": [
    "Print the intertia metric"
   ]
  },
  {
   "cell_type": "code",
   "execution_count": 62,
   "metadata": {},
   "outputs": [
    {
     "data": {
      "text/plain": [
       "2581.698773367363"
      ]
     },
     "execution_count": 62,
     "metadata": {},
     "output_type": "execute_result"
    }
   ],
   "source": [
    "km.inertia_"
   ]
  },
  {
   "cell_type": "markdown",
   "metadata": {},
   "source": [
    "Plot a scatter plot of your data assigned to each cluster. Also plot the centroids"
   ]
  },
  {
   "cell_type": "code",
   "execution_count": 64,
   "metadata": {},
   "outputs": [
    {
     "name": "stderr",
     "output_type": "stream",
     "text": [
      "<ipython-input-64-754c5e15a8a5>:5: MatplotlibDeprecationWarning: Case-insensitive properties were deprecated in 3.3 and support will be removed two minor releases later\n",
      "  plt.scatter(df1.x2, df1.x3, Label='Cluster 1')\n",
      "<ipython-input-64-754c5e15a8a5>:6: MatplotlibDeprecationWarning: Case-insensitive properties were deprecated in 3.3 and support will be removed two minor releases later\n",
      "  plt.scatter(df2.x2, df2.x3, Label='Cluster 2')\n",
      "<ipython-input-64-754c5e15a8a5>:7: MatplotlibDeprecationWarning: Case-insensitive properties were deprecated in 3.3 and support will be removed two minor releases later\n",
      "  plt.scatter(df3.x2, df3.x3, Label='Cluster 3')\n"
     ]
    },
    {
     "data": {
      "image/png": "[encoded data removed]",
      "text/plain": [
       "<Figure size 432x288 with 1 Axes>"
      ]
     },
     "metadata": {
      "needs_background": "light"
     },
     "output_type": "display_data"
    }
   ],
   "source": [
    "df1 = df[df.Clusters==0]\n",
    "df2 = df[df.Clusters==1]\n",
    "df3 = df[df.Clusters==2]\n",
    "\n",
    "plt.scatter(df1.x2, df1.x3, Label='Cluster 1')\n",
    "plt.scatter(df2.x2, df2.x3, Label='Cluster 2')\n",
    "plt.scatter(df3.x2, df3.x3, Label='Cluster 3')\n",
    "\n",
    "\n",
    "plt.scatter(km.cluster_centers_[:,0], km.cluster_centers_[:,1], color='magenta', marker='*', label='Centroides', s=256)\n",
    "\n",
    "plt.legend()\n",
    "plt.show()"
   ]
  },
  {
   "cell_type": "markdown",
   "metadata": {},
   "source": [
    "### Questions \n",
    "\n",
    "Provides a detailed description of your results\n",
    "\n",
    "Your response: Ya con los tres grupos mas definidos en el scatterplot se pueden ver los tres tipos de variables tambien se pueden ver claramente los centros de estos cluster\n"
   ]
  },
  {
   "cell_type": "markdown",
   "metadata": {},
   "source": [
    "# A4 Elbow plot\n",
    "\n",
    "Compute the Elbow plot"
   ]
  },
  {
   "cell_type": "code",
   "execution_count": 65,
   "metadata": {},
   "outputs": [
    {
     "name": "stderr",
     "output_type": "stream",
     "text": [
      "C:\\Users\\geraq\\anaconda3\\lib\\site-packages\\sklearn\\cluster\\_kmeans.py:881: UserWarning: KMeans is known to have a memory leak on Windows with MKL, when there are less chunks than available threads. You can avoid it by setting the environment variable OMP_NUM_THREADS=3.\n",
      "  warnings.warn(\n"
     ]
    }
   ],
   "source": [
    "sse = []\n",
    "k_rng = range(1,10)\n",
    "for k in k_rng:\n",
    "    km = KMeans(n_clusters=k)\n",
    "    km.fit_predict(df[['x2','x3']])\n",
    "    sse.append(km.inertia_)"
   ]
  },
  {
   "cell_type": "code",
   "execution_count": 66,
   "metadata": {},
   "outputs": [
    {
     "data": {
      "image/png": "[encoded data removed]",
      "text/plain": [
       "<Figure size 432x288 with 1 Axes>"
      ]
     },
     "metadata": {
      "needs_background": "light"
     },
     "output_type": "display_data"
    }
   ],
   "source": [
    "plt.plot(k_rng,sse)\n",
    "\n",
    "plt.show()"
   ]
  },
  {
   "cell_type": "markdown",
   "metadata": {},
   "source": [
    "### Questions \n",
    "\n",
    "What is the best number of clusters K? (argue your response)\n",
    "\n",
    "Your response:Mi respuesta es 3 ya que se muestra como se acerca mas rapido al punto cero, a diferencia de los puntos adelantes de este que cada vez se acercan mas lento\n",
    "\n",
    "\n",
    "Does this number of clusters agree with your inital guess? (argue your response)\n",
    "\n",
    "Your response:Si, elegi este numero al ver mis datos originales\n",
    "\n"
   ]
  },
  {
   "cell_type": "markdown",
   "metadata": {},
   "source": [
    "# BONUS"
   ]
  },
  {
   "cell_type": "markdown",
   "metadata": {},
   "source": [
    "1) Generate some data using the \"make_blobs\" function from \"sklearn.datasets\"\n",
    "\n",
    "- The number of observations is equal to the three last digits in your ID\n",
    "\n",
    "- 2 variables\n",
    "\n",
    "- 4 clusters\n",
    "\n",
    "- Standar deviation of each cluster of 1.5\n",
    "\n"
   ]
  },
  {
   "cell_type": "code",
   "execution_count": null,
   "metadata": {},
   "outputs": [],
   "source": []
  },
  {
   "cell_type": "markdown",
   "metadata": {},
   "source": [
    "2) Plot the scatter plot of your data using the real cluster labels"
   ]
  },
  {
   "cell_type": "code",
   "execution_count": null,
   "metadata": {},
   "outputs": [],
   "source": []
  },
  {
   "cell_type": "markdown",
   "metadata": {},
   "source": [
    "3) Do K means clustering "
   ]
  },
  {
   "cell_type": "code",
   "execution_count": null,
   "metadata": {},
   "outputs": [],
   "source": []
  },
  {
   "cell_type": "markdown",
   "metadata": {},
   "source": [
    "4) Plot the scatter plot of your data using the estimated cluster labels"
   ]
  },
  {
   "cell_type": "code",
   "execution_count": null,
   "metadata": {},
   "outputs": [],
   "source": []
  },
  {
   "cell_type": "markdown",
   "metadata": {},
   "source": [
    "### Questions \n",
    "\n",
    "Provides a detailed description of your results.\n",
    "\n",
    "Your response:"
   ]
  },
  {
   "cell_type": "markdown",
   "metadata": {},
   "source": [
    "# Descipcion de tu percepcion del nivel de desarrollo de la subcompetencia \n",
    "\n",
    "### SING0202A Interpretación de variables\n"
   ]
  },
  {
   "cell_type": "markdown",
   "metadata": {},
   "source": [
    "Escribe tu description del nivel de logro del siguiente criterio de la subcompetencia\n",
    "\n",
    "**Interpreta interacciones**. Interpreta interacciones entre variables relevantes en un problema, como base para la construcción de modelos bivariados basados en datos de un fenómeno investigado que le permita reproducir la respuesta del mismo."
   ]
  },
  {
   "cell_type": "markdown",
   "metadata": {},
   "source": [
    "Tu respuesta:"
   ]
  },
  {
   "cell_type": "markdown",
   "metadata": {},
   "source": [
    "Escribe tu description del nivel de logro del siguiente criterio de la subcompetencia\n",
    "\n",
    "**Construcción de modelos**. Es capaz de construir modelos bivariados que expliquen el comportamiento de un fenómeno."
   ]
  },
  {
   "cell_type": "markdown",
   "metadata": {},
   "source": [
    "Tu respuesta:"
   ]
  },
  {
   "cell_type": "code",
   "execution_count": null,
   "metadata": {},
   "outputs": [],
   "source": []
  }
 ],
 "metadata": {
  "kernelspec": {
   "display_name": "Python 3",
   "language": "python",
   "name": "python3"
  },
  "language_info": {
   "codemirror_mode": {
    "name": "ipython",
    "version": 3
   },
   "file_extension": ".py",
   "mimetype": "text/x-python",
   "name": "python",
   "nbconvert_exporter": "python",
   "pygments_lexer": "ipython3",
   "version": "3.8.8"
  }
 },
 "nbformat": 4,
 "nbformat_minor": 2
}
