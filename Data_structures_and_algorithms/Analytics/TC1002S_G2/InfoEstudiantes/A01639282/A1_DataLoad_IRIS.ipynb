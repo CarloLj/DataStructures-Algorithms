{
 "cells": [
  {
   "cell_type": "markdown",
   "metadata": {},
   "source": [
    "# Undertanding the Iris data set\n",
    "\n",
    "The notebook aims to undertand the content of the Iris data set.\n",
    "\n",
    "\n",
    "## Acknowledgments\n",
    "\n",
    "- Data from https://www.coursera.org/ from the course \"Understanding and Visualizing Data with Python\" by University of Michigan\n"
   ]
  },
  {
   "cell_type": "markdown",
   "metadata": {},
   "source": [
    "# Iris data set"
   ]
  },
  {
   "cell_type": "markdown",
   "metadata": {},
   "source": [
    "# Importing and inspecting the data"
   ]
  },
  {
   "cell_type": "code",
   "execution_count": 16,
   "metadata": {},
   "outputs": [],
   "source": [
    "# Import the packages that we will be using\n",
    "import pandas as pd\n",
    "import seaborn as sns\n",
    "\n",
    "# Dataset url\n",
    "ruta = \"datasets/iris/irisFinal.csv\"\n",
    "\n",
    "# Load the dataset\n",
    "df = pd.read_csv(ruta)"
   ]
  },
  {
   "cell_type": "code",
   "execution_count": 25,
   "metadata": {},
   "outputs": [
    {
     "name": "stdout",
     "output_type": "stream",
     "text": [
      "Número de filas: 150 \n",
      "Número de columnas: 5\n",
      "\n",
      "Iris-versicolor    50\n",
      "Iris-virginica     50\n",
      "Iris-setosa        50\n",
      "Name: Class, dtype: int64\n",
      "\n",
      "SepalLength    float64\n",
      "SepalWidth     float64\n",
      "PetalLength    float64\n",
      "PetalWidth     float64\n",
      "Class           object\n",
      "dtype: object\n",
      "\n",
      "       SepalLength  SepalWidth  PetalLength  PetalWidth\n",
      "count   150.000000  150.000000   150.000000  150.000000\n",
      "mean      5.843333    3.057333     3.758000    1.199333\n",
      "std       0.828066    0.435866     1.765298    0.762238\n",
      "min       4.300000    2.000000     1.000000    0.100000\n",
      "25%       5.100000    2.800000     1.600000    0.300000\n",
      "50%       5.800000    3.000000     4.350000    1.300000\n",
      "75%       6.400000    3.300000     5.100000    1.800000\n",
      "max       7.900000    4.400000     6.900000    2.500000\n"
     ]
    }
   ],
   "source": [
    "# Número de filas y columnas\n",
    "NF, NC = df.shape\n",
    "print(\"Número de filas:\", NF, \"\\nNúmero de columnas:\", NC)\n",
    "print(\"\")\n",
    "\n",
    "# Número de observaciones por clase.\n",
    "print(df.Class.value_counts())\n",
    "print(\"\")\n",
    "\n",
    "# Tipos de variables\n",
    "print(df.dtypes)\n",
    "print(\"\")\n",
    "\n",
    "# Impresión de la tabla\n",
    "print(df)"
   ]
  },
  {
   "cell_type": "markdown",
   "metadata": {},
   "source": [
    "# Final remarks\n",
    "\n",
    "\n",
    "- The **Pandas** library provides fancy, high-performance, easy-to-use data structures and data analysis tools\n"
   ]
  },
  {
   "cell_type": "markdown",
   "metadata": {},
   "source": [
    "# Activity: work with the iris dataset\n",
    "\n",
    "1. Load the iris.csv file in your computer and compare with the data printed above.\n",
    "Tiene menos atributos que el dataset de Cartwheel, pero tiene más observaciones o más ejemplos/objetos.\n",
    "\n",
    "2. How many observations (rows) are in total?\n",
    "150\n",
    "\n",
    "3. How many variables (columns) are in total? What do they represent?\n",
    "5\n",
    "\n",
    "4. How many observatoins are for each type of flower? \n",
    "50 por cada clase de flor.\n",
    "\n",
    "5. What is the type of data for each variable?\n",
    "SepalLength    float64\n",
    "SepalWidth     float64\n",
    "PetalLength    float64\n",
    "PetalWidth     float64\n",
    "Class           object\n",
    "\n",
    "6. What are the units of each variable?\n",
    "Sepal and Pedal Width and lenght: cm\n",
    "Class: 3 types = Iris Setosa, Iris Versicolor, Iris virginica"
   ]
  },
  {
   "cell_type": "code",
   "execution_count": null,
   "metadata": {},
   "outputs": [],
   "source": []
  }
 ],
 "metadata": {
  "kernelspec": {
   "display_name": "Python 3",
   "language": "python",
   "name": "python3"
  },
  "language_info": {
   "codemirror_mode": {
    "name": "ipython",
    "version": 3
   },
   "file_extension": ".py",
   "mimetype": "text/x-python",
   "name": "python",
   "nbconvert_exporter": "python",
   "pygments_lexer": "ipython3",
   "version": "3.8.8"
  }
 },
 "nbformat": 4,
 "nbformat_minor": 4
}
