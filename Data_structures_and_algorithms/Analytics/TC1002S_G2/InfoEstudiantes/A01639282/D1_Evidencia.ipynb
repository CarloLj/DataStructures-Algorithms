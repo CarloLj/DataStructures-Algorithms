{
 "cells": [
  {
   "cell_type": "markdown",
   "metadata": {},
   "source": [
    "# TC1002S Herramientas computacionales: el arte de la analítica\n",
    "\n",
    "This is a notebook with all your work for the final evidence of this course\n",
    "\n",
    "\n",
    "# Niveles de dominio a demostrar con la evidencia\n",
    "\n",
    "### SING0202A\n",
    "\n",
    "Interpreta interacciones entre variables relevantes en un problema, como base para la construcción de modelos bivariados basados en datos de un fenómeno investigado que le permita reproducir la respuesta del mismo. Es capaz de construir modelos bivariados que expliquen el comportamiento de un fenómeno.\n",
    "\n",
    "\n",
    "# Student information\n",
    "\n",
    "- Name: Jeshua Nava Avila.\n",
    "\n",
    "- ID: A01639282.\n",
    "\n",
    "- My carreer: Ingeniería en Tecnologías Computacionales.\n"
   ]
  },
  {
   "cell_type": "markdown",
   "metadata": {},
   "source": [
    "# Importing libraries"
   ]
  },
  {
   "cell_type": "code",
   "execution_count": 1,
   "metadata": {},
   "outputs": [],
   "source": [
    "# Librerías\n",
    "import pandas as pd                 # For data handling\n",
    "import seaborn as sns               # For advanced plotting\n",
    "import matplotlib.pyplot as plt     # For showing plots\n",
    "from sklearn.cluster import KMeans  # For Kmeans Clustering\n"
   ]
  },
  {
   "cell_type": "markdown",
   "metadata": {},
   "source": [
    "# A1 Load data"
   ]
  },
  {
   "cell_type": "code",
   "execution_count": 2,
   "metadata": {},
   "outputs": [
    {
     "data": {
      "text/html": [
       "<div>\n",
       "<style scoped>\n",
       "    .dataframe tbody tr th:only-of-type {\n",
       "        vertical-align: middle;\n",
       "    }\n",
       "\n",
       "    .dataframe tbody tr th {\n",
       "        vertical-align: top;\n",
       "    }\n",
       "\n",
       "    .dataframe thead th {\n",
       "        text-align: right;\n",
       "    }\n",
       "</style>\n",
       "<table border=\"1\" class=\"dataframe\">\n",
       "  <thead>\n",
       "    <tr style=\"text-align: right;\">\n",
       "      <th></th>\n",
       "      <th>Unnamed: 0</th>\n",
       "      <th>x1</th>\n",
       "      <th>x2</th>\n",
       "      <th>x3</th>\n",
       "      <th>x4</th>\n",
       "    </tr>\n",
       "  </thead>\n",
       "  <tbody>\n",
       "    <tr>\n",
       "      <th>0</th>\n",
       "      <td>0</td>\n",
       "      <td>0.882491</td>\n",
       "      <td>2.782761</td>\n",
       "      <td>6.740612</td>\n",
       "      <td>6.629383</td>\n",
       "    </tr>\n",
       "    <tr>\n",
       "      <th>1</th>\n",
       "      <td>1</td>\n",
       "      <td>8.839638</td>\n",
       "      <td>-3.090291</td>\n",
       "      <td>0.696630</td>\n",
       "      <td>8.249372</td>\n",
       "    </tr>\n",
       "    <tr>\n",
       "      <th>2</th>\n",
       "      <td>2</td>\n",
       "      <td>10.162117</td>\n",
       "      <td>-2.223895</td>\n",
       "      <td>-1.476523</td>\n",
       "      <td>10.916173</td>\n",
       "    </tr>\n",
       "    <tr>\n",
       "      <th>3</th>\n",
       "      <td>3</td>\n",
       "      <td>1.976174</td>\n",
       "      <td>2.312219</td>\n",
       "      <td>7.698592</td>\n",
       "      <td>8.638163</td>\n",
       "    </tr>\n",
       "    <tr>\n",
       "      <th>4</th>\n",
       "      <td>4</td>\n",
       "      <td>8.398309</td>\n",
       "      <td>-6.425410</td>\n",
       "      <td>-2.678749</td>\n",
       "      <td>7.597075</td>\n",
       "    </tr>\n",
       "    <tr>\n",
       "      <th>...</th>\n",
       "      <td>...</td>\n",
       "      <td>...</td>\n",
       "      <td>...</td>\n",
       "      <td>...</td>\n",
       "      <td>...</td>\n",
       "    </tr>\n",
       "    <tr>\n",
       "      <th>277</th>\n",
       "      <td>277</td>\n",
       "      <td>-4.550239</td>\n",
       "      <td>1.747443</td>\n",
       "      <td>-6.551248</td>\n",
       "      <td>7.690685</td>\n",
       "    </tr>\n",
       "    <tr>\n",
       "      <th>278</th>\n",
       "      <td>278</td>\n",
       "      <td>-4.379523</td>\n",
       "      <td>1.821089</td>\n",
       "      <td>-6.853758</td>\n",
       "      <td>4.046146</td>\n",
       "    </tr>\n",
       "    <tr>\n",
       "      <th>279</th>\n",
       "      <td>279</td>\n",
       "      <td>-4.493473</td>\n",
       "      <td>0.801896</td>\n",
       "      <td>-8.567627</td>\n",
       "      <td>3.758510</td>\n",
       "    </tr>\n",
       "    <tr>\n",
       "      <th>280</th>\n",
       "      <td>280</td>\n",
       "      <td>1.337890</td>\n",
       "      <td>2.059825</td>\n",
       "      <td>5.682012</td>\n",
       "      <td>5.510643</td>\n",
       "    </tr>\n",
       "    <tr>\n",
       "      <th>281</th>\n",
       "      <td>281</td>\n",
       "      <td>-2.560443</td>\n",
       "      <td>1.881566</td>\n",
       "      <td>-3.518759</td>\n",
       "      <td>7.913845</td>\n",
       "    </tr>\n",
       "  </tbody>\n",
       "</table>\n",
       "<p>282 rows × 5 columns</p>\n",
       "</div>"
      ],
      "text/plain": [
       "     Unnamed: 0         x1        x2        x3         x4\n",
       "0             0   0.882491  2.782761  6.740612   6.629383\n",
       "1             1   8.839638 -3.090291  0.696630   8.249372\n",
       "2             2  10.162117 -2.223895 -1.476523  10.916173\n",
       "3             3   1.976174  2.312219  7.698592   8.638163\n",
       "4             4   8.398309 -6.425410 -2.678749   7.597075\n",
       "..          ...        ...       ...       ...        ...\n",
       "277         277  -4.550239  1.747443 -6.551248   7.690685\n",
       "278         278  -4.379523  1.821089 -6.853758   4.046146\n",
       "279         279  -4.493473  0.801896 -8.567627   3.758510\n",
       "280         280   1.337890  2.059825  5.682012   5.510643\n",
       "281         281  -2.560443  1.881566 -3.518759   7.913845\n",
       "\n",
       "[282 rows x 5 columns]"
      ]
     },
     "execution_count": 2,
     "metadata": {},
     "output_type": "execute_result"
    }
   ],
   "source": [
    "# Cargar archivo .csv\n",
    "ruta = \"datasets/A01639282.csv\"\n",
    "df = pd.read_csv(ruta)\n",
    "\n",
    "# Tener una vista completa del dataset\n",
    "df"
   ]
  },
  {
   "cell_type": "markdown",
   "metadata": {},
   "source": [
    "# A2 Data managment\n"
   ]
  },
  {
   "cell_type": "markdown",
   "metadata": {},
   "source": [
    "Print the first 7 rows"
   ]
  },
  {
   "cell_type": "code",
   "execution_count": 3,
   "metadata": {},
   "outputs": [
    {
     "data": {
      "text/html": [
       "<div>\n",
       "<style scoped>\n",
       "    .dataframe tbody tr th:only-of-type {\n",
       "        vertical-align: middle;\n",
       "    }\n",
       "\n",
       "    .dataframe tbody tr th {\n",
       "        vertical-align: top;\n",
       "    }\n",
       "\n",
       "    .dataframe thead th {\n",
       "        text-align: right;\n",
       "    }\n",
       "</style>\n",
       "<table border=\"1\" class=\"dataframe\">\n",
       "  <thead>\n",
       "    <tr style=\"text-align: right;\">\n",
       "      <th></th>\n",
       "      <th>Unnamed: 0</th>\n",
       "      <th>x1</th>\n",
       "      <th>x2</th>\n",
       "      <th>x3</th>\n",
       "      <th>x4</th>\n",
       "    </tr>\n",
       "  </thead>\n",
       "  <tbody>\n",
       "    <tr>\n",
       "      <th>0</th>\n",
       "      <td>0</td>\n",
       "      <td>0.882491</td>\n",
       "      <td>2.782761</td>\n",
       "      <td>6.740612</td>\n",
       "      <td>6.629383</td>\n",
       "    </tr>\n",
       "    <tr>\n",
       "      <th>1</th>\n",
       "      <td>1</td>\n",
       "      <td>8.839638</td>\n",
       "      <td>-3.090291</td>\n",
       "      <td>0.696630</td>\n",
       "      <td>8.249372</td>\n",
       "    </tr>\n",
       "    <tr>\n",
       "      <th>2</th>\n",
       "      <td>2</td>\n",
       "      <td>10.162117</td>\n",
       "      <td>-2.223895</td>\n",
       "      <td>-1.476523</td>\n",
       "      <td>10.916173</td>\n",
       "    </tr>\n",
       "    <tr>\n",
       "      <th>3</th>\n",
       "      <td>3</td>\n",
       "      <td>1.976174</td>\n",
       "      <td>2.312219</td>\n",
       "      <td>7.698592</td>\n",
       "      <td>8.638163</td>\n",
       "    </tr>\n",
       "    <tr>\n",
       "      <th>4</th>\n",
       "      <td>4</td>\n",
       "      <td>8.398309</td>\n",
       "      <td>-6.425410</td>\n",
       "      <td>-2.678749</td>\n",
       "      <td>7.597075</td>\n",
       "    </tr>\n",
       "    <tr>\n",
       "      <th>5</th>\n",
       "      <td>5</td>\n",
       "      <td>3.559267</td>\n",
       "      <td>2.017074</td>\n",
       "      <td>9.399211</td>\n",
       "      <td>10.392031</td>\n",
       "    </tr>\n",
       "    <tr>\n",
       "      <th>6</th>\n",
       "      <td>6</td>\n",
       "      <td>10.943574</td>\n",
       "      <td>-2.762222</td>\n",
       "      <td>-2.523352</td>\n",
       "      <td>7.367507</td>\n",
       "    </tr>\n",
       "  </tbody>\n",
       "</table>\n",
       "</div>"
      ],
      "text/plain": [
       "   Unnamed: 0         x1        x2        x3         x4\n",
       "0           0   0.882491  2.782761  6.740612   6.629383\n",
       "1           1   8.839638 -3.090291  0.696630   8.249372\n",
       "2           2  10.162117 -2.223895 -1.476523  10.916173\n",
       "3           3   1.976174  2.312219  7.698592   8.638163\n",
       "4           4   8.398309 -6.425410 -2.678749   7.597075\n",
       "5           5   3.559267  2.017074  9.399211  10.392031\n",
       "6           6  10.943574 -2.762222 -2.523352   7.367507"
      ]
     },
     "execution_count": 3,
     "metadata": {},
     "output_type": "execute_result"
    }
   ],
   "source": [
    "df.head(7)"
   ]
  },
  {
   "cell_type": "markdown",
   "metadata": {},
   "source": [
    "Print the first 4 last rows"
   ]
  },
  {
   "cell_type": "code",
   "execution_count": 4,
   "metadata": {},
   "outputs": [
    {
     "data": {
      "text/html": [
       "<div>\n",
       "<style scoped>\n",
       "    .dataframe tbody tr th:only-of-type {\n",
       "        vertical-align: middle;\n",
       "    }\n",
       "\n",
       "    .dataframe tbody tr th {\n",
       "        vertical-align: top;\n",
       "    }\n",
       "\n",
       "    .dataframe thead th {\n",
       "        text-align: right;\n",
       "    }\n",
       "</style>\n",
       "<table border=\"1\" class=\"dataframe\">\n",
       "  <thead>\n",
       "    <tr style=\"text-align: right;\">\n",
       "      <th></th>\n",
       "      <th>Unnamed: 0</th>\n",
       "      <th>x1</th>\n",
       "      <th>x2</th>\n",
       "      <th>x3</th>\n",
       "      <th>x4</th>\n",
       "    </tr>\n",
       "  </thead>\n",
       "  <tbody>\n",
       "    <tr>\n",
       "      <th>278</th>\n",
       "      <td>278</td>\n",
       "      <td>-4.379523</td>\n",
       "      <td>1.821089</td>\n",
       "      <td>-6.853758</td>\n",
       "      <td>4.046146</td>\n",
       "    </tr>\n",
       "    <tr>\n",
       "      <th>279</th>\n",
       "      <td>279</td>\n",
       "      <td>-4.493473</td>\n",
       "      <td>0.801896</td>\n",
       "      <td>-8.567627</td>\n",
       "      <td>3.758510</td>\n",
       "    </tr>\n",
       "    <tr>\n",
       "      <th>280</th>\n",
       "      <td>280</td>\n",
       "      <td>1.337890</td>\n",
       "      <td>2.059825</td>\n",
       "      <td>5.682012</td>\n",
       "      <td>5.510643</td>\n",
       "    </tr>\n",
       "    <tr>\n",
       "      <th>281</th>\n",
       "      <td>281</td>\n",
       "      <td>-2.560443</td>\n",
       "      <td>1.881566</td>\n",
       "      <td>-3.518759</td>\n",
       "      <td>7.913845</td>\n",
       "    </tr>\n",
       "  </tbody>\n",
       "</table>\n",
       "</div>"
      ],
      "text/plain": [
       "     Unnamed: 0        x1        x2        x3        x4\n",
       "278         278 -4.379523  1.821089 -6.853758  4.046146\n",
       "279         279 -4.493473  0.801896 -8.567627  3.758510\n",
       "280         280  1.337890  2.059825  5.682012  5.510643\n",
       "281         281 -2.560443  1.881566 -3.518759  7.913845"
      ]
     },
     "execution_count": 4,
     "metadata": {},
     "output_type": "execute_result"
    }
   ],
   "source": [
    "df.tail(4)"
   ]
  },
  {
   "cell_type": "markdown",
   "metadata": {},
   "source": [
    "How many rows and columns are in your data?\n",
    "\n",
    "Use the `shape` method\n"
   ]
  },
  {
   "cell_type": "code",
   "execution_count": 7,
   "metadata": {},
   "outputs": [
    {
     "name": "stdout",
     "output_type": "stream",
     "text": [
      "282\n",
      "5\n"
     ]
    }
   ],
   "source": [
    "NR, NC = df.shape\n",
    "print(NR)\n",
    "print(NC)"
   ]
  },
  {
   "cell_type": "markdown",
   "metadata": {},
   "source": [
    "Print the name of all columns \n",
    "\n",
    "Use the `columns` method"
   ]
  },
  {
   "cell_type": "code",
   "execution_count": 11,
   "metadata": {},
   "outputs": [
    {
     "data": {
      "text/plain": [
       "Index(['Unnamed: 0', 'x1', 'x2', 'x3', 'x4'], dtype='object')"
      ]
     },
     "execution_count": 11,
     "metadata": {},
     "output_type": "execute_result"
    }
   ],
   "source": [
    "df.columns"
   ]
  },
  {
   "cell_type": "markdown",
   "metadata": {},
   "source": [
    "What is the data type in each column\n",
    "\n",
    "Use the `dtypes` method "
   ]
  },
  {
   "cell_type": "code",
   "execution_count": 12,
   "metadata": {},
   "outputs": [
    {
     "data": {
      "text/plain": [
       "Unnamed: 0      int64\n",
       "x1            float64\n",
       "x2            float64\n",
       "x3            float64\n",
       "x4            float64\n",
       "dtype: object"
      ]
     },
     "execution_count": 12,
     "metadata": {},
     "output_type": "execute_result"
    }
   ],
   "source": [
    "df.dtypes"
   ]
  },
  {
   "cell_type": "markdown",
   "metadata": {},
   "source": [
    "What is the meaning of rows and columns?"
   ]
  },
  {
   "cell_type": "code",
   "execution_count": 74,
   "metadata": {},
   "outputs": [],
   "source": [
    "# Your responses here\n",
    "\n",
    "# Columns:\n",
    "# Unamed = Como no tiene nombre y solamente tiene números, me imagino que es el ID de cada fila, o el número de observación.\n",
    "# x1 = Una obervación o variable llamada x1 de la fila u objeto.\n",
    "# x2 = Una observación o variable llamada x2 de la fila u objeto.\n",
    "# x3 = Una observación o variable llamada x3 de la fila u objeto.\n",
    "# x4 = Una observación o variable llamada x4 de la fila u objeto.\n",
    "\n",
    "# Filas:\n",
    "# Un objeto con carácterísitcas x1, x2, x3 y x4 (aparte del ID)."
   ]
  },
  {
   "cell_type": "markdown",
   "metadata": {},
   "source": [
    "Print a statistical summary of your columns\n"
   ]
  },
  {
   "cell_type": "code",
   "execution_count": 16,
   "metadata": {},
   "outputs": [
    {
     "data": {
      "text/html": [
       "<div>\n",
       "<style scoped>\n",
       "    .dataframe tbody tr th:only-of-type {\n",
       "        vertical-align: middle;\n",
       "    }\n",
       "\n",
       "    .dataframe tbody tr th {\n",
       "        vertical-align: top;\n",
       "    }\n",
       "\n",
       "    .dataframe thead th {\n",
       "        text-align: right;\n",
       "    }\n",
       "</style>\n",
       "<table border=\"1\" class=\"dataframe\">\n",
       "  <thead>\n",
       "    <tr style=\"text-align: right;\">\n",
       "      <th></th>\n",
       "      <th>Unnamed: 0</th>\n",
       "      <th>x1</th>\n",
       "      <th>x2</th>\n",
       "      <th>x3</th>\n",
       "      <th>x4</th>\n",
       "    </tr>\n",
       "  </thead>\n",
       "  <tbody>\n",
       "    <tr>\n",
       "      <th>count</th>\n",
       "      <td>282.000000</td>\n",
       "      <td>282.000000</td>\n",
       "      <td>282.000000</td>\n",
       "      <td>282.000000</td>\n",
       "      <td>282.000000</td>\n",
       "    </tr>\n",
       "    <tr>\n",
       "      <th>mean</th>\n",
       "      <td>140.500000</td>\n",
       "      <td>2.925207</td>\n",
       "      <td>0.131572</td>\n",
       "      <td>0.058046</td>\n",
       "      <td>8.247472</td>\n",
       "    </tr>\n",
       "    <tr>\n",
       "      <th>std</th>\n",
       "      <td>81.550598</td>\n",
       "      <td>4.962062</td>\n",
       "      <td>2.707192</td>\n",
       "      <td>6.576560</td>\n",
       "      <td>1.640865</td>\n",
       "    </tr>\n",
       "    <tr>\n",
       "      <th>min</th>\n",
       "      <td>0.000000</td>\n",
       "      <td>-6.635600</td>\n",
       "      <td>-7.658708</td>\n",
       "      <td>-11.015427</td>\n",
       "      <td>3.758510</td>\n",
       "    </tr>\n",
       "    <tr>\n",
       "      <th>25%</th>\n",
       "      <td>70.250000</td>\n",
       "      <td>-1.639634</td>\n",
       "      <td>-1.941806</td>\n",
       "      <td>-5.528511</td>\n",
       "      <td>7.135359</td>\n",
       "    </tr>\n",
       "    <tr>\n",
       "      <th>50%</th>\n",
       "      <td>140.500000</td>\n",
       "      <td>2.940233</td>\n",
       "      <td>0.736227</td>\n",
       "      <td>-2.133577</td>\n",
       "      <td>8.203378</td>\n",
       "    </tr>\n",
       "    <tr>\n",
       "      <th>75%</th>\n",
       "      <td>210.750000</td>\n",
       "      <td>7.597593</td>\n",
       "      <td>2.147410</td>\n",
       "      <td>7.688950</td>\n",
       "      <td>9.429381</td>\n",
       "    </tr>\n",
       "    <tr>\n",
       "      <th>max</th>\n",
       "      <td>281.000000</td>\n",
       "      <td>13.742705</td>\n",
       "      <td>5.790306</td>\n",
       "      <td>12.177260</td>\n",
       "      <td>12.295206</td>\n",
       "    </tr>\n",
       "  </tbody>\n",
       "</table>\n",
       "</div>"
      ],
      "text/plain": [
       "       Unnamed: 0          x1          x2          x3          x4\n",
       "count  282.000000  282.000000  282.000000  282.000000  282.000000\n",
       "mean   140.500000    2.925207    0.131572    0.058046    8.247472\n",
       "std     81.550598    4.962062    2.707192    6.576560    1.640865\n",
       "min      0.000000   -6.635600   -7.658708  -11.015427    3.758510\n",
       "25%     70.250000   -1.639634   -1.941806   -5.528511    7.135359\n",
       "50%    140.500000    2.940233    0.736227   -2.133577    8.203378\n",
       "75%    210.750000    7.597593    2.147410    7.688950    9.429381\n",
       "max    281.000000   13.742705    5.790306   12.177260   12.295206"
      ]
     },
     "execution_count": 16,
     "metadata": {},
     "output_type": "execute_result"
    }
   ],
   "source": [
    "df.describe()"
   ]
  },
  {
   "cell_type": "code",
   "execution_count": 93,
   "metadata": {},
   "outputs": [],
   "source": [
    "# 1) What is the minumum and maximum values of each variable\n",
    "# x1: MAX = 13.7427[...], MIN = -6.6356.\n",
    "# x2: MAX = 5.7903[...], MIN = -7.6587[...].\n",
    "# x3: MAX = 12.1772[...], MIN = -11.0154[...].\n",
    "# x4: MAX = 12.2952[...], MIN = 3.7585[...].\n",
    "\n",
    "# 2) What is the mean and standar deviation of each variable\n",
    "# x1: MEAN = 2.9252[...], STD = 4.9620[...].\n",
    "# x2: MEAN = 0.1315[...], STD = 2.7071[...].\n",
    "# x3: MEAN = 0.0580[...], STD = 6.5765[...].\n",
    "# x4: MEAN = 8.2474[...], STD = 1.6408[...].\n",
    "\n",
    "# 3) What the 25%, 50% and 75% represent?\n",
    "# De los valores de nuestras variables, del mínimo al máximo, los porcentajes describen conjuntos que donde muestran en la tabla el número máximo en dicho conjunto (del mínimo al máximo, en orden).\n",
    "# Por ejemplo: El número máximo en el 25% de nuestros datos en x1 es -1.6396, el número máximo en el 50% de nuestos datos en x1 es 2.9402, etc.\n"
   ]
  },
  {
   "cell_type": "markdown",
   "metadata": {},
   "source": [
    "Rename the columns using the same name with capital letters"
   ]
  },
  {
   "cell_type": "code",
   "execution_count": 27,
   "metadata": {},
   "outputs": [
    {
     "data": {
      "text/html": [
       "<div>\n",
       "<style scoped>\n",
       "    .dataframe tbody tr th:only-of-type {\n",
       "        vertical-align: middle;\n",
       "    }\n",
       "\n",
       "    .dataframe tbody tr th {\n",
       "        vertical-align: top;\n",
       "    }\n",
       "\n",
       "    .dataframe thead th {\n",
       "        text-align: right;\n",
       "    }\n",
       "</style>\n",
       "<table border=\"1\" class=\"dataframe\">\n",
       "  <thead>\n",
       "    <tr style=\"text-align: right;\">\n",
       "      <th></th>\n",
       "      <th>ID</th>\n",
       "      <th>X1</th>\n",
       "      <th>X2</th>\n",
       "      <th>X3</th>\n",
       "      <th>X4</th>\n",
       "    </tr>\n",
       "  </thead>\n",
       "  <tbody>\n",
       "    <tr>\n",
       "      <th>0</th>\n",
       "      <td>0</td>\n",
       "      <td>0.882491</td>\n",
       "      <td>2.782761</td>\n",
       "      <td>6.740612</td>\n",
       "      <td>6.629383</td>\n",
       "    </tr>\n",
       "    <tr>\n",
       "      <th>1</th>\n",
       "      <td>1</td>\n",
       "      <td>8.839638</td>\n",
       "      <td>-3.090291</td>\n",
       "      <td>0.696630</td>\n",
       "      <td>8.249372</td>\n",
       "    </tr>\n",
       "    <tr>\n",
       "      <th>2</th>\n",
       "      <td>2</td>\n",
       "      <td>10.162117</td>\n",
       "      <td>-2.223895</td>\n",
       "      <td>-1.476523</td>\n",
       "      <td>10.916173</td>\n",
       "    </tr>\n",
       "    <tr>\n",
       "      <th>3</th>\n",
       "      <td>3</td>\n",
       "      <td>1.976174</td>\n",
       "      <td>2.312219</td>\n",
       "      <td>7.698592</td>\n",
       "      <td>8.638163</td>\n",
       "    </tr>\n",
       "    <tr>\n",
       "      <th>4</th>\n",
       "      <td>4</td>\n",
       "      <td>8.398309</td>\n",
       "      <td>-6.425410</td>\n",
       "      <td>-2.678749</td>\n",
       "      <td>7.597075</td>\n",
       "    </tr>\n",
       "    <tr>\n",
       "      <th>...</th>\n",
       "      <td>...</td>\n",
       "      <td>...</td>\n",
       "      <td>...</td>\n",
       "      <td>...</td>\n",
       "      <td>...</td>\n",
       "    </tr>\n",
       "    <tr>\n",
       "      <th>277</th>\n",
       "      <td>277</td>\n",
       "      <td>-4.550239</td>\n",
       "      <td>1.747443</td>\n",
       "      <td>-6.551248</td>\n",
       "      <td>7.690685</td>\n",
       "    </tr>\n",
       "    <tr>\n",
       "      <th>278</th>\n",
       "      <td>278</td>\n",
       "      <td>-4.379523</td>\n",
       "      <td>1.821089</td>\n",
       "      <td>-6.853758</td>\n",
       "      <td>4.046146</td>\n",
       "    </tr>\n",
       "    <tr>\n",
       "      <th>279</th>\n",
       "      <td>279</td>\n",
       "      <td>-4.493473</td>\n",
       "      <td>0.801896</td>\n",
       "      <td>-8.567627</td>\n",
       "      <td>3.758510</td>\n",
       "    </tr>\n",
       "    <tr>\n",
       "      <th>280</th>\n",
       "      <td>280</td>\n",
       "      <td>1.337890</td>\n",
       "      <td>2.059825</td>\n",
       "      <td>5.682012</td>\n",
       "      <td>5.510643</td>\n",
       "    </tr>\n",
       "    <tr>\n",
       "      <th>281</th>\n",
       "      <td>281</td>\n",
       "      <td>-2.560443</td>\n",
       "      <td>1.881566</td>\n",
       "      <td>-3.518759</td>\n",
       "      <td>7.913845</td>\n",
       "    </tr>\n",
       "  </tbody>\n",
       "</table>\n",
       "<p>282 rows × 5 columns</p>\n",
       "</div>"
      ],
      "text/plain": [
       "      ID         X1        X2        X3         X4\n",
       "0      0   0.882491  2.782761  6.740612   6.629383\n",
       "1      1   8.839638 -3.090291  0.696630   8.249372\n",
       "2      2  10.162117 -2.223895 -1.476523  10.916173\n",
       "3      3   1.976174  2.312219  7.698592   8.638163\n",
       "4      4   8.398309 -6.425410 -2.678749   7.597075\n",
       "..   ...        ...       ...       ...        ...\n",
       "277  277  -4.550239  1.747443 -6.551248   7.690685\n",
       "278  278  -4.379523  1.821089 -6.853758   4.046146\n",
       "279  279  -4.493473  0.801896 -8.567627   3.758510\n",
       "280  280   1.337890  2.059825  5.682012   5.510643\n",
       "281  281  -2.560443  1.881566 -3.518759   7.913845\n",
       "\n",
       "[282 rows x 5 columns]"
      ]
     },
     "execution_count": 27,
     "metadata": {},
     "output_type": "execute_result"
    }
   ],
   "source": [
    "df = df.rename(columns = {\"x1\":\"X1\"})\n",
    "df = df.rename(columns = {\"x2\":\"X2\"})\n",
    "df = df.rename(columns = {\"x3\":\"X3\"})\n",
    "df = df.rename(columns = {\"x4\":\"X4\"})\n",
    "df = df.rename(columns = {\"Unnamed: 0\":\"ID\"})\n",
    "df"
   ]
  },
  {
   "cell_type": "markdown",
   "metadata": {},
   "source": [
    "Rename the columns to their original names"
   ]
  },
  {
   "cell_type": "code",
   "execution_count": 28,
   "metadata": {},
   "outputs": [
    {
     "data": {
      "text/html": [
       "<div>\n",
       "<style scoped>\n",
       "    .dataframe tbody tr th:only-of-type {\n",
       "        vertical-align: middle;\n",
       "    }\n",
       "\n",
       "    .dataframe tbody tr th {\n",
       "        vertical-align: top;\n",
       "    }\n",
       "\n",
       "    .dataframe thead th {\n",
       "        text-align: right;\n",
       "    }\n",
       "</style>\n",
       "<table border=\"1\" class=\"dataframe\">\n",
       "  <thead>\n",
       "    <tr style=\"text-align: right;\">\n",
       "      <th></th>\n",
       "      <th>Unnamed: 0</th>\n",
       "      <th>x1</th>\n",
       "      <th>x2</th>\n",
       "      <th>x3</th>\n",
       "      <th>x4</th>\n",
       "    </tr>\n",
       "  </thead>\n",
       "  <tbody>\n",
       "    <tr>\n",
       "      <th>0</th>\n",
       "      <td>0</td>\n",
       "      <td>0.882491</td>\n",
       "      <td>2.782761</td>\n",
       "      <td>6.740612</td>\n",
       "      <td>6.629383</td>\n",
       "    </tr>\n",
       "    <tr>\n",
       "      <th>1</th>\n",
       "      <td>1</td>\n",
       "      <td>8.839638</td>\n",
       "      <td>-3.090291</td>\n",
       "      <td>0.696630</td>\n",
       "      <td>8.249372</td>\n",
       "    </tr>\n",
       "    <tr>\n",
       "      <th>2</th>\n",
       "      <td>2</td>\n",
       "      <td>10.162117</td>\n",
       "      <td>-2.223895</td>\n",
       "      <td>-1.476523</td>\n",
       "      <td>10.916173</td>\n",
       "    </tr>\n",
       "    <tr>\n",
       "      <th>3</th>\n",
       "      <td>3</td>\n",
       "      <td>1.976174</td>\n",
       "      <td>2.312219</td>\n",
       "      <td>7.698592</td>\n",
       "      <td>8.638163</td>\n",
       "    </tr>\n",
       "    <tr>\n",
       "      <th>4</th>\n",
       "      <td>4</td>\n",
       "      <td>8.398309</td>\n",
       "      <td>-6.425410</td>\n",
       "      <td>-2.678749</td>\n",
       "      <td>7.597075</td>\n",
       "    </tr>\n",
       "    <tr>\n",
       "      <th>...</th>\n",
       "      <td>...</td>\n",
       "      <td>...</td>\n",
       "      <td>...</td>\n",
       "      <td>...</td>\n",
       "      <td>...</td>\n",
       "    </tr>\n",
       "    <tr>\n",
       "      <th>277</th>\n",
       "      <td>277</td>\n",
       "      <td>-4.550239</td>\n",
       "      <td>1.747443</td>\n",
       "      <td>-6.551248</td>\n",
       "      <td>7.690685</td>\n",
       "    </tr>\n",
       "    <tr>\n",
       "      <th>278</th>\n",
       "      <td>278</td>\n",
       "      <td>-4.379523</td>\n",
       "      <td>1.821089</td>\n",
       "      <td>-6.853758</td>\n",
       "      <td>4.046146</td>\n",
       "    </tr>\n",
       "    <tr>\n",
       "      <th>279</th>\n",
       "      <td>279</td>\n",
       "      <td>-4.493473</td>\n",
       "      <td>0.801896</td>\n",
       "      <td>-8.567627</td>\n",
       "      <td>3.758510</td>\n",
       "    </tr>\n",
       "    <tr>\n",
       "      <th>280</th>\n",
       "      <td>280</td>\n",
       "      <td>1.337890</td>\n",
       "      <td>2.059825</td>\n",
       "      <td>5.682012</td>\n",
       "      <td>5.510643</td>\n",
       "    </tr>\n",
       "    <tr>\n",
       "      <th>281</th>\n",
       "      <td>281</td>\n",
       "      <td>-2.560443</td>\n",
       "      <td>1.881566</td>\n",
       "      <td>-3.518759</td>\n",
       "      <td>7.913845</td>\n",
       "    </tr>\n",
       "  </tbody>\n",
       "</table>\n",
       "<p>282 rows × 5 columns</p>\n",
       "</div>"
      ],
      "text/plain": [
       "     Unnamed: 0         x1        x2        x3         x4\n",
       "0             0   0.882491  2.782761  6.740612   6.629383\n",
       "1             1   8.839638 -3.090291  0.696630   8.249372\n",
       "2             2  10.162117 -2.223895 -1.476523  10.916173\n",
       "3             3   1.976174  2.312219  7.698592   8.638163\n",
       "4             4   8.398309 -6.425410 -2.678749   7.597075\n",
       "..          ...        ...       ...       ...        ...\n",
       "277         277  -4.550239  1.747443 -6.551248   7.690685\n",
       "278         278  -4.379523  1.821089 -6.853758   4.046146\n",
       "279         279  -4.493473  0.801896 -8.567627   3.758510\n",
       "280         280   1.337890  2.059825  5.682012   5.510643\n",
       "281         281  -2.560443  1.881566 -3.518759   7.913845\n",
       "\n",
       "[282 rows x 5 columns]"
      ]
     },
     "execution_count": 28,
     "metadata": {},
     "output_type": "execute_result"
    }
   ],
   "source": [
    "df = df.rename(columns = {\"X1\":\"x1\"})\n",
    "df = df.rename(columns = {\"X2\":\"x2\"})\n",
    "df = df.rename(columns = {\"X3\":\"x3\"})\n",
    "df = df.rename(columns = {\"X4\":\"x4\"})\n",
    "df = df.rename(columns = {\"ID\":\"Unnamed: 0\"})\n",
    "df"
   ]
  },
  {
   "cell_type": "markdown",
   "metadata": {},
   "source": [
    "Use two different alternatives to get one of the columns"
   ]
  },
  {
   "cell_type": "code",
   "execution_count": 31,
   "metadata": {},
   "outputs": [
    {
     "name": "stdout",
     "output_type": "stream",
     "text": [
      "0       0.882491\n",
      "1       8.839638\n",
      "2      10.162117\n",
      "3       1.976174\n",
      "4       8.398309\n",
      "         ...    \n",
      "277    -4.550239\n",
      "278    -4.379523\n",
      "279    -4.493473\n",
      "280     1.337890\n",
      "281    -2.560443\n",
      "Name: x1, Length: 282, dtype: float64\n",
      "\n",
      "0       0.882491\n",
      "1       8.839638\n",
      "2      10.162117\n",
      "3       1.976174\n",
      "4       8.398309\n",
      "         ...    \n",
      "277    -4.550239\n",
      "278    -4.379523\n",
      "279    -4.493473\n",
      "280     1.337890\n",
      "281    -2.560443\n",
      "Name: x1, Length: 282, dtype: float64\n"
     ]
    }
   ],
   "source": [
    "# 1er método\n",
    "print(df[\"x1\"])\n",
    "\n",
    "print(\"\")\n",
    "\n",
    "#2do método \n",
    "print(df.x1)"
   ]
  },
  {
   "cell_type": "markdown",
   "metadata": {},
   "source": [
    "Get a slice of your data set: second and thrid columns and rows from 62 to 72"
   ]
  },
  {
   "cell_type": "code",
   "execution_count": 32,
   "metadata": {},
   "outputs": [
    {
     "data": {
      "text/html": [
       "<div>\n",
       "<style scoped>\n",
       "    .dataframe tbody tr th:only-of-type {\n",
       "        vertical-align: middle;\n",
       "    }\n",
       "\n",
       "    .dataframe tbody tr th {\n",
       "        vertical-align: top;\n",
       "    }\n",
       "\n",
       "    .dataframe thead th {\n",
       "        text-align: right;\n",
       "    }\n",
       "</style>\n",
       "<table border=\"1\" class=\"dataframe\">\n",
       "  <thead>\n",
       "    <tr style=\"text-align: right;\">\n",
       "      <th></th>\n",
       "      <th>x1</th>\n",
       "      <th>x2</th>\n",
       "    </tr>\n",
       "  </thead>\n",
       "  <tbody>\n",
       "    <tr>\n",
       "      <th>62</th>\n",
       "      <td>-1.860954</td>\n",
       "      <td>1.276463</td>\n",
       "    </tr>\n",
       "    <tr>\n",
       "      <th>63</th>\n",
       "      <td>7.438071</td>\n",
       "      <td>-0.901643</td>\n",
       "    </tr>\n",
       "    <tr>\n",
       "      <th>64</th>\n",
       "      <td>-1.812433</td>\n",
       "      <td>2.020144</td>\n",
       "    </tr>\n",
       "    <tr>\n",
       "      <th>65</th>\n",
       "      <td>9.722250</td>\n",
       "      <td>-2.279907</td>\n",
       "    </tr>\n",
       "    <tr>\n",
       "      <th>66</th>\n",
       "      <td>8.862818</td>\n",
       "      <td>-2.509247</td>\n",
       "    </tr>\n",
       "    <tr>\n",
       "      <th>67</th>\n",
       "      <td>-1.283535</td>\n",
       "      <td>1.052283</td>\n",
       "    </tr>\n",
       "    <tr>\n",
       "      <th>68</th>\n",
       "      <td>8.083828</td>\n",
       "      <td>-2.065171</td>\n",
       "    </tr>\n",
       "    <tr>\n",
       "      <th>69</th>\n",
       "      <td>-0.435965</td>\n",
       "      <td>-0.635492</td>\n",
       "    </tr>\n",
       "    <tr>\n",
       "      <th>70</th>\n",
       "      <td>8.742763</td>\n",
       "      <td>-0.439298</td>\n",
       "    </tr>\n",
       "    <tr>\n",
       "      <th>71</th>\n",
       "      <td>3.466622</td>\n",
       "      <td>1.751106</td>\n",
       "    </tr>\n",
       "    <tr>\n",
       "      <th>72</th>\n",
       "      <td>10.308832</td>\n",
       "      <td>-2.501920</td>\n",
       "    </tr>\n",
       "  </tbody>\n",
       "</table>\n",
       "</div>"
      ],
      "text/plain": [
       "           x1        x2\n",
       "62  -1.860954  1.276463\n",
       "63   7.438071 -0.901643\n",
       "64  -1.812433  2.020144\n",
       "65   9.722250 -2.279907\n",
       "66   8.862818 -2.509247\n",
       "67  -1.283535  1.052283\n",
       "68   8.083828 -2.065171\n",
       "69  -0.435965 -0.635492\n",
       "70   8.742763 -0.439298\n",
       "71   3.466622  1.751106\n",
       "72  10.308832 -2.501920"
      ]
     },
     "execution_count": 32,
     "metadata": {},
     "output_type": "execute_result"
    }
   ],
   "source": [
    "# Second and third columns are x1 and x2.\n",
    "df.loc[62:72, [\"x1\", \"x2\"]]"
   ]
  },
  {
   "cell_type": "markdown",
   "metadata": {},
   "source": [
    "For the second and thrid columns, calculate the number of null and not null values and verify that their sum equals the total number of rows"
   ]
  },
  {
   "cell_type": "code",
   "execution_count": 43,
   "metadata": {},
   "outputs": [
    {
     "name": "stdout",
     "output_type": "stream",
     "text": [
      "x1: Number of nulls =  0 . Number of notNulls =  282\n",
      "Number of rows =  282\n",
      "\n",
      "x2: Number of nulls =  0 . Number of notNulls =  282\n",
      "Number of rows =  282\n"
     ]
    }
   ],
   "source": [
    "# For second column = x1\n",
    "nullNum = df.x1.isnull().sum()\n",
    "notNullNum = df.x1.notnull().sum()\n",
    "numRows = nullNum + notNullNum\n",
    "print(\"x1: Number of nulls = \", nullNum, \". Number of notNulls = \", notNullNum)\n",
    "print(\"Number of rows = \", numRows)\n",
    "print(\"\")\n",
    "\n",
    "# For second column = x2\n",
    "nullNum = df.x2.isnull().sum()\n",
    "notNullNum = df.x2.notnull().sum()\n",
    "numRows = nullNum + notNullNum\n",
    "print(\"x2: Number of nulls = \", nullNum, \". Number of notNulls = \", notNullNum)\n",
    "print(\"Number of rows = \", numRows)"
   ]
  },
  {
   "cell_type": "markdown",
   "metadata": {},
   "source": [
    "Discard the last column\n"
   ]
  },
  {
   "cell_type": "code",
   "execution_count": 44,
   "metadata": {},
   "outputs": [
    {
     "data": {
      "text/html": [
       "<div>\n",
       "<style scoped>\n",
       "    .dataframe tbody tr th:only-of-type {\n",
       "        vertical-align: middle;\n",
       "    }\n",
       "\n",
       "    .dataframe tbody tr th {\n",
       "        vertical-align: top;\n",
       "    }\n",
       "\n",
       "    .dataframe thead th {\n",
       "        text-align: right;\n",
       "    }\n",
       "</style>\n",
       "<table border=\"1\" class=\"dataframe\">\n",
       "  <thead>\n",
       "    <tr style=\"text-align: right;\">\n",
       "      <th></th>\n",
       "      <th>Unnamed: 0</th>\n",
       "      <th>x1</th>\n",
       "      <th>x2</th>\n",
       "      <th>x3</th>\n",
       "    </tr>\n",
       "  </thead>\n",
       "  <tbody>\n",
       "    <tr>\n",
       "      <th>0</th>\n",
       "      <td>0</td>\n",
       "      <td>0.882491</td>\n",
       "      <td>2.782761</td>\n",
       "      <td>6.740612</td>\n",
       "    </tr>\n",
       "    <tr>\n",
       "      <th>1</th>\n",
       "      <td>1</td>\n",
       "      <td>8.839638</td>\n",
       "      <td>-3.090291</td>\n",
       "      <td>0.696630</td>\n",
       "    </tr>\n",
       "    <tr>\n",
       "      <th>2</th>\n",
       "      <td>2</td>\n",
       "      <td>10.162117</td>\n",
       "      <td>-2.223895</td>\n",
       "      <td>-1.476523</td>\n",
       "    </tr>\n",
       "    <tr>\n",
       "      <th>3</th>\n",
       "      <td>3</td>\n",
       "      <td>1.976174</td>\n",
       "      <td>2.312219</td>\n",
       "      <td>7.698592</td>\n",
       "    </tr>\n",
       "    <tr>\n",
       "      <th>4</th>\n",
       "      <td>4</td>\n",
       "      <td>8.398309</td>\n",
       "      <td>-6.425410</td>\n",
       "      <td>-2.678749</td>\n",
       "    </tr>\n",
       "  </tbody>\n",
       "</table>\n",
       "</div>"
      ],
      "text/plain": [
       "   Unnamed: 0         x1        x2        x3\n",
       "0           0   0.882491  2.782761  6.740612\n",
       "1           1   8.839638 -3.090291  0.696630\n",
       "2           2  10.162117 -2.223895 -1.476523\n",
       "3           3   1.976174  2.312219  7.698592\n",
       "4           4   8.398309 -6.425410 -2.678749"
      ]
     },
     "execution_count": 44,
     "metadata": {},
     "output_type": "execute_result"
    }
   ],
   "source": [
    "df.drop(\"x4\", axis=1, inplace = True)\n",
    "df.head()"
   ]
  },
  {
   "cell_type": "markdown",
   "metadata": {},
   "source": [
    "### Questions \n",
    "\n",
    "Based on the previos results, provide a description of yout dataset\n",
    "\n",
    "Your response:\n",
    "\n",
    "Mi dataset cuenta con un total de 282 observaciones u objetos, de la observación o ID 0 a la observación o ID 281.\n",
    "A cada objeto u observación, se le están midiendo 4 variables, llamadas en orden x1, x2, x3 y x4, y no tienen unidad, solamente magnitud.\n",
    "\n"
   ]
  },
  {
   "cell_type": "markdown",
   "metadata": {},
   "source": [
    "# A3 Data visualization"
   ]
  },
  {
   "cell_type": "markdown",
   "metadata": {},
   "source": [
    "Plot in the same figure the histogram of the two variables"
   ]
  },
  {
   "cell_type": "code",
   "execution_count": 94,
   "metadata": {},
   "outputs": [
    {
     "name": "stderr",
     "output_type": "stream",
     "text": [
      "D:\\Herramientas\\Conda\\lib\\site-packages\\seaborn\\distributions.py:2557: FutureWarning: `distplot` is a deprecated function and will be removed in a future version. Please adapt your code to use either `displot` (a figure-level function with similar flexibility) or `histplot` (an axes-level function for histograms).\n",
      "  warnings.warn(msg, FutureWarning)\n"
     ]
    },
    {
     "data": {
      "text/plain": [
       "Text(0.5, 1.0, 'x1, x2 y x3')"
      ]
     },
     "execution_count": 94,
     "metadata": {},
     "output_type": "execute_result"
    },
    {
     "data": {
      "image/png": "[encoded data removed]",
      "text/plain": [
       "<Figure size 432x288 with 1 Axes>"
      ]
     },
     "metadata": {
      "needs_background": "light"
     },
     "output_type": "display_data"
    }
   ],
   "source": [
    "# Plot de todas las variables (3).\n",
    "sns.distplot(df[\"x1\"], kde = False)\n",
    "Y = sns.distplot(df[\"x2\"], kde = False)\n",
    "X = sns.distplot(df[\"x3\"], kde = False)\n",
    "Y.set_ylabel(\"Frecuencia\")\n",
    "Y.set_xlabel(\"Medición\")\n",
    "Y.set_title(\"x1, x2 y x3\")\n"
   ]
  },
  {
   "cell_type": "markdown",
   "metadata": {},
   "source": [
    "Based on this plots, provide a description of your data:\n",
    "\n",
    "Your response here:"
   ]
  },
  {
   "cell_type": "markdown",
   "metadata": {},
   "source": [
    "Plot in the same figure the boxplot of the two variables "
   ]
  },
  {
   "cell_type": "code",
   "execution_count": 95,
   "metadata": {},
   "outputs": [
    {
     "data": {
      "image/png": "[encoded data removed]",
      "text/plain": [
       "<Figure size 432x288 with 1 Axes>"
      ]
     },
     "metadata": {
      "needs_background": "light"
     },
     "output_type": "display_data"
    }
   ],
   "source": [
    "# Plot de todas las variables (3)\n",
    "Xdata = df.loc[:,[\"x1\", \"x2\", \"x3\"]]\n",
    "sns.boxplot(data = Xdata, orient = \"v\")\n",
    "plt.show()"
   ]
  },
  {
   "cell_type": "markdown",
   "metadata": {},
   "source": [
    "Scatter plot of the two variables"
   ]
  },
  {
   "cell_type": "code",
   "execution_count": 51,
   "metadata": {},
   "outputs": [],
   "source": [
    "# Con el pairplot obtenemos todas las gráficas posibles, desde x1 al x3.\n",
    "# Abajo se encuentra el pairplot."
   ]
  },
  {
   "cell_type": "markdown",
   "metadata": {},
   "source": [
    "### Questions \n",
    "\n",
    "Based on the previos plots, provide a description of yout dataset\n",
    "\n",
    "Your response:\n",
    "\n",
    "Los valores de x3, son los que abarcan más datos, desde el -11 (aprox.) hasta el 11 (aprox.), y son los que tienen más frecuencia para algunos datos, llegando casí a los 80.\n",
    "\n",
    "Los valores de x2, son los que abarcan menos datos, ya que van desde el -7 (aprox.) hasta el 5 (aprox.), y la frecuencia máxima para algunos datos es casí o igual a 60.\n",
    "\n",
    "Los valores de x1, son los que abarcan mucho, pero no igual a como los de x3. Desde -6 (aprox.) hasta el 12 (aprox.), con un frecuencia máxima para algunos valores de casí 55.\n",
    "\n"
   ]
  },
  {
   "cell_type": "code",
   "execution_count": 49,
   "metadata": {},
   "outputs": [
    {
     "data": {
      "text/plain": [
       "<seaborn.axisgrid.PairGrid at 0x1cfdb3fe100>"
      ]
     },
     "execution_count": 49,
     "metadata": {},
     "output_type": "execute_result"
    },
    {
     "data": {
      "image/png": "[encoded data removed]",
      "text/plain": [
       "<Figure size 720x720 with 20 Axes>"
      ]
     },
     "metadata": {
      "needs_background": "light"
     },
     "output_type": "display_data"
    }
   ],
   "source": [
    "sns.pairplot(df)"
   ]
  },
  {
   "cell_type": "markdown",
   "metadata": {},
   "source": [
    "# A4 Kmeans"
   ]
  },
  {
   "cell_type": "markdown",
   "metadata": {},
   "source": [
    "Do Kmeans clustering assuming a number of clusters accorging to your scatter plot"
   ]
  },
  {
   "cell_type": "code",
   "execution_count": 75,
   "metadata": {},
   "outputs": [
    {
     "name": "stdout",
     "output_type": "stream",
     "text": [
      "[1 0 0 1 0 1 0 2 2 0 2 1 1 0 0 0 0 0 2 1 2 2 2 0 1 2 0 2 0 1 1 2 0 0 2 2 1\n",
      " 1 2 0 0 2 0 0 0 0 2 2 0 2 2 2 1 1 1 1 1 1 0 1 0 1 2 0 2 0 0 2 0 2 0 1 0 1\n",
      " 0 2 2 1 0 2 0 0 1 2 1 1 0 0 2 0 2 0 1 1 0 0 0 1 1 1 0 1 2 0 2 1 2 0 2 1 2\n",
      " 0 1 1 1 1 2 1 2 2 1 2 0 2 2 1 2 2 1 0 1 2 0 0 2 1 0 2 1 2 0 1 2 1 1 2 1 0\n",
      " 0 1 1 2 2 2 0 2 2 0 1 0 1 1 1 0 0 2 2 1 1 1 2 0 0 0 2 1 1 1 1 0 0 1 0 2 2\n",
      " 1 0 1 2 1 1 2 0 0 0 0 2 0 2 1 2 1 0 1 1 1 2 1 0 2 0 2 0 0 2 1 0 0 2 2 0 0\n",
      " 2 0 2 1 2 2 1 0 2 2 2 0 0 0 1 1 0 1 1 1 0 1 0 2 2 1 0 2 1 2 1 1 2 0 1 0 1\n",
      " 2 2 2 2 0 1 1 1 1 2 0 2 2 2 1 0 1 0 2 2 2 1 2]\n"
     ]
    }
   ],
   "source": [
    "# Voy a realizar 3 clusters, ya que en la mayoría de los scatterplots podemos tener 3 grupos.\n",
    "km = KMeans(n_clusters=3)\n",
    "\n",
    "# Do K-means clustering (assing each point in the dataset to a cluster)\n",
    "yp = km.fit_predict(df[['x1', 'x2', 'x3']])\n",
    "# Print estimated cluster of each point in the dataser\n",
    "print(yp)"
   ]
  },
  {
   "cell_type": "markdown",
   "metadata": {},
   "source": [
    "Add to your dataset a column with the assihned cluster to each data point"
   ]
  },
  {
   "cell_type": "code",
   "execution_count": 76,
   "metadata": {},
   "outputs": [
    {
     "data": {
      "text/html": [
       "<div>\n",
       "<style scoped>\n",
       "    .dataframe tbody tr th:only-of-type {\n",
       "        vertical-align: middle;\n",
       "    }\n",
       "\n",
       "    .dataframe tbody tr th {\n",
       "        vertical-align: top;\n",
       "    }\n",
       "\n",
       "    .dataframe thead th {\n",
       "        text-align: right;\n",
       "    }\n",
       "</style>\n",
       "<table border=\"1\" class=\"dataframe\">\n",
       "  <thead>\n",
       "    <tr style=\"text-align: right;\">\n",
       "      <th></th>\n",
       "      <th>Unnamed: 0</th>\n",
       "      <th>x1</th>\n",
       "      <th>x2</th>\n",
       "      <th>x3</th>\n",
       "      <th>Cluster</th>\n",
       "    </tr>\n",
       "  </thead>\n",
       "  <tbody>\n",
       "    <tr>\n",
       "      <th>0</th>\n",
       "      <td>0</td>\n",
       "      <td>0.882491</td>\n",
       "      <td>2.782761</td>\n",
       "      <td>6.740612</td>\n",
       "      <td>1</td>\n",
       "    </tr>\n",
       "    <tr>\n",
       "      <th>1</th>\n",
       "      <td>1</td>\n",
       "      <td>8.839638</td>\n",
       "      <td>-3.090291</td>\n",
       "      <td>0.696630</td>\n",
       "      <td>0</td>\n",
       "    </tr>\n",
       "    <tr>\n",
       "      <th>2</th>\n",
       "      <td>2</td>\n",
       "      <td>10.162117</td>\n",
       "      <td>-2.223895</td>\n",
       "      <td>-1.476523</td>\n",
       "      <td>0</td>\n",
       "    </tr>\n",
       "    <tr>\n",
       "      <th>3</th>\n",
       "      <td>3</td>\n",
       "      <td>1.976174</td>\n",
       "      <td>2.312219</td>\n",
       "      <td>7.698592</td>\n",
       "      <td>1</td>\n",
       "    </tr>\n",
       "    <tr>\n",
       "      <th>4</th>\n",
       "      <td>4</td>\n",
       "      <td>8.398309</td>\n",
       "      <td>-6.425410</td>\n",
       "      <td>-2.678749</td>\n",
       "      <td>0</td>\n",
       "    </tr>\n",
       "  </tbody>\n",
       "</table>\n",
       "</div>"
      ],
      "text/plain": [
       "   Unnamed: 0         x1        x2        x3  Cluster\n",
       "0           0   0.882491  2.782761  6.740612        1\n",
       "1           1   8.839638 -3.090291  0.696630        0\n",
       "2           2  10.162117 -2.223895 -1.476523        0\n",
       "3           3   1.976174  2.312219  7.698592        1\n",
       "4           4   8.398309 -6.425410 -2.678749        0"
      ]
     },
     "execution_count": 76,
     "metadata": {},
     "output_type": "execute_result"
    }
   ],
   "source": [
    "df[\"Cluster\"] = yp\n",
    "df.head()"
   ]
  },
  {
   "cell_type": "markdown",
   "metadata": {},
   "source": [
    "Print the number associated to each cluster"
   ]
  },
  {
   "cell_type": "code",
   "execution_count": 77,
   "metadata": {},
   "outputs": [
    {
     "name": "stdout",
     "output_type": "stream",
     "text": [
      "[1 0 2]\n"
     ]
    }
   ],
   "source": [
    "print(df.Cluster.unique())"
   ]
  },
  {
   "cell_type": "markdown",
   "metadata": {},
   "source": [
    "Print the centroids"
   ]
  },
  {
   "cell_type": "code",
   "execution_count": 78,
   "metadata": {},
   "outputs": [
    {
     "data": {
      "text/plain": [
       "array([[ 8.78059696, -2.99966102, -1.96009624],\n",
       "       [ 2.72135363,  2.21360184,  8.69066102],\n",
       "       [-2.72632905,  1.18077505, -6.55642644]])"
      ]
     },
     "execution_count": 78,
     "metadata": {},
     "output_type": "execute_result"
    }
   ],
   "source": [
    "km.cluster_centers_"
   ]
  },
  {
   "cell_type": "markdown",
   "metadata": {},
   "source": [
    "Print the intertia metric"
   ]
  },
  {
   "cell_type": "code",
   "execution_count": 79,
   "metadata": {},
   "outputs": [
    {
     "data": {
      "text/plain": [
       "1969.5559373400206"
      ]
     },
     "execution_count": 79,
     "metadata": {},
     "output_type": "execute_result"
    }
   ],
   "source": [
    "km.inertia_"
   ]
  },
  {
   "cell_type": "markdown",
   "metadata": {},
   "source": [
    "Plot a scatter plot of your data assigned to each cluster. Also plot the centroids"
   ]
  },
  {
   "cell_type": "code",
   "execution_count": 80,
   "metadata": {},
   "outputs": [
    {
     "name": "stderr",
     "output_type": "stream",
     "text": [
      "<ipython-input-80-45be054cf465>:6: MatplotlibDeprecationWarning: Case-insensitive properties were deprecated in 3.3 and support will be removed two minor releases later\n",
      "  plt.scatter(dfV1.x1, dfV1.x2, Label='Estimado para x1')\n",
      "<ipython-input-80-45be054cf465>:7: MatplotlibDeprecationWarning: Case-insensitive properties were deprecated in 3.3 and support will be removed two minor releases later\n",
      "  plt.scatter(dfV2.x1, dfV2.x2, Label='Estimado para x2')\n",
      "<ipython-input-80-45be054cf465>:8: MatplotlibDeprecationWarning: Case-insensitive properties were deprecated in 3.3 and support will be removed two minor releases later\n",
      "  plt.scatter(dfV3.x1, dfV3.x2, Label='Estimado para x3')\n"
     ]
    },
    {
     "data": {
      "image/png": "[encoded data removed]",
      "text/plain": [
       "<Figure size 432x288 with 1 Axes>"
      ]
     },
     "metadata": {
      "needs_background": "light"
     },
     "output_type": "display_data"
    }
   ],
   "source": [
    "# x1 contra x2\n",
    "dfV1 = df[df.Cluster==0]\n",
    "dfV2 = df[df.Cluster==1]\n",
    "dfV3 = df[df.Cluster==2]\n",
    "\n",
    "plt.scatter(dfV1.x1, dfV1.x2, Label='Estimado para x1')\n",
    "plt.scatter(dfV2.x1, dfV2.x2, Label='Estimado para x2')\n",
    "plt.scatter(dfV3.x1, dfV3.x2, Label='Estimado para x3')\n",
    "\n",
    "plt.scatter(km.cluster_centers_[:,0], km.cluster_centers_[:,1], color='magenta', marker='*', label='Centroides', s=256)\n",
    "\n",
    "plt.title('x1 vs x2')\n",
    "plt.xlabel('x1')\n",
    "plt.ylabel('x2')\n",
    "plt.legend()\n",
    "plt.show()\n",
    "\n",
    "# Si se compara contra el pairplot, observamos que son scatterplots identicos."
   ]
  },
  {
   "cell_type": "code",
   "execution_count": 82,
   "metadata": {},
   "outputs": [
    {
     "name": "stderr",
     "output_type": "stream",
     "text": [
      "<ipython-input-82-e7d9b2aee3bd>:6: MatplotlibDeprecationWarning: Case-insensitive properties were deprecated in 3.3 and support will be removed two minor releases later\n",
      "  plt.scatter(dfV1.x1, dfV1.x3, Label='Estimado para x1')\n",
      "<ipython-input-82-e7d9b2aee3bd>:7: MatplotlibDeprecationWarning: Case-insensitive properties were deprecated in 3.3 and support will be removed two minor releases later\n",
      "  plt.scatter(dfV2.x1, dfV2.x3, Label='Estimado para x2')\n",
      "<ipython-input-82-e7d9b2aee3bd>:8: MatplotlibDeprecationWarning: Case-insensitive properties were deprecated in 3.3 and support will be removed two minor releases later\n",
      "  plt.scatter(dfV3.x1, dfV3.x3, Label='Estimado para x3')\n"
     ]
    },
    {
     "data": {
      "image/png": "[encoded data removed]",
      "text/plain": [
       "<Figure size 432x288 with 1 Axes>"
      ]
     },
     "metadata": {
      "needs_background": "light"
     },
     "output_type": "display_data"
    }
   ],
   "source": [
    "# x1 contra x3\n",
    "dfV1 = df[df.Cluster==0]\n",
    "dfV2 = df[df.Cluster==1]\n",
    "dfV3 = df[df.Cluster==2]\n",
    "\n",
    "plt.scatter(dfV1.x1, dfV1.x3, Label='Estimado para x1')\n",
    "plt.scatter(dfV2.x1, dfV2.x3, Label='Estimado para x2')\n",
    "plt.scatter(dfV3.x1, dfV3.x3, Label='Estimado para x3')\n",
    "\n",
    "plt.scatter(km.cluster_centers_[:,0], km.cluster_centers_[:,2], color='magenta', marker='*', label='Centroides', s=256)\n",
    "\n",
    "plt.title('x1 vs x3')\n",
    "plt.xlabel('x1')\n",
    "plt.ylabel('x3')\n",
    "plt.legend()\n",
    "plt.show()\n",
    "\n",
    "# Si se compara contra el pairplot, observamos que son scatterplots identicos."
   ]
  },
  {
   "cell_type": "code",
   "execution_count": 83,
   "metadata": {},
   "outputs": [
    {
     "name": "stderr",
     "output_type": "stream",
     "text": [
      "<ipython-input-83-54fa91f14055>:6: MatplotlibDeprecationWarning: Case-insensitive properties were deprecated in 3.3 and support will be removed two minor releases later\n",
      "  plt.scatter(dfV1.x2, dfV1.x1, Label='Estimado para x1')\n",
      "<ipython-input-83-54fa91f14055>:7: MatplotlibDeprecationWarning: Case-insensitive properties were deprecated in 3.3 and support will be removed two minor releases later\n",
      "  plt.scatter(dfV2.x2, dfV2.x1, Label='Estimado para x2')\n",
      "<ipython-input-83-54fa91f14055>:8: MatplotlibDeprecationWarning: Case-insensitive properties were deprecated in 3.3 and support will be removed two minor releases later\n",
      "  plt.scatter(dfV3.x2, dfV3.x1, Label='Estimado para x3')\n"
     ]
    },
    {
     "data": {
      "image/png": "[encoded data removed]",
      "text/plain": [
       "<Figure size 432x288 with 1 Axes>"
      ]
     },
     "metadata": {
      "needs_background": "light"
     },
     "output_type": "display_data"
    }
   ],
   "source": [
    "# x2 contra x1\n",
    "dfV1 = df[df.Cluster==0]\n",
    "dfV2 = df[df.Cluster==1]\n",
    "dfV3 = df[df.Cluster==2]\n",
    "\n",
    "plt.scatter(dfV1.x2, dfV1.x1, Label='Estimado para x1')\n",
    "plt.scatter(dfV2.x2, dfV2.x1, Label='Estimado para x2')\n",
    "plt.scatter(dfV3.x2, dfV3.x1, Label='Estimado para x3')\n",
    "\n",
    "plt.scatter(km.cluster_centers_[:,1], km.cluster_centers_[:,0], color='magenta', marker='*', label='Centroides', s=256)\n",
    "\n",
    "plt.title('x2 vs x1')\n",
    "plt.xlabel('x2')\n",
    "plt.ylabel('x1')\n",
    "plt.legend()\n",
    "plt.show()\n",
    "\n",
    "# Si se compara contra el pairplot, observamos que son scatterplots identicos."
   ]
  },
  {
   "cell_type": "code",
   "execution_count": 84,
   "metadata": {},
   "outputs": [
    {
     "name": "stderr",
     "output_type": "stream",
     "text": [
      "<ipython-input-84-438f126dbd9f>:6: MatplotlibDeprecationWarning: Case-insensitive properties were deprecated in 3.3 and support will be removed two minor releases later\n",
      "  plt.scatter(dfV1.x2, dfV1.x3, Label='Estimado para x1')\n",
      "<ipython-input-84-438f126dbd9f>:7: MatplotlibDeprecationWarning: Case-insensitive properties were deprecated in 3.3 and support will be removed two minor releases later\n",
      "  plt.scatter(dfV2.x2, dfV2.x3, Label='Estimado para x2')\n",
      "<ipython-input-84-438f126dbd9f>:8: MatplotlibDeprecationWarning: Case-insensitive properties were deprecated in 3.3 and support will be removed two minor releases later\n",
      "  plt.scatter(dfV3.x2, dfV3.x3, Label='Estimado para x3')\n"
     ]
    },
    {
     "data": {
      "image/png": "[encoded data removed]",
      "text/plain": [
       "<Figure size 432x288 with 1 Axes>"
      ]
     },
     "metadata": {
      "needs_background": "light"
     },
     "output_type": "display_data"
    }
   ],
   "source": [
    "# x2 contra x3\n",
    "dfV1 = df[df.Cluster==0]\n",
    "dfV2 = df[df.Cluster==1]\n",
    "dfV3 = df[df.Cluster==2]\n",
    "\n",
    "plt.scatter(dfV1.x2, dfV1.x3, Label='Estimado para x1')\n",
    "plt.scatter(dfV2.x2, dfV2.x3, Label='Estimado para x2')\n",
    "plt.scatter(dfV3.x2, dfV3.x3, Label='Estimado para x3')\n",
    "\n",
    "plt.scatter(km.cluster_centers_[:,1], km.cluster_centers_[:,2], color='magenta', marker='*', label='Centroides', s=256)\n",
    "\n",
    "plt.title('x2 vs x3')\n",
    "plt.xlabel('x2')\n",
    "plt.ylabel('x3')\n",
    "plt.legend()\n",
    "plt.show()\n",
    "\n",
    "# Si se compara contra el pairplot, observamos que son scatterplots identicos."
   ]
  },
  {
   "cell_type": "code",
   "execution_count": 85,
   "metadata": {},
   "outputs": [
    {
     "name": "stderr",
     "output_type": "stream",
     "text": [
      "<ipython-input-85-044d8a4d1120>:6: MatplotlibDeprecationWarning: Case-insensitive properties were deprecated in 3.3 and support will be removed two minor releases later\n",
      "  plt.scatter(dfV1.x3, dfV1.x1, Label='Estimado para x1')\n",
      "<ipython-input-85-044d8a4d1120>:7: MatplotlibDeprecationWarning: Case-insensitive properties were deprecated in 3.3 and support will be removed two minor releases later\n",
      "  plt.scatter(dfV2.x3, dfV2.x1, Label='Estimado para x2')\n",
      "<ipython-input-85-044d8a4d1120>:8: MatplotlibDeprecationWarning: Case-insensitive properties were deprecated in 3.3 and support will be removed two minor releases later\n",
      "  plt.scatter(dfV3.x3, dfV3.x1, Label='Estimado para x3')\n"
     ]
    },
    {
     "data": {
      "image/png": "[encoded data removed]",
      "text/plain": [
       "<Figure size 432x288 with 1 Axes>"
      ]
     },
     "metadata": {
      "needs_background": "light"
     },
     "output_type": "display_data"
    }
   ],
   "source": [
    "# x3 contra x1\n",
    "dfV1 = df[df.Cluster==0]\n",
    "dfV2 = df[df.Cluster==1]\n",
    "dfV3 = df[df.Cluster==2]\n",
    "\n",
    "plt.scatter(dfV1.x3, dfV1.x1, Label='Estimado para x1')\n",
    "plt.scatter(dfV2.x3, dfV2.x1, Label='Estimado para x2')\n",
    "plt.scatter(dfV3.x3, dfV3.x1, Label='Estimado para x3')\n",
    "\n",
    "plt.scatter(km.cluster_centers_[:,2], km.cluster_centers_[:,0], color='magenta', marker='*', label='Centroides', s=256)\n",
    "\n",
    "plt.title('x3 vs x1')\n",
    "plt.xlabel('x3')\n",
    "plt.ylabel('x1')\n",
    "plt.legend()\n",
    "plt.show()\n",
    "\n",
    "# Si se compara contra el pairplot, observamos que son scatterplots identicos."
   ]
  },
  {
   "cell_type": "code",
   "execution_count": 86,
   "metadata": {},
   "outputs": [
    {
     "name": "stderr",
     "output_type": "stream",
     "text": [
      "<ipython-input-86-27f446d8741d>:6: MatplotlibDeprecationWarning: Case-insensitive properties were deprecated in 3.3 and support will be removed two minor releases later\n",
      "  plt.scatter(dfV1.x3, dfV1.x2, Label='Estimado para x1')\n",
      "<ipython-input-86-27f446d8741d>:7: MatplotlibDeprecationWarning: Case-insensitive properties were deprecated in 3.3 and support will be removed two minor releases later\n",
      "  plt.scatter(dfV2.x3, dfV2.x2, Label='Estimado para x2')\n",
      "<ipython-input-86-27f446d8741d>:8: MatplotlibDeprecationWarning: Case-insensitive properties were deprecated in 3.3 and support will be removed two minor releases later\n",
      "  plt.scatter(dfV3.x3, dfV3.x2, Label='Estimado para x3')\n"
     ]
    },
    {
     "data": {
      "image/png": "[encoded data removed]",
      "text/plain": [
       "<Figure size 432x288 with 1 Axes>"
      ]
     },
     "metadata": {
      "needs_background": "light"
     },
     "output_type": "display_data"
    }
   ],
   "source": [
    "# x3 contra x2\n",
    "dfV1 = df[df.Cluster==0]\n",
    "dfV2 = df[df.Cluster==1]\n",
    "dfV3 = df[df.Cluster==2]\n",
    "\n",
    "plt.scatter(dfV1.x3, dfV1.x2, Label='Estimado para x1')\n",
    "plt.scatter(dfV2.x3, dfV2.x2, Label='Estimado para x2')\n",
    "plt.scatter(dfV3.x3, dfV3.x2, Label='Estimado para x3')\n",
    "\n",
    "plt.scatter(km.cluster_centers_[:,2], km.cluster_centers_[:,1], color='magenta', marker='*', label='Centroides', s=256)\n",
    "\n",
    "plt.title('x3 vs x2')\n",
    "plt.xlabel('x3')\n",
    "plt.ylabel('x2')\n",
    "plt.legend()\n",
    "plt.show()\n",
    "\n",
    "# Si se compara contra el pairplot, observamos que son scatterplots identicos."
   ]
  },
  {
   "cell_type": "markdown",
   "metadata": {},
   "source": [
    "### Questions \n",
    "\n",
    "Provides a detailed description of your results\n",
    "\n",
    "Your response:\n",
    "\n",
    "Aunque mi inercia o sum squared root sea alto, los modelos para cada scatter plot y sus centroides es muy adecuado, muy preciso para cada cluster."
   ]
  },
  {
   "cell_type": "markdown",
   "metadata": {},
   "source": [
    "# A4 Elbow plot\n",
    "\n",
    "Compute the Elbow plot"
   ]
  },
  {
   "cell_type": "code",
   "execution_count": 87,
   "metadata": {},
   "outputs": [
    {
     "name": "stderr",
     "output_type": "stream",
     "text": [
      "D:\\Herramientas\\Conda\\lib\\site-packages\\sklearn\\cluster\\_kmeans.py:881: UserWarning: KMeans is known to have a memory leak on Windows with MKL, when there are less chunks than available threads. You can avoid it by setting the environment variable OMP_NUM_THREADS=2.\n",
      "  warnings.warn(\n"
     ]
    }
   ],
   "source": [
    "# x1 vs x2 ó x2 vs x1\n",
    "sse = []\n",
    "k_rng = range(1,10)\n",
    "for k in k_rng:\n",
    "    km = KMeans(n_clusters=k)\n",
    "    km.fit_predict(df[['x1','x2']])\n",
    "    sse.append(km.inertia_)"
   ]
  },
  {
   "cell_type": "code",
   "execution_count": 88,
   "metadata": {},
   "outputs": [
    {
     "data": {
      "image/png": "[encoded data removed]",
      "text/plain": [
       "<Figure size 432x288 with 1 Axes>"
      ]
     },
     "metadata": {
      "needs_background": "light"
     },
     "output_type": "display_data"
    }
   ],
   "source": [
    "plt.plot(k_rng,sse)\n",
    "\n",
    "plt.title('Elbow plot')\n",
    "plt.xlabel('K')\n",
    "plt.ylabel('Sum of squared error')\n",
    "plt.show()"
   ]
  },
  {
   "cell_type": "code",
   "execution_count": 89,
   "metadata": {},
   "outputs": [
    {
     "name": "stderr",
     "output_type": "stream",
     "text": [
      "D:\\Herramientas\\Conda\\lib\\site-packages\\sklearn\\cluster\\_kmeans.py:881: UserWarning: KMeans is known to have a memory leak on Windows with MKL, when there are less chunks than available threads. You can avoid it by setting the environment variable OMP_NUM_THREADS=2.\n",
      "  warnings.warn(\n"
     ]
    }
   ],
   "source": [
    "# x1 vs x3 ó x3 vs x1\n",
    "sse = []\n",
    "k_rng = range(1,10)\n",
    "for k in k_rng:\n",
    "    km = KMeans(n_clusters=k)\n",
    "    km.fit_predict(df[['x1','x3']])\n",
    "    sse.append(km.inertia_)"
   ]
  },
  {
   "cell_type": "code",
   "execution_count": 90,
   "metadata": {},
   "outputs": [
    {
     "data": {
      "image/png": "[encoded data removed]",
      "text/plain": [
       "<Figure size 432x288 with 1 Axes>"
      ]
     },
     "metadata": {
      "needs_background": "light"
     },
     "output_type": "display_data"
    }
   ],
   "source": [
    "plt.plot(k_rng,sse)\n",
    "\n",
    "plt.title('Elbow plot')\n",
    "plt.xlabel('K')\n",
    "plt.ylabel('Sum of squared error')\n",
    "plt.show()"
   ]
  },
  {
   "cell_type": "code",
   "execution_count": 91,
   "metadata": {},
   "outputs": [
    {
     "name": "stderr",
     "output_type": "stream",
     "text": [
      "D:\\Herramientas\\Conda\\lib\\site-packages\\sklearn\\cluster\\_kmeans.py:881: UserWarning: KMeans is known to have a memory leak on Windows with MKL, when there are less chunks than available threads. You can avoid it by setting the environment variable OMP_NUM_THREADS=2.\n",
      "  warnings.warn(\n"
     ]
    }
   ],
   "source": [
    "# x2 vs x3 ó x3 vs x2\n",
    "sse = []\n",
    "k_rng = range(1,10)\n",
    "for k in k_rng:\n",
    "    km = KMeans(n_clusters=k)\n",
    "    km.fit_predict(df[['x2','x3']])\n",
    "    sse.append(km.inertia_)"
   ]
  },
  {
   "cell_type": "code",
   "execution_count": 92,
   "metadata": {},
   "outputs": [
    {
     "data": {
      "image/png": "[encoded data removed]",
      "text/plain": [
       "<Figure size 432x288 with 1 Axes>"
      ]
     },
     "metadata": {
      "needs_background": "light"
     },
     "output_type": "display_data"
    }
   ],
   "source": [
    "plt.plot(k_rng,sse)\n",
    "\n",
    "plt.title('Elbow plot')\n",
    "plt.xlabel('K')\n",
    "plt.ylabel('Sum of squared error')\n",
    "plt.show()"
   ]
  },
  {
   "cell_type": "markdown",
   "metadata": {},
   "source": [
    "### Questions \n",
    "\n",
    "What is the best number of clusters K? (argue your response)\n",
    "\n",
    "Your response:\n",
    "\n",
    "Entre más clusters mejor...\n",
    "Esto es porque con más clusters podemos bajar el sum of squared error, y así hacer nuestros modelos más precisos, muchos mejores.\n",
    "\n",
    "Does this number of clusters agree with your inital guess? (argue your response)\n",
    "\n",
    "Your response:\n",
    "\n",
    "Si, 6/6 scatter plot tienen centroides en el \"centro\" de cada cluster. Debido que pude observar que la mayoría de los scatter plot tiene 3 clusters, y que tenemos tres variables que describen muy bien 3 cluster por cada gráfica, es entendible proponer 3 números de clusters."
   ]
  },
  {
   "cell_type": "markdown",
   "metadata": {},
   "source": [
    "# BONUS (N/A)"
   ]
  },
  {
   "cell_type": "markdown",
   "metadata": {},
   "source": [
    "1) Generate some data using the \"make_blobs\" function from \"sklearn.datasets\"\n",
    "\n",
    "- The number of observations is equal to the three last digits in your ID\n",
    "\n",
    "- 2 variables\n",
    "\n",
    "- 4 clusters\n",
    "\n",
    "- Standar deviation of each cluster of 1.5\n",
    "\n"
   ]
  },
  {
   "cell_type": "code",
   "execution_count": null,
   "metadata": {},
   "outputs": [],
   "source": []
  },
  {
   "cell_type": "markdown",
   "metadata": {},
   "source": [
    "2) Plot the scatter plot of your data using the real cluster labels"
   ]
  },
  {
   "cell_type": "code",
   "execution_count": null,
   "metadata": {},
   "outputs": [],
   "source": []
  },
  {
   "cell_type": "markdown",
   "metadata": {},
   "source": [
    "3) Do K means clustering "
   ]
  },
  {
   "cell_type": "code",
   "execution_count": null,
   "metadata": {},
   "outputs": [],
   "source": []
  },
  {
   "cell_type": "markdown",
   "metadata": {},
   "source": [
    "4) Plot the scatter plot of your data using the estimated cluster labels"
   ]
  },
  {
   "cell_type": "code",
   "execution_count": null,
   "metadata": {},
   "outputs": [],
   "source": []
  },
  {
   "cell_type": "markdown",
   "metadata": {},
   "source": [
    "### Questions \n",
    "\n",
    "Provides a detailed description of your results.\n",
    "\n",
    "Your response:"
   ]
  },
  {
   "cell_type": "markdown",
   "metadata": {},
   "source": [
    "# Descipcion de tu percepcion del nivel de desarrollo de la subcompetencia \n",
    "\n",
    "### SING0202A Interpretación de variables\n"
   ]
  },
  {
   "cell_type": "markdown",
   "metadata": {},
   "source": [
    "Escribe tu description del nivel de logro del siguiente criterio de la subcompetencia\n",
    "\n",
    "**Interpreta interacciones**. Interpreta interacciones entre variables relevantes en un problema, como base para la construcción de modelos bivariados basados en datos de un fenómeno investigado que le permita reproducir la respuesta del mismo."
   ]
  },
  {
   "cell_type": "markdown",
   "metadata": {},
   "source": [
    "Tu respuesta:\n",
    "\n",
    "Observable. Cuento con la capacidad de percibir variables de fenómenos, saber cuales interactuan y cuales no, gracias a lo aprendido durante esta semana, con la ayuda de herramientas computacionales como Python y sus librerías Pandas y Seaborn."
   ]
  },
  {
   "cell_type": "markdown",
   "metadata": {},
   "source": [
    "Escribe tu description del nivel de logro del siguiente criterio de la subcompetencia\n",
    "\n",
    "**Construcción de modelos**. Es capaz de construir modelos bivariados que expliquen el comportamiento de un fenómeno."
   ]
  },
  {
   "cell_type": "markdown",
   "metadata": {},
   "source": [
    "Tu respuesta:\n",
    "\n",
    "Observable. Gracias a la introducción del modelo K Means y la librería en Python sklearn, la construcción de modelos con K Means a una data frame, es rápido y sencillo. "
   ]
  }
 ],
 "metadata": {
  "kernelspec": {
   "display_name": "Python 3",
   "language": "python",
   "name": "python3"
  },
  "language_info": {
   "codemirror_mode": {
    "name": "ipython",
    "version": 3
   },
   "file_extension": ".py",
   "mimetype": "text/x-python",
   "name": "python",
   "nbconvert_exporter": "python",
   "pygments_lexer": "ipython3",
   "version": "3.8.8"
  }
 },
 "nbformat": 4,
 "nbformat_minor": 4
}
