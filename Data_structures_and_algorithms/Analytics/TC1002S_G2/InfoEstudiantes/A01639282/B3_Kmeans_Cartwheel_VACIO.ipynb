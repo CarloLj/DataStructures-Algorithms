{
 "cells": [
  {
   "cell_type": "markdown",
   "metadata": {},
   "source": [
    "# K-means clustering\n",
    "\n",
    "The notebook aims to study and implement a k-means clustering using \"sklearn\". The cartwheel dataset will be used to identify clusters automatically.\n",
    "\n",
    "\n",
    "## Acknowledgments\n",
    "\n",
    "- Data from https://www.coursera.org/ from the course \"Understanding and Visualizing Data with Python\" by University of Michigan\n"
   ]
  },
  {
   "cell_type": "markdown",
   "metadata": {},
   "source": [
    "# Importing libraries"
   ]
  },
  {
   "cell_type": "code",
   "execution_count": 2,
   "metadata": {},
   "outputs": [],
   "source": [
    "# Import the packages that we will be using\n",
    "import pandas as pd                 # For data handling\n",
    "import seaborn as sns               # For advanced plotting\n",
    "import matplotlib.pyplot as plt     # For showing plots\n",
    "\n",
    "# Note: specific functions of the \"sklearn\" package will be imported when needed to show concepts easily"
   ]
  },
  {
   "cell_type": "markdown",
   "metadata": {},
   "source": [
    "# Importing data"
   ]
  },
  {
   "cell_type": "code",
   "execution_count": 23,
   "metadata": {},
   "outputs": [],
   "source": [
    "# url string that hosts our .csv file\n",
    "ruta = \"datasets/iris/irisFinal.csv\"\n",
    "\n",
    "# Load the dataset\n",
    "df = pd.read_csv(ruta)\n"
   ]
  },
  {
   "cell_type": "markdown",
   "metadata": {},
   "source": [
    "# Undertanding and preprocessing the data\n",
    "\n",
    "1. Get a general 'feel' of the data\n"
   ]
  },
  {
   "cell_type": "code",
   "execution_count": 24,
   "metadata": {},
   "outputs": [
    {
     "name": "stdout",
     "output_type": "stream",
     "text": [
      "     SepalLength  SepalWidth  PetalLength  PetalWidth           Class\n",
      "0            5.1         3.5          1.4         0.2     Iris-setosa\n",
      "1            4.9         3.0          1.4         0.2     Iris-setosa\n",
      "2            4.7         3.2          1.3         0.2     Iris-setosa\n",
      "3            4.6         3.1          1.5         0.2     Iris-setosa\n",
      "4            5.0         3.6          1.4         0.2     Iris-setosa\n",
      "..           ...         ...          ...         ...             ...\n",
      "145          6.7         3.0          5.2         2.3  Iris-virginica\n",
      "146          6.3         2.5          5.0         1.9  Iris-virginica\n",
      "147          6.5         3.0          5.2         2.0  Iris-virginica\n",
      "148          6.2         3.4          5.4         2.3  Iris-virginica\n",
      "149          5.9         3.0          5.1         1.8  Iris-virginica\n",
      "\n",
      "[150 rows x 5 columns]\n"
     ]
    }
   ],
   "source": [
    "print(df)"
   ]
  },
  {
   "cell_type": "markdown",
   "metadata": {},
   "source": [
    "2. Rename column Class to Flower. And save in two other variables the original dataset."
   ]
  },
  {
   "cell_type": "code",
   "execution_count": 28,
   "metadata": {},
   "outputs": [
    {
     "name": "stdout",
     "output_type": "stream",
     "text": [
      "     SepalLength  SepalWidth  PetalLength  PetalWidth          Flower\n",
      "0            5.1         3.5          1.4         0.2     Iris-setosa\n",
      "1            4.9         3.0          1.4         0.2     Iris-setosa\n",
      "2            4.7         3.2          1.3         0.2     Iris-setosa\n",
      "3            4.6         3.1          1.5         0.2     Iris-setosa\n",
      "4            5.0         3.6          1.4         0.2     Iris-setosa\n",
      "..           ...         ...          ...         ...             ...\n",
      "145          6.7         3.0          5.2         2.3  Iris-virginica\n",
      "146          6.3         2.5          5.0         1.9  Iris-virginica\n",
      "147          6.5         3.0          5.2         2.0  Iris-virginica\n",
      "148          6.2         3.4          5.4         2.3  Iris-virginica\n",
      "149          5.9         3.0          5.1         1.8  Iris-virginica\n",
      "\n",
      "[150 rows x 5 columns]\n",
      "     SepalLength  SepalWidth  PetalLength  PetalWidth          Flower\n",
      "0            5.1         3.5          1.4         0.2     Iris-setosa\n",
      "1            4.9         3.0          1.4         0.2     Iris-setosa\n",
      "2            4.7         3.2          1.3         0.2     Iris-setosa\n",
      "3            4.6         3.1          1.5         0.2     Iris-setosa\n",
      "4            5.0         3.6          1.4         0.2     Iris-setosa\n",
      "..           ...         ...          ...         ...             ...\n",
      "145          6.7         3.0          5.2         2.3  Iris-virginica\n",
      "146          6.3         2.5          5.0         1.9  Iris-virginica\n",
      "147          6.5         3.0          5.2         2.0  Iris-virginica\n",
      "148          6.2         3.4          5.4         2.3  Iris-virginica\n",
      "149          5.9         3.0          5.1         1.8  Iris-virginica\n",
      "\n",
      "[150 rows x 5 columns]\n"
     ]
    }
   ],
   "source": [
    "df = df.rename(columns = {\"Class\":\"Flower\"})\n",
    "df1 = df\n",
    "df2 = df\n",
    "print(df1)\n",
    "print(df2)"
   ]
  },
  {
   "cell_type": "markdown",
   "metadata": {},
   "source": [
    "3. Encoding the class label categorical column: from string to num\n"
   ]
  },
  {
   "cell_type": "code",
   "execution_count": 67,
   "metadata": {},
   "outputs": [
    {
     "name": "stdout",
     "output_type": "stream",
     "text": [
      "     PetalLength  PetalWidth  Flower  Cluster\n",
      "0            1.4         0.2       0        0\n",
      "1            1.4         0.2       0        0\n",
      "2            1.3         0.2       0        0\n",
      "3            1.5         0.2       0        0\n",
      "4            1.4         0.2       0        0\n",
      "..           ...         ...     ...      ...\n",
      "145          5.2         2.3       2        1\n",
      "146          5.0         1.9       2        1\n",
      "147          5.2         2.0       2        1\n",
      "148          5.4         2.3       2        1\n",
      "149          5.1         1.8       2        1\n",
      "\n",
      "[150 rows x 4 columns]\n",
      "     SepalLength  SepalWidth  Flower  Cluster\n",
      "0            5.1         3.5       0        0\n",
      "1            4.9         3.0       0        0\n",
      "2            4.7         3.2       0        0\n",
      "3            4.6         3.1       0        0\n",
      "4            5.0         3.6       0        0\n",
      "..           ...         ...     ...      ...\n",
      "145          6.7         3.0       2        1\n",
      "146          6.3         2.5       2        2\n",
      "147          6.5         3.0       2        1\n",
      "148          6.2         3.4       2        1\n",
      "149          5.9         3.0       2        2\n",
      "\n",
      "[150 rows x 4 columns]\n",
      "     SepalLength  SepalWidth  PetalLength  PetalWidth  Flower\n",
      "0            5.1         3.5          1.4         0.2       0\n",
      "1            4.9         3.0          1.4         0.2       0\n",
      "2            4.7         3.2          1.3         0.2       0\n",
      "3            4.6         3.1          1.5         0.2       0\n",
      "4            5.0         3.6          1.4         0.2       0\n",
      "..           ...         ...          ...         ...     ...\n",
      "145          6.7         3.0          5.2         2.3       2\n",
      "146          6.3         2.5          5.0         1.9       2\n",
      "147          6.5         3.0          5.2         2.0       2\n",
      "148          6.2         3.4          5.4         2.3       2\n",
      "149          5.9         3.0          5.1         1.8       2\n",
      "\n",
      "[150 rows x 5 columns]\n"
     ]
    }
   ],
   "source": [
    "# Encoding the categorical column\n",
    "df = df.replace({\"Flower\":  {\"Iris-setosa\":0, \"Iris-versicolor\":1, \"Iris-virginica\":2} })\n",
    "df1 = df1.replace({\"Flower\":  {\"Iris-setosa\":0, \"Iris-versicolor\":1, \"Iris-virginica\":2} })\n",
    "df2 = df2.replace({\"Flower\":  {\"Iris-setosa\":0, \"Iris-versicolor\":1, \"Iris-virginica\":2} })\n",
    "\n",
    "#Visualize the dataset\n",
    "print(df1)\n",
    "print(df2)\n",
    "print(df)\n",
    "\n",
    "# Note: this is not necesary for the cartwheel dataset, but it going to be very usefull for the Iris dataset"
   ]
  },
  {
   "cell_type": "markdown",
   "metadata": {},
   "source": [
    "4. Discard columns that won't be used\n"
   ]
  },
  {
   "cell_type": "code",
   "execution_count": 30,
   "metadata": {},
   "outputs": [
    {
     "name": "stdout",
     "output_type": "stream",
     "text": [
      "     PetalLength  PetalWidth  Flower\n",
      "0            1.4         0.2       0\n",
      "1            1.4         0.2       0\n",
      "2            1.3         0.2       0\n",
      "3            1.5         0.2       0\n",
      "4            1.4         0.2       0\n",
      "..           ...         ...     ...\n",
      "145          5.2         2.3       2\n",
      "146          5.0         1.9       2\n",
      "147          5.2         2.0       2\n",
      "148          5.4         2.3       2\n",
      "149          5.1         1.8       2\n",
      "\n",
      "[150 rows x 3 columns]\n",
      "     SepalLength  SepalWidth  Flower\n",
      "0            5.1         3.5       0\n",
      "1            4.9         3.0       0\n",
      "2            4.7         3.2       0\n",
      "3            4.6         3.1       0\n",
      "4            5.0         3.6       0\n",
      "..           ...         ...     ...\n",
      "145          6.7         3.0       2\n",
      "146          6.3         2.5       2\n",
      "147          6.5         3.0       2\n",
      "148          6.2         3.4       2\n",
      "149          5.9         3.0       2\n",
      "\n",
      "[150 rows x 3 columns]\n"
     ]
    }
   ],
   "source": [
    "# For df1 drop Sepal Width and Length\n",
    "df1.drop([\"SepalWidth\", \"SepalLength\"],axis='columns',inplace=True)\n",
    "\n",
    "# For df2 drop Petal Width and Length\n",
    "df2.drop([\"PetalWidth\", \"PetalLength\"],axis='columns',inplace=True)\n",
    "\n",
    "#Visualize the dataset\n",
    "print(df1)\n",
    "print(df2)\n"
   ]
  },
  {
   "cell_type": "markdown",
   "metadata": {},
   "source": [
    "5. Scatter plot of the data"
   ]
  },
  {
   "cell_type": "code",
   "execution_count": 31,
   "metadata": {},
   "outputs": [
    {
     "data": {
      "image/png": "[encoded data removed]",
      "text/plain": [
       "<Figure size 432x288 with 1 Axes>"
      ]
     },
     "metadata": {
      "needs_background": "light"
     },
     "output_type": "display_data"
    }
   ],
   "source": [
    "plt.scatter(df1.PetalLength,df1.PetalWidth)\n",
    "plt.title('PetalLength vs PetalWidth')\n",
    "plt.xlabel('PetalLength')\n",
    "plt.ylabel('PetalWidth')\n",
    "plt.show()"
   ]
  },
  {
   "cell_type": "code",
   "execution_count": 34,
   "metadata": {},
   "outputs": [
    {
     "data": {
      "image/png": "[encoded data removed]",
      "text/plain": [
       "<Figure size 432x288 with 1 Axes>"
      ]
     },
     "metadata": {
      "needs_background": "light"
     },
     "output_type": "display_data"
    }
   ],
   "source": [
    "plt.scatter(df2.SepalLength,df2.SepalWidth)\n",
    "plt.title('SepalLength vs SepalWidth')\n",
    "plt.xlabel('SepalLength')\n",
    "plt.ylabel('SepalWidth')\n",
    "plt.show()"
   ]
  },
  {
   "cell_type": "markdown",
   "metadata": {},
   "source": [
    "6. Scatter plot of the data asigning each point to the cluster it belongs to ¡¡"
   ]
  },
  {
   "cell_type": "code",
   "execution_count": 42,
   "metadata": {},
   "outputs": [
    {
     "name": "stderr",
     "output_type": "stream",
     "text": [
      "<ipython-input-42-d134019139d9>:7: MatplotlibDeprecationWarning: Case-insensitive properties were deprecated in 3.3 and support will be removed two minor releases later\n",
      "  plt.scatter(df1Se.PetalLength, df1Se.PetalWidth, Label='Setosa')\n",
      "<ipython-input-42-d134019139d9>:8: MatplotlibDeprecationWarning: Case-insensitive properties were deprecated in 3.3 and support will be removed two minor releases later\n",
      "  plt.scatter(df1Ve.PetalLength, df1Ve.PetalWidth, Label='Versicolor')\n",
      "<ipython-input-42-d134019139d9>:9: MatplotlibDeprecationWarning: Case-insensitive properties were deprecated in 3.3 and support will be removed two minor releases later\n",
      "  plt.scatter(df1Vi.PetalLength, df1Vi.PetalWidth, Label='Virginica')\n"
     ]
    },
    {
     "data": {
      "image/png": "[encoded data removed]",
      "text/plain": [
       "<Figure size 432x288 with 1 Axes>"
      ]
     },
     "metadata": {
      "needs_background": "light"
     },
     "output_type": "display_data"
    }
   ],
   "source": [
    "# Iris-setosa:0, Iris-versicolor:1, Iris-virginica:2\n",
    "# (Salen algunos warnings por la versión de la librería)\n",
    "df1Se = df1[df1.Flower == 0]\n",
    "df1Ve = df1[df1.Flower == 1]\n",
    "df1Vi = df1[df1.Flower == 2]\n",
    "\n",
    "plt.scatter(df1Se.PetalLength, df1Se.PetalWidth, Label='Setosa')\n",
    "plt.scatter(df1Ve.PetalLength, df1Ve.PetalWidth, Label='Versicolor')\n",
    "plt.scatter(df1Vi.PetalLength, df1Vi.PetalWidth, Label='Virginica')\n",
    "\n",
    "plt.title('PetalLength vs PetalWidth (cm)')\n",
    "plt.xlabel('PetalLength')\n",
    "plt.ylabel('PetalWidth')\n",
    "plt.legend()\n",
    "plt.show()"
   ]
  },
  {
   "cell_type": "code",
   "execution_count": 43,
   "metadata": {},
   "outputs": [
    {
     "name": "stderr",
     "output_type": "stream",
     "text": [
      "<ipython-input-43-181f011fb0dc>:7: MatplotlibDeprecationWarning: Case-insensitive properties were deprecated in 3.3 and support will be removed two minor releases later\n",
      "  plt.scatter(df2Se.SepalLength, df2Se.SepalWidth, Label='Setosa')\n",
      "<ipython-input-43-181f011fb0dc>:8: MatplotlibDeprecationWarning: Case-insensitive properties were deprecated in 3.3 and support will be removed two minor releases later\n",
      "  plt.scatter(df2Ve.SepalLength, df2Ve.SepalWidth, Label='Versicolor')\n",
      "<ipython-input-43-181f011fb0dc>:9: MatplotlibDeprecationWarning: Case-insensitive properties were deprecated in 3.3 and support will be removed two minor releases later\n",
      "  plt.scatter(df2Vi.SepalLength, df2Vi.SepalWidth, Label='Virginica')\n"
     ]
    },
    {
     "data": {
      "image/png": "[encoded data removed]",
      "text/plain": [
       "<Figure size 432x288 with 1 Axes>"
      ]
     },
     "metadata": {
      "needs_background": "light"
     },
     "output_type": "display_data"
    }
   ],
   "source": [
    "# Iris-setosa:0, Iris-versicolor:1, Iris-virginica:2\n",
    "# (Salen algunos warnings por la versión de la librería)\n",
    "df2Se = df2[df2.Flower == 0]\n",
    "df2Ve = df2[df2.Flower == 1]\n",
    "df2Vi = df2[df2.Flower == 2]\n",
    "\n",
    "plt.scatter(df2Se.SepalLength, df2Se.SepalWidth, Label='Setosa')\n",
    "plt.scatter(df2Ve.SepalLength, df2Ve.SepalWidth, Label='Versicolor')\n",
    "plt.scatter(df2Vi.SepalLength, df2Vi.SepalWidth, Label='Virginica')\n",
    "\n",
    "plt.title('SepalLength vs SepalWidth (cm)')\n",
    "plt.xlabel('SepalLength')\n",
    "plt.ylabel('SepalWidth')\n",
    "plt.legend()\n",
    "plt.show()"
   ]
  },
  {
   "cell_type": "markdown",
   "metadata": {},
   "source": [
    "So, for this dataset we know in advance the class to which each point belongs to"
   ]
  },
  {
   "cell_type": "markdown",
   "metadata": {},
   "source": [
    "# Kmeans clustering\n",
    "\n",
    "Kmeans clustering"
   ]
  },
  {
   "cell_type": "code",
   "execution_count": 46,
   "metadata": {},
   "outputs": [
    {
     "name": "stdout",
     "output_type": "stream",
     "text": [
      "[0 0 0 0 0 0 0 0 0 0 0 0 0 0 0 0 0 0 0 0 0 0 0 0 0 0 0 0 0 0 0 0 0 0 0 0 0\n",
      " 0 0 0 0 0 0 0 0 0 0 0 0 0 2 2 2 2 2 2 2 2 2 2 2 2 2 2 2 2 2 2 2 2 2 2 2 2\n",
      " 2 2 2 1 2 2 2 2 2 1 2 2 2 2 2 2 2 2 2 2 2 2 2 2 2 2 1 1 1 1 1 1 2 1 1 1 1\n",
      " 1 1 1 1 1 1 1 1 2 1 1 1 1 1 1 2 1 1 1 1 1 1 1 1 1 1 1 2 1 1 1 1 1 1 1 1 1\n",
      " 1 1]\n",
      "[0 0 0 0 0 0 0 0 0 0 0 0 0 0 0 0 0 0 0 0 0 0 0 0 0 0 0 0 0 0 0 0 0 0 0 0 0\n",
      " 0 0 0 0 0 0 0 0 0 0 0 0 0 1 1 1 2 1 2 1 2 1 2 2 2 2 2 2 1 2 2 2 2 2 2 2 2\n",
      " 1 1 1 1 2 2 2 2 2 2 2 2 1 2 2 2 2 2 2 2 2 2 2 2 2 2 1 2 1 1 1 1 2 1 1 1 1\n",
      " 1 1 2 2 1 1 1 1 2 1 2 1 2 1 1 2 2 1 1 1 1 1 2 2 1 1 1 2 1 1 1 2 1 1 1 2 1\n",
      " 1 2]\n"
     ]
    }
   ],
   "source": [
    "#Import sklearn KMeans\n",
    "from sklearn.cluster import KMeans\n",
    "\n",
    "# Define number of clusters\n",
    "km = KMeans(n_clusters=3)\n",
    "\n",
    "# Do K-means clustering (assing each point in the dataset to a cluster)\n",
    "yp1 = km.fit_predict(df1[['PetalLength','PetalWidth']])\n",
    "yp2 = km.fit_predict(df2[['SepalLength','SepalWidth']])\n",
    "# Print estimated cluster of each point in the dataser\n",
    "print(yp1)\n",
    "print(yp2)"
   ]
  },
  {
   "cell_type": "code",
   "execution_count": 58,
   "metadata": {},
   "outputs": [
    {
     "name": "stdout",
     "output_type": "stream",
     "text": [
      "     PetalLength  PetalWidth  Flower  Cluster\n",
      "0            1.4         0.2       0        0\n",
      "1            1.4         0.2       0        0\n",
      "2            1.3         0.2       0        0\n",
      "3            1.5         0.2       0        0\n",
      "4            1.4         0.2       0        0\n",
      "..           ...         ...     ...      ...\n",
      "145          5.2         2.3       2        1\n",
      "146          5.0         1.9       2        1\n",
      "147          5.2         2.0       2        1\n",
      "148          5.4         2.3       2        1\n",
      "149          5.1         1.8       2        1\n",
      "\n",
      "[150 rows x 4 columns]\n",
      "     SepalLength  SepalWidth  Flower  Cluster\n",
      "0            5.1         3.5       0        0\n",
      "1            4.9         3.0       0        0\n",
      "2            4.7         3.2       0        0\n",
      "3            4.6         3.1       0        0\n",
      "4            5.0         3.6       0        0\n",
      "..           ...         ...     ...      ...\n",
      "145          6.7         3.0       2        1\n",
      "146          6.3         2.5       2        2\n",
      "147          6.5         3.0       2        1\n",
      "148          6.2         3.4       2        1\n",
      "149          5.9         3.0       2        2\n",
      "\n",
      "[150 rows x 4 columns]\n"
     ]
    }
   ],
   "source": [
    "# Add a new column to the dataset with the cluster information\n",
    "df1[\"Cluster\"] = yp1\n",
    "df2[\"Cluster\"] = yp2\n",
    "\n",
    "# Visualize the dataset\n",
    "print(df1)\n",
    "print(df2)\n"
   ]
  },
  {
   "cell_type": "code",
   "execution_count": 50,
   "metadata": {},
   "outputs": [
    {
     "name": "stdout",
     "output_type": "stream",
     "text": [
      "[0 2 1]\n",
      "[0 1 2]\n"
     ]
    }
   ],
   "source": [
    "# Visualize the ID of the clusters\n",
    "print(df1.Cluster.unique())\n",
    "print(df2.Cluster.unique())\n"
   ]
  },
  {
   "cell_type": "code",
   "execution_count": 51,
   "metadata": {},
   "outputs": [
    {
     "data": {
      "text/plain": [
       "array([[5.006     , 3.428     ],\n",
       "       [6.81276596, 3.07446809],\n",
       "       [5.77358491, 2.69245283]])"
      ]
     },
     "execution_count": 51,
     "metadata": {},
     "output_type": "execute_result"
    }
   ],
   "source": [
    "# Center of each cluster\n",
    "km.cluster_centers_"
   ]
  },
  {
   "cell_type": "code",
   "execution_count": 52,
   "metadata": {},
   "outputs": [
    {
     "data": {
      "text/plain": [
       "37.0507021276596"
      ]
     },
     "execution_count": 52,
     "metadata": {},
     "output_type": "execute_result"
    }
   ],
   "source": [
    "# Sum of squared error\n",
    "km.inertia_"
   ]
  },
  {
   "cell_type": "markdown",
   "metadata": {},
   "source": [
    "<span style='color:Blue'> **Important remarks**  </span>\n",
    "\n",
    "- The number of each cluster is randomly assigned\n",
    "- The order of the number in each cluster is random"
   ]
  },
  {
   "cell_type": "markdown",
   "metadata": {},
   "source": [
    "# Plot estimated clusters\n",
    "\n",
    "Plot estimated clusters"
   ]
  },
  {
   "cell_type": "code",
   "execution_count": 60,
   "metadata": {},
   "outputs": [
    {
     "name": "stderr",
     "output_type": "stream",
     "text": [
      "<ipython-input-60-aa0af735acf3>:5: MatplotlibDeprecationWarning: Case-insensitive properties were deprecated in 3.3 and support will be removed two minor releases later\n",
      "  plt.scatter(df1V1.PetalLength, df1V1.PetalWidth, Label='Estimated Flower Group 1')\n",
      "<ipython-input-60-aa0af735acf3>:6: MatplotlibDeprecationWarning: Case-insensitive properties were deprecated in 3.3 and support will be removed two minor releases later\n",
      "  plt.scatter(df1V2.PetalLength, df1V2.PetalWidth, Label='Estimated Flower Group 2')\n",
      "<ipython-input-60-aa0af735acf3>:7: MatplotlibDeprecationWarning: Case-insensitive properties were deprecated in 3.3 and support will be removed two minor releases later\n",
      "  plt.scatter(df1V3.PetalLength, df1V3.PetalWidth, Label='Estimated Flower Group 3')\n"
     ]
    },
    {
     "data": {
      "image/png": "[encoded data removed]",
      "text/plain": [
       "<Figure size 432x288 with 1 Axes>"
      ]
     },
     "metadata": {
      "needs_background": "light"
     },
     "output_type": "display_data"
    }
   ],
   "source": [
    "df1V1 = df1[df1.Cluster==0]\n",
    "df1V2 = df1[df1.Cluster==1]\n",
    "df1V3 = df1[df1.Cluster==2]\n",
    "\n",
    "plt.scatter(df1V1.PetalLength, df1V1.PetalWidth, Label='Estimated Flower Group 1')\n",
    "plt.scatter(df1V2.PetalLength, df1V2.PetalWidth, Label='Estimated Flower Group 2')\n",
    "plt.scatter(df1V3.PetalLength, df1V3.PetalWidth, Label='Estimated Flower Group 3')\n",
    "\n",
    "plt.scatter(km.cluster_centers_[:,0], km.cluster_centers_[:,1], color='magenta', marker='*', label='Centroides', s=256)\n",
    "\n",
    "plt.title('PetalLength vs PetalWidth (cm)')\n",
    "plt.xlabel('PetalLength')\n",
    "plt.ylabel('PetalWidth')\n",
    "plt.legend()\n",
    "plt.show()\n"
   ]
  },
  {
   "cell_type": "code",
   "execution_count": 56,
   "metadata": {},
   "outputs": [
    {
     "name": "stderr",
     "output_type": "stream",
     "text": [
      "<ipython-input-56-459047ac4075>:5: MatplotlibDeprecationWarning: Case-insensitive properties were deprecated in 3.3 and support will be removed two minor releases later\n",
      "  plt.scatter(df2V1.SepalLength, df2V1.SepalWidth, Label='Estimated Flower Group 1')\n",
      "<ipython-input-56-459047ac4075>:6: MatplotlibDeprecationWarning: Case-insensitive properties were deprecated in 3.3 and support will be removed two minor releases later\n",
      "  plt.scatter(df2V2.SepalLength, df2V2.SepalWidth, Label='Estimated Flower Group 2')\n",
      "<ipython-input-56-459047ac4075>:7: MatplotlibDeprecationWarning: Case-insensitive properties were deprecated in 3.3 and support will be removed two minor releases later\n",
      "  plt.scatter(df2V3.SepalLength, df2V3.SepalWidth, Label='Estimated Flower Group 3')\n"
     ]
    },
    {
     "data": {
      "image/png": "[encoded data removed]",
      "text/plain": [
       "<Figure size 432x288 with 1 Axes>"
      ]
     },
     "metadata": {
      "needs_background": "light"
     },
     "output_type": "display_data"
    }
   ],
   "source": [
    "df2V1 = df2[df2.Cluster==0]\n",
    "df2V2 = df2[df2.Cluster==1]\n",
    "df2V3 = df2[df2.Cluster==2]\n",
    "\n",
    "plt.scatter(df2V1.SepalLength, df2V1.SepalWidth, Label='Estimated Flower Group 1')\n",
    "plt.scatter(df2V2.SepalLength, df2V2.SepalWidth, Label='Estimated Flower Group 2')\n",
    "plt.scatter(df2V3.SepalLength, df2V3.SepalWidth, Label='Estimated Flower Group 3')\n",
    "\n",
    "plt.scatter(km.cluster_centers_[:,0], km.cluster_centers_[:,1], color='magenta', marker='*', label='Centroides', s=256)\n",
    "\n",
    "plt.title('SepalLength vs SepalWidth (cm)')\n",
    "plt.xlabel('SepalLength')\n",
    "plt.ylabel('SepalWidth')\n",
    "plt.legend()\n",
    "plt.show()\n"
   ]
  },
  {
   "cell_type": "markdown",
   "metadata": {},
   "source": [
    "Plot real clusters and visual comparison"
   ]
  },
  {
   "cell_type": "code",
   "execution_count": 61,
   "metadata": {},
   "outputs": [],
   "source": [
    "# Ya tienen su plot correspondiente arriba.\n",
    "# Como comentario, el modelo o Kmean de Petal Length and Width no salió bien, quizá se tienen que hacer otro km, pero por el momento lo dejaré así."
   ]
  },
  {
   "cell_type": "markdown",
   "metadata": {},
   "source": [
    "# Selecting K: elbow plot\n",
    "\n",
    "Check the acurracy of the model using k-fold cross-validation"
   ]
  },
  {
   "cell_type": "code",
   "execution_count": 63,
   "metadata": {},
   "outputs": [
    {
     "name": "stderr",
     "output_type": "stream",
     "text": [
      "D:\\Herramientas\\Conda\\lib\\site-packages\\sklearn\\cluster\\_kmeans.py:881: UserWarning: KMeans is known to have a memory leak on Windows with MKL, when there are less chunks than available threads. You can avoid it by setting the environment variable OMP_NUM_THREADS=1.\n",
      "  warnings.warn(\n"
     ]
    }
   ],
   "source": [
    "# df1\n",
    "sse = []\n",
    "k_rng = range(1,10)\n",
    "for k in k_rng:\n",
    "    km = KMeans(n_clusters=k)\n",
    "    km.fit_predict(df1[['PetalLength','PetalWidth']])\n",
    "    sse.append(km.inertia_)\n"
   ]
  },
  {
   "cell_type": "code",
   "execution_count": 64,
   "metadata": {},
   "outputs": [
    {
     "data": {
      "image/png": "[encoded data removed]",
      "text/plain": [
       "<Figure size 432x288 with 1 Axes>"
      ]
     },
     "metadata": {
      "needs_background": "light"
     },
     "output_type": "display_data"
    }
   ],
   "source": [
    "plt.plot(k_rng,sse)\n",
    "\n",
    "plt.title('Elbow plot')\n",
    "plt.xlabel('K')\n",
    "plt.ylabel('Sum of squared error')\n",
    "plt.show()\n"
   ]
  },
  {
   "cell_type": "code",
   "execution_count": 65,
   "metadata": {},
   "outputs": [
    {
     "name": "stderr",
     "output_type": "stream",
     "text": [
      "D:\\Herramientas\\Conda\\lib\\site-packages\\sklearn\\cluster\\_kmeans.py:881: UserWarning: KMeans is known to have a memory leak on Windows with MKL, when there are less chunks than available threads. You can avoid it by setting the environment variable OMP_NUM_THREADS=1.\n",
      "  warnings.warn(\n"
     ]
    }
   ],
   "source": [
    "# df2\n",
    "sse = []\n",
    "k_rng = range(1,10)\n",
    "for k in k_rng:\n",
    "    km = KMeans(n_clusters=k)\n",
    "    km.fit_predict(df2[['SepalLength','SepalWidth']])\n",
    "    sse.append(km.inertia_)\n"
   ]
  },
  {
   "cell_type": "code",
   "execution_count": 66,
   "metadata": {},
   "outputs": [
    {
     "data": {
      "image/png": "[encoded data removed]",
      "text/plain": [
       "<Figure size 432x288 with 1 Axes>"
      ]
     },
     "metadata": {
      "needs_background": "light"
     },
     "output_type": "display_data"
    }
   ],
   "source": [
    "plt.plot(k_rng,sse)\n",
    "\n",
    "plt.title('Elbow plot')\n",
    "plt.xlabel('K')\n",
    "plt.ylabel('Sum of squared error')\n",
    "plt.show()\n"
   ]
  },
  {
   "cell_type": "markdown",
   "metadata": {},
   "source": [
    "# Kmeans clustering\n",
    "\n",
    "Kmeans clustering"
   ]
  },
  {
   "cell_type": "code",
   "execution_count": 68,
   "metadata": {},
   "outputs": [
    {
     "data": {
      "text/plain": [
       "array([0, 5, 5, 5, 0, 0, 5, 0, 5, 5, 0, 5, 5, 5, 0, 0, 0, 0, 0, 0, 0, 0,\n",
       "       5, 0, 5, 5, 0, 0, 0, 5, 5, 0, 0, 0, 5, 5, 0, 0, 5, 0, 0, 5, 5, 0,\n",
       "       0, 5, 0, 5, 0, 5, 1, 1, 1, 3, 1, 1, 1, 3, 1, 3, 3, 1, 3, 1, 3, 1,\n",
       "       1, 3, 1, 3, 1, 3, 1, 1, 1, 1, 1, 1, 1, 3, 3, 3, 3, 1, 3, 1, 1, 1,\n",
       "       3, 3, 3, 1, 3, 3, 3, 3, 3, 1, 3, 3, 2, 1, 4, 2, 2, 4, 3, 4, 2, 4,\n",
       "       2, 2, 2, 1, 2, 2, 2, 4, 4, 1, 2, 1, 4, 1, 2, 4, 1, 1, 2, 4, 4, 4,\n",
       "       2, 1, 1, 4, 2, 2, 1, 2, 2, 2, 1, 2, 2, 2, 1, 2, 2, 1])"
      ]
     },
     "execution_count": 68,
     "metadata": {},
     "output_type": "execute_result"
    }
   ],
   "source": [
    "# Define number of clusters\n",
    "km = KMeans(n_clusters=6)\n",
    "\n",
    "# Do K-means clustering (assing each point in the dataset to a cluster)\n",
    "yp = km.fit_predict(df[['SepalLength','SepalWidth', 'PetalLength', 'PetalWidth']])\n",
    "\n",
    "# Print estimated cluster of each point in the dataser\n",
    "yp"
   ]
  },
  {
   "cell_type": "code",
   "execution_count": 69,
   "metadata": {},
   "outputs": [
    {
     "name": "stdout",
     "output_type": "stream",
     "text": [
      "     SepalLength  SepalWidth  PetalLength  PetalWidth  Flower  Cluster\n",
      "0            5.1         3.5          1.4         0.2       0        0\n",
      "1            4.9         3.0          1.4         0.2       0        5\n",
      "2            4.7         3.2          1.3         0.2       0        5\n",
      "3            4.6         3.1          1.5         0.2       0        5\n",
      "4            5.0         3.6          1.4         0.2       0        0\n",
      "..           ...         ...          ...         ...     ...      ...\n",
      "145          6.7         3.0          5.2         2.3       2        2\n",
      "146          6.3         2.5          5.0         1.9       2        1\n",
      "147          6.5         3.0          5.2         2.0       2        2\n",
      "148          6.2         3.4          5.4         2.3       2        2\n",
      "149          5.9         3.0          5.1         1.8       2        1\n",
      "\n",
      "[150 rows x 6 columns]\n"
     ]
    }
   ],
   "source": [
    "# Add a new column to the dataset with the cluster information\n",
    "df[\"Cluster\"] = yp\n",
    "\n",
    "# Visualize the dataset\n",
    "print(df)"
   ]
  },
  {
   "cell_type": "code",
   "execution_count": 70,
   "metadata": {},
   "outputs": [
    {
     "name": "stdout",
     "output_type": "stream",
     "text": [
      "[0 5 1 3 2 4]\n"
     ]
    }
   ],
   "source": [
    "# Visualize the ID of the clusters\n",
    "print(df.Cluster.unique())"
   ]
  },
  {
   "cell_type": "code",
   "execution_count": 71,
   "metadata": {},
   "outputs": [
    {
     "data": {
      "text/plain": [
       "array([[5.24285714, 3.66785714, 1.5       , 0.28214286],\n",
       "       [6.20769231, 2.85384615, 4.74615385, 1.56410256],\n",
       "       [6.52916667, 3.05833333, 5.50833333, 2.1625    ],\n",
       "       [5.508     , 2.6       , 3.908     , 1.204     ],\n",
       "       [7.475     , 3.125     , 6.3       , 2.05      ],\n",
       "       [4.70454545, 3.12272727, 1.41363636, 0.2       ]])"
      ]
     },
     "execution_count": 71,
     "metadata": {},
     "output_type": "execute_result"
    }
   ],
   "source": [
    "# Center of each cluster\n",
    "km.cluster_centers_"
   ]
  },
  {
   "cell_type": "code",
   "execution_count": 72,
   "metadata": {},
   "outputs": [
    {
     "data": {
      "text/plain": [
       "39.03998724608725"
      ]
     },
     "execution_count": 72,
     "metadata": {},
     "output_type": "execute_result"
    }
   ],
   "source": [
    "# Sum of squared error\n",
    "km.inertia_"
   ]
  },
  {
   "cell_type": "code",
   "execution_count": 73,
   "metadata": {},
   "outputs": [
    {
     "name": "stderr",
     "output_type": "stream",
     "text": [
      "D:\\Herramientas\\Conda\\lib\\site-packages\\sklearn\\cluster\\_kmeans.py:881: UserWarning: KMeans is known to have a memory leak on Windows with MKL, when there are less chunks than available threads. You can avoid it by setting the environment variable OMP_NUM_THREADS=1.\n",
      "  warnings.warn(\n"
     ]
    }
   ],
   "source": [
    "# df\n",
    "sse = []\n",
    "k_rng = range(1,10)\n",
    "for k in k_rng:\n",
    "    km = KMeans(n_clusters=k)\n",
    "    km.fit_predict(df[['SepalLength','SepalWidth', 'PetalLength', 'PetalWidth']])\n",
    "    sse.append(km.inertia_)\n"
   ]
  },
  {
   "cell_type": "code",
   "execution_count": 74,
   "metadata": {},
   "outputs": [
    {
     "data": {
      "image/png": "[encoded data removed]",
      "text/plain": [
       "<Figure size 432x288 with 1 Axes>"
      ]
     },
     "metadata": {
      "needs_background": "light"
     },
     "output_type": "display_data"
    }
   ],
   "source": [
    "plt.plot(k_rng,sse)\n",
    "\n",
    "plt.title('Elbow plot')\n",
    "plt.xlabel('K')\n",
    "plt.ylabel('Sum of squared error')\n",
    "plt.show()\n"
   ]
  },
  {
   "cell_type": "markdown",
   "metadata": {},
   "source": [
    "<span style='color:Blue'> **Important remarks**  </span>\n",
    "\n",
    "According to the Elbot plot, the selected K agree with the real number of clusters\n",
    "\n"
   ]
  },
  {
   "cell_type": "markdown",
   "metadata": {},
   "source": [
    "# Final remarks\n",
    "\n",
    "- K-Means clustering algorithm is perhaps the simplest and most popular unsupervised learning algorithm\n",
    "\n",
    "- The number of clusters have to be defined by the user (i.e., by you ¡¡)\n",
    "\n",
    "- The number assigned to each cluster is randomly assigned from set 0, 1, 2\n",
    "\n",
    "- The order of the number in each cluster is random\n",
    "\n",
    "- The **sklearn** package provides the tools for data processing suchs as k-means"
   ]
  },
  {
   "cell_type": "markdown",
   "metadata": {},
   "source": [
    "# Activity: work with the iris dataset\n",
    "\n",
    " - For the following cases, do Kmean and without using min max scaling: determine whether the scaling benefits or not\n",
    " \n",
    " - Also, compute and show the elbow plot\n",
    "    \n",
    "1. Do clustering with the iris flower dataset to form clusters using as features petal width and length. Drop out the other two features (sepal width and length) for simplicity.\n",
    "En su parte correspondiente del documento.\n",
    "\n",
    "2. Do clustering with the iris flower dataset to form clusters using as features sepal width and length. Drop out the other two features (petal width and length) for simplicity.\n",
    "En su parte correspondiente del documento.\n",
    "\n",
    "3. Do clustering with the iris flower dataset to form clusters using as features sepal and petal width and length. Notice that scatter plots here are not possible\n",
    "En su parte correspondiente del documento (final).\n",
    "\n",
    "\n",
    "\n",
    "\n",
    "5. Draw conclusiones:\n",
    "    - About the scalling: does it helps or not?\n",
    "    - About the elbow plot: does the K agree with the real number of clusters? Para Petal no, el modelo pone unos centroides muy fuera de los clusters.\n",
    "    - Comparison between (i) sepal features alone, (ii) petal features alone, and (ii) both sepal with petal features: which one is better/worse? Why? Para sepal lo hizo muy bien, pero para petal no, y lo mejor sepal si salió por como tuvo suerte al momento de que km escogiera los clusters y sus centros. Tal vez creando otro km pueda mejorar petal."
   ]
  }
 ],
 "metadata": {
  "kernelspec": {
   "display_name": "Python 3",
   "language": "python",
   "name": "python3"
  },
  "language_info": {
   "codemirror_mode": {
    "name": "ipython",
    "version": 3
   },
   "file_extension": ".py",
   "mimetype": "text/x-python",
   "name": "python",
   "nbconvert_exporter": "python",
   "pygments_lexer": "ipython3",
   "version": "3.8.8"
  }
 },
 "nbformat": 4,
 "nbformat_minor": 4
}
