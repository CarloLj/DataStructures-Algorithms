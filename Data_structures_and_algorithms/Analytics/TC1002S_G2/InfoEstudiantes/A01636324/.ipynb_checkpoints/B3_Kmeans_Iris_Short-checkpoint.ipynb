{
 "cells": [
  {
   "cell_type": "markdown",
   "metadata": {},
   "source": [
    "# K-means clustering\n",
    "\n",
    "The notebook aims to study and implement a k-means clustering using \"sklearn\". The cartwheel dataset will be used to identify clusters automatically.\n",
    "\n",
    "\n",
    "## Acknowledgments\n",
    "\n",
    "- Data from https://www.coursera.org/ from the course \"Understanding and Visualizing Data with Python\" by University of Michigan\n"
   ]
  },
  {
   "cell_type": "markdown",
   "metadata": {},
   "source": [
    "# Importing libraries"
   ]
  },
  {
   "cell_type": "code",
   "execution_count": 52,
   "metadata": {},
   "outputs": [],
   "source": [
    "# Import the packages that we will be using\n",
    "import pandas as pd                 # For data handling\n",
    "import seaborn as sns               # For advanced plotting\n",
    "import matplotlib.pyplot as plt     # For showing plots\n",
    "\n",
    "# Note: specific functions of the \"sklearn\" package will be imported when needed to show concepts easily"
   ]
  },
  {
   "cell_type": "markdown",
   "metadata": {},
   "source": [
    "# Importing data"
   ]
  },
  {
   "cell_type": "code",
   "execution_count": 88,
   "metadata": {},
   "outputs": [],
   "source": [
    "# Define the col names for the iris dataset\n",
    "colnames = [\"Sepal_Length\", \"Sepal_Width\",\"Petal_Length\",\"Petal_Width\", \"Flower_Name\"]\n",
    "\n",
    "# url string that hosts our .csv file\n",
    "url = \"datasets/iris/iris.csv\"\n",
    "\n",
    "# Read the .csv file and store it as a pandas Data Frame\n",
    "df = pd.read_csv(url, header = None, names = colnames )\n"
   ]
  },
  {
   "cell_type": "markdown",
   "metadata": {},
   "source": [
    "# Undertanding and preprocessing the data\n",
    "\n",
    "1. Get a general 'feel' of the data\n"
   ]
  },
  {
   "cell_type": "code",
   "execution_count": 89,
   "metadata": {},
   "outputs": [
    {
     "name": "stdout",
     "output_type": "stream",
     "text": [
      "(150, 5)\n"
     ]
    },
    {
     "data": {
      "text/html": [
       "<div>\n",
       "<style scoped>\n",
       "    .dataframe tbody tr th:only-of-type {\n",
       "        vertical-align: middle;\n",
       "    }\n",
       "\n",
       "    .dataframe tbody tr th {\n",
       "        vertical-align: top;\n",
       "    }\n",
       "\n",
       "    .dataframe thead th {\n",
       "        text-align: right;\n",
       "    }\n",
       "</style>\n",
       "<table border=\"1\" class=\"dataframe\">\n",
       "  <thead>\n",
       "    <tr style=\"text-align: right;\">\n",
       "      <th></th>\n",
       "      <th>Sepal_Length</th>\n",
       "      <th>Sepal_Width</th>\n",
       "      <th>Petal_Length</th>\n",
       "      <th>Petal_Width</th>\n",
       "      <th>Flower_Name</th>\n",
       "    </tr>\n",
       "  </thead>\n",
       "  <tbody>\n",
       "    <tr>\n",
       "      <th>0</th>\n",
       "      <td>5.1</td>\n",
       "      <td>3.5</td>\n",
       "      <td>1.4</td>\n",
       "      <td>0.2</td>\n",
       "      <td>Iris-setosa</td>\n",
       "    </tr>\n",
       "    <tr>\n",
       "      <th>1</th>\n",
       "      <td>4.9</td>\n",
       "      <td>3.0</td>\n",
       "      <td>1.4</td>\n",
       "      <td>0.2</td>\n",
       "      <td>Iris-setosa</td>\n",
       "    </tr>\n",
       "    <tr>\n",
       "      <th>2</th>\n",
       "      <td>4.7</td>\n",
       "      <td>3.2</td>\n",
       "      <td>1.3</td>\n",
       "      <td>0.2</td>\n",
       "      <td>Iris-setosa</td>\n",
       "    </tr>\n",
       "    <tr>\n",
       "      <th>3</th>\n",
       "      <td>4.6</td>\n",
       "      <td>3.1</td>\n",
       "      <td>1.5</td>\n",
       "      <td>0.2</td>\n",
       "      <td>Iris-setosa</td>\n",
       "    </tr>\n",
       "    <tr>\n",
       "      <th>4</th>\n",
       "      <td>5.0</td>\n",
       "      <td>3.6</td>\n",
       "      <td>1.4</td>\n",
       "      <td>0.2</td>\n",
       "      <td>Iris-setosa</td>\n",
       "    </tr>\n",
       "  </tbody>\n",
       "</table>\n",
       "</div>"
      ],
      "text/plain": [
       "   Sepal_Length  Sepal_Width  Petal_Length  Petal_Width  Flower_Name\n",
       "0           5.1          3.5           1.4          0.2  Iris-setosa\n",
       "1           4.9          3.0           1.4          0.2  Iris-setosa\n",
       "2           4.7          3.2           1.3          0.2  Iris-setosa\n",
       "3           4.6          3.1           1.5          0.2  Iris-setosa\n",
       "4           5.0          3.6           1.4          0.2  Iris-setosa"
      ]
     },
     "execution_count": 89,
     "metadata": {},
     "output_type": "execute_result"
    }
   ],
   "source": [
    "print(df.shape)\n",
    "\n",
    "df.head()\n"
   ]
  },
  {
   "cell_type": "markdown",
   "metadata": {},
   "source": [
    "2. Drop rows with any missing values"
   ]
  },
  {
   "cell_type": "code",
   "execution_count": 90,
   "metadata": {},
   "outputs": [],
   "source": [
    "#df = df.dropna()\n",
    "#print(df.shape)\n",
    "df \n",
    "df1 = df\n",
    "df2 = df\n"
   ]
  },
  {
   "cell_type": "markdown",
   "metadata": {},
   "source": [
    "3. Encoding the class label categorical column: from string to num\n"
   ]
  },
  {
   "cell_type": "code",
   "execution_count": 91,
   "metadata": {
    "scrolled": true
   },
   "outputs": [
    {
     "name": "stdout",
     "output_type": "stream",
     "text": [
      "     Sepal_Length  Sepal_Width  Petal_Length  Petal_Width  Flower_Name\n",
      "0             5.1          3.5           1.4          0.2            0\n",
      "1             4.9          3.0           1.4          0.2            0\n",
      "2             4.7          3.2           1.3          0.2            0\n",
      "3             4.6          3.1           1.5          0.2            0\n",
      "4             5.0          3.6           1.4          0.2            0\n",
      "..            ...          ...           ...          ...          ...\n",
      "145           6.7          3.0           5.2          2.3            2\n",
      "146           6.3          2.5           5.0          1.9            2\n",
      "147           6.5          3.0           5.2          2.0            2\n",
      "148           6.2          3.4           5.4          2.3            2\n",
      "149           5.9          3.0           5.1          1.8            2\n",
      "\n",
      "[150 rows x 5 columns]\n",
      "     Sepal_Length  Sepal_Width  Petal_Length  Petal_Width  Flower_Name\n",
      "0             5.1          3.5           1.4          0.2            0\n",
      "1             4.9          3.0           1.4          0.2            0\n",
      "2             4.7          3.2           1.3          0.2            0\n",
      "3             4.6          3.1           1.5          0.2            0\n",
      "4             5.0          3.6           1.4          0.2            0\n",
      "..            ...          ...           ...          ...          ...\n",
      "145           6.7          3.0           5.2          2.3            2\n",
      "146           6.3          2.5           5.0          1.9            2\n",
      "147           6.5          3.0           5.2          2.0            2\n",
      "148           6.2          3.4           5.4          2.3            2\n",
      "149           5.9          3.0           5.1          1.8            2\n",
      "\n",
      "[150 rows x 5 columns]\n",
      "     Sepal_Length  Sepal_Width  Petal_Length  Petal_Width  Flower_Name\n",
      "0             5.1          3.5           1.4          0.2            0\n",
      "1             4.9          3.0           1.4          0.2            0\n",
      "2             4.7          3.2           1.3          0.2            0\n",
      "3             4.6          3.1           1.5          0.2            0\n",
      "4             5.0          3.6           1.4          0.2            0\n",
      "..            ...          ...           ...          ...          ...\n",
      "145           6.7          3.0           5.2          2.3            2\n",
      "146           6.3          2.5           5.0          1.9            2\n",
      "147           6.5          3.0           5.2          2.0            2\n",
      "148           6.2          3.4           5.4          2.3            2\n",
      "149           5.9          3.0           5.1          1.8            2\n",
      "\n",
      "[150 rows x 5 columns]\n"
     ]
    }
   ],
   "source": [
    "# Encoding the categorical column\n",
    "df = df.replace({\"Flower_Name\":  {\"Iris-setosa\":0, \"Iris-versicolor\":1, \"Iris-virginica\":2} })\n",
    "df1 = df1.replace({\"Flower_Name\":  {\"Iris-setosa\":0, \"Iris-versicolor\":1, \"Iris-virginica\":2} })\n",
    "df2 = df2.replace({\"Flower_Name\":  {\"Iris-setosa\":0, \"Iris-versicolor\":1, \"Iris-virginica\":2} })\n",
    "\n",
    "#Visualize the dataset\n",
    "print(df)\n",
    "print(df1)\n",
    "print(df2)\n",
    "\n",
    "# Note: this is not neesary for the cartwheel dataset, but it going to be very usefull for the Iris dataset"
   ]
  },
  {
   "cell_type": "markdown",
   "metadata": {},
   "source": [
    "4. Discard columns that won't be used\n"
   ]
  },
  {
   "cell_type": "code",
   "execution_count": 92,
   "metadata": {},
   "outputs": [
    {
     "name": "stdout",
     "output_type": "stream",
     "text": [
      "     Petal_Length  Petal_Width  Flower_Name\n",
      "0             1.4          0.2            0\n",
      "1             1.4          0.2            0\n",
      "2             1.3          0.2            0\n",
      "3             1.5          0.2            0\n",
      "4             1.4          0.2            0\n",
      "..            ...          ...          ...\n",
      "145           5.2          2.3            2\n",
      "146           5.0          1.9            2\n",
      "147           5.2          2.0            2\n",
      "148           5.4          2.3            2\n",
      "149           5.1          1.8            2\n",
      "\n",
      "[150 rows x 3 columns]\n",
      "     Sepal_Length  Sepal_Width  Flower_Name\n",
      "0             5.1          3.5            0\n",
      "1             4.9          3.0            0\n",
      "2             4.7          3.2            0\n",
      "3             4.6          3.1            0\n",
      "4             5.0          3.6            0\n",
      "..            ...          ...          ...\n",
      "145           6.7          3.0            2\n",
      "146           6.3          2.5            2\n",
      "147           6.5          3.0            2\n",
      "148           6.2          3.4            2\n",
      "149           5.9          3.0            2\n",
      "\n",
      "[150 rows x 3 columns]\n"
     ]
    }
   ],
   "source": [
    "\n",
    "df1.drop([\"Sepal_Width\", \"Sepal_Length\"],axis='columns',inplace=True)\n",
    "\n",
    "df2.drop([\"Petal_Width\", \"Petal_Length\"],axis='columns',inplace=True)\n",
    "\n",
    "#Visualize the dataset\n",
    "print(df1)\n",
    "print(df2)"
   ]
  },
  {
   "cell_type": "markdown",
   "metadata": {},
   "source": [
    "5. Scatter plot of the data"
   ]
  },
  {
   "cell_type": "code",
   "execution_count": 75,
   "metadata": {},
   "outputs": [
    {
     "data": {
      "image/png": "[encoded data removed]",
      "text/plain": [
       "<Figure size 432x288 with 1 Axes>"
      ]
     },
     "metadata": {
      "needs_background": "light"
     },
     "output_type": "display_data"
    }
   ],
   "source": [
    "plt.scatter(df.Petal_Length,df.Petal_Width)\n",
    "plt.title('Petal_Width vs Petal_Length')\n",
    "plt.xlabel('Petal_Length')\n",
    "plt.ylabel('Petal_Width')\n",
    "plt.show()"
   ]
  },
  {
   "cell_type": "code",
   "execution_count": 77,
   "metadata": {},
   "outputs": [
    {
     "data": {
      "image/png": "[encoded data removed]",
      "text/plain": [
       "<Figure size 432x288 with 1 Axes>"
      ]
     },
     "metadata": {
      "needs_background": "light"
     },
     "output_type": "display_data"
    }
   ],
   "source": [
    "\n",
    "plt.scatter(df2.Sepal_Length,df2.Sepal_Width)\n",
    "plt.title('Sepal_Width vs Sepal_Length')\n",
    "plt.xlabel('Sepal_Length')\n",
    "plt.ylabel('Sepal_Width')\n",
    "plt.show()"
   ]
  },
  {
   "cell_type": "markdown",
   "metadata": {},
   "source": [
    "6. Scatter plot of the data asigning each point to the cluster it belongs to ¡¡"
   ]
  },
  {
   "cell_type": "code",
   "execution_count": 80,
   "metadata": {},
   "outputs": [
    {
     "name": "stderr",
     "output_type": "stream",
     "text": [
      "<ipython-input-80-0d182659fffa>:5: MatplotlibDeprecationWarning: Case-insensitive properties were deprecated in 3.3 and support will be removed two minor releases later\n",
      "  plt.scatter(df1Setosa.Petal_Length,df1Setosa.Petal_Width,Label='Setosa')\n",
      "<ipython-input-80-0d182659fffa>:6: MatplotlibDeprecationWarning: Case-insensitive properties were deprecated in 3.3 and support will be removed two minor releases later\n",
      "  plt.scatter(df1Versicolor.Petal_Length,df1Versicolor.Petal_Width,Label='Versicolor')\n",
      "<ipython-input-80-0d182659fffa>:7: MatplotlibDeprecationWarning: Case-insensitive properties were deprecated in 3.3 and support will be removed two minor releases later\n",
      "  plt.scatter(df1Virginica.Petal_Length,df1Virginica.Petal_Width,Label='Virginica')\n"
     ]
    },
    {
     "data": {
      "image/png": "[encoded data removed]",
      "text/plain": [
       "<Figure size 432x288 with 1 Axes>"
      ]
     },
     "metadata": {
      "needs_background": "light"
     },
     "output_type": "display_data"
    }
   ],
   "source": [
    "df1Setosa = df1[df1.Flower_Name == 0]\n",
    "df1Versicolor = df1[df1.Flower_Name == 1]\n",
    "df1Virginica = df1[df1.Flower_Name == 2]\n",
    "\n",
    "plt.scatter(df1Setosa.Petal_Length,df1Setosa.Petal_Width,Label='Setosa')\n",
    "plt.scatter(df1Versicolor.Petal_Length,df1Versicolor.Petal_Width,Label='Versicolor')\n",
    "plt.scatter(df1Virginica.Petal_Length,df1Virginica.Petal_Width,Label='Virginica')\n",
    "\n",
    "plt.title('Petal_Length vs Petal_Width en cm')\n",
    "plt.xlabel('Petal_Length')\n",
    "plt.ylabel('Petal_Width')\n",
    "plt.legend()\n",
    "plt.show()"
   ]
  },
  {
   "cell_type": "code",
   "execution_count": 96,
   "metadata": {},
   "outputs": [
    {
     "name": "stderr",
     "output_type": "stream",
     "text": [
      "<ipython-input-96-c27743c9ddf6>:5: MatplotlibDeprecationWarning: Case-insensitive properties were deprecated in 3.3 and support will be removed two minor releases later\n",
      "  plt.scatter(df2Setosa.Sepal_Length,df2Setosa.Sepal_Width,Label='Setosa')\n",
      "<ipython-input-96-c27743c9ddf6>:6: MatplotlibDeprecationWarning: Case-insensitive properties were deprecated in 3.3 and support will be removed two minor releases later\n",
      "  plt.scatter(df2Versicolor.Sepal_Length,df2Versicolor.Sepal_Width,Label='Versicolor')\n",
      "<ipython-input-96-c27743c9ddf6>:7: MatplotlibDeprecationWarning: Case-insensitive properties were deprecated in 3.3 and support will be removed two minor releases later\n",
      "  plt.scatter(df2Virginica.Sepal_Length,df2Virginica.Sepal_Width,Label='Virginica')\n"
     ]
    },
    {
     "data": {
      "image/png": "[encoded data removed]",
      "text/plain": [
       "<Figure size 432x288 with 1 Axes>"
      ]
     },
     "metadata": {
      "needs_background": "light"
     },
     "output_type": "display_data"
    }
   ],
   "source": [
    "df2Setosa = df2[df2.Flower_Name == 0]\n",
    "df2Versicolor = df2[df2.Flower_Name == 1]\n",
    "df2Virginica = df2[df2.Flower_Name == 2]\n",
    "\n",
    "plt.scatter(df2Setosa.Sepal_Length,df2Setosa.Sepal_Width,Label='Setosa')\n",
    "plt.scatter(df2Versicolor.Sepal_Length,df2Versicolor.Sepal_Width,Label='Versicolor')\n",
    "plt.scatter(df2Virginica.Sepal_Length,df2Virginica.Sepal_Width,Label='Virginica')\n",
    "\n",
    "plt.title('Sepal_Length vs Sepal_Width  en cm')\n",
    "plt.xlabel('Sepal_Width')\n",
    "plt.ylabel('Sepal_Length')\n",
    "plt.legend()\n",
    "plt.show()"
   ]
  },
  {
   "cell_type": "markdown",
   "metadata": {},
   "source": [
    "So, for this dataset we know in advance the class to which each point belongs to"
   ]
  },
  {
   "cell_type": "markdown",
   "metadata": {},
   "source": [
    "# Kmeans clustering\n",
    "\n",
    "Kmeans clustering"
   ]
  },
  {
   "cell_type": "code",
   "execution_count": 99,
   "metadata": {},
   "outputs": [
    {
     "name": "stdout",
     "output_type": "stream",
     "text": [
      "[0 0 0 0 0 0 0 0 0 0 0 0 0 0 0 0 0 0 0 0 0 0 0 0 0 0 0 0 0 0 0 0 0 0 0 0 0\n",
      " 0 0 0 0 0 0 0 0 0 0 0 0 0 2 2 2 2 2 2 2 2 2 2 2 2 2 2 2 2 2 2 2 2 2 2 2 2\n",
      " 2 2 2 1 2 2 2 2 2 1 2 2 2 2 2 2 2 2 2 2 2 2 2 2 2 2 1 1 1 1 1 1 2 1 1 1 1\n",
      " 1 1 1 1 1 1 1 1 2 1 1 1 1 1 1 2 1 1 1 1 1 1 1 1 1 1 1 2 1 1 1 1 1 1 1 1 1\n",
      " 1 1]\n",
      "[1 1 1 1 1 1 1 1 1 1 1 1 1 1 1 1 1 1 1 1 1 1 1 1 1 1 1 1 1 1 1 1 1 1 1 1 1\n",
      " 1 1 1 1 1 1 1 1 1 1 1 1 1 0 0 0 2 0 2 0 2 0 2 2 2 2 2 2 0 2 2 2 2 2 2 2 2\n",
      " 0 0 0 0 2 2 2 2 2 2 2 2 0 2 2 2 2 2 2 2 2 2 2 2 2 2 0 2 0 0 0 0 2 0 0 0 0\n",
      " 0 0 2 2 0 0 0 0 2 0 2 0 2 0 0 2 2 0 0 0 0 0 2 2 0 0 0 2 0 0 0 2 0 0 0 2 0\n",
      " 0 2]\n"
     ]
    }
   ],
   "source": [
    "#Import sklearn KMeans\n",
    "from sklearn.cluster import KMeans\n",
    "\n",
    "# Define number of clusters\n",
    "km = KMeans(n_clusters=3)\n",
    "\n",
    "# Do K-means clustering (assing each point in the dataset to a cluster)\n",
    "yp1 = km.fit_predict(df1[['Petal_Length','Petal_Width']])\n",
    "yp2 = km.fit_predict(df2[['Sepal_Length','Sepal_Width']])\n",
    "# Print estimated cluster of each point in the dataser\n",
    "print(yp1)\n",
    "print(yp2)"
   ]
  },
  {
   "cell_type": "code",
   "execution_count": 100,
   "metadata": {},
   "outputs": [
    {
     "name": "stdout",
     "output_type": "stream",
     "text": [
      "     Petal_Length  Petal_Width  Flower_Name  Cluster\n",
      "0             1.4          0.2            0        0\n",
      "1             1.4          0.2            0        0\n",
      "2             1.3          0.2            0        0\n",
      "3             1.5          0.2            0        0\n",
      "4             1.4          0.2            0        0\n",
      "..            ...          ...          ...      ...\n",
      "145           5.2          2.3            2        1\n",
      "146           5.0          1.9            2        1\n",
      "147           5.2          2.0            2        1\n",
      "148           5.4          2.3            2        1\n",
      "149           5.1          1.8            2        1\n",
      "\n",
      "[150 rows x 4 columns]\n",
      "     Sepal_Length  Sepal_Width  Flower_Name  Cluster\n",
      "0             5.1          3.5            0        1\n",
      "1             4.9          3.0            0        1\n",
      "2             4.7          3.2            0        1\n",
      "3             4.6          3.1            0        1\n",
      "4             5.0          3.6            0        1\n",
      "..            ...          ...          ...      ...\n",
      "145           6.7          3.0            2        0\n",
      "146           6.3          2.5            2        2\n",
      "147           6.5          3.0            2        0\n",
      "148           6.2          3.4            2        0\n",
      "149           5.9          3.0            2        2\n",
      "\n",
      "[150 rows x 4 columns]\n"
     ]
    }
   ],
   "source": [
    "# Add a new column to the dataset with the cluster information\n",
    "df1[\"Cluster\"] = yp1\n",
    "df2[\"Cluster\"] = yp2\n",
    "\n",
    "# Visualize the dataset\n",
    "print(df1)\n",
    "print(df2)"
   ]
  },
  {
   "cell_type": "code",
   "execution_count": 101,
   "metadata": {},
   "outputs": [
    {
     "name": "stdout",
     "output_type": "stream",
     "text": [
      "[0 2 1]\n",
      "[1 0 2]\n"
     ]
    }
   ],
   "source": [
    "# Visualize the ID of the clusters\n",
    "print(df1.Cluster.unique())\n",
    "print(df2.Cluster.unique())"
   ]
  },
  {
   "cell_type": "code",
   "execution_count": 102,
   "metadata": {},
   "outputs": [
    {
     "data": {
      "text/plain": [
       "array([[6.81276596, 3.07446809],\n",
       "       [5.006     , 3.428     ],\n",
       "       [5.77358491, 2.69245283]])"
      ]
     },
     "execution_count": 102,
     "metadata": {},
     "output_type": "execute_result"
    }
   ],
   "source": [
    "# Center of each cluster\n",
    "km.cluster_centers_"
   ]
  },
  {
   "cell_type": "code",
   "execution_count": 103,
   "metadata": {},
   "outputs": [
    {
     "data": {
      "text/plain": [
       "37.0507021276596"
      ]
     },
     "execution_count": 103,
     "metadata": {},
     "output_type": "execute_result"
    }
   ],
   "source": [
    "# Sum of squared error\n",
    "km.inertia_"
   ]
  },
  {
   "cell_type": "markdown",
   "metadata": {},
   "source": [
    "<span style='color:Blue'> **Important remarks**  </span>\n",
    "\n",
    "- The number of each cluster is randomly assigned\n",
    "- The order of the number in each cluster is random"
   ]
  },
  {
   "cell_type": "markdown",
   "metadata": {},
   "source": [
    "# Plot estimated clusters\n",
    "\n",
    "Plot estimated clusters"
   ]
  },
  {
   "cell_type": "code",
   "execution_count": 108,
   "metadata": {},
   "outputs": [
    {
     "name": "stderr",
     "output_type": "stream",
     "text": [
      "<ipython-input-108-5bc7e6cfb4a1>:5: MatplotlibDeprecationWarning: Case-insensitive properties were deprecated in 3.3 and support will be removed two minor releases later\n",
      "  plt.scatter(df1c1.Petal_Length, df1c1.Petal_Width, Label='Estimated Flower Group 1')\n",
      "<ipython-input-108-5bc7e6cfb4a1>:6: MatplotlibDeprecationWarning: Case-insensitive properties were deprecated in 3.3 and support will be removed two minor releases later\n",
      "  plt.scatter(df1c2.Petal_Length, df1c2.Petal_Width, Label='Estimated Flower Group 2')\n",
      "<ipython-input-108-5bc7e6cfb4a1>:7: MatplotlibDeprecationWarning: Case-insensitive properties were deprecated in 3.3 and support will be removed two minor releases later\n",
      "  plt.scatter(df1c3.Petal_Length, df1c3.Petal_Width, Label='Estimated Flower Group 3')\n"
     ]
    },
    {
     "data": {
      "image/png": "[encoded data removed]",
      "text/plain": [
       "<Figure size 432x288 with 1 Axes>"
      ]
     },
     "metadata": {
      "needs_background": "light"
     },
     "output_type": "display_data"
    }
   ],
   "source": [
    "df1c1 = df1[df1.Cluster==0]\n",
    "df1c2 = df1[df1.Cluster==1]\n",
    "df1c3 = df1[df1.Cluster==2]\n",
    "\n",
    "plt.scatter(df1c1.Petal_Length, df1c1.Petal_Width, Label='Estimated Flower Group 1')\n",
    "plt.scatter(df1c2.Petal_Length, df1c2.Petal_Width, Label='Estimated Flower Group 2')\n",
    "plt.scatter(df1c3.Petal_Length, df1c3.Petal_Width, Label='Estimated Flower Group 3')\n",
    "\n",
    "plt.scatter(km.cluster_centers_[:,0], km.cluster_centers_[:,1], color='magenta', marker='*', label='Centroides', s=256)\n",
    "\n",
    "plt.title('Petal_Length vs Petal_Width en cm')\n",
    "plt.xlabel('Petal_Length')\n",
    "plt.ylabel('Petal_Width')\n",
    "plt.legend()\n",
    "plt.show()"
   ]
  },
  {
   "cell_type": "markdown",
   "metadata": {},
   "source": [
    "Plot real clusters and visual comparison"
   ]
  },
  {
   "cell_type": "code",
   "execution_count": 109,
   "metadata": {},
   "outputs": [
    {
     "name": "stderr",
     "output_type": "stream",
     "text": [
      "<ipython-input-109-f2eb7918e2b2>:5: MatplotlibDeprecationWarning: Case-insensitive properties were deprecated in 3.3 and support will be removed two minor releases later\n",
      "  plt.scatter(df2c1.Sepal_Length, df2c1.Sepal_Width, Label='Estimated Flower Group 1')\n",
      "<ipython-input-109-f2eb7918e2b2>:6: MatplotlibDeprecationWarning: Case-insensitive properties were deprecated in 3.3 and support will be removed two minor releases later\n",
      "  plt.scatter(df2c2.Sepal_Length, df2c2.Sepal_Width, Label='Estimated Flower Group 2')\n",
      "<ipython-input-109-f2eb7918e2b2>:7: MatplotlibDeprecationWarning: Case-insensitive properties were deprecated in 3.3 and support will be removed two minor releases later\n",
      "  plt.scatter(df2c3.Sepal_Length, df2c3.Sepal_Width, Label='Estimated Flower Group 3')\n"
     ]
    },
    {
     "data": {
      "image/png": "[encoded data removed]",
      "text/plain": [
       "<Figure size 432x288 with 1 Axes>"
      ]
     },
     "metadata": {
      "needs_background": "light"
     },
     "output_type": "display_data"
    }
   ],
   "source": [
    "df2c1 = df2[df2.Cluster==0]\n",
    "df2c2 = df2[df2.Cluster==1]\n",
    "df2c3 = df2[df2.Cluster==2]\n",
    "\n",
    "plt.scatter(df2c1.Sepal_Length, df2c1.Sepal_Width, Label='Estimated Flower Group 1')\n",
    "plt.scatter(df2c2.Sepal_Length, df2c2.Sepal_Width, Label='Estimated Flower Group 2')\n",
    "plt.scatter(df2c3.Sepal_Length, df2c3.Sepal_Width, Label='Estimated Flower Group 3')\n",
    "\n",
    "plt.scatter(km.cluster_centers_[:,0], km.cluster_centers_[:,1], color='magenta', marker='*', label='Centroides', s=256)\n",
    "\n",
    "plt.title('Sepal_Length vs Sepal_Width en cm')\n",
    "plt.xlabel('Sepal_Length')\n",
    "plt.ylabel('Sepal_Width')\n",
    "plt.legend()\n",
    "plt.show()"
   ]
  },
  {
   "cell_type": "markdown",
   "metadata": {},
   "source": [
    "# Selecting K: elbow plot\n",
    "\n",
    "Check the acurracy of the model using k-fold cross-validation"
   ]
  },
  {
   "cell_type": "code",
   "execution_count": 112,
   "metadata": {},
   "outputs": [],
   "source": [
    "sse = []\n",
    "k_rng = range(1,10)\n",
    "for k in k_rng:\n",
    "    km = KMeans(n_clusters=k)\n",
    "    km.fit_predict(df1[['Petal_Length','Petal_Width']])\n",
    "    sse.append(km.inertia_)"
   ]
  },
  {
   "cell_type": "code",
   "execution_count": 113,
   "metadata": {},
   "outputs": [
    {
     "data": {
      "image/png": "[encoded data removed]",
      "text/plain": [
       "<Figure size 432x288 with 1 Axes>"
      ]
     },
     "metadata": {
      "needs_background": "light"
     },
     "output_type": "display_data"
    }
   ],
   "source": [
    "plt.plot(k_rng,sse)\n",
    "\n",
    "plt.title('Elbow plot')\n",
    "plt.xlabel('K')\n",
    "plt.ylabel('Sum of squared error')\n",
    "plt.show()"
   ]
  },
  {
   "cell_type": "code",
   "execution_count": 114,
   "metadata": {},
   "outputs": [],
   "source": [
    "sse = []\n",
    "k_rng = range(1,10)\n",
    "for k in k_rng:\n",
    "    km = KMeans(n_clusters=k)\n",
    "    km.fit_predict(df2[['Sepal_Length','Sepal_Width']])\n",
    "    sse.append(km.inertia_)"
   ]
  },
  {
   "cell_type": "code",
   "execution_count": 115,
   "metadata": {},
   "outputs": [
    {
     "data": {
      "image/png": "[encoded data removed]",
      "text/plain": [
       "<Figure size 432x288 with 1 Axes>"
      ]
     },
     "metadata": {
      "needs_background": "light"
     },
     "output_type": "display_data"
    }
   ],
   "source": [
    "\n",
    "plt.plot(k_rng,sse)\n",
    "\n",
    "plt.title('Elbow plot')\n",
    "plt.xlabel('K')\n",
    "plt.ylabel('Sum of squared error')\n",
    "plt.show()"
   ]
  },
  {
   "cell_type": "code",
   "execution_count": 116,
   "metadata": {},
   "outputs": [
    {
     "data": {
      "text/plain": [
       "array([3, 0, 0, 0, 3, 3, 0, 3, 0, 0, 3, 0, 0, 0, 3, 3, 3, 3, 3, 3, 3, 3,\n",
       "       0, 3, 0, 0, 3, 3, 3, 0, 0, 3, 3, 3, 0, 0, 3, 3, 0, 3, 3, 0, 0, 3,\n",
       "       3, 0, 3, 0, 3, 0, 4, 4, 4, 2, 4, 2, 4, 2, 4, 2, 2, 2, 2, 4, 2, 4,\n",
       "       2, 2, 4, 2, 4, 2, 4, 4, 4, 4, 4, 4, 4, 2, 2, 2, 2, 4, 2, 4, 4, 4,\n",
       "       2, 2, 2, 4, 2, 2, 2, 2, 2, 4, 2, 2, 1, 4, 5, 1, 1, 5, 2, 5, 1, 5,\n",
       "       1, 1, 1, 4, 1, 1, 1, 5, 5, 4, 1, 4, 5, 4, 1, 5, 4, 4, 1, 5, 5, 5,\n",
       "       1, 4, 4, 5, 1, 1, 4, 1, 1, 1, 4, 1, 1, 1, 4, 1, 1, 4])"
      ]
     },
     "execution_count": 116,
     "metadata": {},
     "output_type": "execute_result"
    }
   ],
   "source": [
    "# Define number of clusters\n",
    "km = KMeans(n_clusters=6)\n",
    "\n",
    "# Do K-means clustering (assing each point in the dataset to a cluster)\n",
    "yp = km.fit_predict(df[['Sepal_Length','Sepal_Width', 'Petal_Length', 'Petal_Width']])\n",
    "\n",
    "# Print estimated cluster of each point in the dataser\n",
    "yp"
   ]
  },
  {
   "cell_type": "code",
   "execution_count": 117,
   "metadata": {},
   "outputs": [
    {
     "name": "stdout",
     "output_type": "stream",
     "text": [
      "     Sepal_Length  Sepal_Width  Petal_Length  Petal_Width  Flower_Name  \\\n",
      "0             5.1          3.5           1.4          0.2            0   \n",
      "1             4.9          3.0           1.4          0.2            0   \n",
      "2             4.7          3.2           1.3          0.2            0   \n",
      "3             4.6          3.1           1.5          0.2            0   \n",
      "4             5.0          3.6           1.4          0.2            0   \n",
      "..            ...          ...           ...          ...          ...   \n",
      "145           6.7          3.0           5.2          2.3            2   \n",
      "146           6.3          2.5           5.0          1.9            2   \n",
      "147           6.5          3.0           5.2          2.0            2   \n",
      "148           6.2          3.4           5.4          2.3            2   \n",
      "149           5.9          3.0           5.1          1.8            2   \n",
      "\n",
      "     Cluster  \n",
      "0          3  \n",
      "1          0  \n",
      "2          0  \n",
      "3          0  \n",
      "4          3  \n",
      "..       ...  \n",
      "145        1  \n",
      "146        4  \n",
      "147        1  \n",
      "148        1  \n",
      "149        4  \n",
      "\n",
      "[150 rows x 6 columns]\n"
     ]
    }
   ],
   "source": [
    "# Add a new column to the dataset with the cluster information\n",
    "df[\"Cluster\"] = yp\n",
    "\n",
    "# Visualize the dataset\n",
    "print(df)"
   ]
  },
  {
   "cell_type": "code",
   "execution_count": 118,
   "metadata": {},
   "outputs": [
    {
     "name": "stdout",
     "output_type": "stream",
     "text": [
      "[3 0 4 2 1 5]\n"
     ]
    }
   ],
   "source": [
    "# Visualize the ID of the clusters\n",
    "print(df.Cluster.unique())"
   ]
  },
  {
   "cell_type": "code",
   "execution_count": 119,
   "metadata": {},
   "outputs": [
    {
     "data": {
      "text/plain": [
       "array([[4.70454545, 3.12272727, 1.41363636, 0.2       ],\n",
       "       [6.52916667, 3.05833333, 5.50833333, 2.1625    ],\n",
       "       [5.53214286, 2.63571429, 3.96071429, 1.22857143],\n",
       "       [5.24285714, 3.66785714, 1.5       , 0.28214286],\n",
       "       [6.24722222, 2.84722222, 4.775     , 1.575     ],\n",
       "       [7.475     , 3.125     , 6.3       , 2.05      ]])"
      ]
     },
     "execution_count": 119,
     "metadata": {},
     "output_type": "execute_result"
    }
   ],
   "source": [
    "# Center of each cluster\n",
    "km.cluster_centers_"
   ]
  },
  {
   "cell_type": "code",
   "execution_count": 120,
   "metadata": {},
   "outputs": [
    {
     "data": {
      "text/plain": [
       "39.066035353535376"
      ]
     },
     "execution_count": 120,
     "metadata": {},
     "output_type": "execute_result"
    }
   ],
   "source": [
    "# Sum of squared error\n",
    "km.inertia_\n"
   ]
  },
  {
   "cell_type": "code",
   "execution_count": 122,
   "metadata": {},
   "outputs": [],
   "source": [
    "sse = []\n",
    "k_rng = range(1,10)\n",
    "for k in k_rng:\n",
    "    km = KMeans(n_clusters=k)\n",
    "    km.fit_predict(df[['Sepal_Length','Sepal_Width', 'Petal_Length', 'Petal_Width']])\n",
    "    sse.append(km.inertia_)"
   ]
  },
  {
   "cell_type": "code",
   "execution_count": 123,
   "metadata": {},
   "outputs": [
    {
     "data": {
      "image/png": "[encoded data removed]",
      "text/plain": [
       "<Figure size 432x288 with 1 Axes>"
      ]
     },
     "metadata": {
      "needs_background": "light"
     },
     "output_type": "display_data"
    }
   ],
   "source": [
    "plt.plot(k_rng,sse)\n",
    "\n",
    "plt.title('Elbow plot')\n",
    "plt.xlabel('K')\n",
    "plt.ylabel('Sum of squared error')\n",
    "plt.show()"
   ]
  },
  {
   "cell_type": "markdown",
   "metadata": {},
   "source": [
    "<span style='color:Blue'> **Important remarks**  </span>\n",
    "\n",
    "According to the Elbot plot, the selected K agree with the real number of clusters\n",
    "\n"
   ]
  },
  {
   "cell_type": "markdown",
   "metadata": {},
   "source": [
    "# Final remarks\n",
    "\n",
    "- K-Means clustering algorithm is perhaps the simplest and most popular unsupervised learning algorithm\n",
    "\n",
    "- The number of clusters have to be defined by the user (i.e., by you ¡¡)\n",
    "\n",
    "- The number assigned to each cluster is randomly assigned from set 0, 1, 2\n",
    "\n",
    "- The order of the number in each cluster is random\n",
    "\n",
    "- The **sklearn** package provides the tools for data processing suchs as k-means"
   ]
  },
  {
   "cell_type": "markdown",
   "metadata": {},
   "source": [
    "# Activity: work with the iris dataset\n",
    "\n",
    " - For the following cases, do Kmean and without using min max scaling: determine whether the scaling benefits or not\n",
    " \n",
    " - Also, compute and show the elbow plot\n",
    "    \n",
    "1. Do clustering with the iris flower dataset to form clusters using as features petal width and length. Drop out the other two features (sepal width and length) for simplicity.\n",
    "\n",
    "\n",
    "2. Do clustering with the iris flower dataset to form clusters using as features sepal width and length. Drop out the other two features (petal width and length) for simplicity.\n",
    "\n",
    "\n",
    "3. Do clustering with the iris flower dataset to form clusters using as features sepal and petal width and length. Notice that scatter plots here are not possible\n",
    "\n",
    "\n",
    "\n",
    "\n",
    "\n",
    "5. Draw conclusiones:\n",
    "    - About the scalling: does it helps or not?\n",
    "    - About the elbow plot: does the K agree with the real number of clusters? En el caso de Petal , se puede observar que coloca los centroides , fuera de los clusters\n",
    "    - Comparison between (i) sepal features alone, (ii) petal features alone, and (ii) both sepal with petal features: which one is better/worse? Why? Comparandolo , en el caso de petal no hay tanta coincidencia , pero para Sepal , es un poco mas exacto."
   ]
  }
 ],
 "metadata": {
  "kernelspec": {
   "display_name": "Python 3",
   "language": "python",
   "name": "python3"
  },
  "language_info": {
   "codemirror_mode": {
    "name": "ipython",
    "version": 3
   },
   "file_extension": ".py",
   "mimetype": "text/x-python",
   "name": "python",
   "nbconvert_exporter": "python",
   "pygments_lexer": "ipython3",
   "version": "3.8.8"
  }
 },
 "nbformat": 4,
 "nbformat_minor": 2
}
