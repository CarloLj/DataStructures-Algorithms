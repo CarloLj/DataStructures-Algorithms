{
 "cells": [
  {
   "cell_type": "markdown",
   "metadata": {},
   "source": [
    "# TC1002S Herramientas computacionales: el arte de la analítica\n",
    "\n",
    "This is a notebook with all your work for the final evidence of this course\n",
    "\n",
    "\n",
    "# Niveles de dominio a demostrar con la evidencia\n",
    "\n",
    "### SING0202A\n",
    "\n",
    "Interpreta interacciones entre variables relevantes en un problema, como base para la construcción de modelos bivariados basados en datos de un fenómeno investigado que le permita reproducir la respuesta del mismo. Es capaz de construir modelos bivariados que expliquen el comportamiento de un fenómeno.\n",
    "\n",
    "\n",
    "# Student information\n",
    "\n",
    "- Name:Carlos Alberto Sánchez Villanueva\n",
    "\n",
    "- ID:A01640495\n",
    "\n",
    "- My carreer:ITC\n"
   ]
  },
  {
   "cell_type": "markdown",
   "metadata": {},
   "source": [
    "# Importing libraries"
   ]
  },
  {
   "cell_type": "code",
   "execution_count": 195,
   "metadata": {},
   "outputs": [],
   "source": [
    "import pandas as pd              \n",
    "# For data handling\n",
    "import seaborn as sns               # For advanced plotting\n",
    "import matplotlib.pyplot as plt     # For showing plots\n"
   ]
  },
  {
   "cell_type": "markdown",
   "metadata": {},
   "source": [
    "# A1 Load data"
   ]
  },
  {
   "cell_type": "code",
   "execution_count": 196,
   "metadata": {},
   "outputs": [],
   "source": [
    "# url string that hosts our .csv file\n",
    "url = \"A01640495.csv\"\n",
    "\n",
    "# Read the .csv file and store it as a pandas Data Frame\n",
    "df = pd.read_csv(url)\n",
    "\n"
   ]
  },
  {
   "cell_type": "markdown",
   "metadata": {},
   "source": [
    "# A2 Data managment\n"
   ]
  },
  {
   "cell_type": "markdown",
   "metadata": {},
   "source": [
    "Print the first 7 rows"
   ]
  },
  {
   "cell_type": "code",
   "execution_count": 197,
   "metadata": {},
   "outputs": [
    {
     "data": {
      "text/html": [
       "<div>\n",
       "<style scoped>\n",
       "    .dataframe tbody tr th:only-of-type {\n",
       "        vertical-align: middle;\n",
       "    }\n",
       "\n",
       "    .dataframe tbody tr th {\n",
       "        vertical-align: top;\n",
       "    }\n",
       "\n",
       "    .dataframe thead th {\n",
       "        text-align: right;\n",
       "    }\n",
       "</style>\n",
       "<table border=\"1\" class=\"dataframe\">\n",
       "  <thead>\n",
       "    <tr style=\"text-align: right;\">\n",
       "      <th></th>\n",
       "      <th>Unnamed: 0</th>\n",
       "      <th>x1</th>\n",
       "      <th>x2</th>\n",
       "      <th>x3</th>\n",
       "      <th>x4</th>\n",
       "      <th>x5</th>\n",
       "    </tr>\n",
       "  </thead>\n",
       "  <tbody>\n",
       "    <tr>\n",
       "      <th>0</th>\n",
       "      <td>0</td>\n",
       "      <td>10.005276</td>\n",
       "      <td>-4.118843</td>\n",
       "      <td>10.872634</td>\n",
       "      <td>3.509608</td>\n",
       "      <td>10.432750</td>\n",
       "    </tr>\n",
       "    <tr>\n",
       "      <th>1</th>\n",
       "      <td>1</td>\n",
       "      <td>-2.989666</td>\n",
       "      <td>3.402669</td>\n",
       "      <td>-5.249183</td>\n",
       "      <td>-1.864664</td>\n",
       "      <td>2.517744</td>\n",
       "    </tr>\n",
       "    <tr>\n",
       "      <th>2</th>\n",
       "      <td>2</td>\n",
       "      <td>-1.180616</td>\n",
       "      <td>7.176544</td>\n",
       "      <td>-8.190423</td>\n",
       "      <td>-3.607561</td>\n",
       "      <td>-2.737344</td>\n",
       "    </tr>\n",
       "    <tr>\n",
       "      <th>3</th>\n",
       "      <td>3</td>\n",
       "      <td>5.198219</td>\n",
       "      <td>4.352567</td>\n",
       "      <td>-8.234242</td>\n",
       "      <td>7.555751</td>\n",
       "      <td>-9.176240</td>\n",
       "    </tr>\n",
       "    <tr>\n",
       "      <th>4</th>\n",
       "      <td>4</td>\n",
       "      <td>11.617597</td>\n",
       "      <td>-1.876361</td>\n",
       "      <td>9.783819</td>\n",
       "      <td>4.774712</td>\n",
       "      <td>6.562103</td>\n",
       "    </tr>\n",
       "    <tr>\n",
       "      <th>5</th>\n",
       "      <td>5</td>\n",
       "      <td>6.616063</td>\n",
       "      <td>5.784110</td>\n",
       "      <td>-11.106146</td>\n",
       "      <td>4.492273</td>\n",
       "      <td>-9.128280</td>\n",
       "    </tr>\n",
       "    <tr>\n",
       "      <th>6</th>\n",
       "      <td>6</td>\n",
       "      <td>8.388950</td>\n",
       "      <td>3.023018</td>\n",
       "      <td>-11.029364</td>\n",
       "      <td>6.169800</td>\n",
       "      <td>-9.525312</td>\n",
       "    </tr>\n",
       "  </tbody>\n",
       "</table>\n",
       "</div>"
      ],
      "text/plain": [
       "   Unnamed: 0         x1        x2         x3        x4         x5\n",
       "0           0  10.005276 -4.118843  10.872634  3.509608  10.432750\n",
       "1           1  -2.989666  3.402669  -5.249183 -1.864664   2.517744\n",
       "2           2  -1.180616  7.176544  -8.190423 -3.607561  -2.737344\n",
       "3           3   5.198219  4.352567  -8.234242  7.555751  -9.176240\n",
       "4           4  11.617597 -1.876361   9.783819  4.774712   6.562103\n",
       "5           5   6.616063  5.784110 -11.106146  4.492273  -9.128280\n",
       "6           6   8.388950  3.023018 -11.029364  6.169800  -9.525312"
      ]
     },
     "execution_count": 197,
     "metadata": {},
     "output_type": "execute_result"
    }
   ],
   "source": [
    "df.head(7)"
   ]
  },
  {
   "cell_type": "markdown",
   "metadata": {},
   "source": [
    "Print the first 4 last rows"
   ]
  },
  {
   "cell_type": "code",
   "execution_count": 198,
   "metadata": {},
   "outputs": [
    {
     "data": {
      "text/html": [
       "<div>\n",
       "<style scoped>\n",
       "    .dataframe tbody tr th:only-of-type {\n",
       "        vertical-align: middle;\n",
       "    }\n",
       "\n",
       "    .dataframe tbody tr th {\n",
       "        vertical-align: top;\n",
       "    }\n",
       "\n",
       "    .dataframe thead th {\n",
       "        text-align: right;\n",
       "    }\n",
       "</style>\n",
       "<table border=\"1\" class=\"dataframe\">\n",
       "  <thead>\n",
       "    <tr style=\"text-align: right;\">\n",
       "      <th></th>\n",
       "      <th>Unnamed: 0</th>\n",
       "      <th>x1</th>\n",
       "      <th>x2</th>\n",
       "      <th>x3</th>\n",
       "      <th>x4</th>\n",
       "      <th>x5</th>\n",
       "    </tr>\n",
       "  </thead>\n",
       "  <tbody>\n",
       "    <tr>\n",
       "      <th>491</th>\n",
       "      <td>491</td>\n",
       "      <td>-2.413961</td>\n",
       "      <td>5.884743</td>\n",
       "      <td>-8.075111</td>\n",
       "      <td>-2.024012</td>\n",
       "      <td>-0.268803</td>\n",
       "    </tr>\n",
       "    <tr>\n",
       "      <th>492</th>\n",
       "      <td>492</td>\n",
       "      <td>8.371493</td>\n",
       "      <td>2.911566</td>\n",
       "      <td>-6.474006</td>\n",
       "      <td>5.435039</td>\n",
       "      <td>-7.171844</td>\n",
       "    </tr>\n",
       "    <tr>\n",
       "      <th>493</th>\n",
       "      <td>493</td>\n",
       "      <td>-4.306163</td>\n",
       "      <td>4.573874</td>\n",
       "      <td>-6.317788</td>\n",
       "      <td>-1.924704</td>\n",
       "      <td>-2.279960</td>\n",
       "    </tr>\n",
       "    <tr>\n",
       "      <th>494</th>\n",
       "      <td>494</td>\n",
       "      <td>9.893088</td>\n",
       "      <td>-0.831861</td>\n",
       "      <td>6.613208</td>\n",
       "      <td>2.273670</td>\n",
       "      <td>9.366087</td>\n",
       "    </tr>\n",
       "  </tbody>\n",
       "</table>\n",
       "</div>"
      ],
      "text/plain": [
       "     Unnamed: 0        x1        x2        x3        x4        x5\n",
       "491         491 -2.413961  5.884743 -8.075111 -2.024012 -0.268803\n",
       "492         492  8.371493  2.911566 -6.474006  5.435039 -7.171844\n",
       "493         493 -4.306163  4.573874 -6.317788 -1.924704 -2.279960\n",
       "494         494  9.893088 -0.831861  6.613208  2.273670  9.366087"
      ]
     },
     "execution_count": 198,
     "metadata": {},
     "output_type": "execute_result"
    }
   ],
   "source": [
    "df.tail(4)"
   ]
  },
  {
   "cell_type": "markdown",
   "metadata": {},
   "source": [
    "How many rows and columns are in your data?\n",
    "\n",
    "Use the `shape` method\n"
   ]
  },
  {
   "cell_type": "code",
   "execution_count": 199,
   "metadata": {},
   "outputs": [
    {
     "name": "stdout",
     "output_type": "stream",
     "text": [
      "495\n",
      "6\n"
     ]
    }
   ],
   "source": [
    "Nr,Nc=df.shape\n",
    "\n",
    "print(Nr)\n",
    "print(Nc)"
   ]
  },
  {
   "cell_type": "markdown",
   "metadata": {},
   "source": [
    "Print the name of all columns \n",
    "\n",
    "Use the `columns` method"
   ]
  },
  {
   "cell_type": "code",
   "execution_count": 200,
   "metadata": {},
   "outputs": [
    {
     "data": {
      "text/plain": [
       "Index(['Unnamed: 0', 'x1', 'x2', 'x3', 'x4', 'x5'], dtype='object')"
      ]
     },
     "execution_count": 200,
     "metadata": {},
     "output_type": "execute_result"
    }
   ],
   "source": [
    "df.columns"
   ]
  },
  {
   "cell_type": "markdown",
   "metadata": {},
   "source": [
    "What is the data type in each column\n",
    "\n",
    "Use the `dtypes` method "
   ]
  },
  {
   "cell_type": "code",
   "execution_count": 201,
   "metadata": {},
   "outputs": [
    {
     "data": {
      "text/plain": [
       "Unnamed: 0      int64\n",
       "x1            float64\n",
       "x2            float64\n",
       "x3            float64\n",
       "x4            float64\n",
       "x5            float64\n",
       "dtype: object"
      ]
     },
     "execution_count": 201,
     "metadata": {},
     "output_type": "execute_result"
    }
   ],
   "source": [
    "df.dtypes"
   ]
  },
  {
   "cell_type": "markdown",
   "metadata": {},
   "source": [
    "What is the meaning of rows and columns?"
   ]
  },
  {
   "cell_type": "code",
   "execution_count": 21,
   "metadata": {},
   "outputs": [
    {
     "ename": "SyntaxError",
     "evalue": "invalid syntax (<ipython-input-21-1216679d0854>, line 4)",
     "output_type": "error",
     "traceback": [
      "\u001b[1;36m  File \u001b[1;32m\"<ipython-input-21-1216679d0854>\"\u001b[1;36m, line \u001b[1;32m4\u001b[0m\n\u001b[1;33m    Columnas=Se trata de una hilera poscionada en forma vertical y para indentificarla en una hoja de calculo se hace una letra hatsa arriba de la hoja\u001b[0m\n\u001b[1;37m                ^\u001b[0m\n\u001b[1;31mSyntaxError\u001b[0m\u001b[1;31m:\u001b[0m invalid syntax\n"
     ]
    }
   ],
   "source": [
    "# Your responses here\n",
    "\n",
    " \n",
    "Columnas=Se trata de una hilera poscionada en forma vertical y para indentificarla en una hoja de calculo se hace una letra hatsa arriba de la hoja\n",
    "Si se tienen 4 columnas , significa que hay 4 variables de datos\n",
    "\n",
    "\n",
    "Fila=Se trata de una hilera poscionada en forma horizontal y que en una hoja de calculo se identifica con un numero a la izquierda\n",
    "Puede haber una cantidad ilimitada de filas y en cada fila hay un dato de su respectiva variable \n",
    "\n",
    "#..."
   ]
  },
  {
   "cell_type": "markdown",
   "metadata": {},
   "source": [
    "Print a statistical summary of your columns\n"
   ]
  },
  {
   "cell_type": "code",
   "execution_count": 202,
   "metadata": {},
   "outputs": [
    {
     "data": {
      "text/html": [
       "<div>\n",
       "<style scoped>\n",
       "    .dataframe tbody tr th:only-of-type {\n",
       "        vertical-align: middle;\n",
       "    }\n",
       "\n",
       "    .dataframe tbody tr th {\n",
       "        vertical-align: top;\n",
       "    }\n",
       "\n",
       "    .dataframe thead th {\n",
       "        text-align: right;\n",
       "    }\n",
       "</style>\n",
       "<table border=\"1\" class=\"dataframe\">\n",
       "  <thead>\n",
       "    <tr style=\"text-align: right;\">\n",
       "      <th></th>\n",
       "      <th>Unnamed: 0</th>\n",
       "      <th>x1</th>\n",
       "      <th>x2</th>\n",
       "      <th>x3</th>\n",
       "      <th>x4</th>\n",
       "      <th>x5</th>\n",
       "    </tr>\n",
       "  </thead>\n",
       "  <tbody>\n",
       "    <tr>\n",
       "      <th>count</th>\n",
       "      <td>495.000000</td>\n",
       "      <td>495.000000</td>\n",
       "      <td>495.000000</td>\n",
       "      <td>495.000000</td>\n",
       "      <td>495.000000</td>\n",
       "      <td>495.000000</td>\n",
       "    </tr>\n",
       "    <tr>\n",
       "      <th>mean</th>\n",
       "      <td>247.000000</td>\n",
       "      <td>4.484744</td>\n",
       "      <td>2.238807</td>\n",
       "      <td>-2.518870</td>\n",
       "      <td>1.711322</td>\n",
       "      <td>-0.162777</td>\n",
       "    </tr>\n",
       "    <tr>\n",
       "      <th>std</th>\n",
       "      <td>143.038456</td>\n",
       "      <td>5.955244</td>\n",
       "      <td>3.250849</td>\n",
       "      <td>8.061275</td>\n",
       "      <td>3.683079</td>\n",
       "      <td>7.244505</td>\n",
       "    </tr>\n",
       "    <tr>\n",
       "      <th>min</th>\n",
       "      <td>0.000000</td>\n",
       "      <td>-7.422279</td>\n",
       "      <td>-4.469277</td>\n",
       "      <td>-12.846231</td>\n",
       "      <td>-6.339780</td>\n",
       "      <td>-12.040245</td>\n",
       "    </tr>\n",
       "    <tr>\n",
       "      <th>25%</th>\n",
       "      <td>123.500000</td>\n",
       "      <td>-2.472164</td>\n",
       "      <td>-0.831409</td>\n",
       "      <td>-8.696716</td>\n",
       "      <td>-2.047639</td>\n",
       "      <td>-7.480718</td>\n",
       "    </tr>\n",
       "    <tr>\n",
       "      <th>50%</th>\n",
       "      <td>247.000000</td>\n",
       "      <td>6.989208</td>\n",
       "      <td>2.853517</td>\n",
       "      <td>-6.486394</td>\n",
       "      <td>3.102842</td>\n",
       "      <td>-0.864718</td>\n",
       "    </tr>\n",
       "    <tr>\n",
       "      <th>75%</th>\n",
       "      <td>370.500000</td>\n",
       "      <td>9.116064</td>\n",
       "      <td>4.949618</td>\n",
       "      <td>7.348923</td>\n",
       "      <td>4.490109</td>\n",
       "      <td>7.689607</td>\n",
       "    </tr>\n",
       "    <tr>\n",
       "      <th>max</th>\n",
       "      <td>494.000000</td>\n",
       "      <td>15.029848</td>\n",
       "      <td>9.875853</td>\n",
       "      <td>11.961482</td>\n",
       "      <td>8.915890</td>\n",
       "      <td>12.054452</td>\n",
       "    </tr>\n",
       "  </tbody>\n",
       "</table>\n",
       "</div>"
      ],
      "text/plain": [
       "       Unnamed: 0          x1          x2          x3          x4          x5\n",
       "count  495.000000  495.000000  495.000000  495.000000  495.000000  495.000000\n",
       "mean   247.000000    4.484744    2.238807   -2.518870    1.711322   -0.162777\n",
       "std    143.038456    5.955244    3.250849    8.061275    3.683079    7.244505\n",
       "min      0.000000   -7.422279   -4.469277  -12.846231   -6.339780  -12.040245\n",
       "25%    123.500000   -2.472164   -0.831409   -8.696716   -2.047639   -7.480718\n",
       "50%    247.000000    6.989208    2.853517   -6.486394    3.102842   -0.864718\n",
       "75%    370.500000    9.116064    4.949618    7.348923    4.490109    7.689607\n",
       "max    494.000000   15.029848    9.875853   11.961482    8.915890   12.054452"
      ]
     },
     "execution_count": 202,
     "metadata": {},
     "output_type": "execute_result"
    }
   ],
   "source": [
    "df.describe()"
   ]
  },
  {
   "cell_type": "code",
   "execution_count": 203,
   "metadata": {},
   "outputs": [
    {
     "ename": "SyntaxError",
     "evalue": "invalid syntax (<ipython-input-203-fc22f8aa9cd6>, line 2)",
     "output_type": "error",
     "traceback": [
      "\u001b[1;36m  File \u001b[1;32m\"<ipython-input-203-fc22f8aa9cd6>\"\u001b[1;36m, line \u001b[1;32m2\u001b[0m\n\u001b[1;33m    tenemos 5 variables\u001b[0m\n\u001b[1;37m            ^\u001b[0m\n\u001b[1;31mSyntaxError\u001b[0m\u001b[1;31m:\u001b[0m invalid syntax\n"
     ]
    }
   ],
   "source": [
    "# 1) What is the minumum and maximum values of each variable\n",
    "tenemos 5 variables\n",
    "x1(min=-7.422,max=15.029)\n",
    "x2(min=-4.469,max=9.875)\n",
    "x3(min=-12.846,max=11.961)\n",
    "x4(min=-6.339,max=8.915)\n",
    "x5(min=-12.040,max=12.054)\n",
    "\n",
    "# 2) What is the mean and standar deviation of each variable\n",
    "x1(mean=4.484744,std=5.955244)\n",
    "x2(mean=2.238807,std=3.250849)\n",
    "x3(mean=-2.518870,std=8.061275)\n",
    "x4(mean=1.711322,std=3.683079)\n",
    "x5(mean=-0.162777,std=7.244505)\n",
    "\n",
    "# 3) What the 25%, 50% and 75% represent?\n",
    "Del total de datos que tenemos(100%), un 25% de esos datos correspoden a cierto valor y es lo mismo con el 50% y 75%\n"
   ]
  },
  {
   "cell_type": "markdown",
   "metadata": {},
   "source": [
    "Rename the columns using the same name with capital letters"
   ]
  },
  {
   "cell_type": "code",
   "execution_count": 204,
   "metadata": {},
   "outputs": [
    {
     "data": {
      "text/html": [
       "<div>\n",
       "<style scoped>\n",
       "    .dataframe tbody tr th:only-of-type {\n",
       "        vertical-align: middle;\n",
       "    }\n",
       "\n",
       "    .dataframe tbody tr th {\n",
       "        vertical-align: top;\n",
       "    }\n",
       "\n",
       "    .dataframe thead th {\n",
       "        text-align: right;\n",
       "    }\n",
       "</style>\n",
       "<table border=\"1\" class=\"dataframe\">\n",
       "  <thead>\n",
       "    <tr style=\"text-align: right;\">\n",
       "      <th></th>\n",
       "      <th>Unnamed: 0</th>\n",
       "      <th>X1</th>\n",
       "      <th>X2</th>\n",
       "      <th>X3</th>\n",
       "      <th>X4</th>\n",
       "      <th>X5</th>\n",
       "    </tr>\n",
       "  </thead>\n",
       "  <tbody>\n",
       "    <tr>\n",
       "      <th>0</th>\n",
       "      <td>0</td>\n",
       "      <td>10.005276</td>\n",
       "      <td>-4.118843</td>\n",
       "      <td>10.872634</td>\n",
       "      <td>3.509608</td>\n",
       "      <td>10.432750</td>\n",
       "    </tr>\n",
       "    <tr>\n",
       "      <th>1</th>\n",
       "      <td>1</td>\n",
       "      <td>-2.989666</td>\n",
       "      <td>3.402669</td>\n",
       "      <td>-5.249183</td>\n",
       "      <td>-1.864664</td>\n",
       "      <td>2.517744</td>\n",
       "    </tr>\n",
       "    <tr>\n",
       "      <th>2</th>\n",
       "      <td>2</td>\n",
       "      <td>-1.180616</td>\n",
       "      <td>7.176544</td>\n",
       "      <td>-8.190423</td>\n",
       "      <td>-3.607561</td>\n",
       "      <td>-2.737344</td>\n",
       "    </tr>\n",
       "  </tbody>\n",
       "</table>\n",
       "</div>"
      ],
      "text/plain": [
       "   Unnamed: 0         X1        X2         X3        X4         X5\n",
       "0           0  10.005276 -4.118843  10.872634  3.509608  10.432750\n",
       "1           1  -2.989666  3.402669  -5.249183 -1.864664   2.517744\n",
       "2           2  -1.180616  7.176544  -8.190423 -3.607561  -2.737344"
      ]
     },
     "execution_count": 204,
     "metadata": {},
     "output_type": "execute_result"
    }
   ],
   "source": [
    "df1=df.rename(columns={\"x1\":\"X1\",\"x2\":\"X2\",\"x3\":\"X3\",\"x4\":\"X4\",\"x5\":\"X5\"})\n",
    "df1.head(3)"
   ]
  },
  {
   "cell_type": "markdown",
   "metadata": {},
   "source": [
    "Rename the columns to their original names"
   ]
  },
  {
   "cell_type": "code",
   "execution_count": 205,
   "metadata": {},
   "outputs": [
    {
     "data": {
      "text/html": [
       "<div>\n",
       "<style scoped>\n",
       "    .dataframe tbody tr th:only-of-type {\n",
       "        vertical-align: middle;\n",
       "    }\n",
       "\n",
       "    .dataframe tbody tr th {\n",
       "        vertical-align: top;\n",
       "    }\n",
       "\n",
       "    .dataframe thead th {\n",
       "        text-align: right;\n",
       "    }\n",
       "</style>\n",
       "<table border=\"1\" class=\"dataframe\">\n",
       "  <thead>\n",
       "    <tr style=\"text-align: right;\">\n",
       "      <th></th>\n",
       "      <th>Unnamed: 0</th>\n",
       "      <th>x1</th>\n",
       "      <th>x2</th>\n",
       "      <th>x3</th>\n",
       "      <th>x4</th>\n",
       "      <th>x5</th>\n",
       "    </tr>\n",
       "  </thead>\n",
       "  <tbody>\n",
       "    <tr>\n",
       "      <th>0</th>\n",
       "      <td>0</td>\n",
       "      <td>10.005276</td>\n",
       "      <td>-4.118843</td>\n",
       "      <td>10.872634</td>\n",
       "      <td>3.509608</td>\n",
       "      <td>10.432750</td>\n",
       "    </tr>\n",
       "    <tr>\n",
       "      <th>1</th>\n",
       "      <td>1</td>\n",
       "      <td>-2.989666</td>\n",
       "      <td>3.402669</td>\n",
       "      <td>-5.249183</td>\n",
       "      <td>-1.864664</td>\n",
       "      <td>2.517744</td>\n",
       "    </tr>\n",
       "    <tr>\n",
       "      <th>2</th>\n",
       "      <td>2</td>\n",
       "      <td>-1.180616</td>\n",
       "      <td>7.176544</td>\n",
       "      <td>-8.190423</td>\n",
       "      <td>-3.607561</td>\n",
       "      <td>-2.737344</td>\n",
       "    </tr>\n",
       "  </tbody>\n",
       "</table>\n",
       "</div>"
      ],
      "text/plain": [
       "   Unnamed: 0         x1        x2         x3        x4         x5\n",
       "0           0  10.005276 -4.118843  10.872634  3.509608  10.432750\n",
       "1           1  -2.989666  3.402669  -5.249183 -1.864664   2.517744\n",
       "2           2  -1.180616  7.176544  -8.190423 -3.607561  -2.737344"
      ]
     },
     "execution_count": 205,
     "metadata": {},
     "output_type": "execute_result"
    }
   ],
   "source": [
    "df.head(3)"
   ]
  },
  {
   "cell_type": "markdown",
   "metadata": {},
   "source": [
    "Use two different alternatives to get one of the columns"
   ]
  },
  {
   "cell_type": "code",
   "execution_count": 206,
   "metadata": {},
   "outputs": [
    {
     "name": "stdout",
     "output_type": "stream",
     "text": [
      "0      10.005276\n",
      "1      -2.989666\n",
      "2      -1.180616\n",
      "3       5.198219\n",
      "4      11.617597\n",
      "         ...    \n",
      "490     9.041599\n",
      "491    -2.413961\n",
      "492     8.371493\n",
      "493    -4.306163\n",
      "494     9.893088\n",
      "Name: x1, Length: 495, dtype: float64\n"
     ]
    }
   ],
   "source": [
    "#opciones para selccionar una columna\n",
    "a = df.x1\n",
    "#b = df[\"Age\"]\n",
    "#c = df.loc[:, \"Age\"]\n",
    "#d = df.iloc[:, 1]\n",
    "\n",
    "print(a)\n",
    "\n",
    "#opcion para seleccionar varias columnas\n",
    "#df[[\"x1\",\"x2\", \"x3\"]]\n"
   ]
  },
  {
   "cell_type": "markdown",
   "metadata": {},
   "source": [
    "Get a slice of your data set: second and thrid columns and rows from 62 to 72"
   ]
  },
  {
   "cell_type": "code",
   "execution_count": 207,
   "metadata": {},
   "outputs": [
    {
     "data": {
      "text/plain": [
       "62    3.492707\n",
       "63   -1.779061\n",
       "64    6.977163\n",
       "65    0.783915\n",
       "66    4.432998\n",
       "67    2.962603\n",
       "68   -1.275850\n",
       "69    5.302589\n",
       "70    5.635909\n",
       "71    3.433754\n",
       "72    1.400455\n",
       "Name: x2, dtype: float64"
      ]
     },
     "execution_count": 207,
     "metadata": {},
     "output_type": "execute_result"
    }
   ],
   "source": [
    "df.loc[62:72, \"x2\"]"
   ]
  },
  {
   "cell_type": "markdown",
   "metadata": {},
   "source": [
    "For the second and thrid columns, calculate the number of null and not null values and verify that their sum equals the total number of rows"
   ]
  },
  {
   "cell_type": "code",
   "execution_count": 208,
   "metadata": {},
   "outputs": [
    {
     "data": {
      "text/plain": [
       "Unnamed: 0    0\n",
       "x1            0\n",
       "x2            0\n",
       "x3            0\n",
       "x4            0\n",
       "x5            0\n",
       "dtype: int64"
      ]
     },
     "execution_count": 208,
     "metadata": {},
     "output_type": "execute_result"
    }
   ],
   "source": [
    "df.isnull().sum()"
   ]
  },
  {
   "cell_type": "code",
   "execution_count": 209,
   "metadata": {},
   "outputs": [
    {
     "data": {
      "text/plain": [
       "Unnamed: 0    495\n",
       "x1            495\n",
       "x2            495\n",
       "x3            495\n",
       "x4            495\n",
       "x5            495\n",
       "dtype: int64"
      ]
     },
     "execution_count": 209,
     "metadata": {},
     "output_type": "execute_result"
    }
   ],
   "source": [
    "df.notnull().sum()"
   ]
  },
  {
   "cell_type": "markdown",
   "metadata": {},
   "source": [
    "Discard the last column\n"
   ]
  },
  {
   "cell_type": "code",
   "execution_count": 210,
   "metadata": {},
   "outputs": [
    {
     "data": {
      "text/html": [
       "<div>\n",
       "<style scoped>\n",
       "    .dataframe tbody tr th:only-of-type {\n",
       "        vertical-align: middle;\n",
       "    }\n",
       "\n",
       "    .dataframe tbody tr th {\n",
       "        vertical-align: top;\n",
       "    }\n",
       "\n",
       "    .dataframe thead th {\n",
       "        text-align: right;\n",
       "    }\n",
       "</style>\n",
       "<table border=\"1\" class=\"dataframe\">\n",
       "  <thead>\n",
       "    <tr style=\"text-align: right;\">\n",
       "      <th></th>\n",
       "      <th>Unnamed: 0</th>\n",
       "      <th>x1</th>\n",
       "      <th>x2</th>\n",
       "      <th>x3</th>\n",
       "      <th>x4</th>\n",
       "    </tr>\n",
       "  </thead>\n",
       "  <tbody>\n",
       "    <tr>\n",
       "      <th>0</th>\n",
       "      <td>0</td>\n",
       "      <td>10.005276</td>\n",
       "      <td>-4.118843</td>\n",
       "      <td>10.872634</td>\n",
       "      <td>3.509608</td>\n",
       "    </tr>\n",
       "    <tr>\n",
       "      <th>1</th>\n",
       "      <td>1</td>\n",
       "      <td>-2.989666</td>\n",
       "      <td>3.402669</td>\n",
       "      <td>-5.249183</td>\n",
       "      <td>-1.864664</td>\n",
       "    </tr>\n",
       "    <tr>\n",
       "      <th>2</th>\n",
       "      <td>2</td>\n",
       "      <td>-1.180616</td>\n",
       "      <td>7.176544</td>\n",
       "      <td>-8.190423</td>\n",
       "      <td>-3.607561</td>\n",
       "    </tr>\n",
       "    <tr>\n",
       "      <th>3</th>\n",
       "      <td>3</td>\n",
       "      <td>5.198219</td>\n",
       "      <td>4.352567</td>\n",
       "      <td>-8.234242</td>\n",
       "      <td>7.555751</td>\n",
       "    </tr>\n",
       "    <tr>\n",
       "      <th>4</th>\n",
       "      <td>4</td>\n",
       "      <td>11.617597</td>\n",
       "      <td>-1.876361</td>\n",
       "      <td>9.783819</td>\n",
       "      <td>4.774712</td>\n",
       "    </tr>\n",
       "  </tbody>\n",
       "</table>\n",
       "</div>"
      ],
      "text/plain": [
       "   Unnamed: 0         x1        x2         x3        x4\n",
       "0           0  10.005276 -4.118843  10.872634  3.509608\n",
       "1           1  -2.989666  3.402669  -5.249183 -1.864664\n",
       "2           2  -1.180616  7.176544  -8.190423 -3.607561\n",
       "3           3   5.198219  4.352567  -8.234242  7.555751\n",
       "4           4  11.617597 -1.876361   9.783819  4.774712"
      ]
     },
     "execution_count": 210,
     "metadata": {},
     "output_type": "execute_result"
    }
   ],
   "source": [
    "df.drop(\"x5\",axis=1,inplace=True)\n",
    "df.head()"
   ]
  },
  {
   "cell_type": "markdown",
   "metadata": {},
   "source": [
    "### Questions \n",
    "\n",
    "Based on the previos results, provide a description of yout dataset\n",
    "\n",
    "Your response:\n",
    "\n",
    "\n"
   ]
  },
  {
   "cell_type": "markdown",
   "metadata": {},
   "source": [
    "# A3 Data visualization"
   ]
  },
  {
   "cell_type": "markdown",
   "metadata": {},
   "source": [
    "Plot in the same figure the histogram of the two variables"
   ]
  },
  {
   "cell_type": "code",
   "execution_count": 301,
   "metadata": {},
   "outputs": [
    {
     "data": {
      "text/plain": [
       "<seaborn.axisgrid.PairGrid at 0x1c0cc0f00a0>"
      ]
     },
     "execution_count": 301,
     "metadata": {},
     "output_type": "execute_result"
    },
    {
     "data": {
      "image/png": "[encoded data removed]",
      "text/plain": [
       "<Figure size 900x900 with 20 Axes>"
      ]
     },
     "metadata": {
      "needs_background": "light"
     },
     "output_type": "display_data"
    }
   ],
   "source": [
    "# Plot histogram of two variables\n",
    "#sns.distplot(df[\"x1\"],kde=False)\n",
    "#x=sns.distplot(df[\"x2\"],kde=False)\n",
    "#x.set_ylabel(\"Frecuency\")\n",
    "#x.set_title(\"Histograma de x2\")\n",
    "#plt.show()\n",
    "sns.pairplot(df,corner=True)"
   ]
  },
  {
   "cell_type": "markdown",
   "metadata": {},
   "source": [
    "Based on this plots, provide a description of your data:\n",
    "\n",
    "Your response here:"
   ]
  },
  {
   "cell_type": "markdown",
   "metadata": {},
   "source": [
    "Plot in the same figure the boxplot of the two variables "
   ]
  },
  {
   "cell_type": "code",
   "execution_count": 212,
   "metadata": {},
   "outputs": [
    {
     "data": {
      "image/png": "[encoded data removed]",
      "text/plain": [
       "<Figure size 432x288 with 1 Axes>"
      ]
     },
     "metadata": {
      "needs_background": "light"
     },
     "output_type": "display_data"
    }
   ],
   "source": [
    "Xdata=df.loc[:,[\"x1\",\"x2\"]]\n",
    "\n",
    "sns.boxplot(data=Xdata,orient=\"h\")\n",
    "plt.show()"
   ]
  },
  {
   "cell_type": "markdown",
   "metadata": {},
   "source": [
    "Scatter plot of the two variables"
   ]
  },
  {
   "cell_type": "code",
   "execution_count": 213,
   "metadata": {},
   "outputs": [
    {
     "data": {
      "image/png": "[encoded data removed]",
      "text/plain": [
       "<Figure size 432x288 with 1 Axes>"
      ]
     },
     "metadata": {
      "needs_background": "light"
     },
     "output_type": "display_data"
    }
   ],
   "source": [
    "#sns.scatterplot(data=df,y=\"x1\",x=\"x3\")\n",
    "#plt.show()\n",
    "plt.scatter(dataset.x1,dataset.x3)\n",
    "plt.title('x1 vs x3')\n",
    "plt.xlabel('x1')\n",
    "plt.ylabel('x3')\n",
    "plt.show()"
   ]
  },
  {
   "cell_type": "markdown",
   "metadata": {},
   "source": [
    "### Questions \n",
    "\n",
    "Based on the previos plots, provide a description of yout dataset\n",
    "\n",
    "Your response:\n",
    "\n",
    "\n"
   ]
  },
  {
   "cell_type": "markdown",
   "metadata": {},
   "source": [
    "# A4 Kmeans"
   ]
  },
  {
   "cell_type": "markdown",
   "metadata": {},
   "source": [
    "Do Kmeans clustering assuming a number of clusters accorging to your scatter plot"
   ]
  },
  {
   "cell_type": "code",
   "execution_count": 309,
   "metadata": {},
   "outputs": [
    {
     "data": {
      "text/plain": [
       "array([1, 0, 0, 0, 1, 0, 0, 0, 0, 1, 1, 0, 0, 0, 1, 0, 0, 1, 0, 0, 0, 0,\n",
       "       0, 0, 0, 0, 1, 0, 0, 0, 0, 1, 0, 0, 0, 0, 0, 0, 0, 1, 1, 1, 1, 0,\n",
       "       1, 0, 0, 1, 1, 0, 0, 1, 0, 0, 0, 1, 1, 0, 0, 1, 1, 0, 0, 1, 0, 1,\n",
       "       0, 0, 1, 0, 0, 0, 0, 0, 1, 0, 0, 0, 0, 0, 0, 0, 0, 0, 0, 1, 0, 1,\n",
       "       0, 0, 0, 1, 0, 0, 0, 0, 0, 0, 1, 0, 0, 0, 0, 0, 1, 0, 0, 1, 0, 0,\n",
       "       0, 0, 0, 0, 0, 1, 1, 1, 1, 0, 0, 0, 0, 1, 0, 1, 0, 0, 0, 1, 0, 1,\n",
       "       1, 0, 0, 0, 1, 0, 0, 0, 0, 0, 1, 0, 1, 0, 1, 1, 1, 0, 1, 0, 0, 1,\n",
       "       1, 1, 0, 0, 0, 0, 1, 0, 0, 1, 1, 0, 0, 0, 0, 1, 1, 1, 0, 0, 0, 0,\n",
       "       1, 1, 1, 0, 0, 0, 1, 0, 1, 0, 1, 1, 0, 0, 1, 1, 0, 1, 0, 0, 1, 1,\n",
       "       0, 1, 1, 0, 0, 1, 0, 1, 1, 0, 0, 1, 0, 0, 0, 0, 0, 0, 1, 0, 0, 0,\n",
       "       0, 1, 0, 0, 0, 1, 1, 0, 1, 0, 0, 0, 0, 0, 0, 0, 0, 0, 0, 0, 0, 1,\n",
       "       0, 1, 0, 0, 0, 1, 0, 1, 0, 1, 1, 0, 0, 0, 1, 0, 0, 0, 0, 0, 0, 0,\n",
       "       1, 0, 0, 0, 0, 0, 0, 1, 0, 0, 0, 1, 0, 0, 0, 0, 0, 1, 0, 1, 1, 0,\n",
       "       0, 1, 0, 0, 0, 0, 0, 1, 0, 1, 0, 0, 0, 0, 0, 0, 0, 1, 1, 0, 0, 0,\n",
       "       1, 0, 1, 1, 0, 0, 1, 1, 0, 0, 0, 0, 1, 1, 0, 0, 0, 0, 1, 0, 0, 0,\n",
       "       0, 1, 0, 0, 0, 1, 0, 0, 0, 1, 0, 0, 0, 1, 1, 0, 0, 1, 0, 1, 0, 0,\n",
       "       0, 0, 0, 1, 1, 0, 0, 0, 1, 1, 1, 0, 0, 1, 0, 0, 0, 1, 0, 0, 0, 1,\n",
       "       1, 0, 0, 1, 0, 1, 1, 1, 0, 1, 0, 0, 1, 1, 0, 1, 1, 0, 0, 1, 0, 0,\n",
       "       0, 0, 1, 0, 1, 1, 0, 0, 0, 0, 1, 0, 1, 0, 1, 0, 0, 1, 0, 0, 0, 1,\n",
       "       1, 1, 1, 0, 0, 1, 0, 1, 1, 0, 0, 0, 0, 1, 0, 0, 0, 0, 1, 0, 1, 0,\n",
       "       0, 0, 1, 0, 1, 0, 1, 1, 0, 0, 0, 1, 1, 0, 0, 0, 0, 0, 0, 0, 1, 1,\n",
       "       0, 0, 0, 0, 1, 1, 1, 1, 0, 0, 0, 0, 0, 0, 0, 1, 0, 0, 1, 1, 0, 0,\n",
       "       0, 0, 1, 0, 0, 0, 1, 0, 0, 0, 1])"
      ]
     },
     "execution_count": 309,
     "metadata": {},
     "output_type": "execute_result"
    }
   ],
   "source": [
    "from sklearn.cluster import KMeans\n",
    "\n",
    "# Define number of clusters\n",
    "km = KMeans(n_clusters=2)\n",
    "\n",
    "# Do K-means clustering (assing each point in the dataset to a cluster)\n",
    "yp = km.fit_predict(dataset[['x1','x3']])\n",
    "\n",
    "# Print estimated cluster of each point in the dataser\n",
    "yp"
   ]
  },
  {
   "cell_type": "markdown",
   "metadata": {},
   "source": [
    "Add to your dataset a column with the assihned cluster to each data point"
   ]
  },
  {
   "cell_type": "code",
   "execution_count": 310,
   "metadata": {},
   "outputs": [
    {
     "data": {
      "text/html": [
       "<div>\n",
       "<style scoped>\n",
       "    .dataframe tbody tr th:only-of-type {\n",
       "        vertical-align: middle;\n",
       "    }\n",
       "\n",
       "    .dataframe tbody tr th {\n",
       "        vertical-align: top;\n",
       "    }\n",
       "\n",
       "    .dataframe thead th {\n",
       "        text-align: right;\n",
       "    }\n",
       "</style>\n",
       "<table border=\"1\" class=\"dataframe\">\n",
       "  <thead>\n",
       "    <tr style=\"text-align: right;\">\n",
       "      <th></th>\n",
       "      <th>Unnamed: 0</th>\n",
       "      <th>x1</th>\n",
       "      <th>x2</th>\n",
       "      <th>x3</th>\n",
       "      <th>x4</th>\n",
       "      <th>x5</th>\n",
       "      <th>Cluster1</th>\n",
       "    </tr>\n",
       "  </thead>\n",
       "  <tbody>\n",
       "    <tr>\n",
       "      <th>0</th>\n",
       "      <td>0</td>\n",
       "      <td>10.005276</td>\n",
       "      <td>-4.118843</td>\n",
       "      <td>10.872634</td>\n",
       "      <td>3.509608</td>\n",
       "      <td>10.432750</td>\n",
       "      <td>1</td>\n",
       "    </tr>\n",
       "    <tr>\n",
       "      <th>1</th>\n",
       "      <td>1</td>\n",
       "      <td>-2.989666</td>\n",
       "      <td>3.402669</td>\n",
       "      <td>-5.249183</td>\n",
       "      <td>-1.864664</td>\n",
       "      <td>2.517744</td>\n",
       "      <td>0</td>\n",
       "    </tr>\n",
       "    <tr>\n",
       "      <th>2</th>\n",
       "      <td>2</td>\n",
       "      <td>-1.180616</td>\n",
       "      <td>7.176544</td>\n",
       "      <td>-8.190423</td>\n",
       "      <td>-3.607561</td>\n",
       "      <td>-2.737344</td>\n",
       "      <td>0</td>\n",
       "    </tr>\n",
       "    <tr>\n",
       "      <th>3</th>\n",
       "      <td>3</td>\n",
       "      <td>5.198219</td>\n",
       "      <td>4.352567</td>\n",
       "      <td>-8.234242</td>\n",
       "      <td>7.555751</td>\n",
       "      <td>-9.176240</td>\n",
       "      <td>0</td>\n",
       "    </tr>\n",
       "    <tr>\n",
       "      <th>4</th>\n",
       "      <td>4</td>\n",
       "      <td>11.617597</td>\n",
       "      <td>-1.876361</td>\n",
       "      <td>9.783819</td>\n",
       "      <td>4.774712</td>\n",
       "      <td>6.562103</td>\n",
       "      <td>1</td>\n",
       "    </tr>\n",
       "    <tr>\n",
       "      <th>...</th>\n",
       "      <td>...</td>\n",
       "      <td>...</td>\n",
       "      <td>...</td>\n",
       "      <td>...</td>\n",
       "      <td>...</td>\n",
       "      <td>...</td>\n",
       "      <td>...</td>\n",
       "    </tr>\n",
       "    <tr>\n",
       "      <th>490</th>\n",
       "      <td>490</td>\n",
       "      <td>9.041599</td>\n",
       "      <td>-2.266672</td>\n",
       "      <td>7.242074</td>\n",
       "      <td>4.487945</td>\n",
       "      <td>9.187085</td>\n",
       "      <td>1</td>\n",
       "    </tr>\n",
       "    <tr>\n",
       "      <th>491</th>\n",
       "      <td>491</td>\n",
       "      <td>-2.413961</td>\n",
       "      <td>5.884743</td>\n",
       "      <td>-8.075111</td>\n",
       "      <td>-2.024012</td>\n",
       "      <td>-0.268803</td>\n",
       "      <td>0</td>\n",
       "    </tr>\n",
       "    <tr>\n",
       "      <th>492</th>\n",
       "      <td>492</td>\n",
       "      <td>8.371493</td>\n",
       "      <td>2.911566</td>\n",
       "      <td>-6.474006</td>\n",
       "      <td>5.435039</td>\n",
       "      <td>-7.171844</td>\n",
       "      <td>0</td>\n",
       "    </tr>\n",
       "    <tr>\n",
       "      <th>493</th>\n",
       "      <td>493</td>\n",
       "      <td>-4.306163</td>\n",
       "      <td>4.573874</td>\n",
       "      <td>-6.317788</td>\n",
       "      <td>-1.924704</td>\n",
       "      <td>-2.279960</td>\n",
       "      <td>0</td>\n",
       "    </tr>\n",
       "    <tr>\n",
       "      <th>494</th>\n",
       "      <td>494</td>\n",
       "      <td>9.893088</td>\n",
       "      <td>-0.831861</td>\n",
       "      <td>6.613208</td>\n",
       "      <td>2.273670</td>\n",
       "      <td>9.366087</td>\n",
       "      <td>1</td>\n",
       "    </tr>\n",
       "  </tbody>\n",
       "</table>\n",
       "<p>495 rows × 7 columns</p>\n",
       "</div>"
      ],
      "text/plain": [
       "     Unnamed: 0         x1        x2         x3        x4         x5  Cluster1\n",
       "0             0  10.005276 -4.118843  10.872634  3.509608  10.432750         1\n",
       "1             1  -2.989666  3.402669  -5.249183 -1.864664   2.517744         0\n",
       "2             2  -1.180616  7.176544  -8.190423 -3.607561  -2.737344         0\n",
       "3             3   5.198219  4.352567  -8.234242  7.555751  -9.176240         0\n",
       "4             4  11.617597 -1.876361   9.783819  4.774712   6.562103         1\n",
       "..          ...        ...       ...        ...       ...        ...       ...\n",
       "490         490   9.041599 -2.266672   7.242074  4.487945   9.187085         1\n",
       "491         491  -2.413961  5.884743  -8.075111 -2.024012  -0.268803         0\n",
       "492         492   8.371493  2.911566  -6.474006  5.435039  -7.171844         0\n",
       "493         493  -4.306163  4.573874  -6.317788 -1.924704  -2.279960         0\n",
       "494         494   9.893088 -0.831861   6.613208  2.273670   9.366087         1\n",
       "\n",
       "[495 rows x 7 columns]"
      ]
     },
     "execution_count": 310,
     "metadata": {},
     "output_type": "execute_result"
    }
   ],
   "source": [
    "# Add a new column to the dataset with the cluster information\n",
    "dataset['Cluster1'] = yp\n",
    "\n",
    "# Visualize the dataset\n",
    "dataset"
   ]
  },
  {
   "cell_type": "markdown",
   "metadata": {},
   "source": [
    "Print the number associated to each cluster"
   ]
  },
  {
   "cell_type": "code",
   "execution_count": 311,
   "metadata": {},
   "outputs": [
    {
     "data": {
      "text/plain": [
       "array([1, 0])"
      ]
     },
     "execution_count": 311,
     "metadata": {},
     "output_type": "execute_result"
    }
   ],
   "source": [
    "# Visualize the ID of the clusters\n",
    "dataset.Cluster1.unique()"
   ]
  },
  {
   "cell_type": "markdown",
   "metadata": {},
   "source": [
    "Print the centroids"
   ]
  },
  {
   "cell_type": "code",
   "execution_count": 312,
   "metadata": {},
   "outputs": [
    {
     "data": {
      "text/plain": [
       "array([[ 1.80034844, -8.05674024],\n",
       "       [ 9.85353449,  8.55686943]])"
      ]
     },
     "execution_count": 312,
     "metadata": {},
     "output_type": "execute_result"
    }
   ],
   "source": [
    "# Center of each cluster\n",
    "km.cluster_centers_"
   ]
  },
  {
   "cell_type": "markdown",
   "metadata": {},
   "source": [
    "Print the intertia metric"
   ]
  },
  {
   "cell_type": "code",
   "execution_count": 313,
   "metadata": {},
   "outputs": [
    {
     "data": {
      "text/plain": [
       "12126.61042181743"
      ]
     },
     "execution_count": 313,
     "metadata": {},
     "output_type": "execute_result"
    }
   ],
   "source": [
    "# Sum of squared error\n",
    "km.inertia_\n"
   ]
  },
  {
   "cell_type": "markdown",
   "metadata": {},
   "source": [
    "Plot a scatter plot of your data assigned to each cluster. Also plot the centroids"
   ]
  },
  {
   "cell_type": "code",
   "execution_count": 314,
   "metadata": {},
   "outputs": [
    {
     "data": {
      "image/png": "[encoded data removed]",
      "text/plain": [
       "<Figure size 432x288 with 1 Axes>"
      ]
     },
     "metadata": {
      "needs_background": "light"
     },
     "output_type": "display_data"
    }
   ],
   "source": [
    "df1 = dataset[dataset.Cluster1==0]\n",
    "df2 = dataset[dataset.Cluster1==1]\n",
    "\n",
    "\n",
    "plt.scatter(df1.x1, df1.x3 ,label='x1')\n",
    "plt.scatter(df2.x1, df2.x3 ,label='x3')\n",
    "\n",
    "\n",
    "plt.scatter(km.cluster_centers_[:,0], km.cluster_centers_[:,1], color='magenta', marker='*', label='Centroides', s=256)\n",
    "\n",
    "plt.title('x1 || x3')\n",
    "plt.xlabel('x3')\n",
    "plt.ylabel('x1')\n",
    "plt.legend()\n",
    "plt.show()"
   ]
  },
  {
   "cell_type": "markdown",
   "metadata": {},
   "source": [
    "### Questions \n",
    "\n",
    "Provides a detailed description of your results\n",
    "\n",
    "Your response:"
   ]
  },
  {
   "cell_type": "markdown",
   "metadata": {},
   "source": [
    "# A4 Elbow plot\n",
    "\n",
    "Compute the Elbow plot"
   ]
  },
  {
   "cell_type": "code",
   "execution_count": 315,
   "metadata": {},
   "outputs": [
    {
     "name": "stderr",
     "output_type": "stream",
     "text": [
      "C:\\Users\\Usuario\\anaconda3\\lib\\site-packages\\sklearn\\cluster\\_kmeans.py:881: UserWarning: KMeans is known to have a memory leak on Windows with MKL, when there are less chunks than available threads. You can avoid it by setting the environment variable OMP_NUM_THREADS=2.\n",
      "  warnings.warn(\n"
     ]
    }
   ],
   "source": [
    "sse = []\n",
    "k_rng = range(1,10)\n",
    "for k in k_rng:\n",
    "    km = KMeans(n_clusters=k)\n",
    "    km.fit_predict(dataset[['x1','x2']])\n",
    "    sse.append(km.inertia_)"
   ]
  },
  {
   "cell_type": "code",
   "execution_count": 316,
   "metadata": {},
   "outputs": [
    {
     "data": {
      "image/png": "[encoded data removed]",
      "text/plain": [
       "<Figure size 432x288 with 1 Axes>"
      ]
     },
     "metadata": {
      "needs_background": "light"
     },
     "output_type": "display_data"
    }
   ],
   "source": [
    "plt.plot(k_rng,sse)\n",
    "\n",
    "plt.title('Elbow plot')\n",
    "plt.xlabel('K')\n",
    "plt.ylabel('Sum of squared error')\n",
    "plt.show()"
   ]
  },
  {
   "cell_type": "markdown",
   "metadata": {},
   "source": [
    "### Questions \n",
    "\n",
    "What is the best number of clusters K? (argue your response)\n",
    "Your response:\n",
    "La mejor opcion estaría entre 2 y 3, en esete caso yo opté por 2 clusters y como vemos en la elbow plot , si hay una pendiente que decrece en la grafica(2 a 3)\n",
    "\n",
    "Does this number of clusters agree with your inital guess? (argue your response)\n",
    "Your response:\n",
    "Si, de hecho yo esperaba ese resultado al ver las scatterplots anteriores , donde visualmente se podia apareciar que la mejor opcion serian 2 clusters\n"
   ]
  },
  {
   "cell_type": "markdown",
   "metadata": {},
   "source": [
    "# BONUS"
   ]
  },
  {
   "cell_type": "markdown",
   "metadata": {},
   "source": [
    "1) Generate some data using the \"make_blobs\" function from \"sklearn.datasets\"\n",
    "\n",
    "- The number of observations is equal to the three last digits in your ID\n",
    "\n",
    "- 2 variables\n",
    "\n",
    "- 4 clusters\n",
    "\n",
    "- Standar deviation of each cluster of 1.5\n",
    "\n"
   ]
  },
  {
   "cell_type": "code",
   "execution_count": null,
   "metadata": {},
   "outputs": [],
   "source": []
  },
  {
   "cell_type": "markdown",
   "metadata": {},
   "source": [
    "2) Plot the scatter plot of your data using the real cluster labels"
   ]
  },
  {
   "cell_type": "code",
   "execution_count": null,
   "metadata": {},
   "outputs": [],
   "source": []
  },
  {
   "cell_type": "markdown",
   "metadata": {},
   "source": [
    "3) Do K means clustering "
   ]
  },
  {
   "cell_type": "code",
   "execution_count": null,
   "metadata": {},
   "outputs": [],
   "source": []
  },
  {
   "cell_type": "markdown",
   "metadata": {},
   "source": [
    "4) Plot the scatter plot of your data using the estimated cluster labels"
   ]
  },
  {
   "cell_type": "code",
   "execution_count": null,
   "metadata": {},
   "outputs": [],
   "source": []
  },
  {
   "cell_type": "markdown",
   "metadata": {},
   "source": [
    "### Questions \n",
    "\n",
    "Provides a detailed description of your results.\n",
    "\n",
    "Your response:"
   ]
  },
  {
   "cell_type": "markdown",
   "metadata": {},
   "source": [
    "# Descipcion de tu percepcion del nivel de desarrollo de la subcompetencia \n",
    "\n",
    "### SING0202A Interpretación de variables\n"
   ]
  },
  {
   "cell_type": "markdown",
   "metadata": {},
   "source": [
    "Escribe tu description del nivel de logro del siguiente criterio de la subcompetencia\n",
    "\n",
    "**Interpreta interacciones**. Interpreta interacciones entre variables relevantes en un problema, como base para la construcción de modelos bivariados basados en datos de un fenómeno investigado que le permita reproducir la respuesta del mismo."
   ]
  },
  {
   "cell_type": "markdown",
   "metadata": {},
   "source": [
    "Tu respuesta:\n",
    "Porsupuesto que si. \n",
    "Seaborn nos ayuda a poder construir graficas multivariables las cuales son escenciales para la interpretacion de los datos."
   ]
  },
  {
   "cell_type": "markdown",
   "metadata": {},
   "source": [
    "Escribe tu description del nivel de logro del siguiente criterio de la subcompetencia\n",
    "\n",
    "**Construcción de modelos**. Es capaz de construir modelos bivariados que expliquen el comportamiento de un fenómeno."
   ]
  },
  {
   "cell_type": "markdown",
   "metadata": {},
   "source": [
    "Tu respuesta:"
   ]
  },
  {
   "cell_type": "code",
   "execution_count": 317,
   "metadata": {},
   "outputs": [
    {
     "ename": "SyntaxError",
     "evalue": "invalid syntax (<ipython-input-317-08616fd510c1>, line 1)",
     "output_type": "error",
     "traceback": [
      "\u001b[1;36m  File \u001b[1;32m\"<ipython-input-317-08616fd510c1>\"\u001b[1;36m, line \u001b[1;32m1\u001b[0m\n\u001b[1;33m    Porsupuesto que si.\u001b[0m\n\u001b[1;37m                ^\u001b[0m\n\u001b[1;31mSyntaxError\u001b[0m\u001b[1;31m:\u001b[0m invalid syntax\n"
     ]
    }
   ],
   "source": [
    "Porsupuesto que si. \n",
    "Al usar pandas somos capacez de mainpular y analizar los datos que necesitamos para construir modelos los cuales son supremamente importantes"
   ]
  }
 ],
 "metadata": {
  "kernelspec": {
   "display_name": "Python 3",
   "language": "python",
   "name": "python3"
  },
  "language_info": {
   "codemirror_mode": {
    "name": "ipython",
    "version": 3
   },
   "file_extension": ".py",
   "mimetype": "text/x-python",
   "name": "python",
   "nbconvert_exporter": "python",
   "pygments_lexer": "ipython3",
   "version": "3.8.8"
  }
 },
 "nbformat": 4,
 "nbformat_minor": 2
}
