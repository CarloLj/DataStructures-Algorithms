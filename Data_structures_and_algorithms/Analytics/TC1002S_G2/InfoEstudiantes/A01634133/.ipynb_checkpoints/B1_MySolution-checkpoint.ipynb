{
 "cells": [
  {
   "cell_type": "markdown",
   "metadata": {},
   "source": [
    "# TC1002S Herramientas computacionales: el arte de la analítica\n",
    "\n",
    "This is a notebook with all your work for the final evidence of this course\n",
    "\n",
    "\n",
    "# Niveles de dominio a demostrar con la evidencia\n",
    "\n",
    "### SING0202A\n",
    "\n",
    "Interpreta interacciones entre variables relevantes en un problema, como base para la construcción de modelos bivariados basados en datos de un fenómeno investigado que le permita reproducir la respuesta del mismo. Es capaz de construir modelos bivariados que expliquen el comportamiento de un fenómeno.\n",
    "\n",
    "\n",
    "# Student information\n",
    "\n",
    "- Name:  Abraham De Alba Franco\n",
    "\n",
    "- ID:   A01634133\n",
    "\n",
    "- My carreer:   IRS\n"
   ]
  },
  {
   "cell_type": "markdown",
   "metadata": {},
   "source": [
    "# Importing libraries"
   ]
  },
  {
   "cell_type": "code",
   "execution_count": 27,
   "metadata": {},
   "outputs": [],
   "source": [
    "import pandas as pd\n",
    "import seaborn as sns\n",
    "import matplotlib.pyplot as plt"
   ]
  },
  {
   "cell_type": "markdown",
   "metadata": {},
   "source": [
    "# A1 Load data"
   ]
  },
  {
   "cell_type": "code",
   "execution_count": 28,
   "metadata": {},
   "outputs": [],
   "source": [
    "ruta = \"A01634133.csv\"\n",
    "dataset = pd.read_csv(ruta)"
   ]
  },
  {
   "cell_type": "markdown",
   "metadata": {},
   "source": [
    "# A2 Data managment\n"
   ]
  },
  {
   "cell_type": "markdown",
   "metadata": {},
   "source": [
    "Print the first 7 rows"
   ]
  },
  {
   "cell_type": "code",
   "execution_count": 29,
   "metadata": {},
   "outputs": [
    {
     "data": {
      "text/html": [
       "<div>\n",
       "<style scoped>\n",
       "    .dataframe tbody tr th:only-of-type {\n",
       "        vertical-align: middle;\n",
       "    }\n",
       "\n",
       "    .dataframe tbody tr th {\n",
       "        vertical-align: top;\n",
       "    }\n",
       "\n",
       "    .dataframe thead th {\n",
       "        text-align: right;\n",
       "    }\n",
       "</style>\n",
       "<table border=\"1\" class=\"dataframe\">\n",
       "  <thead>\n",
       "    <tr style=\"text-align: right;\">\n",
       "      <th></th>\n",
       "      <th>Unnamed: 0</th>\n",
       "      <th>x1</th>\n",
       "      <th>x2</th>\n",
       "      <th>x3</th>\n",
       "      <th>x4</th>\n",
       "      <th>x5</th>\n",
       "      <th>x6</th>\n",
       "    </tr>\n",
       "  </thead>\n",
       "  <tbody>\n",
       "    <tr>\n",
       "      <th>0</th>\n",
       "      <td>0</td>\n",
       "      <td>-8.421953</td>\n",
       "      <td>1.078476</td>\n",
       "      <td>1.453560</td>\n",
       "      <td>1.426798</td>\n",
       "      <td>1.708044</td>\n",
       "      <td>-2.042206</td>\n",
       "    </tr>\n",
       "    <tr>\n",
       "      <th>1</th>\n",
       "      <td>1</td>\n",
       "      <td>-2.222762</td>\n",
       "      <td>3.019169</td>\n",
       "      <td>-7.275541</td>\n",
       "      <td>-4.980305</td>\n",
       "      <td>3.450178</td>\n",
       "      <td>-8.944586</td>\n",
       "    </tr>\n",
       "    <tr>\n",
       "      <th>2</th>\n",
       "      <td>2</td>\n",
       "      <td>-6.732683</td>\n",
       "      <td>8.850460</td>\n",
       "      <td>-5.042448</td>\n",
       "      <td>3.209130</td>\n",
       "      <td>-5.830795</td>\n",
       "      <td>-9.248136</td>\n",
       "    </tr>\n",
       "    <tr>\n",
       "      <th>3</th>\n",
       "      <td>3</td>\n",
       "      <td>-4.054673</td>\n",
       "      <td>8.962595</td>\n",
       "      <td>-5.756571</td>\n",
       "      <td>3.991294</td>\n",
       "      <td>-10.714851</td>\n",
       "      <td>-9.913289</td>\n",
       "    </tr>\n",
       "    <tr>\n",
       "      <th>4</th>\n",
       "      <td>4</td>\n",
       "      <td>-8.013367</td>\n",
       "      <td>-3.547869</td>\n",
       "      <td>3.291346</td>\n",
       "      <td>-1.525366</td>\n",
       "      <td>-0.219657</td>\n",
       "      <td>1.236871</td>\n",
       "    </tr>\n",
       "    <tr>\n",
       "      <th>5</th>\n",
       "      <td>5</td>\n",
       "      <td>-1.502464</td>\n",
       "      <td>0.296249</td>\n",
       "      <td>-4.925701</td>\n",
       "      <td>-4.754037</td>\n",
       "      <td>4.465990</td>\n",
       "      <td>-8.811323</td>\n",
       "    </tr>\n",
       "    <tr>\n",
       "      <th>6</th>\n",
       "      <td>6</td>\n",
       "      <td>-4.619979</td>\n",
       "      <td>8.437472</td>\n",
       "      <td>-3.883752</td>\n",
       "      <td>-0.040006</td>\n",
       "      <td>-7.295836</td>\n",
       "      <td>-7.274794</td>\n",
       "    </tr>\n",
       "  </tbody>\n",
       "</table>\n",
       "</div>"
      ],
      "text/plain": [
       "   Unnamed: 0        x1        x2        x3        x4         x5        x6\n",
       "0           0 -8.421953  1.078476  1.453560  1.426798   1.708044 -2.042206\n",
       "1           1 -2.222762  3.019169 -7.275541 -4.980305   3.450178 -8.944586\n",
       "2           2 -6.732683  8.850460 -5.042448  3.209130  -5.830795 -9.248136\n",
       "3           3 -4.054673  8.962595 -5.756571  3.991294 -10.714851 -9.913289\n",
       "4           4 -8.013367 -3.547869  3.291346 -1.525366  -0.219657  1.236871\n",
       "5           5 -1.502464  0.296249 -4.925701 -4.754037   4.465990 -8.811323\n",
       "6           6 -4.619979  8.437472 -3.883752 -0.040006  -7.295836 -7.274794"
      ]
     },
     "execution_count": 29,
     "metadata": {},
     "output_type": "execute_result"
    }
   ],
   "source": [
    "dataset.head(7)"
   ]
  },
  {
   "cell_type": "markdown",
   "metadata": {},
   "source": [
    "Print the first 4 last rows"
   ]
  },
  {
   "cell_type": "code",
   "execution_count": 30,
   "metadata": {},
   "outputs": [
    {
     "data": {
      "text/html": [
       "<div>\n",
       "<style scoped>\n",
       "    .dataframe tbody tr th:only-of-type {\n",
       "        vertical-align: middle;\n",
       "    }\n",
       "\n",
       "    .dataframe tbody tr th {\n",
       "        vertical-align: top;\n",
       "    }\n",
       "\n",
       "    .dataframe thead th {\n",
       "        text-align: right;\n",
       "    }\n",
       "</style>\n",
       "<table border=\"1\" class=\"dataframe\">\n",
       "  <thead>\n",
       "    <tr style=\"text-align: right;\">\n",
       "      <th></th>\n",
       "      <th>Unnamed: 0</th>\n",
       "      <th>x1</th>\n",
       "      <th>x2</th>\n",
       "      <th>x3</th>\n",
       "      <th>x4</th>\n",
       "      <th>x5</th>\n",
       "      <th>x6</th>\n",
       "    </tr>\n",
       "  </thead>\n",
       "  <tbody>\n",
       "    <tr>\n",
       "      <th>129</th>\n",
       "      <td>129</td>\n",
       "      <td>-9.745011</td>\n",
       "      <td>-0.073300</td>\n",
       "      <td>-0.356008</td>\n",
       "      <td>-0.031003</td>\n",
       "      <td>-0.574006</td>\n",
       "      <td>1.953512</td>\n",
       "    </tr>\n",
       "    <tr>\n",
       "      <th>130</th>\n",
       "      <td>130</td>\n",
       "      <td>-7.719811</td>\n",
       "      <td>-3.645894</td>\n",
       "      <td>-0.610573</td>\n",
       "      <td>-0.145438</td>\n",
       "      <td>-0.157982</td>\n",
       "      <td>-2.476069</td>\n",
       "    </tr>\n",
       "    <tr>\n",
       "      <th>131</th>\n",
       "      <td>131</td>\n",
       "      <td>-4.864634</td>\n",
       "      <td>-0.598854</td>\n",
       "      <td>-6.376120</td>\n",
       "      <td>-4.576123</td>\n",
       "      <td>0.486317</td>\n",
       "      <td>-8.665473</td>\n",
       "    </tr>\n",
       "    <tr>\n",
       "      <th>132</th>\n",
       "      <td>132</td>\n",
       "      <td>-8.671184</td>\n",
       "      <td>9.555649</td>\n",
       "      <td>-3.610850</td>\n",
       "      <td>3.999648</td>\n",
       "      <td>-7.842396</td>\n",
       "      <td>-8.554620</td>\n",
       "    </tr>\n",
       "  </tbody>\n",
       "</table>\n",
       "</div>"
      ],
      "text/plain": [
       "     Unnamed: 0        x1        x2        x3        x4        x5        x6\n",
       "129         129 -9.745011 -0.073300 -0.356008 -0.031003 -0.574006  1.953512\n",
       "130         130 -7.719811 -3.645894 -0.610573 -0.145438 -0.157982 -2.476069\n",
       "131         131 -4.864634 -0.598854 -6.376120 -4.576123  0.486317 -8.665473\n",
       "132         132 -8.671184  9.555649 -3.610850  3.999648 -7.842396 -8.554620"
      ]
     },
     "execution_count": 30,
     "metadata": {},
     "output_type": "execute_result"
    }
   ],
   "source": [
    "dataset.tail(4)"
   ]
  },
  {
   "cell_type": "markdown",
   "metadata": {},
   "source": [
    "How many rows and columns are in your data?\n",
    "\n",
    "Use the `shape` method\n"
   ]
  },
  {
   "cell_type": "code",
   "execution_count": 31,
   "metadata": {},
   "outputs": [
    {
     "data": {
      "text/plain": [
       "(133, 7)"
      ]
     },
     "execution_count": 31,
     "metadata": {},
     "output_type": "execute_result"
    }
   ],
   "source": [
    "dataset.shape"
   ]
  },
  {
   "cell_type": "markdown",
   "metadata": {},
   "source": [
    "Print the name of all columns \n",
    "\n",
    "Use the `columns` method"
   ]
  },
  {
   "cell_type": "code",
   "execution_count": 32,
   "metadata": {},
   "outputs": [
    {
     "data": {
      "text/plain": [
       "Index(['Unnamed: 0', 'x1', 'x2', 'x3', 'x4', 'x5', 'x6'], dtype='object')"
      ]
     },
     "execution_count": 32,
     "metadata": {},
     "output_type": "execute_result"
    }
   ],
   "source": [
    "dataset.columns"
   ]
  },
  {
   "cell_type": "markdown",
   "metadata": {},
   "source": [
    "What is the data type in each column\n",
    "\n",
    "Use the `dtypes` method "
   ]
  },
  {
   "cell_type": "code",
   "execution_count": 33,
   "metadata": {},
   "outputs": [
    {
     "data": {
      "text/plain": [
       "Unnamed: 0      int64\n",
       "x1            float64\n",
       "x2            float64\n",
       "x3            float64\n",
       "x4            float64\n",
       "x5            float64\n",
       "x6            float64\n",
       "dtype: object"
      ]
     },
     "execution_count": 33,
     "metadata": {},
     "output_type": "execute_result"
    }
   ],
   "source": [
    "dataset.dtypes"
   ]
  },
  {
   "cell_type": "markdown",
   "metadata": {},
   "source": [
    "What is the meaning of rows and columns?"
   ]
  },
  {
   "cell_type": "code",
   "execution_count": 34,
   "metadata": {},
   "outputs": [],
   "source": [
    "# Your responses here\n",
    "\n",
    "# 1) Las filas son cada una de las observaciones realizadas\n",
    "\n",
    "# 2) Las columnas son cada una de las variables que son analizadas durante las observaciones\n"
   ]
  },
  {
   "cell_type": "markdown",
   "metadata": {},
   "source": [
    "Print a statistical summary of your columns\n"
   ]
  },
  {
   "cell_type": "code",
   "execution_count": 35,
   "metadata": {},
   "outputs": [
    {
     "data": {
      "text/html": [
       "<div>\n",
       "<style scoped>\n",
       "    .dataframe tbody tr th:only-of-type {\n",
       "        vertical-align: middle;\n",
       "    }\n",
       "\n",
       "    .dataframe tbody tr th {\n",
       "        vertical-align: top;\n",
       "    }\n",
       "\n",
       "    .dataframe thead th {\n",
       "        text-align: right;\n",
       "    }\n",
       "</style>\n",
       "<table border=\"1\" class=\"dataframe\">\n",
       "  <thead>\n",
       "    <tr style=\"text-align: right;\">\n",
       "      <th></th>\n",
       "      <th>Unnamed: 0</th>\n",
       "      <th>x1</th>\n",
       "      <th>x2</th>\n",
       "      <th>x3</th>\n",
       "      <th>x4</th>\n",
       "      <th>x5</th>\n",
       "      <th>x6</th>\n",
       "    </tr>\n",
       "  </thead>\n",
       "  <tbody>\n",
       "    <tr>\n",
       "      <th>count</th>\n",
       "      <td>133.00000</td>\n",
       "      <td>133.000000</td>\n",
       "      <td>133.000000</td>\n",
       "      <td>133.000000</td>\n",
       "      <td>133.000000</td>\n",
       "      <td>133.000000</td>\n",
       "      <td>133.000000</td>\n",
       "    </tr>\n",
       "    <tr>\n",
       "      <th>mean</th>\n",
       "      <td>66.00000</td>\n",
       "      <td>-5.939375</td>\n",
       "      <td>2.857786</td>\n",
       "      <td>-2.896130</td>\n",
       "      <td>-0.188444</td>\n",
       "      <td>-1.289238</td>\n",
       "      <td>-5.545425</td>\n",
       "    </tr>\n",
       "    <tr>\n",
       "      <th>std</th>\n",
       "      <td>38.53786</td>\n",
       "      <td>2.333204</td>\n",
       "      <td>4.983090</td>\n",
       "      <td>3.444354</td>\n",
       "      <td>3.518041</td>\n",
       "      <td>5.060298</td>\n",
       "      <td>3.583547</td>\n",
       "    </tr>\n",
       "    <tr>\n",
       "      <th>min</th>\n",
       "      <td>0.00000</td>\n",
       "      <td>-10.800981</td>\n",
       "      <td>-5.398945</td>\n",
       "      <td>-8.693445</td>\n",
       "      <td>-6.773805</td>\n",
       "      <td>-10.770488</td>\n",
       "      <td>-11.180444</td>\n",
       "    </tr>\n",
       "    <tr>\n",
       "      <th>25%</th>\n",
       "      <td>33.00000</td>\n",
       "      <td>-7.738700</td>\n",
       "      <td>-1.146942</td>\n",
       "      <td>-5.561148</td>\n",
       "      <td>-3.183141</td>\n",
       "      <td>-6.863771</td>\n",
       "      <td>-8.554620</td>\n",
       "    </tr>\n",
       "    <tr>\n",
       "      <th>50%</th>\n",
       "      <td>66.00000</td>\n",
       "      <td>-6.137470</td>\n",
       "      <td>1.188401</td>\n",
       "      <td>-3.883752</td>\n",
       "      <td>0.132324</td>\n",
       "      <td>-0.324321</td>\n",
       "      <td>-6.714005</td>\n",
       "    </tr>\n",
       "    <tr>\n",
       "      <th>75%</th>\n",
       "      <td>99.00000</td>\n",
       "      <td>-4.143310</td>\n",
       "      <td>8.287045</td>\n",
       "      <td>0.350294</td>\n",
       "      <td>2.712853</td>\n",
       "      <td>3.071382</td>\n",
       "      <td>-1.672289</td>\n",
       "    </tr>\n",
       "    <tr>\n",
       "      <th>max</th>\n",
       "      <td>132.00000</td>\n",
       "      <td>0.426504</td>\n",
       "      <td>12.298618</td>\n",
       "      <td>4.276963</td>\n",
       "      <td>6.523541</td>\n",
       "      <td>7.301356</td>\n",
       "      <td>1.953512</td>\n",
       "    </tr>\n",
       "  </tbody>\n",
       "</table>\n",
       "</div>"
      ],
      "text/plain": [
       "       Unnamed: 0          x1          x2          x3          x4          x5  \\\n",
       "count   133.00000  133.000000  133.000000  133.000000  133.000000  133.000000   \n",
       "mean     66.00000   -5.939375    2.857786   -2.896130   -0.188444   -1.289238   \n",
       "std      38.53786    2.333204    4.983090    3.444354    3.518041    5.060298   \n",
       "min       0.00000  -10.800981   -5.398945   -8.693445   -6.773805  -10.770488   \n",
       "25%      33.00000   -7.738700   -1.146942   -5.561148   -3.183141   -6.863771   \n",
       "50%      66.00000   -6.137470    1.188401   -3.883752    0.132324   -0.324321   \n",
       "75%      99.00000   -4.143310    8.287045    0.350294    2.712853    3.071382   \n",
       "max     132.00000    0.426504   12.298618    4.276963    6.523541    7.301356   \n",
       "\n",
       "               x6  \n",
       "count  133.000000  \n",
       "mean    -5.545425  \n",
       "std      3.583547  \n",
       "min    -11.180444  \n",
       "25%     -8.554620  \n",
       "50%     -6.714005  \n",
       "75%     -1.672289  \n",
       "max      1.953512  "
      ]
     },
     "execution_count": 35,
     "metadata": {},
     "output_type": "execute_result"
    }
   ],
   "source": [
    "dataset.describe()"
   ]
  },
  {
   "cell_type": "markdown",
   "metadata": {},
   "source": [
    "#### 1) What is the minumum and maximum values of each variable\n",
    "    Se ignora la primera columna ya que es simplemente un identificador\n",
    "    x1: min = -10.800981, max = 0.426504\n",
    "    x2: min = -5.398945, max = 12.298618\n",
    "    x3: min = -8.693445, max = 4.276963\n",
    "    x4: min = -6.773805, max = 6.523541\n",
    "    x5: min = -10.770488, max = 7.301356\n",
    "    x6: min = -11.180444, max = 1.953512\n",
    "#### 2) What is the mean and standar deviation of each variable\n",
    "    x1: mean = -5.939375, standard deviation = 2.333204\n",
    "    x2: mean =  2.857786, standard deviation = 4.983090\n",
    "    x3: mean = -2.896130, standard deviation = 3.444354\n",
    "    x4: mean = -0.188444, standard deviation = 3.518041\t\n",
    "    x5: mean = -1.289238, standard deviation = 5.060298\n",
    "    x6: mean = -5.545425, standard deviation = 3.583547\n",
    "#### 3) What the 25%, 50% and 75% represent?\n",
    "    Representan los valores de los diferentes cuartiles de los datos en cuestión\n"
   ]
  },
  {
   "cell_type": "markdown",
   "metadata": {},
   "source": [
    "Rename the columns using the same name with capital letters"
   ]
  },
  {
   "cell_type": "code",
   "execution_count": 36,
   "metadata": {},
   "outputs": [
    {
     "data": {
      "text/html": [
       "<div>\n",
       "<style scoped>\n",
       "    .dataframe tbody tr th:only-of-type {\n",
       "        vertical-align: middle;\n",
       "    }\n",
       "\n",
       "    .dataframe tbody tr th {\n",
       "        vertical-align: top;\n",
       "    }\n",
       "\n",
       "    .dataframe thead th {\n",
       "        text-align: right;\n",
       "    }\n",
       "</style>\n",
       "<table border=\"1\" class=\"dataframe\">\n",
       "  <thead>\n",
       "    <tr style=\"text-align: right;\">\n",
       "      <th></th>\n",
       "      <th>Unnamed: 0</th>\n",
       "      <th>X1</th>\n",
       "      <th>X2</th>\n",
       "      <th>X3</th>\n",
       "      <th>X4</th>\n",
       "      <th>X5</th>\n",
       "      <th>X6</th>\n",
       "    </tr>\n",
       "  </thead>\n",
       "  <tbody>\n",
       "    <tr>\n",
       "      <th>0</th>\n",
       "      <td>0</td>\n",
       "      <td>-8.421953</td>\n",
       "      <td>1.078476</td>\n",
       "      <td>1.453560</td>\n",
       "      <td>1.426798</td>\n",
       "      <td>1.708044</td>\n",
       "      <td>-2.042206</td>\n",
       "    </tr>\n",
       "    <tr>\n",
       "      <th>1</th>\n",
       "      <td>1</td>\n",
       "      <td>-2.222762</td>\n",
       "      <td>3.019169</td>\n",
       "      <td>-7.275541</td>\n",
       "      <td>-4.980305</td>\n",
       "      <td>3.450178</td>\n",
       "      <td>-8.944586</td>\n",
       "    </tr>\n",
       "    <tr>\n",
       "      <th>2</th>\n",
       "      <td>2</td>\n",
       "      <td>-6.732683</td>\n",
       "      <td>8.850460</td>\n",
       "      <td>-5.042448</td>\n",
       "      <td>3.209130</td>\n",
       "      <td>-5.830795</td>\n",
       "      <td>-9.248136</td>\n",
       "    </tr>\n",
       "    <tr>\n",
       "      <th>3</th>\n",
       "      <td>3</td>\n",
       "      <td>-4.054673</td>\n",
       "      <td>8.962595</td>\n",
       "      <td>-5.756571</td>\n",
       "      <td>3.991294</td>\n",
       "      <td>-10.714851</td>\n",
       "      <td>-9.913289</td>\n",
       "    </tr>\n",
       "    <tr>\n",
       "      <th>4</th>\n",
       "      <td>4</td>\n",
       "      <td>-8.013367</td>\n",
       "      <td>-3.547869</td>\n",
       "      <td>3.291346</td>\n",
       "      <td>-1.525366</td>\n",
       "      <td>-0.219657</td>\n",
       "      <td>1.236871</td>\n",
       "    </tr>\n",
       "    <tr>\n",
       "      <th>...</th>\n",
       "      <td>...</td>\n",
       "      <td>...</td>\n",
       "      <td>...</td>\n",
       "      <td>...</td>\n",
       "      <td>...</td>\n",
       "      <td>...</td>\n",
       "      <td>...</td>\n",
       "    </tr>\n",
       "    <tr>\n",
       "      <th>128</th>\n",
       "      <td>128</td>\n",
       "      <td>-1.643106</td>\n",
       "      <td>2.074684</td>\n",
       "      <td>-7.548773</td>\n",
       "      <td>-3.089771</td>\n",
       "      <td>4.757525</td>\n",
       "      <td>-9.168574</td>\n",
       "    </tr>\n",
       "    <tr>\n",
       "      <th>129</th>\n",
       "      <td>129</td>\n",
       "      <td>-9.745011</td>\n",
       "      <td>-0.073300</td>\n",
       "      <td>-0.356008</td>\n",
       "      <td>-0.031003</td>\n",
       "      <td>-0.574006</td>\n",
       "      <td>1.953512</td>\n",
       "    </tr>\n",
       "    <tr>\n",
       "      <th>130</th>\n",
       "      <td>130</td>\n",
       "      <td>-7.719811</td>\n",
       "      <td>-3.645894</td>\n",
       "      <td>-0.610573</td>\n",
       "      <td>-0.145438</td>\n",
       "      <td>-0.157982</td>\n",
       "      <td>-2.476069</td>\n",
       "    </tr>\n",
       "    <tr>\n",
       "      <th>131</th>\n",
       "      <td>131</td>\n",
       "      <td>-4.864634</td>\n",
       "      <td>-0.598854</td>\n",
       "      <td>-6.376120</td>\n",
       "      <td>-4.576123</td>\n",
       "      <td>0.486317</td>\n",
       "      <td>-8.665473</td>\n",
       "    </tr>\n",
       "    <tr>\n",
       "      <th>132</th>\n",
       "      <td>132</td>\n",
       "      <td>-8.671184</td>\n",
       "      <td>9.555649</td>\n",
       "      <td>-3.610850</td>\n",
       "      <td>3.999648</td>\n",
       "      <td>-7.842396</td>\n",
       "      <td>-8.554620</td>\n",
       "    </tr>\n",
       "  </tbody>\n",
       "</table>\n",
       "<p>133 rows × 7 columns</p>\n",
       "</div>"
      ],
      "text/plain": [
       "     Unnamed: 0        X1        X2        X3        X4         X5        X6\n",
       "0             0 -8.421953  1.078476  1.453560  1.426798   1.708044 -2.042206\n",
       "1             1 -2.222762  3.019169 -7.275541 -4.980305   3.450178 -8.944586\n",
       "2             2 -6.732683  8.850460 -5.042448  3.209130  -5.830795 -9.248136\n",
       "3             3 -4.054673  8.962595 -5.756571  3.991294 -10.714851 -9.913289\n",
       "4             4 -8.013367 -3.547869  3.291346 -1.525366  -0.219657  1.236871\n",
       "..          ...       ...       ...       ...       ...        ...       ...\n",
       "128         128 -1.643106  2.074684 -7.548773 -3.089771   4.757525 -9.168574\n",
       "129         129 -9.745011 -0.073300 -0.356008 -0.031003  -0.574006  1.953512\n",
       "130         130 -7.719811 -3.645894 -0.610573 -0.145438  -0.157982 -2.476069\n",
       "131         131 -4.864634 -0.598854 -6.376120 -4.576123   0.486317 -8.665473\n",
       "132         132 -8.671184  9.555649 -3.610850  3.999648  -7.842396 -8.554620\n",
       "\n",
       "[133 rows x 7 columns]"
      ]
     },
     "execution_count": 36,
     "metadata": {},
     "output_type": "execute_result"
    }
   ],
   "source": [
    "dataset = dataset.rename(columns = {\"x1\":\"X1\", \"x2\":\"X2\", \"x3\":\"X3\", \"x4\":\"X4\", \"x5\":\"X5\", \"x6\":\"X6\"})\n",
    "dataset"
   ]
  },
  {
   "cell_type": "markdown",
   "metadata": {},
   "source": [
    "Rename the columns to their original names"
   ]
  },
  {
   "cell_type": "code",
   "execution_count": 37,
   "metadata": {},
   "outputs": [
    {
     "data": {
      "text/html": [
       "<div>\n",
       "<style scoped>\n",
       "    .dataframe tbody tr th:only-of-type {\n",
       "        vertical-align: middle;\n",
       "    }\n",
       "\n",
       "    .dataframe tbody tr th {\n",
       "        vertical-align: top;\n",
       "    }\n",
       "\n",
       "    .dataframe thead th {\n",
       "        text-align: right;\n",
       "    }\n",
       "</style>\n",
       "<table border=\"1\" class=\"dataframe\">\n",
       "  <thead>\n",
       "    <tr style=\"text-align: right;\">\n",
       "      <th></th>\n",
       "      <th>Unnamed: 0</th>\n",
       "      <th>x1</th>\n",
       "      <th>x2</th>\n",
       "      <th>x3</th>\n",
       "      <th>x4</th>\n",
       "      <th>x5</th>\n",
       "      <th>x6</th>\n",
       "    </tr>\n",
       "  </thead>\n",
       "  <tbody>\n",
       "    <tr>\n",
       "      <th>0</th>\n",
       "      <td>0</td>\n",
       "      <td>-8.421953</td>\n",
       "      <td>1.078476</td>\n",
       "      <td>1.453560</td>\n",
       "      <td>1.426798</td>\n",
       "      <td>1.708044</td>\n",
       "      <td>-2.042206</td>\n",
       "    </tr>\n",
       "    <tr>\n",
       "      <th>1</th>\n",
       "      <td>1</td>\n",
       "      <td>-2.222762</td>\n",
       "      <td>3.019169</td>\n",
       "      <td>-7.275541</td>\n",
       "      <td>-4.980305</td>\n",
       "      <td>3.450178</td>\n",
       "      <td>-8.944586</td>\n",
       "    </tr>\n",
       "    <tr>\n",
       "      <th>2</th>\n",
       "      <td>2</td>\n",
       "      <td>-6.732683</td>\n",
       "      <td>8.850460</td>\n",
       "      <td>-5.042448</td>\n",
       "      <td>3.209130</td>\n",
       "      <td>-5.830795</td>\n",
       "      <td>-9.248136</td>\n",
       "    </tr>\n",
       "    <tr>\n",
       "      <th>3</th>\n",
       "      <td>3</td>\n",
       "      <td>-4.054673</td>\n",
       "      <td>8.962595</td>\n",
       "      <td>-5.756571</td>\n",
       "      <td>3.991294</td>\n",
       "      <td>-10.714851</td>\n",
       "      <td>-9.913289</td>\n",
       "    </tr>\n",
       "    <tr>\n",
       "      <th>4</th>\n",
       "      <td>4</td>\n",
       "      <td>-8.013367</td>\n",
       "      <td>-3.547869</td>\n",
       "      <td>3.291346</td>\n",
       "      <td>-1.525366</td>\n",
       "      <td>-0.219657</td>\n",
       "      <td>1.236871</td>\n",
       "    </tr>\n",
       "    <tr>\n",
       "      <th>...</th>\n",
       "      <td>...</td>\n",
       "      <td>...</td>\n",
       "      <td>...</td>\n",
       "      <td>...</td>\n",
       "      <td>...</td>\n",
       "      <td>...</td>\n",
       "      <td>...</td>\n",
       "    </tr>\n",
       "    <tr>\n",
       "      <th>128</th>\n",
       "      <td>128</td>\n",
       "      <td>-1.643106</td>\n",
       "      <td>2.074684</td>\n",
       "      <td>-7.548773</td>\n",
       "      <td>-3.089771</td>\n",
       "      <td>4.757525</td>\n",
       "      <td>-9.168574</td>\n",
       "    </tr>\n",
       "    <tr>\n",
       "      <th>129</th>\n",
       "      <td>129</td>\n",
       "      <td>-9.745011</td>\n",
       "      <td>-0.073300</td>\n",
       "      <td>-0.356008</td>\n",
       "      <td>-0.031003</td>\n",
       "      <td>-0.574006</td>\n",
       "      <td>1.953512</td>\n",
       "    </tr>\n",
       "    <tr>\n",
       "      <th>130</th>\n",
       "      <td>130</td>\n",
       "      <td>-7.719811</td>\n",
       "      <td>-3.645894</td>\n",
       "      <td>-0.610573</td>\n",
       "      <td>-0.145438</td>\n",
       "      <td>-0.157982</td>\n",
       "      <td>-2.476069</td>\n",
       "    </tr>\n",
       "    <tr>\n",
       "      <th>131</th>\n",
       "      <td>131</td>\n",
       "      <td>-4.864634</td>\n",
       "      <td>-0.598854</td>\n",
       "      <td>-6.376120</td>\n",
       "      <td>-4.576123</td>\n",
       "      <td>0.486317</td>\n",
       "      <td>-8.665473</td>\n",
       "    </tr>\n",
       "    <tr>\n",
       "      <th>132</th>\n",
       "      <td>132</td>\n",
       "      <td>-8.671184</td>\n",
       "      <td>9.555649</td>\n",
       "      <td>-3.610850</td>\n",
       "      <td>3.999648</td>\n",
       "      <td>-7.842396</td>\n",
       "      <td>-8.554620</td>\n",
       "    </tr>\n",
       "  </tbody>\n",
       "</table>\n",
       "<p>133 rows × 7 columns</p>\n",
       "</div>"
      ],
      "text/plain": [
       "     Unnamed: 0        x1        x2        x3        x4         x5        x6\n",
       "0             0 -8.421953  1.078476  1.453560  1.426798   1.708044 -2.042206\n",
       "1             1 -2.222762  3.019169 -7.275541 -4.980305   3.450178 -8.944586\n",
       "2             2 -6.732683  8.850460 -5.042448  3.209130  -5.830795 -9.248136\n",
       "3             3 -4.054673  8.962595 -5.756571  3.991294 -10.714851 -9.913289\n",
       "4             4 -8.013367 -3.547869  3.291346 -1.525366  -0.219657  1.236871\n",
       "..          ...       ...       ...       ...       ...        ...       ...\n",
       "128         128 -1.643106  2.074684 -7.548773 -3.089771   4.757525 -9.168574\n",
       "129         129 -9.745011 -0.073300 -0.356008 -0.031003  -0.574006  1.953512\n",
       "130         130 -7.719811 -3.645894 -0.610573 -0.145438  -0.157982 -2.476069\n",
       "131         131 -4.864634 -0.598854 -6.376120 -4.576123   0.486317 -8.665473\n",
       "132         132 -8.671184  9.555649 -3.610850  3.999648  -7.842396 -8.554620\n",
       "\n",
       "[133 rows x 7 columns]"
      ]
     },
     "execution_count": 37,
     "metadata": {},
     "output_type": "execute_result"
    }
   ],
   "source": [
    "dataset = dataset.rename(columns = {\"X1\":\"x1\", \"X2\":\"x2\", \"X3\":\"x3\", \"X4\":\"x4\", \"X5\":\"x5\", \"X6\":\"x6\"})\n",
    "dataset"
   ]
  },
  {
   "cell_type": "markdown",
   "metadata": {},
   "source": [
    "Use two different alternatives to get one of the columns"
   ]
  },
  {
   "cell_type": "code",
   "execution_count": 38,
   "metadata": {},
   "outputs": [
    {
     "name": "stdout",
     "output_type": "stream",
     "text": [
      "0     -8.421953\n",
      "1     -2.222762\n",
      "2     -6.732683\n",
      "3     -4.054673\n",
      "4     -8.013367\n",
      "         ...   \n",
      "128   -1.643106\n",
      "129   -9.745011\n",
      "130   -7.719811\n",
      "131   -4.864634\n",
      "132   -8.671184\n",
      "Name: x1, Length: 133, dtype: float64\n",
      "0     -8.421953\n",
      "1     -2.222762\n",
      "2     -6.732683\n",
      "3     -4.054673\n",
      "4     -8.013367\n",
      "         ...   \n",
      "128   -1.643106\n",
      "129   -9.745011\n",
      "130   -7.719811\n",
      "131   -4.864634\n",
      "132   -8.671184\n",
      "Name: x1, Length: 133, dtype: float64\n"
     ]
    }
   ],
   "source": [
    "a = dataset.iloc[:,1]\n",
    "b = dataset.x1\n",
    "print(a)\n",
    "print(b)"
   ]
  },
  {
   "cell_type": "markdown",
   "metadata": {},
   "source": [
    "Get a slice of your data set: second and thrid columns and rows from 62 to 72"
   ]
  },
  {
   "cell_type": "code",
   "execution_count": 39,
   "metadata": {},
   "outputs": [
    {
     "data": {
      "text/html": [
       "<div>\n",
       "<style scoped>\n",
       "    .dataframe tbody tr th:only-of-type {\n",
       "        vertical-align: middle;\n",
       "    }\n",
       "\n",
       "    .dataframe tbody tr th {\n",
       "        vertical-align: top;\n",
       "    }\n",
       "\n",
       "    .dataframe thead th {\n",
       "        text-align: right;\n",
       "    }\n",
       "</style>\n",
       "<table border=\"1\" class=\"dataframe\">\n",
       "  <thead>\n",
       "    <tr style=\"text-align: right;\">\n",
       "      <th></th>\n",
       "      <th>x2</th>\n",
       "      <th>x3</th>\n",
       "    </tr>\n",
       "  </thead>\n",
       "  <tbody>\n",
       "    <tr>\n",
       "      <th>62</th>\n",
       "      <td>11.913893</td>\n",
       "      <td>-4.030293</td>\n",
       "    </tr>\n",
       "    <tr>\n",
       "      <th>63</th>\n",
       "      <td>0.557255</td>\n",
       "      <td>-7.197253</td>\n",
       "    </tr>\n",
       "    <tr>\n",
       "      <th>64</th>\n",
       "      <td>0.659126</td>\n",
       "      <td>-4.781483</td>\n",
       "    </tr>\n",
       "    <tr>\n",
       "      <th>65</th>\n",
       "      <td>-1.382010</td>\n",
       "      <td>-6.075973</td>\n",
       "    </tr>\n",
       "    <tr>\n",
       "      <th>66</th>\n",
       "      <td>-1.274438</td>\n",
       "      <td>-4.364319</td>\n",
       "    </tr>\n",
       "    <tr>\n",
       "      <th>67</th>\n",
       "      <td>-4.013154</td>\n",
       "      <td>2.835961</td>\n",
       "    </tr>\n",
       "    <tr>\n",
       "      <th>68</th>\n",
       "      <td>11.036632</td>\n",
       "      <td>-4.667949</td>\n",
       "    </tr>\n",
       "    <tr>\n",
       "      <th>69</th>\n",
       "      <td>11.316278</td>\n",
       "      <td>-6.781333</td>\n",
       "    </tr>\n",
       "    <tr>\n",
       "      <th>70</th>\n",
       "      <td>1.721082</td>\n",
       "      <td>-7.716919</td>\n",
       "    </tr>\n",
       "    <tr>\n",
       "      <th>71</th>\n",
       "      <td>-0.091026</td>\n",
       "      <td>0.863631</td>\n",
       "    </tr>\n",
       "    <tr>\n",
       "      <th>72</th>\n",
       "      <td>9.374800</td>\n",
       "      <td>-4.364966</td>\n",
       "    </tr>\n",
       "  </tbody>\n",
       "</table>\n",
       "</div>"
      ],
      "text/plain": [
       "           x2        x3\n",
       "62  11.913893 -4.030293\n",
       "63   0.557255 -7.197253\n",
       "64   0.659126 -4.781483\n",
       "65  -1.382010 -6.075973\n",
       "66  -1.274438 -4.364319\n",
       "67  -4.013154  2.835961\n",
       "68  11.036632 -4.667949\n",
       "69  11.316278 -6.781333\n",
       "70   1.721082 -7.716919\n",
       "71  -0.091026  0.863631\n",
       "72   9.374800 -4.364966"
      ]
     },
     "execution_count": 39,
     "metadata": {},
     "output_type": "execute_result"
    }
   ],
   "source": [
    "dataset.iloc[62:73,2:4]"
   ]
  },
  {
   "cell_type": "markdown",
   "metadata": {},
   "source": [
    "For the second and thrid columns, calculate the number of null and not null values and verify that their sum equals the total number of rows"
   ]
  },
  {
   "cell_type": "code",
   "execution_count": 40,
   "metadata": {},
   "outputs": [
    {
     "name": "stdout",
     "output_type": "stream",
     "text": [
      "0 Null values for x2\n",
      "0 Null values for x3\n",
      "133 Not null values for x2\n",
      "133 Not null values for x3\n",
      "133 Total rows\n"
     ]
    }
   ],
   "source": [
    "print(dataset.x2.isnull().sum(), \"Null values for x2\")\n",
    "print(dataset.x3.isnull().sum(), \"Null values for x3\")\n",
    "print(dataset.x2.notnull().sum(), \"Not null values for x2\")\n",
    "print(dataset.x3.notnull().sum(), \"Not null values for x3\")\n",
    "Nr, Nc = dataset.shape\n",
    "print(Nr, \"Total rows\")"
   ]
  },
  {
   "cell_type": "markdown",
   "metadata": {},
   "source": [
    "Discard the last column\n"
   ]
  },
  {
   "cell_type": "code",
   "execution_count": 41,
   "metadata": {},
   "outputs": [
    {
     "data": {
      "text/html": [
       "<div>\n",
       "<style scoped>\n",
       "    .dataframe tbody tr th:only-of-type {\n",
       "        vertical-align: middle;\n",
       "    }\n",
       "\n",
       "    .dataframe tbody tr th {\n",
       "        vertical-align: top;\n",
       "    }\n",
       "\n",
       "    .dataframe thead th {\n",
       "        text-align: right;\n",
       "    }\n",
       "</style>\n",
       "<table border=\"1\" class=\"dataframe\">\n",
       "  <thead>\n",
       "    <tr style=\"text-align: right;\">\n",
       "      <th></th>\n",
       "      <th>Unnamed: 0</th>\n",
       "      <th>x1</th>\n",
       "      <th>x2</th>\n",
       "      <th>x3</th>\n",
       "      <th>x4</th>\n",
       "      <th>x5</th>\n",
       "    </tr>\n",
       "  </thead>\n",
       "  <tbody>\n",
       "    <tr>\n",
       "      <th>0</th>\n",
       "      <td>0</td>\n",
       "      <td>-8.421953</td>\n",
       "      <td>1.078476</td>\n",
       "      <td>1.453560</td>\n",
       "      <td>1.426798</td>\n",
       "      <td>1.708044</td>\n",
       "    </tr>\n",
       "    <tr>\n",
       "      <th>1</th>\n",
       "      <td>1</td>\n",
       "      <td>-2.222762</td>\n",
       "      <td>3.019169</td>\n",
       "      <td>-7.275541</td>\n",
       "      <td>-4.980305</td>\n",
       "      <td>3.450178</td>\n",
       "    </tr>\n",
       "    <tr>\n",
       "      <th>2</th>\n",
       "      <td>2</td>\n",
       "      <td>-6.732683</td>\n",
       "      <td>8.850460</td>\n",
       "      <td>-5.042448</td>\n",
       "      <td>3.209130</td>\n",
       "      <td>-5.830795</td>\n",
       "    </tr>\n",
       "    <tr>\n",
       "      <th>3</th>\n",
       "      <td>3</td>\n",
       "      <td>-4.054673</td>\n",
       "      <td>8.962595</td>\n",
       "      <td>-5.756571</td>\n",
       "      <td>3.991294</td>\n",
       "      <td>-10.714851</td>\n",
       "    </tr>\n",
       "    <tr>\n",
       "      <th>4</th>\n",
       "      <td>4</td>\n",
       "      <td>-8.013367</td>\n",
       "      <td>-3.547869</td>\n",
       "      <td>3.291346</td>\n",
       "      <td>-1.525366</td>\n",
       "      <td>-0.219657</td>\n",
       "    </tr>\n",
       "    <tr>\n",
       "      <th>...</th>\n",
       "      <td>...</td>\n",
       "      <td>...</td>\n",
       "      <td>...</td>\n",
       "      <td>...</td>\n",
       "      <td>...</td>\n",
       "      <td>...</td>\n",
       "    </tr>\n",
       "    <tr>\n",
       "      <th>128</th>\n",
       "      <td>128</td>\n",
       "      <td>-1.643106</td>\n",
       "      <td>2.074684</td>\n",
       "      <td>-7.548773</td>\n",
       "      <td>-3.089771</td>\n",
       "      <td>4.757525</td>\n",
       "    </tr>\n",
       "    <tr>\n",
       "      <th>129</th>\n",
       "      <td>129</td>\n",
       "      <td>-9.745011</td>\n",
       "      <td>-0.073300</td>\n",
       "      <td>-0.356008</td>\n",
       "      <td>-0.031003</td>\n",
       "      <td>-0.574006</td>\n",
       "    </tr>\n",
       "    <tr>\n",
       "      <th>130</th>\n",
       "      <td>130</td>\n",
       "      <td>-7.719811</td>\n",
       "      <td>-3.645894</td>\n",
       "      <td>-0.610573</td>\n",
       "      <td>-0.145438</td>\n",
       "      <td>-0.157982</td>\n",
       "    </tr>\n",
       "    <tr>\n",
       "      <th>131</th>\n",
       "      <td>131</td>\n",
       "      <td>-4.864634</td>\n",
       "      <td>-0.598854</td>\n",
       "      <td>-6.376120</td>\n",
       "      <td>-4.576123</td>\n",
       "      <td>0.486317</td>\n",
       "    </tr>\n",
       "    <tr>\n",
       "      <th>132</th>\n",
       "      <td>132</td>\n",
       "      <td>-8.671184</td>\n",
       "      <td>9.555649</td>\n",
       "      <td>-3.610850</td>\n",
       "      <td>3.999648</td>\n",
       "      <td>-7.842396</td>\n",
       "    </tr>\n",
       "  </tbody>\n",
       "</table>\n",
       "<p>133 rows × 6 columns</p>\n",
       "</div>"
      ],
      "text/plain": [
       "     Unnamed: 0        x1        x2        x3        x4         x5\n",
       "0             0 -8.421953  1.078476  1.453560  1.426798   1.708044\n",
       "1             1 -2.222762  3.019169 -7.275541 -4.980305   3.450178\n",
       "2             2 -6.732683  8.850460 -5.042448  3.209130  -5.830795\n",
       "3             3 -4.054673  8.962595 -5.756571  3.991294 -10.714851\n",
       "4             4 -8.013367 -3.547869  3.291346 -1.525366  -0.219657\n",
       "..          ...       ...       ...       ...       ...        ...\n",
       "128         128 -1.643106  2.074684 -7.548773 -3.089771   4.757525\n",
       "129         129 -9.745011 -0.073300 -0.356008 -0.031003  -0.574006\n",
       "130         130 -7.719811 -3.645894 -0.610573 -0.145438  -0.157982\n",
       "131         131 -4.864634 -0.598854 -6.376120 -4.576123   0.486317\n",
       "132         132 -8.671184  9.555649 -3.610850  3.999648  -7.842396\n",
       "\n",
       "[133 rows x 6 columns]"
      ]
     },
     "execution_count": 41,
     "metadata": {},
     "output_type": "execute_result"
    }
   ],
   "source": [
    "dataset.drop(\"x6\", axis = 1, inplace = True)\n",
    "dataset"
   ]
  },
  {
   "cell_type": "markdown",
   "metadata": {},
   "source": [
    "### Questions \n",
    "\n",
    "Based on the previos results, provide a description of yout dataset\n",
    "\n",
    "Your response: \n",
    "\n",
    "    Se tiene un dataset de 133 diferentes observaciones, en las cuales se tomaron en cuenta 6 diferentes variables además de el ID, sin embargo, se descartó la ultima de las columnas. Los valores oscilan en general entre -12 y 13 para la mayoria de las variables y no se tienen valores nulos.\n",
    "\n",
    "\n"
   ]
  },
  {
   "cell_type": "markdown",
   "metadata": {},
   "source": [
    "# A3 Data visualization"
   ]
  },
  {
   "cell_type": "markdown",
   "metadata": {},
   "source": [
    "Plot in the same figure the histogram of the two variables"
   ]
  },
  {
   "cell_type": "code",
   "execution_count": 42,
   "metadata": {},
   "outputs": [
    {
     "data": {
      "image/png": "[encoded data removed]",
      "text/plain": [
       "<Figure size 900x900 with 20 Axes>"
      ]
     },
     "metadata": {
      "needs_background": "light"
     },
     "output_type": "display_data"
    }
   ],
   "source": [
    "sns.pairplot(dataset.iloc[:,1:6], corner = True)\n",
    "plt.show()"
   ]
  },
  {
   "cell_type": "markdown",
   "metadata": {},
   "source": [
    "Based on this plots, provide a description of your data:\n",
    "\n",
    "Your response here:\n",
    "\n",
    "    Unicamente para la variable x1 se observa relativamente una distribución normal, para el resto de las variables no existe un patron realmente obvio"
   ]
  },
  {
   "cell_type": "markdown",
   "metadata": {},
   "source": [
    "Plot in the same figure the boxplot of the two variables "
   ]
  },
  {
   "cell_type": "code",
   "execution_count": 43,
   "metadata": {},
   "outputs": [
    {
     "data": {
      "image/png": "[encoded data removed]",
      "text/plain": [
       "<Figure size 432x288 with 1 Axes>"
      ]
     },
     "metadata": {
      "needs_background": "light"
     },
     "output_type": "display_data"
    }
   ],
   "source": [
    "xdata = dataset.loc[:,[\"x1\", \"x2\", \"x3\", \"x4\", \"x5\"]]\n",
    "sns.boxplot(data =xdata, orient = \"h\")\n",
    "plt.show()"
   ]
  },
  {
   "cell_type": "markdown",
   "metadata": {},
   "source": [
    "Scatter plot of the two variables"
   ]
  },
  {
   "cell_type": "code",
   "execution_count": 44,
   "metadata": {},
   "outputs": [
    {
     "data": {
      "image/png": "[encoded data removed]",
      "text/plain": [
       "<Figure size 900x900 with 20 Axes>"
      ]
     },
     "metadata": {
      "needs_background": "light"
     },
     "output_type": "display_data"
    }
   ],
   "source": [
    "sns.pairplot(dataset.iloc[:,1:6], corner = True)\n",
    "plt.show()\n",
    "\n",
    "#Se muestran todos los scatter plots posibles para las variables en cuestión"
   ]
  },
  {
   "cell_type": "markdown",
   "metadata": {},
   "source": [
    "### Questions \n",
    "\n",
    "Based on the previos plots, provide a description of yout dataset\n",
    "\n",
    "Your response:\n",
    "\n",
    "    Gracias a los scatter plots, se puede aparentemente observar varios clusters entre las comparaciones de ciertas variables, pero es necesario verificarlo mediante la libreria Kmeans.\n",
    "\n",
    "\n"
   ]
  },
  {
   "cell_type": "markdown",
   "metadata": {},
   "source": [
    "# A4 Kmeans"
   ]
  },
  {
   "cell_type": "markdown",
   "metadata": {},
   "source": [
    "Do Kmeans clustering assuming a number of clusters according to your scatter plot"
   ]
  },
  {
   "cell_type": "code",
   "execution_count": 45,
   "metadata": {},
   "outputs": [
    {
     "data": {
      "text/plain": [
       "array([1, 0, 2, 2, 1, 0, 2, 0, 1, 1, 2, 2, 0, 2, 0, 2, 0, 2, 0, 1, 2, 0,\n",
       "       2, 0, 0, 2, 0, 2, 0, 1, 1, 0, 1, 1, 1, 2, 0, 1, 1, 1, 0, 2, 1, 0,\n",
       "       0, 1, 1, 1, 2, 0, 1, 1, 1, 1, 0, 0, 1, 0, 0, 2, 0, 1, 2, 0, 0, 0,\n",
       "       0, 1, 2, 2, 0, 1, 2, 0, 1, 1, 2, 0, 2, 2, 2, 2, 0, 2, 2, 0, 2, 0,\n",
       "       0, 2, 2, 2, 1, 0, 2, 1, 1, 1, 0, 2, 1, 1, 1, 2, 0, 2, 2, 2, 2, 0,\n",
       "       2, 2, 1, 0, 1, 1, 1, 0, 1, 2, 2, 2, 0, 1, 0, 1, 1, 2, 0, 1, 1, 0,\n",
       "       2])"
      ]
     },
     "execution_count": 45,
     "metadata": {},
     "output_type": "execute_result"
    }
   ],
   "source": [
    "from sklearn.cluster import KMeans\n",
    "#Se seleccionaron las variables x3 y x5 por facilidad de identicifación de clusters y para tener\n",
    "#la capacidad de mostrar graficamente los clusters.\n",
    "dataset.drop([\"x1\",\"x2\",\"x4\", \"Unnamed: 0\"],axis='columns',inplace=True)\n",
    "\n",
    "km = KMeans(n_clusters=3)\n",
    "\n",
    "\n",
    "yp = km.fit_predict(dataset[['x3','x5']])\n",
    "\n",
    "\n",
    "yp"
   ]
  },
  {
   "cell_type": "markdown",
   "metadata": {},
   "source": [
    "Add to your dataset a column with the assihned cluster to each data point"
   ]
  },
  {
   "cell_type": "code",
   "execution_count": 46,
   "metadata": {},
   "outputs": [],
   "source": [
    "dataset[\"Cluster\"] = yp"
   ]
  },
  {
   "cell_type": "markdown",
   "metadata": {},
   "source": [
    "Print the number associated to each cluster"
   ]
  },
  {
   "cell_type": "code",
   "execution_count": 47,
   "metadata": {},
   "outputs": [
    {
     "data": {
      "text/plain": [
       "array([1, 0, 2])"
      ]
     },
     "execution_count": 47,
     "metadata": {},
     "output_type": "execute_result"
    }
   ],
   "source": [
    "dataset.Cluster.unique()"
   ]
  },
  {
   "cell_type": "markdown",
   "metadata": {},
   "source": [
    "Print the centroids"
   ]
  },
  {
   "cell_type": "code",
   "execution_count": 48,
   "metadata": {},
   "outputs": [
    {
     "data": {
      "text/plain": [
       "array([[-5.27658768,  4.02341459],\n",
       "       [ 1.4099098 , -0.0750932 ],\n",
       "       [-4.77892218, -7.6709959 ]])"
      ]
     },
     "execution_count": 48,
     "metadata": {},
     "output_type": "execute_result"
    }
   ],
   "source": [
    "km.cluster_centers_"
   ]
  },
  {
   "cell_type": "markdown",
   "metadata": {},
   "source": [
    "Print the intertia metric"
   ]
  },
  {
   "cell_type": "code",
   "execution_count": 49,
   "metadata": {},
   "outputs": [
    {
     "data": {
      "text/plain": [
       "581.929170640664"
      ]
     },
     "execution_count": 49,
     "metadata": {},
     "output_type": "execute_result"
    }
   ],
   "source": [
    "km.inertia_"
   ]
  },
  {
   "cell_type": "markdown",
   "metadata": {},
   "source": [
    "Plot a scatter plot of your data assigned to each cluster. Also plot the centroids"
   ]
  },
  {
   "cell_type": "code",
   "execution_count": 50,
   "metadata": {},
   "outputs": [
    {
     "data": {
      "image/png": "[encoded data removed]",
      "text/plain": [
       "<Figure size 432x288 with 1 Axes>"
      ]
     },
     "metadata": {
      "needs_background": "light"
     },
     "output_type": "display_data"
    }
   ],
   "source": [
    "df1 = dataset[dataset.Cluster==0]\n",
    "df2 = dataset[dataset.Cluster==1]\n",
    "df3 = dataset[dataset.Cluster==2]\n",
    "\n",
    "plt.scatter(df1.x3, df1.x5, label='Estimated Group 0')\n",
    "plt.scatter(df2.x3, df2.x5, label='Estimated Group 1')\n",
    "plt.scatter(df3.x3, df3.x5, label='Estimated Group 2')\n",
    "\n",
    "plt.scatter(km.cluster_centers_[:,0], km.cluster_centers_[:,1], color='magenta', marker='o', label='Centroides', s=100)\n",
    "\n",
    "plt.title('x3 vs x5')\n",
    "plt.xlabel('x3')\n",
    "plt.ylabel('x5')\n",
    "plt.legend()\n",
    "plt.show()"
   ]
  },
  {
   "cell_type": "markdown",
   "metadata": {},
   "source": [
    "### Questions \n",
    "\n",
    "Provides a detailed description of your results\n",
    "\n",
    "Your response:\n",
    "\n",
    "    Los clusters coinciden con lo predicho mediante la observación de la gráfica de scatter. Sin embargo no se sabe aún la precisión mediante el Elbow plot"
   ]
  },
  {
   "cell_type": "markdown",
   "metadata": {},
   "source": [
    "# A4 Elbow plot\n",
    "\n",
    "Compute the Elbow plot"
   ]
  },
  {
   "cell_type": "code",
   "execution_count": 51,
   "metadata": {},
   "outputs": [
    {
     "name": "stderr",
     "output_type": "stream",
     "text": [
      "C:\\Users\\abrah\\anaconda3\\lib\\site-packages\\sklearn\\cluster\\_kmeans.py:881: UserWarning: KMeans is known to have a memory leak on Windows with MKL, when there are less chunks than available threads. You can avoid it by setting the environment variable OMP_NUM_THREADS=1.\n",
      "  warnings.warn(\n"
     ]
    }
   ],
   "source": [
    "sse = []\n",
    "k_rng = range(1,10)\n",
    "for k in k_rng:\n",
    "    km = KMeans(n_clusters=k)\n",
    "    km.fit_predict(dataset[['x3','x5']])\n",
    "    sse.append(km.inertia_)"
   ]
  },
  {
   "cell_type": "code",
   "execution_count": 52,
   "metadata": {},
   "outputs": [
    {
     "data": {
      "image/png": "[encoded data removed]",
      "text/plain": [
       "<Figure size 432x288 with 1 Axes>"
      ]
     },
     "metadata": {
      "needs_background": "light"
     },
     "output_type": "display_data"
    }
   ],
   "source": [
    "plt.plot(k_rng,sse)\n",
    "\n",
    "plt.title('Elbow plot')\n",
    "plt.xlabel('K')\n",
    "plt.ylabel('SS')\n",
    "plt.show()"
   ]
  },
  {
   "cell_type": "markdown",
   "metadata": {},
   "source": [
    "### Questions \n",
    "\n",
    "What is the best number of clusters K? (argue your response)\n",
    "\n",
    "Your response:\n",
    "\n",
    "    Resulta mejor utilizar 3 clusters ya que de esta manera se obtiene una suma cuadrada de error relativamente baja con una K mínima. Incrementar el valor de K si mejoraría la precision, sin embargo, no se ve reducido considerablemente el valor de error por lo que no vale la pena agregar más.\n",
    "\n",
    "\n",
    "Does this number of clusters agree with your inital guess? (argue your response)\n",
    "\n",
    "Your response:\n",
    "\n",
    "    Si coincide completamente, la predicción inicial era que serían necesarios 3 clusters para una predicción acertada, y con base en lo anterior, 3 clusters son la cantidad ideal para representarlo de manera acertada.\n",
    "\n"
   ]
  },
  {
   "cell_type": "markdown",
   "metadata": {},
   "source": [
    "# BONUS"
   ]
  },
  {
   "cell_type": "markdown",
   "metadata": {},
   "source": [
    "1) Generate some data using the \"make_blobs\" function from \"sklearn.datasets\"\n",
    "\n",
    "- The number of observations is equal to the three last digits in your ID\n",
    "\n",
    "- 2 variables\n",
    "\n",
    "- 4 clusters\n",
    "\n",
    "- Standar deviation of each cluster of 1.5\n",
    "\n"
   ]
  },
  {
   "cell_type": "code",
   "execution_count": null,
   "metadata": {},
   "outputs": [],
   "source": []
  },
  {
   "cell_type": "markdown",
   "metadata": {},
   "source": [
    "2) Plot the scatter plot of your data using the real cluster labels"
   ]
  },
  {
   "cell_type": "code",
   "execution_count": null,
   "metadata": {},
   "outputs": [],
   "source": []
  },
  {
   "cell_type": "markdown",
   "metadata": {},
   "source": [
    "3) Do K means clustering "
   ]
  },
  {
   "cell_type": "code",
   "execution_count": null,
   "metadata": {},
   "outputs": [],
   "source": []
  },
  {
   "cell_type": "markdown",
   "metadata": {},
   "source": [
    "4) Plot the scatter plot of your data using the estimated cluster labels"
   ]
  },
  {
   "cell_type": "code",
   "execution_count": null,
   "metadata": {},
   "outputs": [],
   "source": []
  },
  {
   "cell_type": "markdown",
   "metadata": {},
   "source": [
    "### Questions \n",
    "\n",
    "Provides a detailed description of your results.\n",
    "\n",
    "Your response:"
   ]
  },
  {
   "cell_type": "markdown",
   "metadata": {},
   "source": [
    "# Descipcion de tu percepcion del nivel de desarrollo de la subcompetencia \n",
    "\n",
    "### SING0202A Interpretación de variables\n"
   ]
  },
  {
   "cell_type": "markdown",
   "metadata": {},
   "source": [
    "Escribe tu description del nivel de logro del siguiente criterio de la subcompetencia\n",
    "\n",
    "**Interpreta interacciones**. Interpreta interacciones entre variables relevantes en un problema, como base para la construcción de modelos bivariados basados en datos de un fenómeno investigado que le permita reproducir la respuesta del mismo."
   ]
  },
  {
   "cell_type": "markdown",
   "metadata": {},
   "source": [
    "Tu respuesta:\n",
    "\n",
    "    Considero que soy bastante capaz de mostrar como es que interactuan entre sí variables de un modelo bivariado e identificarlo mediante el uso de herramientas de graficación. Utilizando herramientas como las librerias utilizadas anteriormente soy capaz de reproducir los fenomenos basados en observaciones de las diferentes variables con bastante facilidad."
   ]
  },
  {
   "cell_type": "markdown",
   "metadata": {},
   "source": [
    "Escribe tu description del nivel de logro del siguiente criterio de la subcompetencia\n",
    "\n",
    "**Construcción de modelos**. Es capaz de construir modelos bivariados que expliquen el comportamiento de un fenómeno."
   ]
  },
  {
   "cell_type": "markdown",
   "metadata": {},
   "source": [
    "Tu respuesta:\n",
    "\n",
    "    Opino que mediante el aprovechamiento de observaciones soy completamente capaz de realizar facilmente modelos bivariados que expliquen fenomenos mediante el uso de analisis estadistico con herramientas computacionales."
   ]
  },
  {
   "cell_type": "code",
   "execution_count": null,
   "metadata": {},
   "outputs": [],
   "source": []
  }
 ],
 "metadata": {
  "kernelspec": {
   "display_name": "Python 3",
   "language": "python",
   "name": "python3"
  },
  "language_info": {
   "codemirror_mode": {
    "name": "ipython",
    "version": 3
   },
   "file_extension": ".py",
   "mimetype": "text/x-python",
   "name": "python",
   "nbconvert_exporter": "python",
   "pygments_lexer": "ipython3",
   "version": "3.8.8"
  }
 },
 "nbformat": 4,
 "nbformat_minor": 2
}
