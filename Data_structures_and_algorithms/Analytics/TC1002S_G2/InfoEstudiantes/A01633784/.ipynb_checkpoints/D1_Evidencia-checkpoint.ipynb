{
 "cells": [
  {
   "cell_type": "markdown",
   "metadata": {},
   "source": [
    "# TC1002S Herramientas computacionales: el arte de la analítica\n",
    "\n",
    "This is a notebook with all your work for the final evidence of this course\n",
    "\n",
    "\n",
    "# Niveles de dominio a demostrar con la evidencia\n",
    "\n",
    "### SING0202A\n",
    "\n",
    "Interpreta interacciones entre variables relevantes en un problema, como base para la construcción de modelos bivariados basados en datos de un fenómeno investigado que le permita reproducir la respuesta del mismo. Es capaz de construir modelos bivariados que expliquen el comportamiento de un fenómeno.\n",
    "\n",
    "\n",
    "# Student information\n",
    "\n",
    "- Name: Alejandro Pizarro Chávez\n",
    "\n",
    "- ID: A01633784\n",
    "\n",
    "- My carreer: Ingeniería en Tecnologías Computacionales (ITC)\n"
   ]
  },
  {
   "cell_type": "markdown",
   "metadata": {},
   "source": [
    "# Importing libraries"
   ]
  },
  {
   "cell_type": "code",
   "execution_count": 57,
   "metadata": {},
   "outputs": [],
   "source": [
    "import pandas as pd                 # For data handling\n",
    "import seaborn as sns               # For advanced plotting\n",
    "import matplotlib.pyplot as plt     # For showing plots\n"
   ]
  },
  {
   "cell_type": "markdown",
   "metadata": {},
   "source": [
    "# A1 Load data"
   ]
  },
  {
   "cell_type": "code",
   "execution_count": 58,
   "metadata": {},
   "outputs": [],
   "source": [
    "# url string that hosts our .csv file\n",
    "url = \"datasets/A01633784.csv\"\n",
    "\n",
    "# Read the .csv file and store it as a pandas Data Frame\n",
    "dataset = pd.read_csv(url)\n",
    "\n"
   ]
  },
  {
   "cell_type": "markdown",
   "metadata": {},
   "source": [
    "# A2 Data managment\n"
   ]
  },
  {
   "cell_type": "markdown",
   "metadata": {},
   "source": [
    "Print the first 7 rows"
   ]
  },
  {
   "cell_type": "code",
   "execution_count": 59,
   "metadata": {},
   "outputs": [
    {
     "data": {
      "text/html": [
       "<div>\n",
       "<style scoped>\n",
       "    .dataframe tbody tr th:only-of-type {\n",
       "        vertical-align: middle;\n",
       "    }\n",
       "\n",
       "    .dataframe tbody tr th {\n",
       "        vertical-align: top;\n",
       "    }\n",
       "\n",
       "    .dataframe thead th {\n",
       "        text-align: right;\n",
       "    }\n",
       "</style>\n",
       "<table border=\"1\" class=\"dataframe\">\n",
       "  <thead>\n",
       "    <tr style=\"text-align: right;\">\n",
       "      <th></th>\n",
       "      <th>Unnamed: 0</th>\n",
       "      <th>x1</th>\n",
       "      <th>x2</th>\n",
       "      <th>x3</th>\n",
       "      <th>x4</th>\n",
       "      <th>x5</th>\n",
       "    </tr>\n",
       "  </thead>\n",
       "  <tbody>\n",
       "    <tr>\n",
       "      <th>0</th>\n",
       "      <td>0</td>\n",
       "      <td>7.213664</td>\n",
       "      <td>8.242254</td>\n",
       "      <td>-2.976520</td>\n",
       "      <td>3.228425</td>\n",
       "      <td>1.885761</td>\n",
       "    </tr>\n",
       "    <tr>\n",
       "      <th>1</th>\n",
       "      <td>1</td>\n",
       "      <td>5.976150</td>\n",
       "      <td>8.603726</td>\n",
       "      <td>-4.248459</td>\n",
       "      <td>1.367024</td>\n",
       "      <td>0.736773</td>\n",
       "    </tr>\n",
       "    <tr>\n",
       "      <th>2</th>\n",
       "      <td>2</td>\n",
       "      <td>-2.245528</td>\n",
       "      <td>0.270957</td>\n",
       "      <td>6.830729</td>\n",
       "      <td>-10.871677</td>\n",
       "      <td>7.469879</td>\n",
       "    </tr>\n",
       "    <tr>\n",
       "      <th>3</th>\n",
       "      <td>3</td>\n",
       "      <td>6.094574</td>\n",
       "      <td>-1.937128</td>\n",
       "      <td>2.347513</td>\n",
       "      <td>2.134332</td>\n",
       "      <td>7.607182</td>\n",
       "    </tr>\n",
       "    <tr>\n",
       "      <th>4</th>\n",
       "      <td>4</td>\n",
       "      <td>5.341360</td>\n",
       "      <td>-1.610511</td>\n",
       "      <td>7.515370</td>\n",
       "      <td>2.945453</td>\n",
       "      <td>4.948687</td>\n",
       "    </tr>\n",
       "    <tr>\n",
       "      <th>5</th>\n",
       "      <td>5</td>\n",
       "      <td>9.748191</td>\n",
       "      <td>8.064400</td>\n",
       "      <td>-0.393801</td>\n",
       "      <td>6.119308</td>\n",
       "      <td>-0.538993</td>\n",
       "    </tr>\n",
       "    <tr>\n",
       "      <th>6</th>\n",
       "      <td>6</td>\n",
       "      <td>-1.738074</td>\n",
       "      <td>-1.463743</td>\n",
       "      <td>6.091116</td>\n",
       "      <td>-9.686143</td>\n",
       "      <td>6.987169</td>\n",
       "    </tr>\n",
       "  </tbody>\n",
       "</table>\n",
       "</div>"
      ],
      "text/plain": [
       "   Unnamed: 0        x1        x2        x3         x4        x5\n",
       "0           0  7.213664  8.242254 -2.976520   3.228425  1.885761\n",
       "1           1  5.976150  8.603726 -4.248459   1.367024  0.736773\n",
       "2           2 -2.245528  0.270957  6.830729 -10.871677  7.469879\n",
       "3           3  6.094574 -1.937128  2.347513   2.134332  7.607182\n",
       "4           4  5.341360 -1.610511  7.515370   2.945453  4.948687\n",
       "5           5  9.748191  8.064400 -0.393801   6.119308 -0.538993\n",
       "6           6 -1.738074 -1.463743  6.091116  -9.686143  6.987169"
      ]
     },
     "execution_count": 59,
     "metadata": {},
     "output_type": "execute_result"
    }
   ],
   "source": [
    "dataset.head(7)"
   ]
  },
  {
   "cell_type": "markdown",
   "metadata": {},
   "source": [
    "Print the first 4 last rows"
   ]
  },
  {
   "cell_type": "code",
   "execution_count": 60,
   "metadata": {},
   "outputs": [
    {
     "data": {
      "text/html": [
       "<div>\n",
       "<style scoped>\n",
       "    .dataframe tbody tr th:only-of-type {\n",
       "        vertical-align: middle;\n",
       "    }\n",
       "\n",
       "    .dataframe tbody tr th {\n",
       "        vertical-align: top;\n",
       "    }\n",
       "\n",
       "    .dataframe thead th {\n",
       "        text-align: right;\n",
       "    }\n",
       "</style>\n",
       "<table border=\"1\" class=\"dataframe\">\n",
       "  <thead>\n",
       "    <tr style=\"text-align: right;\">\n",
       "      <th></th>\n",
       "      <th>Unnamed: 0</th>\n",
       "      <th>x1</th>\n",
       "      <th>x2</th>\n",
       "      <th>x3</th>\n",
       "      <th>x4</th>\n",
       "      <th>x5</th>\n",
       "    </tr>\n",
       "  </thead>\n",
       "  <tbody>\n",
       "    <tr>\n",
       "      <th>780</th>\n",
       "      <td>780</td>\n",
       "      <td>-2.660550</td>\n",
       "      <td>-1.727780</td>\n",
       "      <td>7.346132</td>\n",
       "      <td>-10.861671</td>\n",
       "      <td>3.084599</td>\n",
       "    </tr>\n",
       "    <tr>\n",
       "      <th>781</th>\n",
       "      <td>781</td>\n",
       "      <td>11.299516</td>\n",
       "      <td>8.667110</td>\n",
       "      <td>-1.406909</td>\n",
       "      <td>2.763629</td>\n",
       "      <td>-1.395394</td>\n",
       "    </tr>\n",
       "    <tr>\n",
       "      <th>782</th>\n",
       "      <td>782</td>\n",
       "      <td>10.790661</td>\n",
       "      <td>9.228909</td>\n",
       "      <td>-4.323124</td>\n",
       "      <td>0.256631</td>\n",
       "      <td>-1.321372</td>\n",
       "    </tr>\n",
       "    <tr>\n",
       "      <th>783</th>\n",
       "      <td>783</td>\n",
       "      <td>3.236184</td>\n",
       "      <td>1.327510</td>\n",
       "      <td>1.619492</td>\n",
       "      <td>0.681619</td>\n",
       "      <td>5.527907</td>\n",
       "    </tr>\n",
       "  </tbody>\n",
       "</table>\n",
       "</div>"
      ],
      "text/plain": [
       "     Unnamed: 0         x1        x2        x3         x4        x5\n",
       "780         780  -2.660550 -1.727780  7.346132 -10.861671  3.084599\n",
       "781         781  11.299516  8.667110 -1.406909   2.763629 -1.395394\n",
       "782         782  10.790661  9.228909 -4.323124   0.256631 -1.321372\n",
       "783         783   3.236184  1.327510  1.619492   0.681619  5.527907"
      ]
     },
     "execution_count": 60,
     "metadata": {},
     "output_type": "execute_result"
    }
   ],
   "source": [
    "dataset.tail(4)"
   ]
  },
  {
   "cell_type": "markdown",
   "metadata": {},
   "source": [
    "How many rows and columns are in your data?\n",
    "\n",
    "Use the `shape` method\n"
   ]
  },
  {
   "cell_type": "code",
   "execution_count": 61,
   "metadata": {},
   "outputs": [
    {
     "data": {
      "text/plain": [
       "(784, 6)"
      ]
     },
     "execution_count": 61,
     "metadata": {},
     "output_type": "execute_result"
    }
   ],
   "source": [
    "dataset.shape"
   ]
  },
  {
   "cell_type": "markdown",
   "metadata": {},
   "source": [
    "Print the name of all columns \n",
    "\n",
    "Use the `columns` method"
   ]
  },
  {
   "cell_type": "code",
   "execution_count": 62,
   "metadata": {},
   "outputs": [
    {
     "data": {
      "text/plain": [
       "Index(['Unnamed: 0', 'x1', 'x2', 'x3', 'x4', 'x5'], dtype='object')"
      ]
     },
     "execution_count": 62,
     "metadata": {},
     "output_type": "execute_result"
    }
   ],
   "source": [
    "dataset.columns"
   ]
  },
  {
   "cell_type": "markdown",
   "metadata": {},
   "source": [
    "What is the data type in each column\n",
    "\n",
    "Use the `dtypes` method "
   ]
  },
  {
   "cell_type": "code",
   "execution_count": 63,
   "metadata": {},
   "outputs": [
    {
     "data": {
      "text/plain": [
       "Unnamed: 0      int64\n",
       "x1            float64\n",
       "x2            float64\n",
       "x3            float64\n",
       "x4            float64\n",
       "x5            float64\n",
       "dtype: object"
      ]
     },
     "execution_count": 63,
     "metadata": {},
     "output_type": "execute_result"
    }
   ],
   "source": [
    "dataset.dtypes"
   ]
  },
  {
   "cell_type": "markdown",
   "metadata": {},
   "source": [
    "What is the meaning of rows and columns?"
   ]
  },
  {
   "cell_type": "code",
   "execution_count": 64,
   "metadata": {},
   "outputs": [],
   "source": [
    "# Your responses here\n",
    "\n",
    "# 1) Las filas representan la cantidad de observaciones, cada fila es una observación. \n",
    "\n",
    "# 2) Cada columna es una variable dentro de nuestro dataset. \n"
   ]
  },
  {
   "cell_type": "markdown",
   "metadata": {},
   "source": [
    "Print a statistical summary of your columns\n"
   ]
  },
  {
   "cell_type": "code",
   "execution_count": 65,
   "metadata": {},
   "outputs": [
    {
     "data": {
      "text/html": [
       "<div>\n",
       "<style scoped>\n",
       "    .dataframe tbody tr th:only-of-type {\n",
       "        vertical-align: middle;\n",
       "    }\n",
       "\n",
       "    .dataframe tbody tr th {\n",
       "        vertical-align: top;\n",
       "    }\n",
       "\n",
       "    .dataframe thead th {\n",
       "        text-align: right;\n",
       "    }\n",
       "</style>\n",
       "<table border=\"1\" class=\"dataframe\">\n",
       "  <thead>\n",
       "    <tr style=\"text-align: right;\">\n",
       "      <th></th>\n",
       "      <th>Unnamed: 0</th>\n",
       "      <th>x1</th>\n",
       "      <th>x2</th>\n",
       "      <th>x3</th>\n",
       "      <th>x4</th>\n",
       "      <th>x5</th>\n",
       "    </tr>\n",
       "  </thead>\n",
       "  <tbody>\n",
       "    <tr>\n",
       "      <th>count</th>\n",
       "      <td>784.000000</td>\n",
       "      <td>784.000000</td>\n",
       "      <td>784.000000</td>\n",
       "      <td>784.000000</td>\n",
       "      <td>784.000000</td>\n",
       "      <td>784.000000</td>\n",
       "    </tr>\n",
       "    <tr>\n",
       "      <th>mean</th>\n",
       "      <td>391.500000</td>\n",
       "      <td>3.583160</td>\n",
       "      <td>2.600225</td>\n",
       "      <td>2.468154</td>\n",
       "      <td>-1.054841</td>\n",
       "      <td>4.087229</td>\n",
       "    </tr>\n",
       "    <tr>\n",
       "      <th>std</th>\n",
       "      <td>226.465597</td>\n",
       "      <td>4.352400</td>\n",
       "      <td>4.459877</td>\n",
       "      <td>4.136431</td>\n",
       "      <td>6.538955</td>\n",
       "      <td>3.900218</td>\n",
       "    </tr>\n",
       "    <tr>\n",
       "      <th>min</th>\n",
       "      <td>0.000000</td>\n",
       "      <td>-5.789016</td>\n",
       "      <td>-7.544068</td>\n",
       "      <td>-6.467136</td>\n",
       "      <td>-14.020464</td>\n",
       "      <td>-4.848983</td>\n",
       "    </tr>\n",
       "    <tr>\n",
       "      <th>25%</th>\n",
       "      <td>195.750000</td>\n",
       "      <td>-1.105782</td>\n",
       "      <td>-0.862801</td>\n",
       "      <td>-1.787274</td>\n",
       "      <td>-8.991039</td>\n",
       "      <td>-0.118689</td>\n",
       "    </tr>\n",
       "    <tr>\n",
       "      <th>50%</th>\n",
       "      <td>391.500000</td>\n",
       "      <td>5.237729</td>\n",
       "      <td>0.830663</td>\n",
       "      <td>3.455826</td>\n",
       "      <td>2.402959</td>\n",
       "      <td>5.666777</td>\n",
       "    </tr>\n",
       "    <tr>\n",
       "      <th>75%</th>\n",
       "      <td>587.250000</td>\n",
       "      <td>7.056010</td>\n",
       "      <td>7.417145</td>\n",
       "      <td>5.785834</td>\n",
       "      <td>3.952975</td>\n",
       "      <td>7.123367</td>\n",
       "    </tr>\n",
       "    <tr>\n",
       "      <th>max</th>\n",
       "      <td>783.000000</td>\n",
       "      <td>11.299516</td>\n",
       "      <td>12.398425</td>\n",
       "      <td>11.874794</td>\n",
       "      <td>7.667586</td>\n",
       "      <td>11.528859</td>\n",
       "    </tr>\n",
       "  </tbody>\n",
       "</table>\n",
       "</div>"
      ],
      "text/plain": [
       "       Unnamed: 0          x1          x2          x3          x4          x5\n",
       "count  784.000000  784.000000  784.000000  784.000000  784.000000  784.000000\n",
       "mean   391.500000    3.583160    2.600225    2.468154   -1.054841    4.087229\n",
       "std    226.465597    4.352400    4.459877    4.136431    6.538955    3.900218\n",
       "min      0.000000   -5.789016   -7.544068   -6.467136  -14.020464   -4.848983\n",
       "25%    195.750000   -1.105782   -0.862801   -1.787274   -8.991039   -0.118689\n",
       "50%    391.500000    5.237729    0.830663    3.455826    2.402959    5.666777\n",
       "75%    587.250000    7.056010    7.417145    5.785834    3.952975    7.123367\n",
       "max    783.000000   11.299516   12.398425   11.874794    7.667586   11.528859"
      ]
     },
     "execution_count": 65,
     "metadata": {},
     "output_type": "execute_result"
    }
   ],
   "source": [
    "dataset.describe()"
   ]
  },
  {
   "cell_type": "code",
   "execution_count": 66,
   "metadata": {},
   "outputs": [],
   "source": [
    "# 1) What is the minumum and maximum values of each variable\n",
    "\n",
    "#x1. min = -5.789016; max = 11.299516\n",
    "#x2. min = -7.544068; max = 12.398425\n",
    "#x3. min = -6.467136; max = 11.874794\n",
    "#x4. min = -14.020464; max = 7.667586\n",
    "#x5. min = -4.848983; max = 11.528859\n",
    "\n",
    "# 2) What is the mean and standar deviation of each variable\n",
    "\n",
    "#x1. mean = 3.583160; sd = 4.352400\n",
    "#x2. mean = 2.600225; sd = 4.459877\n",
    "#x3. mean = 2.468154; sd = 4.136431\n",
    "#x4. mean = -1.054841; sd = 6.538955\n",
    "#x5. mean = 4.087229; sd = 3.900218\n",
    "\n",
    "# 3) What the 25%, 50% and 75% represent?\n",
    "#Represetan los distintos cuartiles del dataset\n"
   ]
  },
  {
   "cell_type": "markdown",
   "metadata": {},
   "source": [
    "Rename the columns using the same name with capital letters"
   ]
  },
  {
   "cell_type": "code",
   "execution_count": 67,
   "metadata": {},
   "outputs": [
    {
     "data": {
      "text/html": [
       "<div>\n",
       "<style scoped>\n",
       "    .dataframe tbody tr th:only-of-type {\n",
       "        vertical-align: middle;\n",
       "    }\n",
       "\n",
       "    .dataframe tbody tr th {\n",
       "        vertical-align: top;\n",
       "    }\n",
       "\n",
       "    .dataframe thead th {\n",
       "        text-align: right;\n",
       "    }\n",
       "</style>\n",
       "<table border=\"1\" class=\"dataframe\">\n",
       "  <thead>\n",
       "    <tr style=\"text-align: right;\">\n",
       "      <th></th>\n",
       "      <th>Unnamed: 0</th>\n",
       "      <th>X1</th>\n",
       "      <th>X2</th>\n",
       "      <th>X3</th>\n",
       "      <th>X4</th>\n",
       "      <th>X5</th>\n",
       "    </tr>\n",
       "  </thead>\n",
       "  <tbody>\n",
       "    <tr>\n",
       "      <th>0</th>\n",
       "      <td>0</td>\n",
       "      <td>7.213664</td>\n",
       "      <td>8.242254</td>\n",
       "      <td>-2.976520</td>\n",
       "      <td>3.228425</td>\n",
       "      <td>1.885761</td>\n",
       "    </tr>\n",
       "    <tr>\n",
       "      <th>1</th>\n",
       "      <td>1</td>\n",
       "      <td>5.976150</td>\n",
       "      <td>8.603726</td>\n",
       "      <td>-4.248459</td>\n",
       "      <td>1.367024</td>\n",
       "      <td>0.736773</td>\n",
       "    </tr>\n",
       "    <tr>\n",
       "      <th>2</th>\n",
       "      <td>2</td>\n",
       "      <td>-2.245528</td>\n",
       "      <td>0.270957</td>\n",
       "      <td>6.830729</td>\n",
       "      <td>-10.871677</td>\n",
       "      <td>7.469879</td>\n",
       "    </tr>\n",
       "    <tr>\n",
       "      <th>3</th>\n",
       "      <td>3</td>\n",
       "      <td>6.094574</td>\n",
       "      <td>-1.937128</td>\n",
       "      <td>2.347513</td>\n",
       "      <td>2.134332</td>\n",
       "      <td>7.607182</td>\n",
       "    </tr>\n",
       "    <tr>\n",
       "      <th>4</th>\n",
       "      <td>4</td>\n",
       "      <td>5.341360</td>\n",
       "      <td>-1.610511</td>\n",
       "      <td>7.515370</td>\n",
       "      <td>2.945453</td>\n",
       "      <td>4.948687</td>\n",
       "    </tr>\n",
       "    <tr>\n",
       "      <th>...</th>\n",
       "      <td>...</td>\n",
       "      <td>...</td>\n",
       "      <td>...</td>\n",
       "      <td>...</td>\n",
       "      <td>...</td>\n",
       "      <td>...</td>\n",
       "    </tr>\n",
       "    <tr>\n",
       "      <th>779</th>\n",
       "      <td>779</td>\n",
       "      <td>-2.130872</td>\n",
       "      <td>-1.864358</td>\n",
       "      <td>5.613802</td>\n",
       "      <td>-10.933196</td>\n",
       "      <td>4.818043</td>\n",
       "    </tr>\n",
       "    <tr>\n",
       "      <th>780</th>\n",
       "      <td>780</td>\n",
       "      <td>-2.660550</td>\n",
       "      <td>-1.727780</td>\n",
       "      <td>7.346132</td>\n",
       "      <td>-10.861671</td>\n",
       "      <td>3.084599</td>\n",
       "    </tr>\n",
       "    <tr>\n",
       "      <th>781</th>\n",
       "      <td>781</td>\n",
       "      <td>11.299516</td>\n",
       "      <td>8.667110</td>\n",
       "      <td>-1.406909</td>\n",
       "      <td>2.763629</td>\n",
       "      <td>-1.395394</td>\n",
       "    </tr>\n",
       "    <tr>\n",
       "      <th>782</th>\n",
       "      <td>782</td>\n",
       "      <td>10.790661</td>\n",
       "      <td>9.228909</td>\n",
       "      <td>-4.323124</td>\n",
       "      <td>0.256631</td>\n",
       "      <td>-1.321372</td>\n",
       "    </tr>\n",
       "    <tr>\n",
       "      <th>783</th>\n",
       "      <td>783</td>\n",
       "      <td>3.236184</td>\n",
       "      <td>1.327510</td>\n",
       "      <td>1.619492</td>\n",
       "      <td>0.681619</td>\n",
       "      <td>5.527907</td>\n",
       "    </tr>\n",
       "  </tbody>\n",
       "</table>\n",
       "<p>784 rows × 6 columns</p>\n",
       "</div>"
      ],
      "text/plain": [
       "     Unnamed: 0         X1        X2        X3         X4        X5\n",
       "0             0   7.213664  8.242254 -2.976520   3.228425  1.885761\n",
       "1             1   5.976150  8.603726 -4.248459   1.367024  0.736773\n",
       "2             2  -2.245528  0.270957  6.830729 -10.871677  7.469879\n",
       "3             3   6.094574 -1.937128  2.347513   2.134332  7.607182\n",
       "4             4   5.341360 -1.610511  7.515370   2.945453  4.948687\n",
       "..          ...        ...       ...       ...        ...       ...\n",
       "779         779  -2.130872 -1.864358  5.613802 -10.933196  4.818043\n",
       "780         780  -2.660550 -1.727780  7.346132 -10.861671  3.084599\n",
       "781         781  11.299516  8.667110 -1.406909   2.763629 -1.395394\n",
       "782         782  10.790661  9.228909 -4.323124   0.256631 -1.321372\n",
       "783         783   3.236184  1.327510  1.619492   0.681619  5.527907\n",
       "\n",
       "[784 rows x 6 columns]"
      ]
     },
     "execution_count": 67,
     "metadata": {},
     "output_type": "execute_result"
    }
   ],
   "source": [
    "dataset = dataset.rename(columns={\"x1\":\"X1\",\"x2\":\"X2\",\"x3\":\"X3\",\"x4\":\"X4\",\"x5\":\"X5\"})\n",
    "dataset"
   ]
  },
  {
   "cell_type": "markdown",
   "metadata": {},
   "source": [
    "Rename the columns to their original names"
   ]
  },
  {
   "cell_type": "code",
   "execution_count": 68,
   "metadata": {},
   "outputs": [
    {
     "data": {
      "text/html": [
       "<div>\n",
       "<style scoped>\n",
       "    .dataframe tbody tr th:only-of-type {\n",
       "        vertical-align: middle;\n",
       "    }\n",
       "\n",
       "    .dataframe tbody tr th {\n",
       "        vertical-align: top;\n",
       "    }\n",
       "\n",
       "    .dataframe thead th {\n",
       "        text-align: right;\n",
       "    }\n",
       "</style>\n",
       "<table border=\"1\" class=\"dataframe\">\n",
       "  <thead>\n",
       "    <tr style=\"text-align: right;\">\n",
       "      <th></th>\n",
       "      <th>Unnamed: 0</th>\n",
       "      <th>x1</th>\n",
       "      <th>x2</th>\n",
       "      <th>x3</th>\n",
       "      <th>x4</th>\n",
       "      <th>x5</th>\n",
       "    </tr>\n",
       "  </thead>\n",
       "  <tbody>\n",
       "    <tr>\n",
       "      <th>0</th>\n",
       "      <td>0</td>\n",
       "      <td>7.213664</td>\n",
       "      <td>8.242254</td>\n",
       "      <td>-2.976520</td>\n",
       "      <td>3.228425</td>\n",
       "      <td>1.885761</td>\n",
       "    </tr>\n",
       "    <tr>\n",
       "      <th>1</th>\n",
       "      <td>1</td>\n",
       "      <td>5.976150</td>\n",
       "      <td>8.603726</td>\n",
       "      <td>-4.248459</td>\n",
       "      <td>1.367024</td>\n",
       "      <td>0.736773</td>\n",
       "    </tr>\n",
       "    <tr>\n",
       "      <th>2</th>\n",
       "      <td>2</td>\n",
       "      <td>-2.245528</td>\n",
       "      <td>0.270957</td>\n",
       "      <td>6.830729</td>\n",
       "      <td>-10.871677</td>\n",
       "      <td>7.469879</td>\n",
       "    </tr>\n",
       "    <tr>\n",
       "      <th>3</th>\n",
       "      <td>3</td>\n",
       "      <td>6.094574</td>\n",
       "      <td>-1.937128</td>\n",
       "      <td>2.347513</td>\n",
       "      <td>2.134332</td>\n",
       "      <td>7.607182</td>\n",
       "    </tr>\n",
       "    <tr>\n",
       "      <th>4</th>\n",
       "      <td>4</td>\n",
       "      <td>5.341360</td>\n",
       "      <td>-1.610511</td>\n",
       "      <td>7.515370</td>\n",
       "      <td>2.945453</td>\n",
       "      <td>4.948687</td>\n",
       "    </tr>\n",
       "    <tr>\n",
       "      <th>...</th>\n",
       "      <td>...</td>\n",
       "      <td>...</td>\n",
       "      <td>...</td>\n",
       "      <td>...</td>\n",
       "      <td>...</td>\n",
       "      <td>...</td>\n",
       "    </tr>\n",
       "    <tr>\n",
       "      <th>779</th>\n",
       "      <td>779</td>\n",
       "      <td>-2.130872</td>\n",
       "      <td>-1.864358</td>\n",
       "      <td>5.613802</td>\n",
       "      <td>-10.933196</td>\n",
       "      <td>4.818043</td>\n",
       "    </tr>\n",
       "    <tr>\n",
       "      <th>780</th>\n",
       "      <td>780</td>\n",
       "      <td>-2.660550</td>\n",
       "      <td>-1.727780</td>\n",
       "      <td>7.346132</td>\n",
       "      <td>-10.861671</td>\n",
       "      <td>3.084599</td>\n",
       "    </tr>\n",
       "    <tr>\n",
       "      <th>781</th>\n",
       "      <td>781</td>\n",
       "      <td>11.299516</td>\n",
       "      <td>8.667110</td>\n",
       "      <td>-1.406909</td>\n",
       "      <td>2.763629</td>\n",
       "      <td>-1.395394</td>\n",
       "    </tr>\n",
       "    <tr>\n",
       "      <th>782</th>\n",
       "      <td>782</td>\n",
       "      <td>10.790661</td>\n",
       "      <td>9.228909</td>\n",
       "      <td>-4.323124</td>\n",
       "      <td>0.256631</td>\n",
       "      <td>-1.321372</td>\n",
       "    </tr>\n",
       "    <tr>\n",
       "      <th>783</th>\n",
       "      <td>783</td>\n",
       "      <td>3.236184</td>\n",
       "      <td>1.327510</td>\n",
       "      <td>1.619492</td>\n",
       "      <td>0.681619</td>\n",
       "      <td>5.527907</td>\n",
       "    </tr>\n",
       "  </tbody>\n",
       "</table>\n",
       "<p>784 rows × 6 columns</p>\n",
       "</div>"
      ],
      "text/plain": [
       "     Unnamed: 0         x1        x2        x3         x4        x5\n",
       "0             0   7.213664  8.242254 -2.976520   3.228425  1.885761\n",
       "1             1   5.976150  8.603726 -4.248459   1.367024  0.736773\n",
       "2             2  -2.245528  0.270957  6.830729 -10.871677  7.469879\n",
       "3             3   6.094574 -1.937128  2.347513   2.134332  7.607182\n",
       "4             4   5.341360 -1.610511  7.515370   2.945453  4.948687\n",
       "..          ...        ...       ...       ...        ...       ...\n",
       "779         779  -2.130872 -1.864358  5.613802 -10.933196  4.818043\n",
       "780         780  -2.660550 -1.727780  7.346132 -10.861671  3.084599\n",
       "781         781  11.299516  8.667110 -1.406909   2.763629 -1.395394\n",
       "782         782  10.790661  9.228909 -4.323124   0.256631 -1.321372\n",
       "783         783   3.236184  1.327510  1.619492   0.681619  5.527907\n",
       "\n",
       "[784 rows x 6 columns]"
      ]
     },
     "execution_count": 68,
     "metadata": {},
     "output_type": "execute_result"
    }
   ],
   "source": [
    "dataset = dataset.rename(columns={\"X1\":\"x1\",\"X2\":\"x2\",\"X3\":\"x3\",\"X4\":\"x4\",\"X5\":\"x5\"})\n",
    "dataset"
   ]
  },
  {
   "cell_type": "markdown",
   "metadata": {},
   "source": [
    "Use two different alternatives to get one of the columns"
   ]
  },
  {
   "cell_type": "code",
   "execution_count": 69,
   "metadata": {},
   "outputs": [
    {
     "name": "stdout",
     "output_type": "stream",
     "text": [
      "0       7.213664\n",
      "1       5.976150\n",
      "2      -2.245528\n",
      "3       6.094574\n",
      "4       5.341360\n",
      "         ...    \n",
      "779    -2.130872\n",
      "780    -2.660550\n",
      "781    11.299516\n",
      "782    10.790661\n",
      "783     3.236184\n",
      "Name: x1, Length: 784, dtype: float64\n"
     ]
    },
    {
     "data": {
      "text/html": [
       "<div>\n",
       "<style scoped>\n",
       "    .dataframe tbody tr th:only-of-type {\n",
       "        vertical-align: middle;\n",
       "    }\n",
       "\n",
       "    .dataframe tbody tr th {\n",
       "        vertical-align: top;\n",
       "    }\n",
       "\n",
       "    .dataframe thead th {\n",
       "        text-align: right;\n",
       "    }\n",
       "</style>\n",
       "<table border=\"1\" class=\"dataframe\">\n",
       "  <thead>\n",
       "    <tr style=\"text-align: right;\">\n",
       "      <th></th>\n",
       "      <th>x1</th>\n",
       "    </tr>\n",
       "  </thead>\n",
       "  <tbody>\n",
       "    <tr>\n",
       "      <th>0</th>\n",
       "      <td>7.213664</td>\n",
       "    </tr>\n",
       "    <tr>\n",
       "      <th>1</th>\n",
       "      <td>5.976150</td>\n",
       "    </tr>\n",
       "    <tr>\n",
       "      <th>2</th>\n",
       "      <td>-2.245528</td>\n",
       "    </tr>\n",
       "    <tr>\n",
       "      <th>3</th>\n",
       "      <td>6.094574</td>\n",
       "    </tr>\n",
       "    <tr>\n",
       "      <th>4</th>\n",
       "      <td>5.341360</td>\n",
       "    </tr>\n",
       "    <tr>\n",
       "      <th>...</th>\n",
       "      <td>...</td>\n",
       "    </tr>\n",
       "    <tr>\n",
       "      <th>779</th>\n",
       "      <td>-2.130872</td>\n",
       "    </tr>\n",
       "    <tr>\n",
       "      <th>780</th>\n",
       "      <td>-2.660550</td>\n",
       "    </tr>\n",
       "    <tr>\n",
       "      <th>781</th>\n",
       "      <td>11.299516</td>\n",
       "    </tr>\n",
       "    <tr>\n",
       "      <th>782</th>\n",
       "      <td>10.790661</td>\n",
       "    </tr>\n",
       "    <tr>\n",
       "      <th>783</th>\n",
       "      <td>3.236184</td>\n",
       "    </tr>\n",
       "  </tbody>\n",
       "</table>\n",
       "<p>784 rows × 1 columns</p>\n",
       "</div>"
      ],
      "text/plain": [
       "            x1\n",
       "0     7.213664\n",
       "1     5.976150\n",
       "2    -2.245528\n",
       "3     6.094574\n",
       "4     5.341360\n",
       "..         ...\n",
       "779  -2.130872\n",
       "780  -2.660550\n",
       "781  11.299516\n",
       "782  10.790661\n",
       "783   3.236184\n",
       "\n",
       "[784 rows x 1 columns]"
      ]
     },
     "execution_count": 69,
     "metadata": {},
     "output_type": "execute_result"
    }
   ],
   "source": [
    "#1.\n",
    "d = dataset.iloc[:,1]\n",
    "print(d)\n",
    "#2. \n",
    "dataset[[\"x1\"]]"
   ]
  },
  {
   "cell_type": "markdown",
   "metadata": {},
   "source": [
    "Get a slice of your data set: second and thrid columns and rows from 62 to 72"
   ]
  },
  {
   "cell_type": "code",
   "execution_count": 70,
   "metadata": {},
   "outputs": [
    {
     "data": {
      "text/html": [
       "<div>\n",
       "<style scoped>\n",
       "    .dataframe tbody tr th:only-of-type {\n",
       "        vertical-align: middle;\n",
       "    }\n",
       "\n",
       "    .dataframe tbody tr th {\n",
       "        vertical-align: top;\n",
       "    }\n",
       "\n",
       "    .dataframe thead th {\n",
       "        text-align: right;\n",
       "    }\n",
       "</style>\n",
       "<table border=\"1\" class=\"dataframe\">\n",
       "  <thead>\n",
       "    <tr style=\"text-align: right;\">\n",
       "      <th></th>\n",
       "      <th>x2</th>\n",
       "      <th>x3</th>\n",
       "    </tr>\n",
       "  </thead>\n",
       "  <tbody>\n",
       "    <tr>\n",
       "      <th>62</th>\n",
       "      <td>-2.650817</td>\n",
       "      <td>6.331693</td>\n",
       "    </tr>\n",
       "    <tr>\n",
       "      <th>63</th>\n",
       "      <td>2.775001</td>\n",
       "      <td>4.790299</td>\n",
       "    </tr>\n",
       "    <tr>\n",
       "      <th>64</th>\n",
       "      <td>-1.079155</td>\n",
       "      <td>3.349053</td>\n",
       "    </tr>\n",
       "    <tr>\n",
       "      <th>65</th>\n",
       "      <td>10.800517</td>\n",
       "      <td>-1.295577</td>\n",
       "    </tr>\n",
       "    <tr>\n",
       "      <th>66</th>\n",
       "      <td>1.166921</td>\n",
       "      <td>2.143631</td>\n",
       "    </tr>\n",
       "    <tr>\n",
       "      <th>67</th>\n",
       "      <td>-0.088156</td>\n",
       "      <td>3.062989</td>\n",
       "    </tr>\n",
       "    <tr>\n",
       "      <th>68</th>\n",
       "      <td>8.465672</td>\n",
       "      <td>-2.668793</td>\n",
       "    </tr>\n",
       "    <tr>\n",
       "      <th>69</th>\n",
       "      <td>-1.773815</td>\n",
       "      <td>7.769113</td>\n",
       "    </tr>\n",
       "    <tr>\n",
       "      <th>70</th>\n",
       "      <td>8.934660</td>\n",
       "      <td>-3.475432</td>\n",
       "    </tr>\n",
       "    <tr>\n",
       "      <th>71</th>\n",
       "      <td>-0.550443</td>\n",
       "      <td>5.032251</td>\n",
       "    </tr>\n",
       "    <tr>\n",
       "      <th>72</th>\n",
       "      <td>0.961004</td>\n",
       "      <td>4.732970</td>\n",
       "    </tr>\n",
       "  </tbody>\n",
       "</table>\n",
       "</div>"
      ],
      "text/plain": [
       "           x2        x3\n",
       "62  -2.650817  6.331693\n",
       "63   2.775001  4.790299\n",
       "64  -1.079155  3.349053\n",
       "65  10.800517 -1.295577\n",
       "66   1.166921  2.143631\n",
       "67  -0.088156  3.062989\n",
       "68   8.465672 -2.668793\n",
       "69  -1.773815  7.769113\n",
       "70   8.934660 -3.475432\n",
       "71  -0.550443  5.032251\n",
       "72   0.961004  4.732970"
      ]
     },
     "execution_count": 70,
     "metadata": {},
     "output_type": "execute_result"
    }
   ],
   "source": [
    "dataset.iloc[62:73, 2:4]"
   ]
  },
  {
   "cell_type": "markdown",
   "metadata": {},
   "source": [
    "For the second and thrid columns, calculate the number of null and not null values and verify that their sum equals the total number of rows"
   ]
  },
  {
   "cell_type": "code",
   "execution_count": 71,
   "metadata": {},
   "outputs": [
    {
     "name": "stdout",
     "output_type": "stream",
     "text": [
      "null values:\n",
      " x2    0\n",
      "x3    0\n",
      "dtype: int64\n",
      "\n",
      "not null values:\n",
      " x2    784\n",
      "x3    784\n",
      "dtype: int64\n"
     ]
    }
   ],
   "source": [
    "dataset_section = dataset.iloc[:, 2:4]\n",
    "print(\"null values:\\n\",dataset_section.isnull().sum())\n",
    "print(\"\")\n",
    "print(\"not null values:\\n\",dataset_section.notnull().sum())\n"
   ]
  },
  {
   "cell_type": "markdown",
   "metadata": {},
   "source": [
    "Discard the last column\n"
   ]
  },
  {
   "cell_type": "code",
   "execution_count": 72,
   "metadata": {},
   "outputs": [
    {
     "data": {
      "text/html": [
       "<div>\n",
       "<style scoped>\n",
       "    .dataframe tbody tr th:only-of-type {\n",
       "        vertical-align: middle;\n",
       "    }\n",
       "\n",
       "    .dataframe tbody tr th {\n",
       "        vertical-align: top;\n",
       "    }\n",
       "\n",
       "    .dataframe thead th {\n",
       "        text-align: right;\n",
       "    }\n",
       "</style>\n",
       "<table border=\"1\" class=\"dataframe\">\n",
       "  <thead>\n",
       "    <tr style=\"text-align: right;\">\n",
       "      <th></th>\n",
       "      <th>Unnamed: 0</th>\n",
       "      <th>x1</th>\n",
       "      <th>x2</th>\n",
       "      <th>x3</th>\n",
       "      <th>x4</th>\n",
       "    </tr>\n",
       "  </thead>\n",
       "  <tbody>\n",
       "    <tr>\n",
       "      <th>0</th>\n",
       "      <td>0</td>\n",
       "      <td>7.213664</td>\n",
       "      <td>8.242254</td>\n",
       "      <td>-2.976520</td>\n",
       "      <td>3.228425</td>\n",
       "    </tr>\n",
       "    <tr>\n",
       "      <th>1</th>\n",
       "      <td>1</td>\n",
       "      <td>5.976150</td>\n",
       "      <td>8.603726</td>\n",
       "      <td>-4.248459</td>\n",
       "      <td>1.367024</td>\n",
       "    </tr>\n",
       "    <tr>\n",
       "      <th>2</th>\n",
       "      <td>2</td>\n",
       "      <td>-2.245528</td>\n",
       "      <td>0.270957</td>\n",
       "      <td>6.830729</td>\n",
       "      <td>-10.871677</td>\n",
       "    </tr>\n",
       "    <tr>\n",
       "      <th>3</th>\n",
       "      <td>3</td>\n",
       "      <td>6.094574</td>\n",
       "      <td>-1.937128</td>\n",
       "      <td>2.347513</td>\n",
       "      <td>2.134332</td>\n",
       "    </tr>\n",
       "    <tr>\n",
       "      <th>4</th>\n",
       "      <td>4</td>\n",
       "      <td>5.341360</td>\n",
       "      <td>-1.610511</td>\n",
       "      <td>7.515370</td>\n",
       "      <td>2.945453</td>\n",
       "    </tr>\n",
       "    <tr>\n",
       "      <th>...</th>\n",
       "      <td>...</td>\n",
       "      <td>...</td>\n",
       "      <td>...</td>\n",
       "      <td>...</td>\n",
       "      <td>...</td>\n",
       "    </tr>\n",
       "    <tr>\n",
       "      <th>779</th>\n",
       "      <td>779</td>\n",
       "      <td>-2.130872</td>\n",
       "      <td>-1.864358</td>\n",
       "      <td>5.613802</td>\n",
       "      <td>-10.933196</td>\n",
       "    </tr>\n",
       "    <tr>\n",
       "      <th>780</th>\n",
       "      <td>780</td>\n",
       "      <td>-2.660550</td>\n",
       "      <td>-1.727780</td>\n",
       "      <td>7.346132</td>\n",
       "      <td>-10.861671</td>\n",
       "    </tr>\n",
       "    <tr>\n",
       "      <th>781</th>\n",
       "      <td>781</td>\n",
       "      <td>11.299516</td>\n",
       "      <td>8.667110</td>\n",
       "      <td>-1.406909</td>\n",
       "      <td>2.763629</td>\n",
       "    </tr>\n",
       "    <tr>\n",
       "      <th>782</th>\n",
       "      <td>782</td>\n",
       "      <td>10.790661</td>\n",
       "      <td>9.228909</td>\n",
       "      <td>-4.323124</td>\n",
       "      <td>0.256631</td>\n",
       "    </tr>\n",
       "    <tr>\n",
       "      <th>783</th>\n",
       "      <td>783</td>\n",
       "      <td>3.236184</td>\n",
       "      <td>1.327510</td>\n",
       "      <td>1.619492</td>\n",
       "      <td>0.681619</td>\n",
       "    </tr>\n",
       "  </tbody>\n",
       "</table>\n",
       "<p>784 rows × 5 columns</p>\n",
       "</div>"
      ],
      "text/plain": [
       "     Unnamed: 0         x1        x2        x3         x4\n",
       "0             0   7.213664  8.242254 -2.976520   3.228425\n",
       "1             1   5.976150  8.603726 -4.248459   1.367024\n",
       "2             2  -2.245528  0.270957  6.830729 -10.871677\n",
       "3             3   6.094574 -1.937128  2.347513   2.134332\n",
       "4             4   5.341360 -1.610511  7.515370   2.945453\n",
       "..          ...        ...       ...       ...        ...\n",
       "779         779  -2.130872 -1.864358  5.613802 -10.933196\n",
       "780         780  -2.660550 -1.727780  7.346132 -10.861671\n",
       "781         781  11.299516  8.667110 -1.406909   2.763629\n",
       "782         782  10.790661  9.228909 -4.323124   0.256631\n",
       "783         783   3.236184  1.327510  1.619492   0.681619\n",
       "\n",
       "[784 rows x 5 columns]"
      ]
     },
     "execution_count": 72,
     "metadata": {},
     "output_type": "execute_result"
    }
   ],
   "source": [
    "dataset.drop(['x5'],axis='columns',inplace=True)\n",
    "dataset"
   ]
  },
  {
   "cell_type": "markdown",
   "metadata": {},
   "source": [
    "### Questions \n",
    "\n",
    "Based on the previos results, provide a description of yout dataset\n",
    "\n",
    "Your response: Se nos presenta un dataset con 5 variables distintas (columnas) y 784 filas las cuales representan el numero de observaciones. La media de las distintas variables es considerablemente similar por lo que esto se puede tratar de una misma corrida de algun proceso y sus distintas mediciones. \n",
    "\n",
    "\n"
   ]
  },
  {
   "cell_type": "markdown",
   "metadata": {},
   "source": [
    "# A3 Data visualization"
   ]
  },
  {
   "cell_type": "markdown",
   "metadata": {},
   "source": [
    "Plot in the same figure the histogram of the two variables"
   ]
  },
  {
   "cell_type": "code",
   "execution_count": 73,
   "metadata": {},
   "outputs": [
    {
     "data": {
      "image/png": "[encoded data removed]",
      "text/plain": [
       "<Figure size 360x360 with 5 Axes>"
      ]
     },
     "metadata": {
      "needs_background": "light"
     },
     "output_type": "display_data"
    }
   ],
   "source": [
    "sns.pairplot(dataset_section, corner=True)\n",
    "plt.show()"
   ]
  },
  {
   "cell_type": "markdown",
   "metadata": {},
   "source": [
    "Based on this plots, provide a description of your data:\n",
    "\n",
    "Your response here: Se seleccionó la segunda y tercera columna (x2, x3) para realizar el histograma, podemos observar que la media se mantiene considerablemente similar, no obstante, en la variable x2 existe un valor mucho mayor a todos los demás de ambas variables."
   ]
  },
  {
   "cell_type": "markdown",
   "metadata": {},
   "source": [
    "Plot in the same figure the boxplot of the two variables "
   ]
  },
  {
   "cell_type": "code",
   "execution_count": 75,
   "metadata": {},
   "outputs": [
    {
     "data": {
      "image/png": "[encoded data removed]",
      "text/plain": [
       "<Figure size 432x288 with 1 Axes>"
      ]
     },
     "metadata": {
      "needs_background": "light"
     },
     "output_type": "display_data"
    }
   ],
   "source": [
    "xdata = dataset_section.loc[:,[\"x2\", \"x3\"]]\n",
    "sns.boxplot(data =xdata, orient = \"h\")\n",
    "plt.show()"
   ]
  },
  {
   "cell_type": "markdown",
   "metadata": {},
   "source": [
    "Scatter plot of the two variables"
   ]
  },
  {
   "cell_type": "code",
   "execution_count": 81,
   "metadata": {},
   "outputs": [
    {
     "data": {
      "image/png": "[encoded data removed]",
      "text/plain": [
       "<Figure size 432x288 with 1 Axes>"
      ]
     },
     "metadata": {
      "needs_background": "light"
     },
     "output_type": "display_data"
    }
   ],
   "source": [
    "plt.scatter(dataset_section.x2,dataset_section.x3)\n",
    "plt.title('x2 vs x3')\n",
    "plt.xlabel('x2')\n",
    "plt.ylabel('x3')\n",
    "plt.show()"
   ]
  },
  {
   "cell_type": "markdown",
   "metadata": {},
   "source": [
    "### Questions \n",
    "\n",
    "Based on the previos plots, provide a description of yout dataset\n",
    "\n",
    "Your response: El diagrama Boxplot nos proporciona una vista bastante clara sobre los distintos datos de la variables x2, x3 y gracias a eso podemos observar que x2 tiene valores más grandes que x3 de una manera visualmente amigable. Asímismo, así podremos observar la cantidad de clusters que serán necesarios más adelante en esta actividad. \n",
    "\n",
    "\n"
   ]
  },
  {
   "cell_type": "markdown",
   "metadata": {},
   "source": [
    "# A4 Kmeans"
   ]
  },
  {
   "cell_type": "markdown",
   "metadata": {},
   "source": [
    "Do Kmeans clustering assuming a number of clusters accorging to your scatter plot"
   ]
  },
  {
   "cell_type": "code",
   "execution_count": 82,
   "metadata": {},
   "outputs": [
    {
     "data": {
      "text/plain": [
       "array([0, 0, 1, 1, 1, 0, 1, 0, 1, 0, 1, 1, 0, 0, 1, 0, 1, 0, 1, 1, 1, 1,\n",
       "       0, 1, 0, 1, 0, 1, 1, 0, 0, 1, 1, 1, 0, 1, 1, 1, 1, 1, 0, 1, 0, 1,\n",
       "       1, 0, 0, 0, 0, 1, 1, 1, 1, 1, 1, 0, 0, 1, 0, 1, 1, 1, 1, 1, 1, 0,\n",
       "       1, 1, 0, 1, 0, 1, 1, 1, 1, 1, 0, 1, 1, 1, 1, 1, 0, 1, 0, 1, 1, 0,\n",
       "       0, 1, 0, 1, 1, 1, 1, 1, 1, 1, 0, 1, 1, 1, 1, 0, 1, 1, 0, 1, 0, 0,\n",
       "       1, 1, 1, 0, 1, 0, 0, 0, 1, 1, 1, 1, 1, 1, 1, 0, 1, 0, 1, 1, 0, 1,\n",
       "       0, 1, 1, 1, 1, 1, 0, 0, 0, 1, 0, 1, 0, 0, 0, 1, 1, 1, 0, 1, 1, 1,\n",
       "       1, 1, 0, 1, 1, 0, 1, 1, 1, 0, 1, 1, 1, 0, 1, 0, 1, 1, 0, 0, 1, 0,\n",
       "       0, 0, 1, 0, 1, 1, 1, 0, 1, 1, 0, 0, 1, 0, 1, 0, 0, 1, 0, 1, 0, 1,\n",
       "       1, 1, 1, 0, 1, 1, 1, 1, 0, 1, 1, 1, 1, 1, 1, 0, 0, 1, 1, 1, 0, 0,\n",
       "       0, 1, 0, 1, 0, 1, 1, 0, 1, 1, 1, 1, 1, 1, 0, 0, 1, 1, 1, 0, 1, 1,\n",
       "       1, 1, 1, 1, 1, 0, 0, 1, 1, 0, 1, 1, 1, 1, 0, 0, 1, 1, 1, 0, 0, 1,\n",
       "       0, 1, 0, 1, 1, 0, 0, 1, 1, 1, 0, 1, 1, 0, 1, 1, 1, 1, 1, 0, 0, 1,\n",
       "       0, 1, 1, 1, 0, 0, 0, 1, 0, 1, 1, 0, 1, 1, 0, 0, 1, 0, 1, 0, 0, 1,\n",
       "       1, 1, 0, 1, 1, 1, 1, 1, 0, 1, 0, 0, 0, 0, 0, 0, 1, 1, 1, 0, 1, 1,\n",
       "       1, 1, 1, 1, 1, 1, 1, 0, 1, 1, 1, 1, 1, 0, 1, 1, 1, 1, 1, 1, 1, 1,\n",
       "       0, 1, 0, 0, 0, 0, 1, 0, 0, 1, 1, 1, 1, 0, 1, 1, 0, 1, 0, 1, 1, 0,\n",
       "       1, 1, 1, 0, 1, 1, 1, 1, 1, 1, 1, 0, 1, 1, 1, 1, 1, 1, 1, 0, 1, 1,\n",
       "       1, 1, 1, 0, 1, 0, 1, 1, 1, 0, 1, 1, 1, 0, 1, 1, 1, 1, 1, 1, 1, 0,\n",
       "       1, 0, 0, 1, 1, 1, 1, 0, 1, 0, 1, 1, 1, 0, 1, 1, 1, 0, 1, 1, 1, 1,\n",
       "       1, 1, 0, 0, 1, 1, 0, 0, 1, 1, 1, 0, 1, 1, 1, 1, 1, 0, 1, 1, 0, 1,\n",
       "       1, 0, 1, 1, 0, 1, 1, 1, 0, 1, 1, 1, 0, 1, 1, 0, 1, 1, 1, 1, 0, 1,\n",
       "       1, 1, 0, 1, 1, 0, 1, 1, 1, 1, 0, 1, 0, 1, 1, 1, 1, 0, 0, 1, 1, 1,\n",
       "       1, 1, 1, 0, 1, 1, 1, 0, 1, 1, 0, 1, 0, 1, 1, 1, 0, 1, 0, 1, 1, 0,\n",
       "       0, 0, 1, 1, 0, 1, 0, 1, 1, 0, 1, 0, 1, 1, 1, 1, 1, 1, 0, 1, 1, 0,\n",
       "       1, 1, 1, 1, 0, 1, 1, 1, 1, 1, 0, 1, 1, 1, 0, 1, 1, 1, 1, 1, 1, 1,\n",
       "       0, 1, 1, 1, 1, 1, 1, 1, 1, 0, 1, 1, 1, 0, 0, 1, 0, 1, 1, 1, 0, 1,\n",
       "       1, 0, 1, 1, 0, 0, 0, 1, 0, 1, 1, 1, 1, 1, 0, 1, 0, 1, 0, 1, 0, 0,\n",
       "       1, 0, 1, 0, 1, 1, 0, 1, 1, 1, 1, 1, 1, 1, 0, 1, 0, 1, 0, 1, 1, 0,\n",
       "       0, 1, 1, 0, 1, 1, 1, 0, 1, 1, 1, 1, 0, 1, 1, 1, 1, 1, 1, 0, 1, 1,\n",
       "       1, 1, 1, 1, 1, 0, 1, 0, 1, 1, 1, 1, 1, 0, 1, 1, 1, 1, 1, 0, 0, 1,\n",
       "       0, 0, 1, 1, 0, 1, 1, 1, 1, 0, 1, 1, 1, 1, 0, 1, 0, 1, 0, 1, 0, 0,\n",
       "       1, 0, 0, 1, 1, 0, 1, 1, 1, 1, 0, 1, 0, 0, 0, 1, 0, 0, 1, 0, 0, 1,\n",
       "       1, 1, 1, 1, 1, 0, 0, 0, 0, 1, 1, 0, 0, 1, 0, 1, 0, 1, 1, 1, 1, 0,\n",
       "       0, 0, 0, 1, 0, 0, 1, 1, 1, 1, 0, 0, 1, 1, 1, 0, 0, 1, 1, 0, 1, 1,\n",
       "       0, 0, 0, 1, 1, 1, 0, 1, 1, 1, 1, 0, 0, 1])"
      ]
     },
     "execution_count": 82,
     "metadata": {},
     "output_type": "execute_result"
    }
   ],
   "source": [
    "from sklearn.cluster import KMeans\n",
    "#por facilidad, utilizamos el dataset con solo dos variables para que sea más fácil su manipulación\n",
    "km = KMeans(n_clusters=2)\n",
    "yp = km.fit_predict(dataset_section[['x2','x3']])\n",
    "yp\n"
   ]
  },
  {
   "cell_type": "markdown",
   "metadata": {},
   "source": [
    "Add to your dataset a column with the assihned cluster to each data point"
   ]
  },
  {
   "cell_type": "code",
   "execution_count": 84,
   "metadata": {},
   "outputs": [
    {
     "data": {
      "text/html": [
       "<div>\n",
       "<style scoped>\n",
       "    .dataframe tbody tr th:only-of-type {\n",
       "        vertical-align: middle;\n",
       "    }\n",
       "\n",
       "    .dataframe tbody tr th {\n",
       "        vertical-align: top;\n",
       "    }\n",
       "\n",
       "    .dataframe thead th {\n",
       "        text-align: right;\n",
       "    }\n",
       "</style>\n",
       "<table border=\"1\" class=\"dataframe\">\n",
       "  <thead>\n",
       "    <tr style=\"text-align: right;\">\n",
       "      <th></th>\n",
       "      <th>x2</th>\n",
       "      <th>x3</th>\n",
       "      <th>Cluster1</th>\n",
       "    </tr>\n",
       "  </thead>\n",
       "  <tbody>\n",
       "    <tr>\n",
       "      <th>0</th>\n",
       "      <td>8.242254</td>\n",
       "      <td>-2.976520</td>\n",
       "      <td>0</td>\n",
       "    </tr>\n",
       "    <tr>\n",
       "      <th>1</th>\n",
       "      <td>8.603726</td>\n",
       "      <td>-4.248459</td>\n",
       "      <td>0</td>\n",
       "    </tr>\n",
       "    <tr>\n",
       "      <th>2</th>\n",
       "      <td>0.270957</td>\n",
       "      <td>6.830729</td>\n",
       "      <td>1</td>\n",
       "    </tr>\n",
       "    <tr>\n",
       "      <th>3</th>\n",
       "      <td>-1.937128</td>\n",
       "      <td>2.347513</td>\n",
       "      <td>1</td>\n",
       "    </tr>\n",
       "    <tr>\n",
       "      <th>4</th>\n",
       "      <td>-1.610511</td>\n",
       "      <td>7.515370</td>\n",
       "      <td>1</td>\n",
       "    </tr>\n",
       "    <tr>\n",
       "      <th>...</th>\n",
       "      <td>...</td>\n",
       "      <td>...</td>\n",
       "      <td>...</td>\n",
       "    </tr>\n",
       "    <tr>\n",
       "      <th>779</th>\n",
       "      <td>-1.864358</td>\n",
       "      <td>5.613802</td>\n",
       "      <td>1</td>\n",
       "    </tr>\n",
       "    <tr>\n",
       "      <th>780</th>\n",
       "      <td>-1.727780</td>\n",
       "      <td>7.346132</td>\n",
       "      <td>1</td>\n",
       "    </tr>\n",
       "    <tr>\n",
       "      <th>781</th>\n",
       "      <td>8.667110</td>\n",
       "      <td>-1.406909</td>\n",
       "      <td>0</td>\n",
       "    </tr>\n",
       "    <tr>\n",
       "      <th>782</th>\n",
       "      <td>9.228909</td>\n",
       "      <td>-4.323124</td>\n",
       "      <td>0</td>\n",
       "    </tr>\n",
       "    <tr>\n",
       "      <th>783</th>\n",
       "      <td>1.327510</td>\n",
       "      <td>1.619492</td>\n",
       "      <td>1</td>\n",
       "    </tr>\n",
       "  </tbody>\n",
       "</table>\n",
       "<p>784 rows × 3 columns</p>\n",
       "</div>"
      ],
      "text/plain": [
       "           x2        x3  Cluster1\n",
       "0    8.242254 -2.976520         0\n",
       "1    8.603726 -4.248459         0\n",
       "2    0.270957  6.830729         1\n",
       "3   -1.937128  2.347513         1\n",
       "4   -1.610511  7.515370         1\n",
       "..        ...       ...       ...\n",
       "779 -1.864358  5.613802         1\n",
       "780 -1.727780  7.346132         1\n",
       "781  8.667110 -1.406909         0\n",
       "782  9.228909 -4.323124         0\n",
       "783  1.327510  1.619492         1\n",
       "\n",
       "[784 rows x 3 columns]"
      ]
     },
     "execution_count": 84,
     "metadata": {},
     "output_type": "execute_result"
    }
   ],
   "source": [
    "dataset_section['Cluster1'] = yp\n",
    "dataset_section"
   ]
  },
  {
   "cell_type": "markdown",
   "metadata": {},
   "source": [
    "Print the number associated to each cluster"
   ]
  },
  {
   "cell_type": "code",
   "execution_count": 85,
   "metadata": {},
   "outputs": [
    {
     "data": {
      "text/plain": [
       "array([0, 1])"
      ]
     },
     "execution_count": 85,
     "metadata": {},
     "output_type": "execute_result"
    }
   ],
   "source": [
    "dataset_section.Cluster1.unique()"
   ]
  },
  {
   "cell_type": "markdown",
   "metadata": {},
   "source": [
    "Print the centroids"
   ]
  },
  {
   "cell_type": "code",
   "execution_count": 86,
   "metadata": {},
   "outputs": [
    {
     "data": {
      "text/plain": [
       "array([[ 8.40660447, -2.68386686],\n",
       "       [-0.33082617,  5.06888603]])"
      ]
     },
     "execution_count": 86,
     "metadata": {},
     "output_type": "execute_result"
    }
   ],
   "source": [
    "km.cluster_centers_"
   ]
  },
  {
   "cell_type": "markdown",
   "metadata": {},
   "source": [
    "Print the intertia metric"
   ]
  },
  {
   "cell_type": "code",
   "execution_count": 87,
   "metadata": {},
   "outputs": [
    {
     "data": {
      "text/plain": [
       "5123.869940290294"
      ]
     },
     "execution_count": 87,
     "metadata": {},
     "output_type": "execute_result"
    }
   ],
   "source": [
    "km.inertia_"
   ]
  },
  {
   "cell_type": "markdown",
   "metadata": {},
   "source": [
    "Plot a scatter plot of your data assigned to each cluster. Also plot the centroids"
   ]
  },
  {
   "cell_type": "code",
   "execution_count": 92,
   "metadata": {},
   "outputs": [
    {
     "name": "stderr",
     "output_type": "stream",
     "text": [
      "<ipython-input-92-5fde3d4a8ef4>:4: MatplotlibDeprecationWarning: Case-insensitive properties were deprecated in 3.3 and support will be removed two minor releases later\n",
      "  plt.scatter(df1.x2, df1.x3, Label='Estimated x2')\n",
      "<ipython-input-92-5fde3d4a8ef4>:5: MatplotlibDeprecationWarning: Case-insensitive properties were deprecated in 3.3 and support will be removed two minor releases later\n",
      "  plt.scatter(df2.x2, df2.x3, Label='Estimated x3')\n"
     ]
    },
    {
     "data": {
      "image/png": "[encoded data removed]",
      "text/plain": [
       "<Figure size 432x288 with 1 Axes>"
      ]
     },
     "metadata": {
      "needs_background": "light"
     },
     "output_type": "display_data"
    }
   ],
   "source": [
    "df1 = dataset_section[dataset_section.Cluster1==0]\n",
    "df2 = dataset_section[dataset_section.Cluster1==1]\n",
    "\n",
    "plt.scatter(df1.x2, df1.x3, Label='Estimated x2')\n",
    "plt.scatter(df2.x2, df2.x3, Label='Estimated x3')\n",
    "\n",
    "plt.scatter(km.cluster_centers_[:,0], km.cluster_centers_[:,1], color='magenta', marker='*', label='Centroides', s=256)\n",
    "\n",
    "plt.title('x2 vs x3')\n",
    "plt.xlabel('x2')\n",
    "plt.ylabel('x3')\n",
    "plt.legend()\n",
    "plt.show()"
   ]
  },
  {
   "cell_type": "markdown",
   "metadata": {},
   "source": [
    "### Questions \n",
    "\n",
    "Provides a detailed description of your results\n",
    "\n",
    "Your response: Se pudo observar dentro del scatterplot los dos grupos que se forman a través de las variables, de igual manera, después podemos obtener el centro del cluster que en efecto muestra el centro de estos dos grupos que se presentan de manera bastante grafica."
   ]
  },
  {
   "cell_type": "markdown",
   "metadata": {},
   "source": [
    "# A4 Elbow plot\n",
    "\n",
    "Compute the Elbow plot"
   ]
  },
  {
   "cell_type": "code",
   "execution_count": 95,
   "metadata": {},
   "outputs": [
    {
     "name": "stderr",
     "output_type": "stream",
     "text": [
      "C:\\Users\\aleja\\anaconda3\\lib\\site-packages\\sklearn\\cluster\\_kmeans.py:881: UserWarning: KMeans is known to have a memory leak on Windows with MKL, when there are less chunks than available threads. You can avoid it by setting the environment variable OMP_NUM_THREADS=4.\n",
      "  warnings.warn(\n"
     ]
    }
   ],
   "source": [
    "sse = []\n",
    "k_rng = range(1,10)\n",
    "for k in k_rng:\n",
    "    km = KMeans(n_clusters=k)\n",
    "    km.fit_predict(dataset[['x2','x3']])\n",
    "    sse.append(km.inertia_)"
   ]
  },
  {
   "cell_type": "code",
   "execution_count": 96,
   "metadata": {},
   "outputs": [
    {
     "data": {
      "image/png": "[encoded data removed]",
      "text/plain": [
       "<Figure size 432x288 with 1 Axes>"
      ]
     },
     "metadata": {
      "needs_background": "light"
     },
     "output_type": "display_data"
    }
   ],
   "source": [
    "plt.plot(k_rng,sse)\n",
    "\n",
    "plt.title('Elbow plot')\n",
    "plt.xlabel('K')\n",
    "plt.ylabel('Sum of squared error')\n",
    "plt.show()"
   ]
  },
  {
   "cell_type": "markdown",
   "metadata": {},
   "source": [
    "### Questions \n",
    "\n",
    "What is the best number of clusters K? (argue your response)\n",
    "\n",
    "Your response: En mi consideración, es buena opción utilizar dos clusters ya que el error que se obtiene es considerablemente bajo con una K pequeña. Es verdad que si incrementamos el numero de clusters mejoraríamos la precisión pero esta no haría un cambio significativo en los datos. \n",
    "\n",
    "\n",
    "Does this number of clusters agree with your inital guess? (argue your response)\n",
    "\n",
    "Your response: Definitivamente sí, como se mencinó anteriormente se estarían utilizando dos clusters y en base a los resultados obtenidos esta sería la cantidad perfecta para representar el dataset de manera acertada. \n",
    "\n"
   ]
  },
  {
   "cell_type": "markdown",
   "metadata": {},
   "source": [
    "# BONUS"
   ]
  },
  {
   "cell_type": "markdown",
   "metadata": {},
   "source": [
    "1) Generate some data using the \"make_blobs\" function from \"sklearn.datasets\"\n",
    "\n",
    "- The number of observations is equal to the three last digits in your ID\n",
    "\n",
    "- 2 variables\n",
    "\n",
    "- 4 clusters\n",
    "\n",
    "- Standar deviation of each cluster of 1.5\n",
    "\n"
   ]
  },
  {
   "cell_type": "code",
   "execution_count": null,
   "metadata": {},
   "outputs": [],
   "source": []
  },
  {
   "cell_type": "markdown",
   "metadata": {},
   "source": [
    "2) Plot the scatter plot of your data using the real cluster labels"
   ]
  },
  {
   "cell_type": "code",
   "execution_count": null,
   "metadata": {},
   "outputs": [],
   "source": []
  },
  {
   "cell_type": "markdown",
   "metadata": {},
   "source": [
    "3) Do K means clustering "
   ]
  },
  {
   "cell_type": "code",
   "execution_count": null,
   "metadata": {},
   "outputs": [],
   "source": []
  },
  {
   "cell_type": "markdown",
   "metadata": {},
   "source": [
    "4) Plot the scatter plot of your data using the estimated cluster labels"
   ]
  },
  {
   "cell_type": "code",
   "execution_count": null,
   "metadata": {},
   "outputs": [],
   "source": []
  },
  {
   "cell_type": "markdown",
   "metadata": {},
   "source": [
    "### Questions \n",
    "\n",
    "Provides a detailed description of your results.\n",
    "\n",
    "Your response:"
   ]
  },
  {
   "cell_type": "markdown",
   "metadata": {},
   "source": [
    "# Descipcion de tu percepcion del nivel de desarrollo de la subcompetencia \n",
    "\n",
    "### SING0202A Interpretación de variables\n"
   ]
  },
  {
   "cell_type": "markdown",
   "metadata": {},
   "source": [
    "Escribe tu description del nivel de logro del siguiente criterio de la subcompetencia\n",
    "\n",
    "**Interpreta interacciones**. Interpreta interacciones entre variables relevantes en un problema, como base para la construcción de modelos bivariados basados en datos de un fenómeno investigado que le permita reproducir la respuesta del mismo."
   ]
  },
  {
   "cell_type": "markdown",
   "metadata": {},
   "source": [
    "Tu respuesta: \n",
    "\n",
    "    A lo largo de esto cuatro días hemos desarrollado distintas actividades y tareas entre las cuales se han analizado e interpretado distintos datos. Considero que he sido capaz de entender los datos dentro de nuestros datasets así como utilizar distintas librerías para su interpretación y presentación de una manera visualmente amigable para que cualquier persona pueda entender que es lo que esta pasando con todos los datos que se nos proporcionan. "
   ]
  },
  {
   "cell_type": "markdown",
   "metadata": {},
   "source": [
    "Escribe tu description del nivel de logro del siguiente criterio de la subcompetencia\n",
    "\n",
    "**Construcción de modelos**. Es capaz de construir modelos bivariados que expliquen el comportamiento de un fenómeno."
   ]
  },
  {
   "cell_type": "markdown",
   "metadata": {},
   "source": [
    "Tu respuesta:\n",
    "\n",
    "    Como se mencionó anteriormente, considero que hoy en día soy capaz de construir modelos utilizando las distintas librerías que hemos estudiado a lo largo de esta semana tec. De igual manera, la interpretación de los datos es algo que también he desarrollado para no solo saber hacerlo, sino, saber hacerlo y entender que es lo quue esta sucediendo con los datos que se nos proporcionan."
   ]
  }
 ],
 "metadata": {
  "kernelspec": {
   "display_name": "Python 3",
   "language": "python",
   "name": "python3"
  },
  "language_info": {
   "codemirror_mode": {
    "name": "ipython",
    "version": 3
   },
   "file_extension": ".py",
   "mimetype": "text/x-python",
   "name": "python",
   "nbconvert_exporter": "python",
   "pygments_lexer": "ipython3",
   "version": "3.8.8"
  }
 },
 "nbformat": 4,
 "nbformat_minor": 2
}
