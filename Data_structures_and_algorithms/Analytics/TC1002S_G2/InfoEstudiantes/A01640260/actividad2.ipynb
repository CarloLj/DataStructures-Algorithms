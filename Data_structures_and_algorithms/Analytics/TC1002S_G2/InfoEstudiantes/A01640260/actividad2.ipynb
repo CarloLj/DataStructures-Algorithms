{
 "cells": [
  {
   "cell_type": "markdown",
   "id": "c8f8ef06",
   "metadata": {},
   "source": [
    "# Activity: work with the iris dataset\n",
    "Repeat this tutorial with the iris data set and respond to the following inquiries\n",
    "\n",
    "Calculate the statistical summary for each quantitative variables. Explain the results\n",
    "Identify the name of each column\n",
    "Identify the type of each column\n",
    "Minimum, maximum, mean, average, median, standar deviation\n",
    "Are there missing data? If so, create a new dataset containing only the rows with the non-missing data\n",
    "Create a new dataset containing only the petal width and length and the type of Flower\n",
    "Create a new dataset containing only the setal width and length and the type of Flower\n",
    "Create a new dataset containing the setal width and length and the type of Flower encoded as a categorical numerical column"
   ]
  },
  {
   "cell_type": "code",
   "execution_count": null,
   "id": "251d5d7b",
   "metadata": {},
   "outputs": [],
   "source": []
  }
 ],
 "metadata": {
  "kernelspec": {
   "display_name": "Python 3",
   "language": "python",
   "name": "python3"
  },
  "language_info": {
   "codemirror_mode": {
    "name": "ipython",
    "version": 3
   },
   "file_extension": ".py",
   "mimetype": "text/x-python",
   "name": "python",
   "nbconvert_exporter": "python",
   "pygments_lexer": "ipython3",
   "version": "3.8.8"
  }
 },
 "nbformat": 4,
 "nbformat_minor": 5
}
